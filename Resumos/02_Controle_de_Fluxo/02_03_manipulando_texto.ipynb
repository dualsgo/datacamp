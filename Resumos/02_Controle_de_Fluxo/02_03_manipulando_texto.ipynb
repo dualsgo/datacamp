{
 "cells": [
  {
   "cell_type": "markdown",
   "metadata": {},
   "source": [
    "# **`Manipulando Textos`**\n",
    "---\n",
    "\n",
    "Uma cadeia de caracteres, conhecida como string, representa um texto delimitado por aspas simples ou duplas.\n",
    "\n",
    "Quando uma palavra ou frase é atribuída a uma variável como string, ela é armazenada em um local da memória e cada caractere individual, incluindo espaços, recebe um índice que identifica sua posição dentro da string, começando em zero.\n",
    "\n",
    "Em Python, strings são imutáveis, o que significa que uma vez criadas, elas não podem ser modificadas diretamente. No entanto, você pode acessar e manipular os caracteres da string usando seus índices.\n",
    "\n",
    "Esse comportamento é semelhante ao de uma lista, pois uma string pode ser vista como uma sequência de caracteres. Mas vale lembrar que strings e listas têm diferenças importantes, como o fato de que strings são imutáveis, enquanto listas são mutáveis."
   ]
  },
  {
   "cell_type": "code",
   "execution_count": null,
   "metadata": {},
   "outputs": [],
   "source": [
    "# Armazenamos a frase em uma variável. Assim podemos realizar operações com ela.\n",
    "\n",
    "frase = 'Curso em Vídeo Python' \n",
    "#        012345678901234567890 <- Índices\n",
    "\n",
    "# Organizamos assim, nivelados aos caracteres, para facilitar a visualização. A cada sequenência de 0 a 9, temos 10 caracteres.\n",
    "\n",
    "# Mostrando o tamanho da frase (número de caracteres)\n",
    "print(len(frase)) # 21\n",
    "\n",
    "# Usamos a função len() para contar o número de caracteres da frase. A função recebe um argumento, que pode ser uma string, lista, tupla, etc. E retorna o número de elementos que ela possui.\n",
    "\n",
    "# A contagem de caracteres começa em 0.\n",
    "# O primeiro caractere é o 0, o segundo é o 1, e assim por diante.\n",
    "# Por isso temos 21 caracteres, mas o último índice é 20."
   ]
  },
  {
   "cell_type": "markdown",
   "metadata": {},
   "source": [
    "## `Fatiamento de Strings`\n",
    "---\n",
    "\n",
    "Podemos realizar diversas operações com **strings** em Python.\n",
    "\n",
    "Podemos acessar os caracteres de uma string individualmente ou extrair partes dela (fatiamento) usando índices, assim como faríamos com uma lista.\n",
    "\n",
    "Tecnicamente, uma string é uma **sequência imutável de caracteres**. Embora uma string tenha comportamento semelhante a uma lista de caracteres, é importante lembrar que ela é imutável, o que significa que, ao contrário de listas, não podemos modificar seus elementos diretamente.\n",
    "\n",
    "Por exemplo, se tivermos a string `frase = 'Curso em Vídeo Python'`, podemos acessar caracteres individuais ou fatias da string usando índices:\n",
    "\n",
    "```python\n",
    "frase = 'Curso em Vídeo Python'\n",
    "\n",
    "# Acessando caracteres individuais\n",
    "print(frase[0])    # Saída: 'C'\n",
    "print(frase[6])    # Saída: 'e'\n",
    "\n",
    "# Fatiamento (slice) para acessar partes da string\n",
    "print(frase[9:14]) # Saída: 'Vídeo'\n",
    "```\n",
    "\n",
    "### Detalhes:\n",
    "1. `frase[0]` nos dá o primeiro caractere da string: `'C'`.\n",
    "2. `frase[6]` nos dá o caractere na posição 6: `'e'`.\n",
    "3. `frase[9:14]` retorna uma fatia da string que vai do índice 9 ao 13 (Python exclui o índice final no fatiamento), o que resulta em `'Vídeo'`.\n",
    "\n",
    "Esta é uma das maneiras pelas quais podemos manipular strings em Python, utilizando seus índices para acessar e extrair partes da sequência de caracteres. No entanto, lembre-se de que as strings são imutáveis. Se quisermos modificar uma string, precisaremos criar uma nova a partir da original ou realizar operações que gerem novas strings."
   ]
  },
  {
   "cell_type": "code",
   "execution_count": 1,
   "metadata": {},
   "outputs": [
    {
     "name": "stdout",
     "output_type": "stream",
     "text": [
      "C\n",
      "21\n",
      "Vídeo\n",
      "VdoPto\n"
     ]
    }
   ],
   "source": [
    "# Vamos aos exemplos práticos:\n",
    "\n",
    "# Salvaremos uma frase em uma variável para realizar operações com ela.\n",
    "frase = 'Curso em Vídeo Python'\n",
    "\n",
    "# Estamos atribuindo à variável o primeiro caractere da string. Isso é feito acessando o índice 0 da string.\n",
    "primeiro_caractere = frase[0] \n",
    "\n",
    "print(primeiro_caractere) # Saída: C\n",
    "\n",
    "# Os índices iniciam em 0 e terminam em n-1, onde n é o tamanho da string.\n",
    "# Para saber o tamanho da string, podemos utilizar a função len().\n",
    "tamanho = len(frase)\n",
    "print(tamanho) # Saída: 21\n",
    "\n",
    "# Além de caracteres individuais, podemos acessar fatias da string. Para isso, utilizamos o intervalo de caracteres que queremos acessar.\n",
    "\n",
    "# O intervalo é definido por dois pontos (:). O primeiro número indica o início do intervalo e o segundo número indica o final do intervalo.\n",
    "\n",
    "print(frase[9:14]) # Mostra os caracteres da posição 9 até a 13\n",
    "\n",
    "# O intervalo é fechado à esquerda e aberto à direita. Ou seja, o caractere da posição 14 não é incluído.\n",
    "\n",
    "# Também podemos indicar além do intevalo de caracteres, o passo. Isso seria o terceiro parâmetro que indica de quantos em quantos caracteres queremos pular.\n",
    "\n",
    "print(frase[9:21:2]) # Mostra os caracteres da posição 9 até a 20, pulando de 2 em 2 - ou seja, os caracteres nas posições 9, 11, 13, 15, 17 e 19. Saída: 'VdoPto'"
   ]
  },
  {
   "cell_type": "markdown",
   "metadata": {},
   "source": [
    "## `len()`\n",
    "\n",
    "O método **`len()`** retorna o **comprimento** de uma cadeia de caracteres, ou seja, o número total de caracteres na string, incluindo espaços e símbolos. Sua sintaxe é simples: **`len()`** seguido de parênteses, dentro dos quais colocamos a variável ou a string que queremos analisar.\n",
    "\n",
    "### Usos do `len()`:\n",
    "1. **Iterar sobre uma string**: Ao percorrer os caracteres de uma string em um loop, o `len()` pode ser usado para determinar até onde a iteração deve ir. Por exemplo, a string \"Curso em Vídeo Python\" possui 21 caracteres, mas o último índice é o 20, pois começa em 0. Sendo  assim, para acessar o último índice, usariamos len(string) - 1.\n",
    "\n",
    "2. **Validação de comprimento**: Você pode usar o `len()` para verificar se uma string atende a requisitos de comprimento, como senhas ou nomes de usuários.\n",
    "\n",
    "3. **Exibir informações**: Também é útil para fornecer informações sobre o tamanho de uma string para o usuário, como quando você quer informar quantos caracteres foram inseridos em um campo."
   ]
  },
  {
   "cell_type": "code",
   "execution_count": 45,
   "metadata": {},
   "outputs": [
    {
     "name": "stdout",
     "output_type": "stream",
     "text": [
      "Senha válida!\n",
      "21\n"
     ]
    }
   ],
   "source": [
    "# Exemplo de verificação de comprimento:\n",
    "\n",
    "senha = 'minha_senha123'\n",
    "if len(senha) < 8:\n",
    "    print(\"Senha muito curta!\")\n",
    "else:\n",
    "    print(\"Senha válida!\")\n",
    "\n",
    "# Neste exemplo, usamos len(senha) para garantir que a senha tenha pelo menos 8 caracteres.\n",
    "\n",
    "# Aqui está outro exemplo básico:\n",
    "\n",
    "frase = 'Curso em Vídeo Python'\n",
    "tamanho = len(frase)\n",
    "print(tamanho)  # Saída: 21\n",
    "\n",
    "# No exemplo acima, len(frase) retorna o valor 21, que é o número total de caracteres na string, incluindo os espaços.\n",
    "\n",
    "# CURSO EM VÍDEO PYTHON <- Frase\n",
    "# 012345678901234567890 <- Índices\n",
    "\n",
    "# Não se esqueça: o último índice é 20, pois começa do 0 e termina em n-1.\n",
    "# Podemos afirmar que o último índice é o tamanho da frase - 1, ou seja, 21 - 1 = 20."
   ]
  },
  {
   "cell_type": "markdown",
   "metadata": {},
   "source": [
    "### Introdução aos Métodos em Python\n",
    "\n",
    "Em Python, tudo é tratado como um objeto. Os objetos têm **métodos** que são funções que estão associadas a objetos específicos, como strings, listas ou dicionários. Eles permitem manipular e interagir com esses objetos de maneira conveniente. Cada tipo de objeto tem seus próprios métodos, que são funções pré-definidas que executam operações relacionadas ao tipo do objeto.\n",
    "\n",
    "No caso de **strings**, Python fornece uma ampla variedade de métodos que facilitam a manipulação de textos. Esses métodos podem, por exemplo, transformar, dividir ou formatar strings, entre outras operações.\n",
    "\n",
    "A sintaxe para chamar um método em um objeto (como uma string) é a seguinte:\n",
    "```python\n",
    "objeto.metodo()\n",
    "```\n",
    "\n",
    "Por exemplo, se tivermos uma string `texto = \"Olá, Mundo!\"`, podemos chamar um método associado a esse objeto para realizar uma operação, como transformar o texto em minúsculas:\n",
    "\n",
    "```python\n",
    "texto = \"Olá, Mundo!\"\n",
    "print(texto.lower())  # Saída: 'olá, mundo!'\n",
    "```\n",
    "\n",
    "Aqui, o método `lower()` transforma todos os caracteres da string em minúsculas.\n",
    "\n",
    "Para strings, há uma variedade de métodos disponíveis para realizar análises e manipulações."
   ]
  },
  {
   "cell_type": "markdown",
   "metadata": {},
   "source": [
    "## `dir()`\n",
    "---\n",
    "\n",
    "Para listar todos os métodos disponíveis para uma string, podemos usar a função `dir()`. Por exemplo:"
   ]
  },
  {
   "cell_type": "code",
   "execution_count": null,
   "metadata": {},
   "outputs": [
    {
     "name": "stdout",
     "output_type": "stream",
     "text": [
      "['__add__', '__class__', '__contains__', '__delattr__', '__dir__', '__doc__', '__eq__', '__format__', '__ge__', '__getattribute__', '__getitem__', '__getnewargs__', '__getstate__', '__gt__', '__hash__', '__init__', '__init_subclass__', '__iter__', '__le__', '__len__', '__lt__', '__mod__', '__mul__', '__ne__', '__new__', '__reduce__', '__reduce_ex__', '__repr__', '__rmod__', '__rmul__', '__setattr__', '__sizeof__', '__str__', '__subclasshook__', 'capitalize', 'casefold', 'center', 'count', 'encode', 'endswith', 'expandtabs', 'find', 'format', 'format_map', 'index', 'isalnum', 'isalpha', 'isascii', 'isdecimal', 'isdigit', 'isidentifier', 'islower', 'isnumeric', 'isprintable', 'isspace', 'istitle', 'isupper', 'join', 'ljust', 'lower', 'lstrip', 'maketrans', 'partition', 'removeprefix', 'removesuffix', 'replace', 'rfind', 'rindex', 'rjust', 'rpartition', 'rsplit', 'rstrip', 'split', 'splitlines', 'startswith', 'strip', 'swapcase', 'title', 'translate', 'upper', 'zfill']\n",
      "<built-in method __dir__ of list object at 0x00000178EBBC9240>\n"
     ]
    }
   ],
   "source": [
    "texto = \"Exemplo de string\"\n",
    "print(dir(texto))\n",
    "\n",
    "# Isso imprimirá uma lista de todos os métodos disponíveis para a string `texto`.\n",
    "\n",
    "# Agora, você pode explorar e experimentar diversos métodos para analisar e manipular strings em Python!"
   ]
  },
  {
   "cell_type": "markdown",
   "metadata": {},
   "source": [
    "Algums métodos de string são:"
   ]
  },
  {
   "cell_type": "code",
   "execution_count": 48,
   "metadata": {},
   "outputs": [
    {
     "name": "stdout",
     "output_type": "stream",
     "text": [
      "False\n",
      "False\n",
      "True\n",
      "False\n",
      "False\n",
      "False\n",
      "True\n",
      "True\n",
      "True\n",
      "False\n",
      "False\n",
      "True\n",
      "exemplo123\n",
      "-----Exemplo123-----\n",
      "Exemplo123**********\n",
      "**********Exemplo123\n",
      "eXEMPLO123\n",
      "4\n",
      "7\n",
      "00000Exemplo123\n"
     ]
    }
   ],
   "source": [
    "algo = \"Exemplo123\"\n",
    "\n",
    "print(algo.isnumeric())  # Verifica se o valor é um número para dizer se é possível converter para int ou float\n",
    "\n",
    "print(algo.isalpha())  # Verifica se o valor é alfabético\n",
    "\n",
    "print(algo.isalnum())  # Verifica se o valor possui letras e números.\n",
    "\n",
    "print(algo.isupper())  # Verifica se o valor está em maiúsculo.\n",
    "\n",
    "print(algo.islower())  # Verifica se o valor está em minúsculo.\n",
    "\n",
    "print(algo.isspace())  # Verifica se o valor é um espaço (espaço, tab, quebra de linha)\n",
    "\n",
    "print(algo.istitle())  # Verifica se o valor está em formato de título. Ex: Curso em Vídeo\n",
    "\n",
    "print(algo.isprintable())  # Verifica se o valor é imprimível. Ex: \\n não é imprimível\n",
    "\n",
    "print(algo.isascii())  # Verifica se o valor está em formato ASCII. Acentos não são ASCII\n",
    "\n",
    "print(algo.isdecimal())  # Verifica se o valor é decimal\n",
    "\n",
    "print(algo.isdigit())  # Verifica se o valor é um dígito. Diferente de isnumeric, isdigit não aceita números fracionados\n",
    "\n",
    "print(algo.isidentifier())  # Verifica se o valor é um identificador. Ex: Nome de variável, função, classe, etc.\n",
    "\n",
    "# Além dos métodos de verificação, existem métodos para transformar strings.\n",
    "\n",
    "print(algo.casefold())  # exemplo123 (todas as letras em minúsculo). Semelhante ao lower, mas mais abrangente, pois lida com caracteres de outros idiomas.\n",
    "\n",
    "print(algo.center(20, '-'))  # ---Exemplo123---- (centraliza a string com espaços ou o caractere fornecido)\n",
    "\n",
    "print(algo.ljust(20, '*'))  # 'Exemplo123*********' (justifica a string à esquerda em um campo de largura total de 20 caracteres, preenchendo os espaços extras com '*')\n",
    "print(algo.rjust(20, '*'))  # '*********Exemplo123' (justifica a string à direita em um campo de largura total de 20 caracteres, preenchendo os espaços extras com '*')\n",
    "\n",
    "print(algo.center(20))  # '    Exemplo123     ' (centraliza a string com espaços)\n",
    "\n",
    "print(algo.swapcase())  # eXEMPLO123 (troca letras maiúsculas por minúsculas e vice-versa)\n",
    "\n",
    "print(algo.index('p'))  # 4 (retorna o índice da primeira ocorrência de 'p' na string)\n",
    "\n",
    "print(algo.rindex('1'))  # 7 (retorna o índice da última ocorrência de '1' na string)\n",
    "\n",
    "print(algo.zfill(15))  # 0000000Exemplo123 (preenche a string com zeros à esquerda até alcançar o tamanho especificado)\n",
    "\n",
    "# Lembre-se de que esses métodos retornam uma nova string e não modificam a original. Se você deseja modificar a string original, você deve reatribuir a nova string à variável original."
   ]
  },
  {
   "cell_type": "code",
   "execution_count": 1,
   "metadata": {},
   "outputs": [
    {
     "name": "stdout",
     "output_type": "stream",
     "text": [
      "Por favor, digite um número inteiro válido.\n"
     ]
    }
   ],
   "source": [
    "# Vamos ver um exemplo prático, passo a passo:\n",
    "\n",
    "# Solicita ao usuário para digitar um número\n",
    "entrada_usuario = input('Digite um número inteiro: ')\n",
    "\n",
    "# Verifica se a entrada do usuário é numérica (ou seja, se é um número inteiro) com o método isnumeric()\n",
    "\n",
    "if entrada_usuario.isnumeric(): # Se a entrada do usuário for numérica, o bloco de código abaixo será executado\n",
    "    \n",
    "    # Converte a entrada para um número inteiro\n",
    "    numero_inteiro = int(entrada_usuario)\n",
    "    \n",
    "    # Realiza alguma operação com o número (por exemplo, dobrá-lo)\n",
    "    resultado = numero_inteiro * 2\n",
    "    \n",
    "    # Exibe o resultado\n",
    "    print(f'O dobro do número digitado é: {resultado}')\n",
    "    \n",
    "else: # Se a entrada do usuário não for numérica, o bloco de código abaixo será executado\n",
    "    print('Por favor, digite um número inteiro válido.')"
   ]
  },
  {
   "cell_type": "markdown",
   "metadata": {},
   "source": [
    "## Método `.count('valor')`\n",
    "\n",
    "O método **`.count('valor')`** é utilizado para contar quantas vezes um determinado **valor** (uma substring) ocorre dentro de uma string. Ele retorna um número inteiro, que é o total de ocorrências da substring especificada.\n",
    "\n",
    "### Sintaxe:\n",
    "```python\n",
    "string.count('valor')\n",
    "```\n",
    "- **`string`**: É a string na qual o método será aplicado.\n",
    "- **`valor`**: A substring (sequência de caracteres) que queremos contar na string principal.\n",
    "\n",
    "### Exemplo de uso básico:\n",
    "```python\n",
    "frase = \"Python é muito divertido, Python é incrível!\"\n",
    "contagem = frase.count('Python')\n",
    "print(contagem)  # Saída: 2\n",
    "```\n",
    "No exemplo acima, a string `\"Python\"` aparece 2 vezes na frase. Logo, o método `.count('Python')` retorna o valor **2**.\n",
    "\n",
    "### Detalhes e usos:\n",
    "- O **método `.count()`** diferencia maiúsculas de minúsculas, ou seja, `'Python'` e `'python'` seriam considerados valores diferentes.\n",
    "- O método pode ser útil para verificar a **frequência** de palavras, caracteres ou substrings em textos maiores, como a contagem de letras específicas ou de uma palavra em um parágrafo.\n",
    "\n",
    "### Exemplo para contar caracteres:\n",
    "```python\n",
    "frase = \"Python é fantástico!\"\n",
    "contagem = frase.count('a')\n",
    "print(contagem)  # Saída: 2\n",
    "```\n",
    "Aqui, o método `.count('a')` retorna **2**, já que a letra `'a'` aparece duas vezes na string.\n",
    "\n",
    "### Uso de parâmetros opcionais:\n",
    "O método `.count()` também permite a utilização de dois parâmetros opcionais:\n",
    "- **`start`**: A posição inicial da string onde o método começará a contar.\n",
    "- **`end`**: A posição final da string até onde o método irá contar.\n",
    "\n",
    "Exemplo:\n",
    "```python\n",
    "frase = \"Python é muito divertido, Python é incrível!\"\n",
    "contagem = frase.count('Python', 15)  # Começa a contar a partir do índice 15\n",
    "print(contagem)  # Saída: 1\n",
    "```\n",
    "Neste caso, a contagem começa a partir da posição 15 na string, e o resultado é **1**, pois há apenas uma ocorrência de `\"Python\"` após esse ponto."
   ]
  },
  {
   "cell_type": "code",
   "execution_count": null,
   "metadata": {},
   "outputs": [],
   "source": [
    "frase = 'Curso em Vídeo Python'\n",
    "\n",
    "# Irá exibir a quantidade de ocorrências de o minúsculo.\n",
    "print(frase.count('o')) # 3\n",
    "\n",
    "# Esse método aceita a indicação de um intervalo em seus argumentos\n",
    "\n",
    "print(frase.count('o', 0, 13)) # 1\n",
    "# O índice 13 não é incluído na contagem. Com isso percebemos o comportamento de intervalo de Python. O intervalo é sempre aberto à direita, ou seja, o último índice não é incluído.\n",
    "\n",
    "# Curso em Víde - Corresponde ao intervalo 0, 13\n",
    "# 0123456789012\n",
    "\n",
    "# Lembrando que se o intervalo for omitido, a contagem será feita em toda a string.\n",
    "# Se o início for omitido, a contagem será feita a partir do início da string.\n",
    "# Se o final for omitido, a contagem será feita até o final da string."
   ]
  },
  {
   "cell_type": "markdown",
   "metadata": {},
   "source": [
    "### Método `index()`\n",
    "\n",
    "O método **`index()`** em Python é utilizado para encontrar a **primeira ocorrência** de uma substring em uma string. Se a substring for encontrada, ele retorna o índice da primeira ocorrência. Caso contrário, ele gera uma exceção do tipo **ValueError**, indicando que a substring não foi encontrada.\n",
    "\n",
    "### Sintaxe:\n",
    "```python\n",
    "string.index(substring, start, end)\n",
    "```\n",
    "- **`substring`**: A sequência de caracteres que você está procurando.\n",
    "- **`start`** *(opcional)*: O índice inicial para a pesquisa. O padrão é 0.\n",
    "- **`end`** *(opcional)*: O índice final para a pesquisa. O padrão é o comprimento total da string.\n",
    "\n",
    "### Exemplo básico:\n",
    "```python\n",
    "frase = \"Python é incrível\"\n",
    "indice = frase.index(\"incrível\")\n",
    "print(indice)  # Saída: 9\n",
    "```\n",
    "\n",
    "### Comportamento ao não encontrar a substring:\n",
    "```python\n",
    "frase = \"Python é incrível\"\n",
    "indice = frase.index(\"Java\")  # Levanta ValueError: substring not found\n",
    "```\n",
    "\n",
    "### Exemplo com `start` e `end`:\n",
    "```python\n",
    "frase = \"Python é incrível. Python é poderoso.\"\n",
    "indice = frase.index(\"Python\", 10)  # Começa a busca a partir do índice 10\n",
    "print(indice)  # Saída: 22\n",
    "```\n",
    "\n",
    "### Conclusão:\n",
    "O método **`index()`** é útil quando você quer garantir que a substring está presente, pois ele gera uma exceção se a substring não for encontrada. Caso a substring esteja presente, ele retorna o índice da primeira ocorrência."
   ]
  },
  {
   "cell_type": "code",
   "execution_count": null,
   "metadata": {},
   "outputs": [
    {
     "name": "stdout",
     "output_type": "stream",
     "text": [
      "9\n",
      "19\n"
     ]
    },
    {
     "ename": "TypeError",
     "evalue": "must be str, not int",
     "output_type": "error",
     "traceback": [
      "\u001b[1;31m---------------------------------------------------------------------------\u001b[0m",
      "\u001b[1;31mTypeError\u001b[0m                                 Traceback (most recent call last)",
      "Cell \u001b[1;32mIn[2], line 16\u001b[0m\n\u001b[0;32m      7\u001b[0m \u001b[38;5;28mprint\u001b[39m(frase\u001b[38;5;241m.\u001b[39mrindex(\u001b[38;5;124m'\u001b[39m\u001b[38;5;124mo\u001b[39m\u001b[38;5;124m'\u001b[39m)) \u001b[38;5;66;03m# 19\u001b[39;00m\n\u001b[0;32m      9\u001b[0m \u001b[38;5;66;03m# Exemplo de retorno de index com substring não encontrada\u001b[39;00m\n\u001b[0;32m     10\u001b[0m \u001b[38;5;66;03m# print(frase.index('vídeo'))\u001b[39;00m\n\u001b[0;32m     11\u001b[0m \u001b[38;5;66;03m# ValueError: substring not found\u001b[39;00m\n\u001b[1;32m   (...)\u001b[0m\n\u001b[0;32m     14\u001b[0m \n\u001b[0;32m     15\u001b[0m \u001b[38;5;66;03m# Exemplo de uso do método find()\u001b[39;00m\n\u001b[1;32m---> 16\u001b[0m \u001b[38;5;28mprint\u001b[39m(\u001b[43mfrase\u001b[49m\u001b[38;5;241;43m.\u001b[39;49m\u001b[43mindex\u001b[49m\u001b[43m(\u001b[49m\u001b[43mfrase\u001b[49m\u001b[38;5;241;43m.\u001b[39;49m\u001b[43mfind\u001b[49m\u001b[43m(\u001b[49m\u001b[38;5;124;43m'\u001b[39;49m\u001b[38;5;124;43mvídeo\u001b[39;49m\u001b[38;5;124;43m'\u001b[39;49m\u001b[43m)\u001b[49m\u001b[43m)\u001b[49m)\n",
      "\u001b[1;31mTypeError\u001b[0m: must be str, not int"
     ]
    }
   ],
   "source": [
    "frase = 'Curso em Vídeo Python'\n",
    "\n",
    "# Exemplo de retorno de index\n",
    "print(frase.index('Vídeo')) # 9\n",
    "\n",
    "# Existe uma variante rindex() que retorna o índice da última ocorrência da substring na string.\n",
    "print(frase.rindex('o')) # 19\n",
    "\n",
    "# Exemplo de retorno de index com substring não encontrada\n",
    "# print(frase.index('vídeo'))\n",
    "# ValueError: substring not found\n",
    "\n",
    "# Podemos tratar esse erro com um bloco try/except ou if/else com o operador in. Mas o método find() é mais recomendado para esses casos. Ele retorna -1 se a substring não for encontrada."
   ]
  },
  {
   "cell_type": "markdown",
   "metadata": {},
   "source": [
    "## Método `find()`\n",
    "\n",
    "O método **`find()`** em Python é utilizado para localizar a primeira ocorrência de uma **substring** dentro de uma string. Ele retorna o índice (a posição) onde a substring foi encontrada pela primeira vez. Caso a substring não seja encontrada, o método retorna **-1**.\n",
    "\n",
    "### Sintaxe:\n",
    "```python\n",
    "string.find(substring, start, end)\n",
    "```\n",
    "- **`substring`**: A sequência de caracteres que você deseja encontrar.\n",
    "- **`start`** *(opcional)*: O índice inicial a partir do qual a pesquisa começa. O padrão é 0 (início da string).\n",
    "- **`end`** *(opcional)*: O índice final até o qual a pesquisa é feita. O padrão é o comprimento total da string.\n",
    "\n",
    "### Exemplo básico:\n",
    "```python\n",
    "frase = \"Python é incrível\"\n",
    "indice = frase.find(\"incrível\")\n",
    "print(indice)  # Saída: 9\n",
    "```\n",
    "Aqui, a substring `\"incrível\"` foi encontrada no índice **9** da string `\"Python é incrível\"`.\n",
    "\n",
    "### Se a substring não for encontrada:\n",
    "Se a substring não estiver presente, o método retorna **-1**:\n",
    "```python\n",
    "frase = \"Python é incrível\"\n",
    "indice = frase.find(\"Java\")\n",
    "print(indice)  # Saída: -1\n",
    "```\n",
    "Como `\"Java\"` não está na string, o método retorna **-1**.\n",
    "\n",
    "### Parâmetros `start` e `end`:\n",
    "Você pode limitar a busca a uma parte da string, usando os parâmetros **`start`** e **`end`** para definir um intervalo de pesquisa.\n",
    "\n",
    "Exemplo com `start`:\n",
    "```python\n",
    "frase = \"Python é incrível. Python é poderoso.\"\n",
    "indice = frase.find(\"Python\", 10)  # Começa a busca a partir do índice 10\n",
    "print(indice)  # Saída: 22\n",
    "```\n",
    "Aqui, a pesquisa começa no índice **10**, ignorando a primeira ocorrência de `\"Python\"` e encontrando a próxima no índice **22**.\n",
    "\n",
    "Exemplo com `start` e `end`:\n",
    "```python\n",
    "frase = \"Python é incrível. Python é poderoso.\"\n",
    "indice = frase.find(\"Python\", 10, 25)  # Busca entre os índices 10 e 25\n",
    "print(indice)  # Saída: 22\n",
    "```\n",
    "Neste caso, a busca é limitada ao intervalo de índices entre **10** e **25**, encontrando `\"Python\"` no índice **22**.\n",
    "\n",
    "### Diferença entre `find()` e `index()`:\n",
    "- **`find()`**: Retorna **-1** se a substring não for encontrada.\n",
    "- **`index()`**: Lança uma exceção (**ValueError**) se a substring não for encontrada.\n",
    "\n",
    "Portanto, o **`find()`** é mais seguro quando não temos certeza se a substring está presente, já que evita erros e simplesmente retorna **-1**.\n",
    "\n",
    "### Conclusão:\n",
    "O método **`find()`** é uma maneira simples e eficiente de procurar a primeira ocorrência de uma substring dentro de uma string em Python. Ele pode ser útil em diversas situações, como na verificação da presença de uma palavra, caracteres ou fragmentos específicos de texto."
   ]
  },
  {
   "cell_type": "code",
   "execution_count": null,
   "metadata": {},
   "outputs": [],
   "source": [
    "frase = 'Curso em Vídeo Python'\n",
    "#        012345678901234567890  <- Índices\n",
    "\n",
    "# Exibe 11, que é a posição do caractere d\n",
    "print(frase.find('deo')) # Substring \n",
    "\n",
    "# Exibe 19, que é a posição do caractere o a partir do índice 14\n",
    "print(frase.find('o', 14)) # Substring com intervalo opcional\n",
    "\n",
    "# Se o valor não for encontrado, o retorno será -1\n",
    "print(frase.find('do'))"
   ]
  },
  {
   "cell_type": "markdown",
   "metadata": {},
   "source": [
    "## Método `rfind()`\n",
    "\n",
    "O método **`rfind()`** funciona de forma semelhante ao **`find()`**, mas ao invés de retornar a **primeira** ocorrência de uma substring, ele retorna a **última**. A busca é realizada da direita para a esquerda, embora o índice retornado ainda seja em relação ao início da string.\n",
    "\n",
    "### Diferenças principais:\n",
    "- **`find()`**: Retorna o índice da **primeira** ocorrência da substring.\n",
    "- **`rfind()`**: Retorna o índice da **última** ocorrência da substring.\n",
    "\n",
    "Se a substring não for encontrada, ambos retornam **-1**.\n",
    "\n",
    "### Exemplo:\n",
    "```python\n",
    "frase = \"Python é incrível. Python é poderoso.\"\n",
    "indice = frase.rfind(\"Python\")\n",
    "print(indice)  # Saída: 22\n",
    "```\n",
    "\n",
    "O **`rfind()`** também aceita os parâmetros opcionais **`start`** e **`end`** para delimitar a área de busca, assim como o `find()`."
   ]
  },
  {
   "cell_type": "code",
   "execution_count": 9,
   "metadata": {},
   "outputs": [
    {
     "name": "stdout",
     "output_type": "stream",
     "text": [
      "19\n",
      "19\n"
     ]
    }
   ],
   "source": [
    "# Exibe 19, que é a posição do caractere o a partir do índice 14\n",
    "print(frase.find('o', 14)) # Substring com intervalo opcional\n",
    "\n",
    "# Se quisermos encontrar a última ocorrência de o minúsculo\n",
    "print(frase.rfind('o')) # Exibe 19"
   ]
  },
  {
   "cell_type": "markdown",
   "metadata": {},
   "source": [
    "## Operador de pertencimento `in`\n",
    "---\n",
    "O operador `in` pode ser utilizado em Python para verificar se uma determinada substring está contida dentro de uma string maior. Ele retorna um valor booleano indicando se a substring está presente ou não na string.\n",
    "\n",
    "A sintaxe do operador `in` é a seguinte:\n",
    "\n",
    "```python\n",
    "substring in string\n",
    "```\n",
    "\n",
    "Onde:\n",
    "- `substring` é o valor que desejamos verificar se está presente na string.\n",
    "- `string` é a string na qual queremos realizar a verificação.\n",
    "\n",
    "Se a `substring` estiver presente em `string`, o operador `in` retornará `True`. Caso contrário, retornará `False`.\n",
    "\n",
    "Por exemplo:"
   ]
  },
  {
   "cell_type": "code",
   "execution_count": 10,
   "metadata": {},
   "outputs": [
    {
     "name": "stdout",
     "output_type": "stream",
     "text": [
      "True\n",
      "False\n"
     ]
    }
   ],
   "source": [
    "frase = 'Curso em Vídeo Python' # String original\n",
    "\n",
    "print('Curso' in frase) # Exibe True pois a palavra corresponde ao conteúdo da variável\n",
    "print('curso' in frase) # Exibe False pois a palavra está com a primeira letra minúscula, diferente do conteúdo da variável"
   ]
  },
  {
   "cell_type": "markdown",
   "metadata": {},
   "source": [
    "## Métodos `startswith()` e `endswith()`\n",
    "---\n",
    "O método `startswith()` e `endswith()` são duas funções embutidas em Python usadas para verificar se uma string começa ou termina com um determinado prefixo ou sufixo, respectivamente.\n",
    "\n",
    "Aqui está a sintaxe para cada método:"
   ]
  },
  {
   "cell_type": "markdown",
   "metadata": {},
   "source": [
    "### Método `startswith()`:\n",
    "---\n",
    "```python\n",
    "string.startswith(prefixo, início, fim)\n",
    "```\n",
    "\n",
    "- `string`: A string que queremos verificar.\n",
    "- `prefixo`: O prefixo que estamos verificando se a string começa com ele.\n",
    "- `início` (opcional): O índice a partir do qual a verificação deve começar. Por padrão, é 0.\n",
    "- `fim` (opcional): O índice até o qual a verificação deve ser feita. Por padrão, é o comprimento da string.\n",
    "\n",
    "Este método retorna `True` se a string começar com o prefixo especificado e `False` caso contrário."
   ]
  },
  {
   "cell_type": "code",
   "execution_count": 3,
   "metadata": {},
   "outputs": [
    {
     "name": "stdout",
     "output_type": "stream",
     "text": [
      "O nome começa com 'Silva'\n"
     ]
    }
   ],
   "source": [
    "# Queremos verificar se o nome começa com Silva\n",
    "nome = \"Silvana\"\n",
    "\n",
    "# Verifica se a nome começa com \"Silva\"\n",
    "if nome.startswith(\"Silva\"):\n",
    "    print(\"O nome começa com 'Silva'\")\n",
    "else:\n",
    "    print(\"A nome não começa com 'Silva'\")"
   ]
  },
  {
   "cell_type": "markdown",
   "metadata": {},
   "source": [
    "### Método `endswith()`:\n",
    "---\n",
    "```python\n",
    "string.endswith(sufixo, início, fim)\n",
    "```\n",
    "\n",
    "- `string`: A string que queremos verificar.\n",
    "- `sufixo`: O sufixo que estamos verificando se a string termina com ele.\n",
    "- `início` (opcional): O índice a partir do qual a verificação deve começar. Por padrão, é 0.\n",
    "- `fim` (opcional): O índice até o qual a verificação deve ser feita. Por padrão, é o comprimento da string.\n",
    "\n",
    "Este método retorna `True` se a string terminar com o sufixo especificado e `False` caso contrário.\n",
    "\n",
    "Esses métodos são úteis para verificar padrões simples no início ou no final de uma string, facilitando a implementação de lógicas condicionais baseadas nessas verificações."
   ]
  },
  {
   "cell_type": "code",
   "execution_count": null,
   "metadata": {},
   "outputs": [],
   "source": [
    "# Queremos verificar se o último nome é Silva\n",
    "nome = \"Thiago Silva\"\n",
    "\n",
    "# Verifica se a nome termina com \"Silva\"\n",
    "if nome.endswith(\"Silva\"):\n",
    "    print(\"O nome termina com 'Silva'\")\n",
    "else:\n",
    "    print(\"A nome não termina com 'Silva'\")"
   ]
  },
  {
   "cell_type": "markdown",
   "metadata": {},
   "source": [
    "## `.replace()`\n",
    "---\n",
    "Podemos substituir uma parte de uma string armazenada numa variável codificando primeiro o nome da variável e depois o método `.replace()`\n",
    "\n",
    "O método `.replace()` é utilizado para substituir parte de uma string por outra parte especificada. Este método não altera a string original, mas retorna uma nova string com as substituições feitas.\n",
    "\n",
    "Aqui está a sintaxe do método `.replace()`:\n",
    "\n",
    "```python\n",
    "string.replace(valor_antigo, novo_valor, quantidade)\n",
    "```\n",
    "\n",
    "- `string`: A string na qual queremos fazer a substituição.\n",
    "- `valor_antigo`: A parte da string que queremos substituir.\n",
    "- `novo_valor`: A parte pela qual queremos substituir o valor_antigo.\n",
    "- `quantidade` (opcional): O número máximo de substituições a serem feitas. Por padrão, todas as ocorrências serão substituídas.\n",
    "\n",
    "O método `.replace()` é útil não apenas para substituir partes específicas de uma string, mas também para remover caracteres indesejados. Por exemplo, se quisermos remover todos os espaços em branco de uma string, podemos usar `string.replace(' ', '')`."
   ]
  },
  {
   "cell_type": "code",
   "execution_count": null,
   "metadata": {},
   "outputs": [],
   "source": [
    "# Salvamos uma frase em uma variável\n",
    "frase = 'Curso em Vídeo Python'\n",
    "\n",
    "# Utilizamos o método .replace() para substituir a palavra Python por Android\n",
    "frase.replace('Python', 'Android')\n",
    "\n",
    "# Se codificarmos a variável original, notaremos que o valor dela permanece inalterado. Isso ocorre pois o método .replace() não altera o valor da variável original, mas cria uma nova string com o valor atualizado.\n",
    "print(frase)\n",
    "\n",
    "# Podemos armazenar o valor atualizado em uma nova variável\n",
    "nova_frase = frase.replace('Python', 'Android')\n",
    "\n",
    "# Agora, ao exibir a nova variável, notaremos que o valor foi atualizado\n",
    "print(nova_frase) \n",
    "\n",
    "# Executamos novamente a variável original para confirmar que o valor permanece inalterado\n",
    "print(frase)\n",
    "\n",
    "# Este método também nos permite incluir caracteres\n",
    "teste = 'Podemos inserir caracteres' # Cada caractere possui um espaço entre si\n",
    "print(teste.replace('', ' ')) # Aqui estamos incluindo um espaço entre cada caractere\n",
    "\n",
    "# Saída: P o d e m o s   i n s e r i r   c a r a c t e r e s"
   ]
  },
  {
   "cell_type": "markdown",
   "metadata": {},
   "source": [
    "## `.upper()` e `.lower()`\n",
    "---\n",
    "Os métodos `.upper()` e `.lower()` são usados para transformar os caracteres de uma string em maiúsculas e minúsculas, respectivamente. Eles são métodos de transformação que ajudam a padronizar o texto de acordo com as necessidades do programa.\n",
    "\n",
    "- O método `.upper()` transforma todos os caracteres da string em letras maiúsculas.\n",
    "- O método `.lower()` transforma todos os caracteres da string em letras minúsculas.\n",
    "\n",
    "Esses métodos são úteis quando precisamos comparar strings sem diferenciar maiúsculas de minúsculas, ou quando queremos apresentar a saída em um formato consistente. \n",
    "\n",
    "Por exemplo:"
   ]
  },
  {
   "cell_type": "code",
   "execution_count": null,
   "metadata": {},
   "outputs": [],
   "source": [
    "print(frase.upper()) # Exibe a frase em maiúsculo. \n",
    "print(frase) # O método .upper() não altera o valor da variável original, mas cria uma nova string com o valor atualizado.\n",
    "\n",
    "print(frase.lower()) # Exibe a frase em minúsculo.\n",
    "print(frase) # O método .lower() não altera o valor da variável original, mas cria uma nova string com o valor atualizado."
   ]
  },
  {
   "cell_type": "markdown",
   "metadata": {},
   "source": [
    "## `.title()`\n",
    "---\n",
    "O método `.title()` é usado para capitalizar o primeiro caractere de cada palavra em uma string, transformando as outras letras em minúsculas. Isso é útil quando queremos formatar o texto para que cada palavra comece com uma letra maiúscula, como em títulos ou nomes próprios.\n",
    "\n",
    "Por exemplo:"
   ]
  },
  {
   "cell_type": "code",
   "execution_count": null,
   "metadata": {},
   "outputs": [],
   "source": [
    "print(frase.title()) # Exibe a frase com a primeira letra de cada palavra em maiúsculo. Também não altera o valor da variável original.\n",
    "\n",
    "print(frase) # Exibe a frase original\n",
    "\n",
    "# Como você pode ver, o método `.title()` capitaliza o primeiro caractere de cada palavra na string `frase`, enquanto as letras restantes são convertidas em minúsculas. Isso resulta em uma formatação adequada para um título ou cabeçalho."
   ]
  },
  {
   "cell_type": "markdown",
   "metadata": {},
   "source": [
    "## `.capitalize()`\n",
    "---\n",
    "O método `.capitalize()` é usado para transformar apenas o primeiro caractere de uma string em maiúscula, enquanto todas as outras letras são convertidas em minúsculas. Isso é útil quando queremos capitalizar apenas o primeiro caractere de uma frase, mantendo as outras letras inalteradas.\n",
    "\n",
    "Por exemplo:"
   ]
  },
  {
   "cell_type": "code",
   "execution_count": 11,
   "metadata": {},
   "outputs": [
    {
     "name": "stdout",
     "output_type": "stream",
     "text": [
      "Curso em vídeo python\n",
      "Curso em Vídeo Python\n"
     ]
    }
   ],
   "source": [
    "print(frase.capitalize()) # Exibe a frase com a primeira letra em maiúsculo e as demais em minúsculo. Também não altera o valor da variável original.\n",
    "\n",
    "print(frase) # Exibe a frase original\n",
    "\n",
    "# Como você pode ver, o método `.capitalize()` capitaliza apenas o primeiro caractere da string `frase`, mantendo as outras letras como estão. Isso é útil quando queremos garantir que a primeira letra de uma frase seja maiúscula, independentemente do restante da string."
   ]
  },
  {
   "cell_type": "markdown",
   "metadata": {},
   "source": [
    "## `.split()`\n",
    "---\n",
    "Ao trabalhar com diferentes tipos de dados, muitas vezes os receberemos em um formato que pode dificultar o trabalho.\n",
    "\n",
    "Conseguimos dividir strings e armazenar os valores individuais numa lista utilizando o método .split() - split significa dividir.\n",
    "\n",
    "O método `.split()` é usado para dividir uma string em substrings com base em um separador especificado e retornar uma lista das substrings resultantes.\n",
    "\n",
    "Por padrão, o método `.split()` usa espaços em branco como separador para dividir a string. No entanto, você pode especificar um separador personalizado passando-o como argumento para o método `.split()`.\n",
    "\n",
    "Por exemplo:"
   ]
  },
  {
   "cell_type": "code",
   "execution_count": 14,
   "metadata": {},
   "outputs": [
    {
     "name": "stdout",
     "output_type": "stream",
     "text": [
      "['Curso', 'em', 'Vídeo', 'Python']\n",
      "Curso em Vídeo Python\n",
      "['Curso', 'em', 'Vídeo', 'Python']\n",
      "Vídeo\n",
      "V\n"
     ]
    }
   ],
   "source": [
    "frase = 'Curso em Vídeo Python'\n",
    "\n",
    "# O método .split() divide a string em uma lista de strings.\n",
    "# O padrão é dividir a string nos espaços em branco.\n",
    "\n",
    "print(frase.split())\n",
    "# Será exibida uma lista com as palavras da frase: ['Curso', 'em', 'Vídeo', 'Python']\n",
    "\n",
    "# O método .split() não altera o valor da variável original.\n",
    "print(frase)\n",
    "\n",
    "# Podemos armazenar o valor da lista em uma variável\n",
    "frase_dividida = frase.split()\n",
    "print(frase_dividida) # Exibe a lista ['Curso', 'em', 'Vídeo', 'Python']\n",
    "\n",
    "# Como veremos ao tratar de listas mais adiante, podemos acessar os valores da lista por meio de índices. Assim como acessamos caracteres de uma string, em listas, podemos os elementos por meio de índices.\n",
    "\n",
    "# Nesse exemplo, o primeiro valor indica a palavra e o segundo o caractere\n",
    "print(frase_dividida[2]) # Exibe 'Vídeo' pois é o terceiro [2] valor da lista\n",
    "\n",
    "# Se a lista for composta por strings, podemos acessar caracteres de uma palavra por meio de índices. Indicamos a palavra e o caractere.\n",
    "\n",
    "print(frase_dividida[2][0]) # Exibe 'V' pois é o primeiro [0] caractere da palavra 'Vídeo' cujo índice é 2 "
   ]
  },
  {
   "cell_type": "markdown",
   "metadata": {},
   "source": [
    "O método `.split()` pode ser usado para dividir uma string com base em qualquer caractere específico, não apenas espaços em branco (Espaços em branco, não espaços vazios).\n",
    "\n",
    "Se você deseja dividir uma string em um caractere diferente de espaço em branco, pode especificar esse caractere como argumento para o método `.split()`.\n",
    "\n",
    "Por exemplo:"
   ]
  },
  {
   "cell_type": "code",
   "execution_count": 15,
   "metadata": {},
   "outputs": [
    {
     "name": "stdout",
     "output_type": "stream",
     "text": [
      "['Maycon', 'Masculino', 'Pardo', 'Douglas', 'Masculino', 'Branco', 'Maria', 'Feminino', 'Branca']\n",
      "['Maycon', 'Douglas', 'Maria']\n",
      "['Masculino', 'Masculino', 'Feminino']\n",
      "['Pardo', 'Branco', 'Branca']\n"
     ]
    }
   ],
   "source": [
    "# O texto está separado por vírgula e espaço. Portanto usaremos o método split() para separar o texto em uma lista \n",
    "texto = 'Maycon, Masculino, Pardo, Douglas, Masculino, Branco, Maria, Feminino, Branca'\n",
    "\n",
    "# Como o método split() não altera o valor da variável original, podemos armazenar o valor da lista em uma variável\n",
    "lista_texto = texto.split(', ')\n",
    "\n",
    "# A nossa saída será uma lista com os nomes, gêneros e etnias\n",
    "print(lista_texto)\n",
    "\n",
    "# Agora podemos manipular a lista\n",
    "print(lista_texto[0::3]) # Exibe os nomes que estão na posição 0, 3, 6, 9\n",
    "print(lista_texto[1::3]) # Exibe os sexos que estão na posição 1, 4, 7, 10\n",
    "print(lista_texto[2::3]) # Exibe as etnias que estão na posição 2, 5, 8, 11"
   ]
  },
  {
   "cell_type": "markdown",
   "metadata": {},
   "source": [
    "## `''.join()`\n",
    "---\n",
    "O método `.join()` é usado para juntar os itens de uma sequência (como uma lista) em uma única string, separando-os com um separador especificado.\n",
    "\n",
    "Por exemplo:"
   ]
  },
  {
   "cell_type": "code",
   "execution_count": 16,
   "metadata": {},
   "outputs": [
    {
     "name": "stdout",
     "output_type": "stream",
     "text": [
      "maçã, banana, laranja, uva\n",
      "['maçã', 'banana', 'laranja', 'uva']\n"
     ]
    }
   ],
   "source": [
    "# Temos uma lista de frutas\n",
    "frutas = ['maçã', 'banana', 'laranja', 'uva']\n",
    "\n",
    "# Desejamos unir os itens da lista em uma única string. Como o método não altera o valor da variável original, podemos armazenar o valor da string em uma variável\n",
    "\n",
    "# Usamos um separador para unir os itens da lista\n",
    "frutas_str = ', '.join(frutas)\n",
    "\n",
    "# Ao exibir a variável, notaremos que os itens da lista foram unidos em uma única string\n",
    "print(frutas_str)\n",
    "\n",
    "# Veja a diferença para a exibição da lista\n",
    "print(frutas)\n",
    "\n",
    "# Neste exemplo, o método `.join()` é usado para juntar os itens da lista `frutas`, separando-os por vírgula e espaço. O resultado é uma única string contendo todas as frutas, separadas por vírgula e espaço.\n",
    "\n",
    "# Lista - ['maçã', 'banana', 'laranja', 'uva']\n",
    "# String - 'maçã, banana, laranja, uva'"
   ]
  },
  {
   "cell_type": "markdown",
   "metadata": {},
   "source": [
    " O método `.join()` pode ser usado para unir os caracteres de uma string, separando-os com o separador especificado. Aqui está um exemplo:"
   ]
  },
  {
   "cell_type": "code",
   "execution_count": 18,
   "metadata": {},
   "outputs": [
    {
     "name": "stdout",
     "output_type": "stream",
     "text": [
      "P-y-t-h-o-n\n"
     ]
    }
   ],
   "source": [
    "# String original - É apenas uma palavra\n",
    "texto = \"Python\"\n",
    "\n",
    "# Caractere que será utilizado para separar os caracteres da string\n",
    "separador = \"-\"\n",
    "\n",
    "# O método .join() une os caracteres da string, separando-os com o caractere indicado\n",
    "texto_separado = separador.join(texto)\n",
    "\n",
    "# Agora veremos cada letra separada por um hífen\n",
    "print(texto_separado) # P-y-t-h-o-n"
   ]
  },
  {
   "cell_type": "markdown",
   "metadata": {},
   "source": [
    "## `.strip()`\n",
    "---\n",
    "O método `.strip()` é usado para remover espaços em branco desnecessários no início e no final de uma string. Aqui está um exemplo:"
   ]
  },
  {
   "cell_type": "code",
   "execution_count": 19,
   "metadata": {},
   "outputs": [
    {
     "name": "stdout",
     "output_type": "stream",
     "text": [
      "    Aprenda Python   \n",
      "21\n",
      "Aprenda Python\n",
      "14\n",
      "    Aprenda Python\n",
      "Aprenda Python   \n"
     ]
    }
   ],
   "source": [
    "# Colocamos propositalmente espaços em branco à esquerda e à direita da frase\n",
    "frase = '    Aprenda Python   '\n",
    "\n",
    "# Exibe a frase com espaços à esquerda e à direita\n",
    "print(frase)\n",
    "\n",
    "# len(frase) exibe 21, que é o tamanho da frase incluindo os espaços\n",
    "print(len(frase))\n",
    "\n",
    "# Usamos strip para tratar a string. Agora o print() exibe a frase sem os espaços à esquerda e à direita\n",
    "print(frase.strip())\n",
    "\n",
    "# Novamente, usamos len(frase) que exibe 13, que é o tamanho da frase sem os espaços à esquerda e à direita\n",
    "print(len(frase.strip()))\n",
    "\n",
    "# Há duas variações: Somente da direita rstrip() e somente da esquerda lstrip()\n",
    "print(frase.rstrip()) # Exibe a frase sem os espaços à direita\n",
    "print(frase.lstrip()) # Exibe a frase sem os espaços à esquerda\n",
    "\n",
    "# Este método é útil para tratar strings recebidas de usuários, removendo espaços em branco extras que podem causar problemas ao processar os dados."
   ]
  }
 ],
 "metadata": {
  "kernelspec": {
   "display_name": "Python 3",
   "language": "python",
   "name": "python3"
  },
  "language_info": {
   "codemirror_mode": {
    "name": "ipython",
    "version": 3
   },
   "file_extension": ".py",
   "mimetype": "text/x-python",
   "name": "python",
   "nbconvert_exporter": "python",
   "pygments_lexer": "ipython3",
   "version": "3.13.2"
  }
 },
 "nbformat": 4,
 "nbformat_minor": 2
}
