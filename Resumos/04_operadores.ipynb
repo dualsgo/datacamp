{
 "cells": [
  {
   "cell_type": "markdown",
   "metadata": {},
   "source": [
    "# `Operadores`\n",
    "---\n",
    "\n",
    "Ao programar, é comum criar programas que façam perguntas e tomem decisões com base nas respostas recebidas. Essas perguntas são essenciais para controlar o fluxo de execução do programa e adaptar o comportamento do software de acordo com diferentes cenários.\n",
    "\n",
    "No mundo da programação, os computadores respondem de maneira simples: `sim` ou `não`. Eles não têm capacidade de raciocínio complexo ou indecisão. Essa característica simplificada permite que os programadores construam sistemas confiáveis e previsíveis.\n",
    "\n",
    "Os operadores desempenham um papel fundamental nesse processo. Assim como na aritmética, onde o sinal de + realiza adição, na programação, os operadores têm funções específicas para operar com valores e expressões.\n",
    "\n",
    "Vamos explorar alguns dos operadores mais comuns em Python:"
   ]
  },
  {
   "cell_type": "markdown",
   "metadata": {},
   "source": [
    "## `Operadores Aritméticos`\n",
    "---\n",
    "\n",
    "Os operadores aritméticos são essenciais para realizar operações matemáticas em Python. Eles nos permitem realizar cálculos simples ou complexos, desde adição até operações de potenciação e divisão.\n",
    "\n",
    "Vamos explorar os principais operadores aritméticos em Python:\n",
    "\n",
    "- `+` (Adição): Este operador adiciona dois valores.\n",
    "- `-` (Subtração): Subtrai um valor de outro.\n",
    "- `*` (Multiplicação): Multiplica dois valores.\n",
    "- `**` (Potenciação): Eleva um valor à potência de outro.\n",
    "- `/` (Divisão): Divide um valor por outro.\n",
    "- `//` (Divisão inteira): Divide um valor por outro, arredondando o resultado para baixo para o número inteiro mais próximo.\n",
    "- `%` (Módulo): Calcula o resto da divisão de um valor por outro.\n",
    "\n",
    "Esses operadores são fundamentais para realizar uma variedade de cálculos em Python. Vamos ver como eles funcionam em alguns exemplos simples."
   ]
  },
  {
   "cell_type": "markdown",
   "metadata": {},
   "source": [
    "### **`**` Exponenciação**\n",
    "---\n",
    "\n",
    "A operação de exponenciação em Python é representada pelo operador `** (dois asteriscos)`. Ela calcula o valor de um número elevado à potência de outro.\n",
    "\n",
    "Os exemplos mostram uma característica importante dos operadores numéricos em Python:"
   ]
  },
  {
   "cell_type": "code",
   "execution_count": null,
   "metadata": {},
   "outputs": [],
   "source": [
    "# Quando ambos os argumentos são inteiros, o resultado também é um número inteiro.\n",
    "\n",
    "# Por exemplo:\n",
    "print(2 ** 3)  # É inteiro porque ambos são inteiros\n",
    "\n",
    "# Quando pelo menos um dos argumentos é um float, o resultado será um float.\n",
    "\n",
    "# Por exemplo:\n",
    "print(2 ** 3.)  # É float porque 3. é float\n",
    "print(2. ** 3)  # É float porque 2. é float\n",
    "print(2. ** 3.) # É float porque ambos são float\n",
    "\n",
    "# Aqui não estamos utilizando a função type() para exibir o tipo de dado pois você já deve ser capaz de identificar o tipo de dado apenas pela saída do print."
   ]
  },
  {
   "cell_type": "markdown",
   "metadata": {},
   "source": [
    "### **`*` Multiplicação**\n",
    "---\n",
    "\n",
    "O operador de multiplicação em Python é representado pelo símbolo ``* (um asterisco)``. Ele é usado para multiplicar dois valores.\n",
    "\n",
    "É importante observar que esse operador também pode ser usado com strings. Quando aplicado a uma string, o operador * repete a string um determinado número de vezes."
   ]
  },
  {
   "cell_type": "code",
   "execution_count": null,
   "metadata": {},
   "outputs": [],
   "source": [
    "# Operador * (multiplicação) com números e strings\n",
    "\n",
    "# Multiplicação de números - Age como uma operação de multiplicação normal\n",
    "resultado = 5 * 3\n",
    "print(resultado)  # Saída: 15\n",
    "\n",
    "# A multiplicação segue a mesma lógica para floats\n",
    "resultado = 5. * 3 # O resultado é float porque 5. é float\n",
    "resultado = 5 * 3. # O resultado é float porque 3. é float\n",
    "resultado = 5. * 3. # O resultado é float porque ambos são float\n",
    "\n",
    "# Multiplicação de strings - Cria múltiplas cópias da string unidas em uma só\n",
    "\n",
    "texto = \"Python\"\n",
    "resultado = texto * 3\n",
    "print(resultado)  # Saída: PythonPythonPython"
   ]
  },
  {
   "cell_type": "markdown",
   "metadata": {},
   "source": [
    "### **`/` Divisão**\n",
    "---\n",
    "\n",
    "O operador de divisão em Python é representado pelo símbolo ``/ (uma barra)``. Ele é usado para dividir um valor pelo outro.\n",
    "\n",
    "O valor à esquerda da barra é o dividendo, enquanto o valor à direita é o divisor."
   ]
  },
  {
   "cell_type": "code",
   "execution_count": null,
   "metadata": {},
   "outputs": [],
   "source": [
    "# É importante observar que, mesmo se a divisão envolver apenas números inteiros, o resultado será um float.\n",
    "\n",
    "# Divisão de números inteiros\n",
    "resultado = 10 / 2\n",
    "print(resultado)  # Saída: 5.0\n",
    "\n",
    "# Divisão de números float\n",
    "resultado = 10.0 / 2\n",
    "print(resultado)  # Saída: 5.0\n",
    "\n",
    "resultado = 10 / 2.0\n",
    "print(resultado)  # Saída: 5.0"
   ]
  },
  {
   "cell_type": "markdown",
   "metadata": {},
   "source": [
    "O resultado produzido pelo operador de divisão é sempre um float. Isso é um problema?\n",
    "\n",
    "Sim! Talvez você realmente precise de uma divisão que forneça um valor inteiro (no sentido de tipo de dado), não um valor flutuante.\n",
    "\n",
    "Felizmente, o Python pode ajudá-lo com isso."
   ]
  },
  {
   "cell_type": "markdown",
   "metadata": {},
   "source": [
    "### **`//` Divisão de número inteiro (divisão arredondada)**\n",
    "---\n",
    "O operador de divisão inteira em Python é representado pelo símbolo `// (barra dupla)`. Ele é usado quando se deseja obter o quociente inteiro de uma divisão, descartando qualquer parte fracionária, mesmo que seja zero.\n",
    "\n",
    "Este operador difere do operador de divisão padrão `/` em dois aspectos principais:\n",
    "\n",
    "- Seu resultado é sempre um número inteiro ou um float com a parte decimal truncada, garantindo que não haja parte fracionária no resultado."
   ]
  },
  {
   "cell_type": "code",
   "execution_count": null,
   "metadata": {},
   "outputs": [],
   "source": [
    "# Divisão inteira de números inteiros - o resultado é um número inteiro\n",
    "resultado = 10 // 2\n",
    "print(resultado)  # Saída: 5\n",
    "\n",
    "# Observe as duas próximas divisões. A primeira é uma divisão tradicional de dois números float, e a segunda é uma divisão inteira de dois números float\n",
    "\n",
    "# Divisão tradicional de um número float\n",
    "resultado = 10.0 / 3\n",
    "print(resultado)  # Saída: 3.3333333333333335\n",
    "\n",
    "# Divisão inteira de números float\n",
    "resultado = 10.0 // 3\n",
    "print(resultado)  # Saída: 3.0\n",
    "\n",
    "# A saída da divisão inteira é um número float, mesmo que o resultado seja um número inteiro. Isso ocorre porque o operador // sempre retorna um float. Além disso o valor foi arredondado para baixo (truncate) para o número inteiro mais próximo."
   ]
  },
  {
   "cell_type": "markdown",
   "metadata": {},
   "source": [
    "Observe o trecho a seguir:\n",
    "\n",
    "Vejamos a utilização de `/` e de `//` - você poderia prever os resultados?"
   ]
  },
  {
   "cell_type": "code",
   "execution_count": null,
   "metadata": {},
   "outputs": [],
   "source": [
    "# Faremos os dois tipos de divisão com os mesmos valores, mudando apenas os tipos dos números.\n",
    "print(6 / 4)  # 1.5 - divisão normal de inteiros\n",
    "print(6. / 4)  # 1.5 - divisão normal de float com inteiro\n",
    "print(6. / 4.) # 1.5 - divisão normal de floats\n",
    "# O resultado: 4 * 1.5 = 6.0\n",
    "\n",
    "# Agora vejamos a divisão inteira\n",
    "print(6 // 4)  # 1 - divisão inteira de inteiros\n",
    "print(6. // 4)  # 1.0 - divisão inteira de float com inteiro\n",
    "print(6 // 4.)  # 1.0 - divisão inteira de inteiro com float\n",
    "# O resultado: 4 * 1 = 4\n",
    "\n",
    "# O resultado foi arredondado para baixo (truncate) para o número inteiro mais próximo."
   ]
  },
  {
   "cell_type": "markdown",
   "metadata": {},
   "source": [
    "O resultado da divisão do número inteiro é sempre arredondado para o valor inteiro mais próximo que é menor que o resultado real (não arredondado).\n",
    "\n",
    "Isso é muito importante:\n",
    "\n",
    "`o arredondamento sempre vai para o número inteiro menor`\n",
    "\n",
    "Observe o código abaixo e tente prever os resultados mais uma vez:"
   ]
  },
  {
   "cell_type": "code",
   "execution_count": null,
   "metadata": {},
   "outputs": [],
   "source": [
    "# O resultado real (não arredondado) é -1,5 em ambos os casos. \n",
    "\n",
    "# No entanto, os resultados são sujeitos a arredondamento. O arredondamento vai em direção ao valor inteiro menor, e o valor inteiro menor é -2, portanto: -2 e -2.0.\n",
    "print(-6 // 4)  # -2\n",
    "print(6. // -4)  # -2.0\n",
    "# Pois 4 * -2 = -8 - 6 = -2\n",
    "\n",
    "# Note a diferença em relação à divisão tradicional\n",
    "print(-6 / 4)  # -1.5\n",
    "print(6 / -4)  # -1.5\n",
    "# Pois 4 * -1.5 = -6 + 6 = 0"
   ]
  },
  {
   "cell_type": "markdown",
   "metadata": {},
   "source": [
    "### **`%` Resto (módulo)**\n",
    "--- \n",
    "\n",
    "Sua representação gráfica em Python é o sinal de `% (percentual)`, que pode parecer um pouco confuso. O resultado do operador é o resto após a divisão do número inteiro.\n",
    "\n",
    "Em outras palavras, é o valor que falta após dividir um valor por outro para produzir um quociente inteiro."
   ]
  },
  {
   "cell_type": "code",
   "execution_count": null,
   "metadata": {},
   "outputs": [],
   "source": [
    "# Se dividirmos 14 por 4 normalmente o resultado seria 3,5 - pois 4 * 3,5 = 14\n",
    "# Se quisermos um resultado inteiro, a divisão inteira seria: 4 * 3 = 12 - pois 12 é o maior número inteiro que cabe em 14\n",
    "# Portanto se quisesemos saber o resto da divisão?\n",
    "\n",
    "# Como você pode ver, o resultado é 2. Isso ocorre porque 14 dividido por 4 é 3 com um restante de 2. Aqui está o que acontece passo a passo:\n",
    "\n",
    "# 14 // 4 dá 3 → este é o quociente inteiro;\n",
    "print('Quociente:', 14 // 4)  # 3\n",
    "\n",
    "# 3 * 4 dá 12 → como resultado da multiplicação de quociente e divisor;\n",
    "print('Resto:', 14 % 4)  # 2\n",
    "\n",
    "# 14 - 12 dá 2 → este é o restante.\n",
    "\n",
    "\n",
    "# O operador % é chamado de módulo. Ele retorna o restante da divisão de dois números. Por exemplo:\n",
    "print('Operador %:' , 14 % 4)  # 2 - o resultado é o mesmo que o anterior"
   ]
  },
  {
   "cell_type": "markdown",
   "metadata": {},
   "source": [
    "Este exemplo é um pouco mais complicado.\n",
    "\n",
    "Qual é o resultado?"
   ]
  },
  {
   "cell_type": "code",
   "execution_count": null,
   "metadata": {},
   "outputs": [],
   "source": [
    "print(12 % 4.5) # O resto da divisão de 12 por 4.5 é 3.0\n",
    "# 3.0 – não 3 mas 3.0\n",
    "\n",
    "print(12 // 4.5) # O quocienete é 2. [2 * 4.5 = 9] [12 - 9 = 3]\n",
    "# A regra ainda funciona: 12 dividido por 4,5 dá 2,6666666666666665. O valor é arredondado para baixo (truncate) para 2.\n",
    "\n",
    "# O quociente é 2.\n",
    "# O produto de 2 e 4,5 é 9.\n",
    "# O restante é 12 - 9 = 3,0\n",
    "# O resultado é um float porque um dos operandos é um float."
   ]
  },
  {
   "cell_type": "markdown",
   "metadata": {},
   "source": [
    "### ``Como não dividir``\n",
    "---\n",
    "Como você provavelmente sabe, a divisão por zero não funciona.\n",
    "\n",
    "Não tente:\n",
    "- realizar uma divisão por zero;\n",
    "- realizar uma divisão inteira por zero;\n",
    "- encontrar o resto de uma divisão por zero\n"
   ]
  },
  {
   "cell_type": "code",
   "execution_count": null,
   "metadata": {},
   "outputs": [],
   "source": [
    "try:\n",
    "    divisão = 10 / 0 # ZeroDivisionError: division by zero\n",
    "except ZeroDivisionError:\n",
    "    print(\"Erro de divisão por zero\")\n",
    "    \n",
    "# O exemplo acima mostra como lidar com a exceção ZeroDivisionError, que ocorre quando tentamos dividir um número por zero. O bloco try tenta executar o código e, se ocorrer uma exceção, o bloco except captura a exceção e executa o código dentro dele.\n",
    "\n",
    "# Não se preocupe em entender tudo agora. Vamos ver mais sobre exceções em um capítulo posterior. A intenção aqui é mostrar que o Python não permite divisão por zero mas sem interromper o programa. "
   ]
  },
  {
   "cell_type": "markdown",
   "metadata": {},
   "source": [
    "### **`+` Adição**\n",
    "---\n",
    "\n",
    "O operador de adição, representado pelo símbolo `+ (mais)`, segue os padrões matemáticos convencionais quando utilizado com valores do tipo ``int`` ou ``float``.\n",
    "\n",
    "Além disso, o operador `+` também pode ser utilizado com ``strings`` como operador de concatenação, que une os caracteres.\n",
    "\n",
    "Por exemplo:"
   ]
  },
  {
   "cell_type": "code",
   "execution_count": null,
   "metadata": {},
   "outputs": [],
   "source": [
    "# Neste caso, a adição de 2 e 3 resulta em 5, como esperado em uma operação aritmética simples.\n",
    "print(2 + 3)  # Saída: 5\n",
    "\n",
    "# No próximo exemplo, o operador `+` concatena os valores das variáveis `texto1` e `texto2`, juntando as strings \"Olá\" e \"mundo\" com um espaço entre elas. Note que temos três argumentos na função print()\n",
    "texto1 = \"Olá\"\n",
    "texto2 = \"mundo\"\n",
    "print(texto1 + \" \" + texto2)  # Saída: Olá mundo\n",
    "\n",
    "# O operador `+` não pode ser usado para adicionar um número a uma string. O código abaixo resultará em um erro:\n",
    "# print(\"Olá \" + 5)  # Erro\n",
    "\n",
    "# Mas podemos usar variáveis para fazer isso e usa-las em uma expressão\n",
    "numero = 5\n",
    "print(5 + numero)  # Saída: 10\n",
    "\n",
    "# O operador de + pode ser usado de forma unária para converter um número em um número positivo. Mas isso não é muito útil, pois sabemos que ao omitir o sinal de um número ele é positivo.\n",
    "print(+5)"
   ]
  },
  {
   "cell_type": "markdown",
   "metadata": {},
   "source": [
    "### **`-` Subtração**\n",
    "---\n",
    "O operador de subtração, representado pelo sinal `- (menos)`, é utilizado para subtrair um valor de outro. No entanto, vale ressaltar que esse operador também pode ser empregado para alterar o sinal de um número, o que o torna um operador unário em vez de binário.\n",
    "\n",
    "Em operações de subtração, o operador `-` espera dois argumentos: o minuendo (o valor da esquerda) e o subtraendo (o valor da direita).\n",
    "\n",
    "Por exemplo:\n",
    "\n",
    "```python\n",
    "resultado = 10 - 5\n",
    "print(resultado)  # Saída: 5\n",
    "```\n",
    "\n",
    "Neste caso, 10 é o minuendo e 5 é o subtraendo, e o resultado da operação é 5.\n",
    "\n",
    "Além disso, o operador `-` pode ser utilizado de forma unária para alterar o sinal de um número. Por exemplo:\n",
    "\n",
    "```python\n",
    "numero = 5\n",
    "resultado_negativo = -numero\n",
    "print(resultado_negativo)  # Saída: -5\n",
    "```\n",
    "\n",
    "Neste exemplo, o operador `-` é aplicado ao número 5, resultando em -5, o que indica um valor negativo.\n",
    "\n",
    "Portanto, o operador de subtração pode funcionar tanto como um operador binário, subtraindo um valor de outro, quanto como um operador unário, alterando o sinal de um número."
   ]
  },
  {
   "cell_type": "code",
   "execution_count": null,
   "metadata": {},
   "outputs": [],
   "source": [
    "print(4. - 8)  # -4.0 - operador binário: subtração\n",
    "print(-1.1)   # -1.1 - operador unário: altera o sinal do operando\n",
    "print(-4 - 4)   # -8 - operador unário e binário: altera o sinal do operando e subtrai"
   ]
  },
  {
   "cell_type": "markdown",
   "metadata": {},
   "source": [
    "Os operadores aritiméticos podem ser combinados com o operador de atribuição para modificar o valor de uma variável.\n",
    "\n",
    "Por exemplo:"
   ]
  },
  {
   "cell_type": "code",
   "execution_count": null,
   "metadata": {},
   "outputs": [],
   "source": [
    "# Ao combinar operadores aritiméticos com operadores de atribuição, podemos simplificar o código.\n",
    "numero = 9\n",
    "\n",
    "# Se desejarmos atualizar o valor da variável `numero` para 10, podemos fazer isso de uma maneira mais simples:\n",
    "# Em vez de escrever `numero = numero + 1`, podemos usar o operador `+=` para adicionar 1 ao valor atual de `numero`:\n",
    "numero += 1  # Equivalente a numero = numero + 1\n",
    "print(numero)  # Saída: 10\n",
    "\n",
    "# Isso é chamado de operação de incremento. O mesmo pode ser feito com os outros operadores aritméticos: -=, *=, /=, //=, %=, **=.\n",
    "\n",
    "# Exemplos:\n",
    "\n",
    "# Decremento:\n",
    "numero = 9\n",
    "numero -= 1  # Equivalente a numero = numero - 1\n",
    "print(numero)  # Saída: 8\n",
    "\n",
    "# Multiplicação:\n",
    "numero = 9\n",
    "numero *= 2  # Equivalente a numero = numero * 2\n",
    "print(numero)  # Saída: 18\n",
    "\n",
    "# Divisão:\n",
    "numero = 9\n",
    "numero /= 2  # Equivalente a numero = numero / 2\n",
    "print(numero)  # Saída: 4.5\n",
    "\n",
    "# Divisão inteira:\n",
    "numero = 9\n",
    "numero //= 2  # Equivalente a numero = numero // 2\n",
    "print(numero)  # Saída: 4\n",
    "\n",
    "# Módulo:\n",
    "numero = 9\n",
    "numero %= 2  # Equivalente a numero = numero % 2\n",
    "print(numero)  # Saída: 1\n",
    "\n",
    "# Exponenciação:\n",
    "numero = 9\n",
    "numero **= 2  # Equivalente a numero = numero ** 2\n",
    "print(numero)  # Saída: 81"
   ]
  },
  {
   "cell_type": "markdown",
   "metadata": {},
   "source": [
    "### `Ordem de precedência`\n",
    "---\n",
    "\n",
    "O Python segue uma hierarquia de prioridades para determinar a ordem de execução das operações quando há mais de um operador na mesma expressão. Essa hierarquia garante que os operadores de maior prioridade sejam executados primeiro, seguidos pelos de menor prioridade.\n",
    "\n",
    "Aqui está a hierarquia de prioridades dos operadores em Python, da mais alta para a mais baixa:\n",
    "\n",
    "- Operadores unários: `+` (positivo) e `-` (negativo)\n",
    "- Parenteses ``()``\n",
    "- Operador de exponenciação `**`\n",
    "- Operadores de multiplicação, divisão e resto da divisão: `*`, `/`, `//` e `%`\n",
    "- Operadores de adição e subtração: `+` e `-`\n",
    "\n",
    "Vale ressaltar que o uso de parênteses pode ser utilizado para alterar a ordem de execução das operações."
   ]
  },
  {
   "cell_type": "markdown",
   "metadata": {},
   "source": [
    "### `Operadores e suas ligações`\n",
    "---\n",
    "A ligação dos operadores em uma expressão determina a ordem em que as computações são realizadas quando há operadores com igual prioridade colocados lado a lado. Na maioria dos casos, os operadores em Python têm ligação do lado esquerdo, o que significa que a expressão é avaliada da esquerda para a direita.\n",
    "\n",
    "Por exemplo, considere a expressão `9 % 6 % 2`. Há duas maneiras possíveis de avaliar essa expressão:\n",
    "\n",
    "1. Da esquerda para a direita: primeiro, `9 % 6` dá `3`, e então `3 % 2` dá `1`.\n",
    "2. Da direita para a esquerda: primeiro, `6 % 2` dá `0` e depois `9 % 0` causaria um erro fatal.\n",
    "\n",
    "O resultado correto é `1`, indicando que o operador de módulo (`%`) possui ligação do lado esquerdo."
   ]
  },
  {
   "cell_type": "code",
   "execution_count": null,
   "metadata": {},
   "outputs": [],
   "source": [
    "print(9 % 6 % 2) # Saída: 1"
   ]
  },
  {
   "cell_type": "markdown",
   "metadata": {},
   "source": [
    "Entretanto, há uma exceção interessante quando se trata do operador de exponenciação (`**`). Este operador possui ligação do lado direito. Por exemplo, na expressão `2 ** 2 ** 3`, existem dois resultados possíveis:\n",
    "\n",
    "1. `2 ** 2` resulta em `4`, e então `4 ** 3` resulta em `64`.\n",
    "2. `2 ** 3` resulta em `8`, e então `2 ** 8` resulta em `256`.\n",
    "\n",
    "O resultado esperado é `256`, indicando que o operador de exponenciação usa a associação do lado direito.\n",
    "\n",
    "***``Observação: operadores unários localizados ao lado direito do operador de potência se vinculam mais fortemente. \n",
    "``***\n",
    "\n",
    "Por exemplo, `-3 ** 2` resulta em `-9`, pois o operador unário `-` é aplicado depois do operador de potência. \n",
    "\n",
    "Por outro lado, `(-3) ** 2` resulta em `9`, pois o operador unário `-` é aplicado antes do operador de potência, devido ao uso dos parênteses para alterar a prioridade."
   ]
  },
  {
   "cell_type": "code",
   "execution_count": null,
   "metadata": {},
   "outputs": [],
   "source": [
    "# Para ser mais preciso:\n",
    "\n",
    "# -3 ** 2 é intermpretado como -(3 ** 2) = -9\n",
    "# Isto é o mesmo que 3 ** 2 = 9, Assim, a operação entre os parenteses é realizada primeiro e então o sinal negativo é aplicado ao resultado.\n",
    "\n",
    "# (-3) ** 2 é interpretado como (-3) * (-3) = 9\n",
    "# Neste caso, o sinal negativo é aplicado ao 3 antes de ele ser elevado ao quadrado. Na multiplicação, dois números negativos resultam em um número positivo.\n",
    "\n",
    "# (-3) ** 3 é o mesmo que  ((-3) * (-3)) * (-3) = -27\n",
    "#                                9       * (-3) = -27\n",
    "\n",
    "# Nesse caso temos um positivo e um negativo. Na multiplicação de um positivo por um negativo o resultado é um negativo\n",
    "\n",
    "# Seguimos a regra matemática:\n",
    "# Sinais iguais resultam em um número positivo, sinais diferentes resultam em um número negativo."
   ]
  },
  {
   "cell_type": "markdown",
   "metadata": {},
   "source": [
    "### `Operador de parênteses`\n",
    "---\n",
    "Os ``parênteses`` em uma expressão matemática em Python, assim como em muitas outras linguagens de programação, têm um papel fundamental na determinação da ordem de avaliação das operações. Eles são usados para agrupar partes da expressão e indicar ao interpretador Python a ordem em que as operações devem ser realizadas.\n",
    "\n",
    "Por exemplo, na expressão:\n",
    "\n",
    "```python\n",
    "print((5 * ((25 % 13) + 100) / (2 * 13)) // 2)\n",
    "```\n",
    "\n",
    "Os parênteses são usados para definir claramente a ordem das operações. Sem eles, a expressão seria avaliada de maneira diferente, seguindo as regras padrão de precedência de operadores.\n",
    "\n",
    "Os parênteses mais externos `( ... )` são utilizados para envolver toda a expressão, indicando que o resultado final deve ser submetido à operação de divisão de inteiros `// 2`.\n",
    "\n",
    "Os parênteses internos `(25 % 13)` são usados para calcular o resto da divisão de `25` por `13`. Isso garante que essa operação seja realizada antes da adição com `100`.\n",
    "\n",
    "Em resumo, os parênteses são essenciais para garantir a correta ordem de avaliação das operações em uma expressão, especialmente quando há múltiplos operadores e é necessário evitar ambiguidades ou garantir um comportamento específico."
   ]
  },
  {
   "cell_type": "code",
   "execution_count": null,
   "metadata": {},
   "outputs": [],
   "source": [
    "# Veja o impacto da precedência dos operadores:\n",
    "\n",
    "# Esta é a operação original:\n",
    "print(f'Expressão original: {(5 * ((25 % 13) + 100) / (2 * 13)) // 2}')\n",
    "\n",
    "# Nesse exemplo não houve mudança, pois a precedência dos operadores foi mantida.\n",
    "\n",
    "# Aqui removemos os parênteses em torno de 5 * ((25 % 13) + 100) / (2 * 13), o que não altera o resultado, pois a multiplicação tem precedência sobre a divisão:\n",
    "print(f'Primeira alteração: {5 * ((25 % 13) + 100) / (2 * 13) // 2}')\n",
    "\n",
    "# As demais operações tiveram impacto no resultado devido a mudança na precedência dos operadores.\n",
    "\n",
    "# Aqui removemos os parênteses em torno de 2 * 13:\n",
    "print(f'Segunda alteração: {(5 * (25 % 13) + 100 / (2 * 13)) // 2}')\n",
    "# Aqui removemos os parênteses em torno de 100 / (2 * 13):\n",
    "print(f'Terceira alteração: {(5 * ((25 % 13) + 100) / 2 * 13) // 2}')\n",
    "# Aqui removemos os parênteses em torno de 5 * (25 % 13):\n",
    "print(f'Quarta alteração: {(5 * 25 % 13 + 100 / 2 * 13) // 2}')\n",
    "# Aqui removemos os parênteses em torno de 100 / 2 * 13:\n",
    "print(f'Quinta alteração: {5 * 25 % 13 + 100 / 2 * 13 // 2}')\n",
    "\n",
    "# Veja os resultados de cada operação:"
   ]
  },
  {
   "cell_type": "markdown",
   "metadata": {},
   "source": [
    "## ``Operadores de comparação``\n",
    "---\n",
    "\n",
    "Esses operadores são essenciais para comparar valores e tomar decisões com base nessas comparações. Eles ajudam a controlar o fluxo de execução do programa, permitindo que você escreva lógica condicional para lidar com diferentes situações.\n",
    "\n",
    "- `==` : Verifica se dois valores são iguais.\n",
    "- `!=` : Verifica se dois valores são diferentes.\n",
    "- `>` : Verifica se o valor à esquerda é maior que o valor à direita.\n",
    "- `<` : Verifica se o valor à esquerda é menor que o valor à direita.\n",
    "- `>=` : Verifica se o valor à esquerda é maior ou igual ao valor à direita.\n",
    "- `<=` : Verifica se o valor à esquerda é menor ou igual ao valor à direita.\n",
    "\n",
    "Vamos ver esses operadores em ação em alguns exemplos simples."
   ]
  },
  {
   "cell_type": "markdown",
   "metadata": {},
   "source": [
    "### **`Operador Relacional de Igualdade (==)`**\n",
    "---\n",
    "\n",
    "O operador relacional de igualdade `(==)` é um operador binário com ligação do lado esquerdo. Ele necessita de dois argumentos e verifica se são iguais.\n",
    "\n",
    "O operador `(==)` compara os valores de dois operandos. Se eles forem iguais, o resultado da comparação é `True`. Caso contrário, se não forem iguais, o resultado da comparação é `False`."
   ]
  },
  {
   "cell_type": "code",
   "execution_count": null,
   "metadata": {},
   "outputs": [],
   "source": [
    "# Detalhe importante:\n",
    "# Se a comparação for feita entre um número inteiro e um número float, o Python considera os valores iguais se forem iguais numericamente, mesmo que sejam de tipos diferentes.\n",
    "\n",
    "print(2 == 2) # Saída: True\n",
    "print(2.0 == 2) # Saída: True\n",
    "\n",
    "# Se a comparação for feita entre um número inteiro e uma string, o Python considera os valores diferentes, mesmo que sejam numericamente iguais.\n",
    "\n",
    "print(2 == '2') # Saída: False\n",
    "\n",
    "# Podemos comparar variáveis também. Assim seus valores são comparados.\n",
    "valor_esquerdo = 2\n",
    "valor_direito = 2\n",
    "print(valor_esquerdo == valor_direito)\n"
   ]
  },
  {
   "cell_type": "markdown",
   "metadata": {},
   "source": [
    "Podemos usar comparações para verificar se uma string é igual ou diferente de outra string.\n",
    "\n",
    "Para verificar se uma string é igual a outra, utilizamos o operador de igualdade (==).\n",
    "\n",
    "Se a string da esquerda for igual à string da direita o resultado é True. Se não, o resultado e False."
   ]
  },
  {
   "cell_type": "code",
   "execution_count": null,
   "metadata": {},
   "outputs": [],
   "source": [
    "# A comparação é case-sensitive, ou seja, o Python diferencia letras maiúsculas de minúsculas.\n",
    "\n",
    "print('online' == 'online')  # True\n",
    "print('online' == 'ONLINE')  # False - Pois as letras maiúsculas e minúsculas são diferentes."
   ]
  },
  {
   "cell_type": "markdown",
   "metadata": {},
   "source": [
    "### **`Operador relacional de desigualdade (!=)`**\n",
    "---\n",
    "\n",
    "O operador ``\"!=\"`` (*\"não é igual a\"* ou *\"diferente de\"*) também compara os valores de dois operandos.\n",
    "\n",
    "Aqui está a diferença: se eles são iguais, o resultado da comparação é `False`. Se eles não forem iguais, o resultado da comparação é `True`."
   ]
  },
  {
   "cell_type": "code",
   "execution_count": null,
   "metadata": {},
   "outputs": [],
   "source": [
    "# Em outras palavras, queremos saber se os valores são diferentes. Se forem, a expressão é verdadeira. Se forem iguais, a expressão é falsa.\n",
    "valor_direito = 3\n",
    "valor_esquerdo = 2\n",
    "print(valor_esquerdo != valor_direito)\n",
    "\n",
    "# É como perguntar: \"O valor à esquerda é diferente do valor à direita?\""
   ]
  },
  {
   "cell_type": "markdown",
   "metadata": {},
   "source": [
    "Podemos verificar além de valores numéricos, strings e variáveis, também expressões. Por exemplo:"
   ]
  },
  {
   "cell_type": "code",
   "execution_count": null,
   "metadata": {},
   "outputs": [],
   "source": [
    "print('online' != 'offline')  # True\n",
    "print('online' != 'online')  # False\n",
    "print('online' != 'ONLINE')  # True\n",
    "\n",
    "print(2 + 1 != 1 + 2)  # False\n",
    "# A expressão acima primeiro resolve as operações matemáticas e depois compara os resultados. Portanto, 3 não é diferente de 3, e a expressão é falsa."
   ]
  },
  {
   "cell_type": "markdown",
   "metadata": {},
   "source": [
    "Também podemos comparar variáveis que armazenam strings entre sí."
   ]
  },
  {
   "cell_type": "code",
   "execution_count": null,
   "metadata": {},
   "outputs": [],
   "source": [
    "fruta_1 = 'Maçã'\n",
    "fruta_2 = 'Laranja'\n",
    "\n",
    "print(fruta_1 == fruta_2)  # False\n",
    "print(fruta_1 != fruta_2)  # True"
   ]
  },
  {
   "cell_type": "markdown",
   "metadata": {},
   "source": [
    "### **`Comparando números - Operadores de comparação`**\n",
    "---\n",
    "\n",
    "Podemos usar comparações para verificar se um número é menor ou maior que outro número.\n",
    "\n",
    "Para isso utilizamos os operadores ``\"<\" (*menor que*)`` e ``\">\" (*maior que*)`` que retornam ``True`` ou ``False``."
   ]
  },
  {
   "cell_type": "code",
   "execution_count": null,
   "metadata": {},
   "outputs": [],
   "source": [
    "# Pergunta: x é MENOR que y?\n",
    "\n",
    "# Se o número da esquerda for menor que o da direita, o resultado será True.\n",
    "print(1 < 10) # 1 é menor que 10, portanto a expressão é verdadeira.  \n",
    "\n",
    "# Se o número da esquerda não for menor que o da direita, o resultado será False.\n",
    "print(10 < 1) # 10 não é menor que 1, portanto a expressão é falsa."
   ]
  },
  {
   "cell_type": "code",
   "execution_count": null,
   "metadata": {},
   "outputs": [],
   "source": [
    "# Pergunta: x é MAIOR que y?\n",
    "\n",
    "# Se o número da esquerda não for maior que o da direita, o resultado será False.\n",
    "print(1 > 10) # 1 não é maior que 10, portanto a expressão é falsa.\n",
    "\n",
    "# Se o número da esquerda for maior que o da direita, o resultado será True.  \n",
    "print(10 > 1) # 10 é maior que 1, portanto a expressão é verdadeira.  "
   ]
  },
  {
   "cell_type": "code",
   "execution_count": null,
   "metadata": {},
   "outputs": [],
   "source": [
    "# Vejamos um exemplo prático do uso do operador de comparação maior que:\n",
    "\n",
    "# Vamos verificar se o salário de um funcionário é maior que R$ 1.250,00. Se for, ele receberá um aumento de 10%. Caso contrário, ele receberá um aumento de 15%.\n",
    "\n",
    "# Primeiro, pedimos ao usuário que insira seu salário:\n",
    "n = float(input('Digite aqui o seu salário: '))\n",
    "\n",
    "# Depois, criamos uma estrutura condicional para verificar se o salário é maior que R$ 1.250,00:\n",
    "\n",
    "# A condição é a comparação do salário digitado pelo usuário que armazenamos na variável n com 1.250,00. Aqui precisamos representar o valor 1.250,00 como 1250.00, pois o Python não aceita o ponto de milhar, mas aceita o ponto decimal. Portanto, o valor 1.250,00 é representado como 1250.00 - ou poderíamos ignorar o valor decimal que reperesenta os centavos e representar o valor como 1250 (ou 1250. se quisermos um float).\n",
    "\n",
    "if n <= 1250.00:\n",
    "    \n",
    "    # Se n for menor ou igual a 1250.00, o usuário receberá um aumento de 15% e nosso bloco de código relacionado a condição será if será executado\n",
    "    print(f'O seu novo salário é de R$ {(n*1.15):.2f}')\n",
    "    \n",
    "    # Caso contrário, o usuário receberá um aumento de 10% e nosso bloco de código relacionado a condição else será executado\n",
    "else:\n",
    "    print(f'O seu novo salário é de R$ {(n*1.1):.2f}')\n",
    "    \n",
    "# Observação: Nosso código não possui tratamento de erro. Se o usuário inserir um valor que não seja um número, o código irá gerar um erro."
   ]
  },
  {
   "cell_type": "markdown",
   "metadata": {},
   "source": [
    "Note essa situação:\n",
    "\n",
    "Sabemos comparar números com valores diferentes, se um será maior ou menor que o outro.\n",
    "\n",
    "Caso os números sejam iguais retornará False em todos os casos!"
   ]
  },
  {
   "cell_type": "code",
   "execution_count": null,
   "metadata": {},
   "outputs": [],
   "source": [
    "print(1 > 1) # False\n",
    "print(1 < 1) # False\n",
    "\n",
    "# Como ressolvemos isso?"
   ]
  },
  {
   "cell_type": "markdown",
   "metadata": {},
   "source": [
    "### **`Verificando a igualdade`**\n",
    "---\n",
    "\n",
    "Para verificar se um número é maior ou igual ou se é menor ou igual a outro, usamos os operadores (``<=``) ou (``>=``)\n",
    "\n",
    "Agora verificamos duas possibilidades, se o número é maior ou igual ou se é menor ou igual a outro."
   ]
  },
  {
   "cell_type": "code",
   "execution_count": null,
   "metadata": {},
   "outputs": [],
   "source": [
    "print(1 >= 1) # True\n",
    "print(1 <= 1) # True"
   ]
  },
  {
   "cell_type": "markdown",
   "metadata": {},
   "source": [
    "Assim como podemos comparar variáveis umas com as outras.\n",
    "\n",
    "Podemos armazenar o resultado das comparações em variáveis."
   ]
  },
  {
   "cell_type": "code",
   "execution_count": null,
   "metadata": {},
   "outputs": [],
   "source": [
    "# Altere o valor das variáveis para ver como o resultado muda.\n",
    "primeiro_valor = 12\n",
    "segundo_valor = 12\n",
    "\n",
    "# Aqui comparamos se o primeiro valor é maior que o segundo valor. O resultado é um valor booleano (True ou False).\n",
    "resultado = primeiro_valor <= segundo_valor\n",
    "\n",
    "print(resultado) # Exibimos o resultado da comparação\n",
    "\n",
    "# O resultado de uma comparação é sempre um valor booleano, ou seja, True ou False.\n",
    "\n",
    "# Salvar o resultado de uma comparação em uma variável nos premite usá-lo posteriormente.\n",
    "\n",
    "if resultado:\n",
    "    print(f'O resultao é True')\n",
    "else:\n",
    "    print(f'O resultado é False')"
   ]
  },
  {
   "cell_type": "markdown",
   "metadata": {},
   "source": [
    "## **`Operadores Lógicos`**\n",
    "---\n",
    "Os operadores lógicos são utilizados para realizar operações de lógica booleana em Python. Eles permitem combinar expressões booleanas e tomar decisões com base nessas combinações. Os principais operadores lógicos em Python são:\n",
    "\n",
    "- `and`: Retorna True se ambas as expressões forem True.\n",
    "- `or`: Retorna True se pelo menos uma das expressões for True.\n",
    "- `not`: Retorna True se a expressão for False e vice-versa.\n",
    "\n",
    "Esses operadores são essenciais para construir condições complexas em Python, permitindo que você controle o fluxo do seu programa com base em diferentes cenários lógicos. Vamos ver como eles funcionam em alguns exemplos práticos."
   ]
  },
  {
   "cell_type": "markdown",
   "metadata": {},
   "source": [
    "## `Conjunção (AND)`\n",
    "---\n",
    "Em Python, `and` é um operador de conjunção lógica usado para combinar duas expressões booleanas. Ele retorna True se ambas as expressões forem verdadeiras e False caso contrário.\n",
    "\n",
    "A prioridade do operador and é menor que a dos operadores de comparação, o que significa que as expressões que envolvem and serão avaliadas depois de quaisquer expressões que envolvam operadores de comparação.\n",
    "\n",
    "Ela nos permite codificar condições complexas.\n",
    "\n",
    "Vejamos como os programas atuam em decisões complexas. Sabemos como executar ou pular código como base em uma condição. Mas e se quiséssemos verificar duas ou mais condições?\n",
    "\n",
    "O operador and nos permite executar código somente se ambas as condições forem True. Ele ignora o bloco de código se uma ou mais condições forem False.\n",
    "\n",
    "O resultado fornecido pelo operador and pode ser determinado com base na tabela verdade.\n",
    "\n",
    "`TRUE + TRUE = TRUE`\n",
    "\n",
    "`TRUE + FALSE = FALSE`\n",
    "\n",
    "`FALSE + TRUE = FALSE`\n",
    "\n",
    "`FALSE + FALSE = FALSE`"
   ]
  },
  {
   "cell_type": "code",
   "execution_count": null,
   "metadata": {},
   "outputs": [],
   "source": [
    "# Para facilitar a compreensão, vamos analisar a seguinte expressão:\n",
    "# \"Se tivermos tempo livre, e se o tempo estiver bom, vamos dar uma volta.\"\n",
    "\n",
    "# Em nossa expressão, temos duas condições. Vamos atribuir valores booleanos a essas condições. True significa que a condição é verdadeira, e False significa que a condição é falsa.\n",
    "tempo_livre = True\n",
    "tempo_bom = True\n",
    "\n",
    "# Usamos a conjunção and, o que significa que sair para passear depende do cumprimento simultâneo dessas duas condições. \n",
    "# - Precisamos ter tempo livre e o tempo precisa estar bom. \n",
    "# Se uma ou ambas as condições não forem atendidas, não sairemos para passear.\n",
    "sair_para_passear = tempo_livre and tempo_bom\n",
    "\n",
    "# Se ambas as condições forem verdadeiras, a expressão será verdadeira e sairemos para passear.\n",
    "conjuncao = sair_para_passear\n",
    "\n",
    "if conjuncao:\n",
    "    print('Vou sair para passear!') # Se ambos os valores forem True, a expressão será True.\n",
    "else:\n",
    "    print('Vou ficar em casa.') # Se um dos valores for False, a expressão será False.\n",
    "    \n",
    "\n",
    "# Observação: Armazenamos o resultado da expressão em uma variável mas isso não é realmente necessário. Podemos usar a expressão diretamente no bloco if."
   ]
  },
  {
   "cell_type": "markdown",
   "metadata": {},
   "source": [
    "## `Disjunção (OR)`\n",
    "---\n",
    "Em Python, `or` é um operador de disjunção lógica usado para combinar duas expressões booleanas. Ele retorna `True` se pelo menos uma das expressões for verdadeira e `False` apenas se ambas as expressões forem falsas.\n",
    "\n",
    "Assim como o `and`, a prioridade do operador `or` é **menor que a dos operadores de comparação**. Porém também é menor que `and`.\n",
    "\n",
    "Isso significa que, ao avaliar uma expressão composta, Python primeiro resolve as comparações, depois as operações com `not`, em seguida `and`, e por fim o `or`.\n",
    "\n",
    "Para executar o código quando **uma das condições for `True`**, usamos o operador `or` (ou). Com ele, o código só será ignorado se **todas** as condições forem `False`.\n",
    "\n",
    "`TRUE + TRUE = TRUE`\n",
    "\n",
    "`TRUE + FALSE = TRUE`\n",
    "\n",
    "`FALSE + TRUE = TRUE`\n",
    "\n",
    "`FALSE + FALSE = FALSE`"
   ]
  },
  {
   "cell_type": "code",
   "execution_count": null,
   "metadata": {},
   "outputs": [],
   "source": [
    "# Vamos usar novamente uma frase para ilustrar a conjunção or:\n",
    "\n",
    "# \"Se eu for ao supermercado ou à feira, vou comprar frutas.\"\n",
    "\n",
    "supermercado = True\n",
    "feira = False\n",
    "\n",
    "# A conjunção or significa que compraremos frutas se formos ao supermercado ou à feira ou a ambos. Fica impliícito que se não formos a nenhum dos dois lugares, não compraremos frutas.\n",
    "\n",
    "if supermercado or feira:\n",
    "    print('Vou comprar frutas.') # Se um dos valores for True, a expressão será True.\n",
    "else:\n",
    "    print('Só passei na farmácia.') # Se ambos os valores forem False, a expressão será False."
   ]
  },
  {
   "cell_type": "markdown",
   "metadata": {},
   "source": [
    "## Operador de negação `not`\n",
    "---\n",
    "O operador `not` é um operador lógico em Python que realiza a negação de uma expressão booleana. Ele inverte o valor da expressão, ou seja, se a expressão for True, o operador `not` a tornará False, e vice-versa.\n",
    "\n",
    "Aqui está como o operador `not` funciona:\n",
    "\n",
    "- Se a expressão é True, `not` a torna False.\n",
    "- Se a expressão é False, `not` a torna True.\n",
    "\n",
    "Podemos usá-lo para negar uma única expressão booleana ou como parte de expressões lógicas mais complexas para criar condições. Por exemplo, podemos usar `not` para verificar se algo não é verdadeiro.\n",
    "\n",
    "Vejamos um exemplo simples:\n",
    "\n",
    "```python\n",
    "x = 5\n",
    "print(not x > 10)  # Isso imprimirá True, pois a expressão x > 10 é False, e not inverte isso para True\n",
    "```\n",
    "\n",
    "O operador `not` é útil quando precisamos verificar se uma condição não é atendida em uma instrução condicional. Ele complementa o operador `and`, `or` e outras operações lógicas, permitindo-nos criar lógicas mais sofisticadas em nossos programas."
   ]
  },
  {
   "cell_type": "markdown",
   "metadata": {},
   "source": [
    "\n",
    "Aqui está a ordem de precedência dos operadores lógicos em Python, da maior para a menor prioridade:\n",
    "\n",
    "`not: Operador de negação lógica.`\n",
    "\n",
    "`and: Operador de conjunção lógica.`\n",
    "\n",
    "`or: Operador de disjunção lógica.`\n",
    "\n",
    "Isso significa que o operador not tem a maior prioridade, seguido pelo and e depois pelo or. Quando você tem expressões lógicas misturadas em uma mesma linha de código, o Python avaliará primeiro as expressões dentro de parênteses, seguido da negação (not), em seguida a conjunção (and) e, por último, a disjunção (or), se necessário."
   ]
  },
  {
   "cell_type": "code",
   "execution_count": null,
   "metadata": {},
   "outputs": [],
   "source": [
    "# Exemplo prático: Dada a expressão...\n",
    "resultado = not 5 > 3 and 10 < 5 or 7 == 7\n",
    "# Primeiro, a negação é aplicada ao valor 5 > 3, que é True.\n",
    "# resultado = True and 10 < 5 or 7 == 7\n",
    "\n",
    "# Em seguida, a conjunção and é aplicada a False e 10 < 5, que é False, já que 10 não é menor que 5\n",
    "# resultado = False and False or 7 == 7\n",
    "# resultado = False or 7 == 7\n",
    "\n",
    "# Por fim, a disjunção or é aplicada a False e 7 == 7, que é True.\n",
    "# resultado = True\n",
    "\n",
    "print(resultado) # Saída: True\n",
    "\n",
    "# resultado: False and False or True"
   ]
  },
  {
   "cell_type": "code",
   "execution_count": null,
   "metadata": {},
   "outputs": [],
   "source": [
    "# Pela ordem de precedência dos operadores, a conjunção and é avaliada antes da disjunção or. Portanto, a expressão é avaliada da seguinte maneira:\n",
    "\n",
    "# False and False → False\n",
    "\n",
    "# Agora temos:\n",
    "# False or True → True pois um dos valores é True\n",
    "\n",
    "# Aqui vamos inverter a ordem dos operadores para ver como isso afeta o resultado.\n",
    "resultado = not 5 > 3 or 7 == 7 and 10 < 5\n",
    "\n",
    "# Primeiro, a negação é aplicada ao valor 5 > 3, que é True e se torna False.\n",
    "# resultado = False or 7 == 7 and 10 < 5\n",
    "\n",
    "# Em seguida, a conjunção and é aplicada a 7 == 7, que é True, e 10 < 5, que é False.\n",
    "# resultado = False or True and False\n",
    "# resultado = False or False\n",
    "\n",
    "# Por fim, a disjunção or é aplicada a False e False.\n",
    "# resultado = False\n",
    "\n",
    "print(resultado) # Saída: False"
   ]
  },
  {
   "cell_type": "markdown",
   "metadata": {},
   "source": [
    "# Operadores `in`, `is` e `is not` em Python\n",
    "\n",
    "## O operador `in`\n",
    "O operador `in` é usado para verificar se um valor está presente em uma sequência, como uma ``**lista, tupla, string ou conjunto**``.\n",
    "\n",
    "A expressão retorna `True` se o valor estiver presente na sequência, e `False` caso contrário. \n",
    "\n",
    "**Exemplo:**"
   ]
  },
  {
   "cell_type": "code",
   "execution_count": null,
   "metadata": {},
   "outputs": [],
   "source": [
    "# Dada a lista de frutas:\n",
    "frutas = ['maçã', 'banana', 'laranja']\n",
    "\n",
    "# Verificamos se 'banana' e 'uva' estão na lista de frutas usando o operador in.\n",
    "print('banana' in frutas)  # Saída: True\n",
    "print('uva' in frutas)     # Saída: False\n",
    "\n",
    "# Vimos que banana está na lista de frutas, mas uva não está."
   ]
  },
  {
   "cell_type": "markdown",
   "metadata": {},
   "source": [
    " Importante: O operador `in` é **case-sensitive**, ou seja, distingue letras maiúsculas de minúsculas.\n",
    "\n",
    "**Exemplo:**"
   ]
  },
  {
   "cell_type": "code",
   "execution_count": null,
   "metadata": {},
   "outputs": [],
   "source": [
    "palavra = 'Python'\n",
    "\n",
    "# Buscando o caractere 'P' na string 'Python'\n",
    "print('P' in palavra)  # Saída: True\n",
    "\n",
    "# Buscando o caractere 'p' na string 'Python'\n",
    "print('p' in palavra)  # Saída: False"
   ]
  },
  {
   "cell_type": "markdown",
   "metadata": {},
   "source": [
    "## Operadores `is` e `is not`\n",
    "Os operadores `is` e `is not` verificam se duas variáveis **referem-se ao mesmo objeto** na memória. Eles **não comparam valores**, mas sim identidades (ou seja, se duas variáveis apontam para o mesmo local na memória).\n",
    "\n",
    "**Exemplo:**"
   ]
  },
  {
   "cell_type": "code",
   "execution_count": null,
   "metadata": {},
   "outputs": [],
   "source": [
    "# O operador `is` é usado para verificar se duas variáveis apontam para o mesmo objeto na memória. Isso é diferente do operador `==`, que verifica se os valores das variáveis são iguais.\n",
    "\n",
    "# Criamos nossa lista e armazenamos na variável `a`\n",
    "a = [1, 2, 3]\n",
    "\n",
    "# Ao atribuir a variável `b` o valor da variável `a`, estamos criando uma nova referência para o mesmo objeto na memória. Portanto, `a` e `b` apontam para o mesmo objeto.\n",
    "b = a\n",
    "\n",
    "# Agora criamos uma nova lista e armazenamos na variável `c`. Ela possui os mesmos valores que `a`, mas é um objeto diferente na memória pois não foi criada a partir de `a` nem `b`.\n",
    "c = [1, 2, 3]\n",
    "\n",
    "# Confirmamos esse comportamento usando o operador `is`.\n",
    "print(a is b)  # Saída: True (mesmo objeto)\n",
    "print(a is c)  # Saída: False (objetos diferentes)"
   ]
  },
  {
   "cell_type": "markdown",
   "metadata": {},
   "source": [
    "### Comportamento especial de `is` para pequenos valores\n",
    "Python faz otimizações internas para números inteiros de até 256 e strings imutáveis curtas. Nesses casos, o Python reaproveita o mesmo local na memória para esses valores.\n",
    "\n",
    "**Exemplos:**"
   ]
  },
  {
   "cell_type": "code",
   "execution_count": null,
   "metadata": {},
   "outputs": [],
   "source": [
    "# Anteriormente vimos que ao criar a lista `a` e atribuí-la à variável `b`, ambas as variáveis apontam para o mesmo objeto na memória. Contudo, ao atribuir `c` os mesmos valores de `a`, `c` se torna um novo objeto na memória, mesmo que tenha os mesmos valores.\n",
    "\n",
    "# Devido a otimizações de memória, em alguns casos o Python pode compartilhar objetos imutáveis, como números e strings, entre variáveis. Isso significa que duas variáveis podem apontar para o mesmo objeto na memória, mesmo que não seja uma referência direta.\n",
    "\n",
    "# Números inteiros até 256 - São armazenados na memória como objetos imutáveis. Portanto, o Python reutiliza esses objetos para economizar memória.\n",
    "a = 256\n",
    "b = 256\n",
    "c = a\n",
    "d = b\n",
    "print(a is b)  # Saída: True\n",
    "print(c is d)  # Saída: True\n",
    "print(a is c)  # Saída: True"
   ]
  },
  {
   "cell_type": "code",
   "execution_count": null,
   "metadata": {},
   "outputs": [],
   "source": [
    "# Note que para números maiores que 256, o Python não reutiliza os objetos. Portanto, mesmo que os valores sejam iguais, eles são armazenados em locais diferentes na memória.\n",
    "\n",
    "# Números maiores que 256\n",
    "a = 257\n",
    "b = 257\n",
    "print(a is b)  # Saída: False"
   ]
  },
  {
   "cell_type": "code",
   "execution_count": null,
   "metadata": {},
   "outputs": [],
   "source": [
    "# Esse comportamento se aplica a strings curtas, que são armazenadas na memória como objetos imutáveis. O Python reutiliza esses objetos para economizar memória. Portanto, duas variáveis podem apontar para o mesmo objeto na memória, mesmo que não sejam referências diretas.\n",
    "\n",
    "# Strings curtas\n",
    "a = \"Python\"\n",
    "b = \"Python\"\n",
    "print(a is b)  # Saída: True\n",
    "\n",
    "# Strings com diferença de case ou comprimento\n",
    "a = \"Python!\"\n",
    "b = \"python!\"\n",
    "print(a is b)  # Saída: False"
   ]
  },
  {
   "cell_type": "markdown",
   "metadata": {},
   "source": [
    "### Verificando a identidade dos objetos\n",
    "O comando `id()` retorna o endereço de memória de um objeto, mostrando claramente se dois objetos ocupam o mesmo espaço na memória.\n",
    "\n",
    " **Exemplo:**"
   ]
  },
  {
   "cell_type": "code",
   "execution_count": null,
   "metadata": {},
   "outputs": [],
   "source": [
    "a = \"Python!\"\n",
    "b = a\n",
    "\n",
    "print(id(a))  # Exibe o endereço de memória de 'a'\n",
    "print(id(b))  # Exibe o endereço de memória de 'b'"
   ]
  },
  {
   "cell_type": "code",
   "execution_count": null,
   "metadata": {},
   "outputs": [],
   "source": [
    "a = \"Python!\"\n",
    "b = \"python!\"\n",
    "\n",
    "print(id(a))  # Exibe o endereço de memória de 'a'\n",
    "print(id(b))  # Exibe o endereço de memória de 'b'\n",
    "\n",
    "# Esse comportamento ilustra o uso de `is` para verificar a **identidade** dos objetos e não apenas seus valores."
   ]
  },
  {
   "cell_type": "markdown",
   "metadata": {},
   "source": [
    "## **`Bases numéricas`**\n",
    "---\n",
    "### `Octais`\n",
    "Números octais são representações numéricas que utilizam a base 8. No Python, podemos representar números octais prefixando o valor com `0o` ou `0O` (zero-o).\n",
    "\n",
    "Por exemplo, se um inteiro for precedido por `0o` ou `0O`, como em `0o123`, ele será interpretado como um número octal. Isso significa que os dígitos permitidos são apenas aqueles do intervalo de 0 a 7.\n",
    "\n",
    "O número `0o123` é um exemplo de número octal, onde o valor decimal correspondente é ``83``. Quando utilizamos a função `print()`, o Python realiza a conversão automaticamente, exibindo o valor decimal associado.\n",
    "\n",
    "Essa capacidade de representar números octais é útil em várias situações, especialmente em contextos onde a manipulação de bits e operações binárias são comuns, como em programação de baixo nível e em aplicações que envolvem hardware.\n",
    "\n",
    "Vejamos um exemplo de uso de números octais em Python:\n",
    "\n",
    "```python\n",
    "# Representando um número octal\n",
    "numero_octal = 0o123\n",
    "\n",
    "# Exibindo o valor decimal correspondente\n",
    "print(numero_octal)  # Saída: 83\n",
    "```\n",
    "\n",
    "Dessa forma, podemos utilizar números octais em nossos programas Python quando necessário, aproveitando suas propriedades e aplicações específicas."
   ]
  },
  {
   "cell_type": "code",
   "execution_count": null,
   "metadata": {},
   "outputs": [
    {
     "name": "stdout",
     "output_type": "stream",
     "text": [
      "83\n",
      "83\n",
      "83\n"
     ]
    }
   ],
   "source": [
    "# Primeiro vamos entender como funciona a base 8 (octal).\n",
    "\n",
    "# A base 8 (octal) é um sistema numérico que usa 8 dígitos: 0, 1, 2, 3, 4, 5, 6 e 7. O sistema octal é usado em programação para representar valores binários de uma maneira mais compacta.\n",
    "\n",
    "# Para representar um número octal em Python, você deve adicionar um zero à esquerda do número. Por exemplo, 0o123 é um número octal.\n",
    "\n",
    "# Vamos ver um exemplo:\n",
    "numero_octal = 0o123  # Este número é interpretado como octal, não decimal. Portanto não é 123, mas 83.\n",
    "print(numero_octal) # 83\n",
    "print(0o123)  # 83\n",
    "\n",
    "# Saída: 83 (pois 1*8^2 + 2*8^1 + 3*8^0 = 83)\n",
    "#                 1* 64 + 2* 8  + 3* 1  = 83\n",
    "#                    64 +    16 + 3 = 83\n",
    "\n",
    "# Podemos converter um número octal em decimal usando a função int() e especificando a base 8 como segundo argumento.\n",
    "print(int('123', 8))  # 8 é a base do número octal (0123)\n",
    "\n",
    "# Se utilizarmos valores fora do intervalo de 0 a 7 em um número octal, o Python retornará um erro.\n",
    "# print(0o18)  # Erro: invalid digit '8' in octal literal"
   ]
  },
  {
   "cell_type": "markdown",
   "metadata": {},
   "source": [
    "## `Hexadecimais`\n",
    "---\n",
    "Hexadecimais são números que utilizam a ``base 16``. No Python, podemos representar números hexadecimais prefixando o valor com `0x` ou `0X` (zero-x).\n",
    "\n",
    "Por exemplo, se um número for precedido por `0x` ou `0X`, como em `0x123`, ele será interpretado como um número hexadecimal. Isso significa que os dígitos permitidos são de 0 a 9, além das letras de A a F (ou a, b, c, d, e, f), que representam os valores de 10 a 15, respectivamente.\n",
    "\n",
    "O número `0x123` é um exemplo de número hexadecimal, onde o valor decimal correspondente é 291. Assim como com números octais, a função `print()` também pode lidar com números hexadecimais e realizar a conversão automaticamente."
   ]
  },
  {
   "cell_type": "code",
   "execution_count": 8,
   "metadata": {},
   "outputs": [
    {
     "name": "stdout",
     "output_type": "stream",
     "text": [
      "291\n",
      "291\n"
     ]
    }
   ],
   "source": [
    "# Como antes, primeiro vamos entender como se forma um número hexadecimal.\n",
    "\n",
    "# A base 16 (hexadecimal) é um sistema numérico que usa 16 dígitos: 0, 1, 2, 3, 4, 5, 6, 7, 8, 9, A, B, C, D, E e F. O sistema hexadecimal é usado em programação para representar valores binários de uma maneira mais compacta.\n",
    "\n",
    "# Para representar um número hexadecimal em Python, você deve adicionar 0x à esquerda do número. Por exemplo, 0x123 é um número hexadecimal.\n",
    "\n",
    "# Vamos ver um exemplo:\n",
    "numero_hexadecimal = 0x123\n",
    "print(numero_hexadecimal)\n",
    "# Saída: 291 (pois 1*16^2 + 2*16^1 + 3*16^0 = 291)\n",
    "#                  1* 256 + 2* 16  + 3* 1   = 291\n",
    "\n",
    "# Podemos converter um número hexadecimal em decimal usando a função int() e especificando a base do número hexadecimal (16) como segundo argumento:\n",
    "print(int('123', 16))  # 16 é a base do número hexadecimal (0x123)\n",
    "\n",
    "# Para ficar claro, as letras representam o fator multiplicador de cada dígito. Por exemplo, A = 10, B = 11, C = 12, D = 13, E = 14 e F = 15.\n",
    "\n",
    "# Então AAA em hexadecimal é o mesmo que 10*16^2 + 10*16^1 + 10*16^0 = 2560 + 160 + 10 = 2730 em decimal.\n",
    "\n",
    "# No contexto de cores, o hexadecimal é frequentemente usado para representar cores em formato RGB (Red, Green, Blue). Cada par de dígitos representa a intensidade de uma cor primária. Por exemplo, o código hexadecimal #FF5733 representa uma cor laranja.\n",
    "# O primeiro par (FF) representa a intensidade do vermelho, o segundo par (57) representa a intensidade do verde e o terceiro par (33) representa a intensidade do azul. Os valores variam de 00 (nenhuma intensidade) a FF (intensidade máxima).\n",
    "\n",
    "# Assim FF é 15*16^1 + 15*16^0 = 255 em decimal.\n",
    "#              240 + 15 = 255\n",
    "\n",
    "# 57 é 5*16^1 + 7*16^0 = 80 + 7 = 87 em decimal.\n",
    "#              80 + 7 = 87\n",
    "\n",
    "# 33 é 3*16^1 + 3*16^0 = 48 + 3 = 51 em decimal.\n",
    "#              48 + 3 = 51"
   ]
  },
  {
   "cell_type": "markdown",
   "metadata": {},
   "source": [
    "Assim utilizaremos a função ``format()`` para converter um número decimal em octal ou hexadecimal.\n",
    "\n",
    "Basta especificar a base como segundo argumento da função format(). 'o' para octal e 'x' para hexadecimal."
   ]
  },
  {
   "cell_type": "code",
   "execution_count": 9,
   "metadata": {},
   "outputs": [
    {
     "name": "stdout",
     "output_type": "stream",
     "text": [
      "123\n",
      "83\n",
      "53\n",
      "83\n",
      "1010011\n",
      "83\n",
      "0b1010011\n",
      "0o123\n",
      "0x53\n",
      "1010011\n",
      "123\n",
      "1010011\n",
      "123\n",
      "53\n",
      "83\n",
      "83\n",
      "83\n"
     ]
    }
   ],
   "source": [
    "# Vejamos a conversão de uma base para outra:\n",
    "\n",
    "# Decimal para octal e vice-versa\n",
    "print(format(83, 'o')) # octal\n",
    "print(int('123', 8)) # 83\n",
    "\n",
    "# Decimal para hexadecimal e vice-versa\n",
    "print(format(83, 'x')) # hexadecimal\n",
    "print(int('53', 16)) # 291\n",
    "\n",
    "# Decimal para binário e vice-versa\n",
    "print(format(83, 'b')) # binário\n",
    "print(int('1010011', 2)) # 83\n",
    "\n",
    "# Formas de converter os valores:\n",
    "numero = 83\n",
    "\n",
    "# Usando funções built-in específicas para essa finalidade:\n",
    "print(bin(numero))  # 0b1010011\n",
    "print(oct(numero))  # 0o123\n",
    "print(hex(numero))  # 0x53\n",
    "\n",
    "# Com notação de dois pontos em uma string formatada:\n",
    "print(f'{numero:b}')  # 1010011\n",
    "print(f'{numero:o}')  # para inteiro usamos :d\n",
    "\n",
    "numero = 83\n",
    "# Usando a função format(numero, 'base'):\n",
    "print(format(numero, 'b'))  # 1010011\n",
    "print(format(numero, 'o'))  # 123\n",
    "print(format(numero, 'x'))  # 53\n",
    "\n",
    "# Com a função int(string, base):\n",
    "print(int('1010011', 2))  # 83\n",
    "print(int('123', 8))  # 83\n",
    "print(int('53', 16))  # 83"
   ]
  },
  {
   "cell_type": "markdown",
   "metadata": {},
   "source": [
    "## `Binários`\n",
    "---\n",
    "Números binários são fundamentais para a computação moderna, pois são a base para representar todos os tipos de dados dentro de um computador. No sistema binário, os números são representados utilizando apenas dois dígitos: 0 e 1. Esses dígitos podem ser interpretados como \"desligado\" e \"ligado\", respectivamente.\n",
    "\n",
    "Os computadores funcionam com eletricidade, que pode estar em dois estados: ligada ou desligada. Portanto, o sistema binário é uma escolha natural para representar dados, pois corresponde diretamente aos estados físicos dos componentes eletrônicos dentro de um computador.\n",
    "\n",
    "Para indicar que um número está sendo representado no sistema binário, é comum usar um prefixo `0b`. Isso diferencia os números binários de outros sistemas numéricos, como decimal, octal ou hexadecimal.\n",
    "\n",
    "Por exemplo, o número binário `0b1010` pode ser lido como \"um-zero-um-zero\" em binário e representa o valor decimal 10.\n",
    "\n",
    "Aqui está um exemplo de como podemos usar números binários em Python:\n",
    "\n",
    "```python\n",
    "# Representando um número binário\n",
    "numero_binario = 0b1010\n",
    "\n",
    "# Exibindo o valor decimal correspondente\n",
    "print(numero_binario)  # Saída: 10\n",
    "```"
   ]
  },
  {
   "cell_type": "code",
   "execution_count": null,
   "metadata": {},
   "outputs": [],
   "source": [
    "# Vamos tentar ilustrar a representação binária de um número decimal.\n",
    "\n",
    "# Pegamos como exemplo o número binário 1010011.\n",
    "print(0b1010011)\n",
    "\n",
    "# A combinacão de 1s e 0s representa uma potência de 2. Cada dígito binário é chamado de bit.\n",
    "\n",
    "#     1       0       1       0       0       1       1\n",
    "#    ON +   OFF +    ON +   OFF +   OFF +    ON +    ON\n",
    "\n",
    "# Se o bit estiver ligado, o valor é 1. Se estiver desligado, o valor é 0. Podemos afirmar que estes valores são booleanos, pois só podem ser True (1) ou False (0).\n",
    "\n",
    "# Da direita para a esquerda, os valores dos bit são dados por potencias de 2. Sendo assim, o valor do número binário 1010011 é:\n",
    "\n",
    "# 1*2^6 + 0*2^5 + 1*2^4 + 0*2^3 + 0*2^2 + 1*2^1 + 1*2^0 = 83\n",
    "# 1* 64 + 0* 32 + 1* 16 + 0* 8  + 0* 4  + 1* 2  + 1* 1  = 83\n",
    "\n",
    "# Após chegarmos aos valores das potências de 2, somamos todos os valores para obter o valor decimal do número binário.\n",
    "\n",
    "#    64 +     0 +    16 +    0  +    0  +    2  +    1  = 83"
   ]
  },
  {
   "cell_type": "markdown",
   "metadata": {},
   "source": [
    "### **`ASCII`**\n",
    "---\n",
    "\n",
    "Cada caractere é representado por um número inteiro, e vice-versa. O Python usa o código ASCII para isso. Você pode ver a tabela ASCII aqui: https://pt.wikipedia.org/wiki/ASCII\n",
    "\n",
    "Por exemplo, o caractere 'A' é representado pelo número 65 (01000001 em binário), 'B' pelo 66, etc.\n",
    "\n",
    "O Python tem uma função chamada ord() que retorna o código ASCII de um caractere:"
   ]
  },
  {
   "cell_type": "code",
   "execution_count": null,
   "metadata": {},
   "outputs": [],
   "source": [
    "ord('T') # retorna o valor Unicode do caractere 'T' que é 84"
   ]
  },
  {
   "cell_type": "markdown",
   "metadata": {},
   "source": [
    "\n",
    "O contrário também é possível. Podemos converter um número para seu equivalente em caractere usando a função chr():"
   ]
  },
  {
   "cell_type": "code",
   "execution_count": null,
   "metadata": {},
   "outputs": [],
   "source": [
    "chr(84) # retorna o caractere correspondente ao valor Unicode 84 que é 'T'\n",
    "\n",
    "# Tabela de números e letras em ASCII\n",
    "\n",
    "# 48-57: 0-9\n",
    "# 65-90: A-Z\n",
    "# 97-122: a-z"
   ]
  },
  {
   "cell_type": "markdown",
   "metadata": {},
   "source": [
    "Ou exibir seu correspondente binário com a função bin():\n",
    "\n",
    "bin() é uma função embutida que converte um número inteiro em sua representação binária. O resultado é uma string prefixada com 0b. \n",
    "\n",
    "Para remover o prefixo, você pode usar a função format() para converter o número em uma string e especificar o formato binário:"
   ]
  },
  {
   "cell_type": "code",
   "execution_count": null,
   "metadata": {},
   "outputs": [],
   "source": [
    "print(bin(84)) # retorna a representação binária do número 84 que é 1010100\n",
    "\n",
    "print(format(84, 'b')) # retorna a representação binária do número sem o prefixo 0b"
   ]
  },
  {
   "cell_type": "markdown",
   "metadata": {},
   "source": [
    "## A Ordem de Precedência dos Operadores em Python: Uma Análise Detalhada para Desenvolvedores\n",
    "\n",
    "No domínio da programação Python, a ordem de precedência dos operadores é um conceito fundamental que rege a avaliação de expressões matemáticas, lógicas e de comparação. Compreender essa ordem com clareza é crucial para a construção de um código Python preciso, consistente e livre de ambiguidades.\n",
    "\n",
    "**1. Hierarquia dos Operadores de Comparação:**\n",
    "\n",
    "Os operadores de comparação, utilizados para determinar a relação entre valores, possuem uma ordem de precedência específica, conforme apresentado a seguir, do maior para o menor nível de precedência:\n",
    "\n",
    "* `>` (Maior que)\n",
    "* `<` (Menor que)\n",
    "* `>=` (Maior ou igual a)\n",
    "* `<=` (Menor ou igual a)\n",
    "* `==` (Igual a)\n",
    "* `!=` (Diferente de)\n",
    "\n",
    "É importante salientar que a avaliação dos operadores de comparação em Python é estritamente **da esquerda para a direita**. Isso significa que, em uma expressão com múltiplos operadores de comparação, a avaliação segue a ordem linear do primeiro operador à esquerda para o último à direita.\n",
    "\n",
    "**2. Exemplificando a Precedência Através de Casos Práticos:**\n",
    "\n",
    "Para solidificar a compreensão da ordem de precedência, vamos analisar alguns exemplos práticos:"
   ]
  },
  {
   "cell_type": "code",
   "execution_count": null,
   "metadata": {},
   "outputs": [],
   "source": [
    "x = 5\n",
    "y = 10\n",
    "z = 15\n",
    "\n",
    "resultado = x < y < z\n",
    "print(resultado)  # Resultado: True"
   ]
  },
  {
   "cell_type": "markdown",
   "metadata": {},
   "source": [
    "Nesta demonstração, a expressão `x < y < z` envolve três operadores de comparação. No entanto, apenas duas operações reais são realizadas:\n",
    "\n",
    "1. **x < y:** Compara se `x` é menor que `y`. Como 5 é menor que 10, o resultado é `True`.\n",
    "2. **True < z:** Substituindo `x < y` por `True`, a comparação se torna `True < z`. Em Python, `True` é interpretado como 1, resultando na comparação `1 < z`. Como 1 é menor que 15, o resultado final permanece `True`."
   ]
  },
  {
   "cell_type": "code",
   "execution_count": null,
   "metadata": {},
   "outputs": [],
   "source": [
    "a = 3\n",
    "b = 3\n",
    "c = 6\n",
    "\n",
    "resultado = a == b != c\n",
    "print(resultado)  # Resultado: True"
   ]
  },
  {
   "cell_type": "markdown",
   "metadata": {},
   "source": [
    "Neste exemplo, a expressão `a == b != c` envolve dois operadores de comparação e um operador lógico. A avaliação segue a ordem de precedência:\n",
    "\n",
    "1. **a == b:** Compara se `a` é igual a `b`. Como ambos são iguais a 3, o resultado é `True`.\n",
    "2. **True != c:** Substituindo `a == b` por `True`, a expressão se torna `True != c`. Novamente, `True` é interpretado como 1, resultando na comparação `1 != c`. Como 1 é diferente de 6, o resultado final é `True`."
   ]
  },
  {
   "cell_type": "markdown",
   "metadata": {},
   "source": [
    "**3. A Ordem de Precedência Completa para Consulta:**  \n",
    "\n",
    "Para consulta futura, é importante apresentar a lista completa da ordem de precedência dos operadores em Python, organizada do maior para o menor nível de precedência:  \n",
    "\n",
    "1. **Parênteses** `()`\n",
    "2. **Exponenciação** `**`\n",
    "3. **Sinal positivo/negativo** `+x`, `-x`\n",
    "4. **Multiplicação, divisão, resto e multiplicação de matrizes** `*`, `/`, `//`, `%`, `@`\n",
    "5. **Adição e subtração** `+`, `-`\n",
    "6. **Operadores de comparação** `<`, `<=`, `>`, `>=`, `==`, `!=`\n",
    "7. **Operadores de identidade** `is`, `is not`\n",
    "8. **Operadores de associação** `in`, `not in`\n",
    "9. **Operadores lógicos** `not`, `and`, `or`  \n",
    "\n",
    "**4. Controle Preciso da Avaliação com Parênteses:**  \n",
    "\n",
    "Embora a ordem de precedência defina a avaliação natural das expressões, os parênteses `()` fornecem ao desenvolvedor o poder de controlar explicitamente a ordem de avaliação. Isso pode ser particularmente útil para melhorar a legibilidade do código e evitar ambiguidades em expressões complexas.  \n",
    "\n",
    "Ao utilizar os parênteses, o desenvolvedor define quais operações devem ser avaliadas primeiro, garantindo clareza e previsibilidade no código."
   ]
  }
 ],
 "metadata": {
  "kernelspec": {
   "display_name": "Python 3",
   "language": "python",
   "name": "python3"
  },
  "language_info": {
   "codemirror_mode": {
    "name": "ipython",
    "version": 3
   },
   "file_extension": ".py",
   "mimetype": "text/x-python",
   "name": "python",
   "nbconvert_exporter": "python",
   "pygments_lexer": "ipython3",
   "version": "3.13.2"
  }
 },
 "nbformat": 4,
 "nbformat_minor": 2
}
