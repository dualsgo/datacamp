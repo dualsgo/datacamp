{
 "cells": [
  {
   "cell_type": "markdown",
   "metadata": {},
   "source": [
    "# Variáveis em Python\n",
    "\n",
    "Variáveis são como \"endereços\" ou \"etiquetas\" que usamos para acessar locais na memória do computador onde valores estão armazenados. Assim como uma etiqueta em um arquivo nos diz onde encontrar um documento, uma variável nos dá uma maneira de acessar um valor específico armazenado em determinado local da memória. Além disso, o valor associado à variável pode mudar ao longo do tempo, o que reflete o comportamento dinâmico das variáveis no código.\n",
    "\n",
    "A criação de uma variável envolve três componentes principais:\n",
    "\n",
    "- Um **nome**: Este é o identificador que você escolhe para representar a variável. Como uma etiqueta que nomeia algo em um arquivo ou sistema, esse nome nos permite acessar o valor guardado na memória.\n",
    "\n",
    "- Um **operador de atribuição (`=`)**: Em Python, o operador `=` é usado para atribuir um valor à variável, associando o nome da variável a um local específico da memória onde o valor será armazenado. Esse operador não representa igualdade como na matemática, mas uma forma de \"ligar\" a variável a um valor.\n",
    "\n",
    "- Um **valor**: Este é o conteúdo associado à variável. Pode ser qualquer tipo de dado em Python, como números, textos, listas ou objetos mais complexos. Assim como diferentes arquivos podem conter diferentes tipos de informação, variáveis podem armazenar valores variados.\n",
    "\n",
    "Assim, uma variável em Python é uma referência para um local da memória do computador, onde o conteúdo pode ser alterado ou acessado conforme necessário."
   ]
  },
  {
   "cell_type": "code",
   "execution_count": null,
   "metadata": {},
   "outputs": [
    {
     "name": "stdout",
     "output_type": "stream",
     "text": [
      "Olá, Mundo!\n",
      "3.14159\n",
      "3.14\n",
      "69\n",
      "28\n"
     ]
    }
   ],
   "source": [
    "# Uma variável é um nome que se refere a um valor.\n",
    "# A sintaxe para criar uma variável é o nome da variável seguido por um operador de atribuição (representado pelo sinal de igual) e o valor que você deseja associar à variável.\n",
    "\n",
    "# Exemplo:\n",
    "mensagem = \"Olá, Mundo!\" # Essa é uma instrução de atribuição que cria uma variável chamada mensagem e a associa com a string \"Olá, Mundo!\".\n",
    "\n",
    "# Vamos analisar a instrução de atribuição acima:\n",
    "# mensagem é o nome da variável\n",
    "# = é o operador de atribuição que diz ao Python para atribuir o valor a direita do sinal de igual ao nome da variável a esquerda do sinal de igual.\n",
    "# \"Olá, Mundo!\" é o valor que queremos associar à variável mensagem.\n",
    "# É comum lermos a instrução de atribuição acima como \"mensagem é igual a 'Olá, Mundo!'\" ou \"mensagem recebe 'Olá, Mundo!'\".\n",
    "\n",
    "# Uma vez que a variável foi criada, você pode usar o nome da variável para se referir ao valor associado a ela, já que a partir da criação da variável, o nome da variável passa a ser um alias para o valor associado a ela.\n",
    "print(mensagem)\n",
    "\n",
    "# Sendo assim, toda vez que precisar utilizar a string \"Olá, Mundo!\", você pode simplesmente usar a variável mensagem.\n",
    "# Isso é útil porque você pode alterar o valor associado à variável em um único lugar e todas as referências à variável serão atualizadas automaticamente.\n",
    "\n",
    "# As variáveis são mutáveis, o que significa que você pode alterar o valor associado à variável a qualquer momento. Chamamos isso de reatribuição.\n",
    "mensagem = \"Olá, Python!\"\n",
    "\n",
    "# Python não tem um comando para declarar uma variável com valor constante, mas por convenção, variáveis que não devem ser alteradas são escritas em letras maiúsculas.\n",
    "\n",
    "# Por exemplo, se você deseja criar uma variável que armazena o valor de PI, você pode escrever a variável em letras maiúsculas para indicar que o valor não deve ser alterado. Porém, isso é apenas uma convenção e não impede que o valor da variável seja alterado, seja de propósito ou por engano.\n",
    "PI = 3.14159\n",
    "print(PI)\n",
    "PI = 3.14\n",
    "print(PI)\n",
    "\n",
    "# Vamos dar uma olhada em como as variáveis funcionam na memória do computador.\n",
    "\n",
    "# As variáveis são capazes de armazenar diferentes tipos de valores, como inteiros, ponto flutuante, strings, listas, dicionários, etc.\n",
    "\n",
    "# Uma variável do tipo inteiro (int) ocupa menos espaço na memória do que uma variável do tipo string (str). O Python possui uma função chamada getsizeof() que retorna o tamanho em bytes de um objeto. Vamos ver um exemplo:\n",
    "\n",
    "from sys import getsizeof as tamanho # Você não precisa se preocupar com o que essa declaração significa por enquanto. Apenas saiba que estamos importando a função getsizeof() do módulo sys e atribuindo um novo nome a ela, tamanho para facilitar a chamada da função.\n",
    "\n",
    "# Aqui estamos chamando a função tamanho() e passando a variável mensagem como argumento para obter o tamanho da string em bytes.\n",
    "print(tamanho(mensagem))  # 69 bytes\n",
    "\n",
    "# \"Olá, Python!\" é uma string com 11 caracteres, então por que o tamanho da string é 69 bytes?\n",
    "\n",
    "# O Python armazena strings como objetos Unicode, que são mais complexos do que strings ASCII simples. Cada caractere em uma string Unicode é armazenado em 2 bytes, então a string \"Olá, Python!\" é armazenada em 22 bytes (11 caracteres * 2 bytes por caractere).\n",
    "\n",
    "# Além disso, o Python armazena informações adicionais sobre a string, como o tamanho da string e o tipo de codificação, que aumentam o tamanho total da string.\n",
    "\n",
    "# Vamos comparar o tamanho de uma variável inteira e uma string:\n",
    "numero = 42\n",
    "print(tamanho(numero))  # 28 bytes\n",
    "# Como podemos ver, a variável inteira ocupa menos espaço na memória do que a variável string.\n",
    "# Isso é importante a se considerar ao trabalhar com grandes quantidades de dados, pois o uso de tipos de dados mais eficientes pode ajudar a economizar memória e melhorar o desempenho do programa."
   ]
  },
  {
   "cell_type": "markdown",
   "metadata": {},
   "source": [
    "## Nomes de variáveis\n",
    "---\n",
    "\n",
    "As variáveis não aparecem em um programa automaticamente. Como desenvolvedor, você deve decidir quantas variáveis e quais usar em seus programas.\n",
    "\n",
    "Ao criar uma variável, você deve seguir algumas regras estritas pra nomeá-las:\n",
    "\n",
    "- O nome da variável deve ser composto de `letras maiúsculas ou minúsculas, dígitos e o caractere _ (sublinhado)`\n",
    "\n",
    "- O nome da variável deve `começar com uma letra`\n",
    "\n",
    "- O caractere de `sublinhado é considerado uma letra`\n",
    "\n",
    "- As letras `maiúsculas e minúsculas` são tratadas como `diferentes` (um pouco diferente do que no mundo real - Alice e ALICE são os mesmos nomes, mas em Python são dois nomes de variáveis diferentes e, consequentemente, duas variáveis diferentes)\n",
    "\n",
    "- O nome da variável `não deve ser nenhuma das palavras reservadas` do Python (as palavras-chave).\n",
    "\n",
    "- O Python não impõe restrições ao comprimento dos nomes de variáveis, mas isso não significa que um nome de variável longo seja melhor do que um nome curto e vice versa.\n",
    "\n",
    "- O Python permite que você use não apenas letras latinas, mas também caracteres específicos de idiomas que usam outros alfabetos.\n",
    "\n",
    "Dito isso, vejamos alguns exemplos válidos e inválidos para nomes de variáveis:"
   ]
  },
  {
   "cell_type": "code",
   "execution_count": null,
   "metadata": {},
   "outputs": [],
   "source": [
    "# Exemplos de nomes de variáveis válidos:\n",
    "\n",
    "# Em Python, a convenção para nomes de variáveis é usar letras minúsculas e sublinhados para separar nomes compostos. Esse é um padrão conhecido como notação snake_case.\n",
    "nome = \"Alice\"\n",
    "ano_nascimento = 1990\n",
    "\n",
    "# Ao nomear uma variável, recomenda-se que o nome seja descritivo e que represente o valor que a variável armazena. No entanto, o nome da variável não pode começar com um número, mas pode conter números em qualquer outro lugar do nome.\n",
    "numero123 = 42\n",
    " \n",
    "saldo_conta = 1000.0\n",
    "# A notação snake_case é a convenção mais comum para separar palavras em nomes compostos, como `saldo_conta`. Consiste em usar letras minúsculas e sublinhados para separar palavras em nomes de variáveis e funções.\n",
    "\n",
    "nomeCompleto = \"Bob Marley\"\n",
    "# Este padrão de nome de variável é conhecido como notação CamelCase. A notação CamelCase é usada em outras linguagens de programação, como Java e C#, para nomes de variáveis e funções. Ela consiste em capitalizar a primeira letra de cada palavra, exceto a primeira palavra, sem espaços ou sublinhados. Em Python, a convenção é usar a notação snake_case, mas a notação CamelCase também é aceita. O importante é manter a consistência no estilo de nomenclatura ao longo do código.\n",
    "\n",
    "PI = 3.14159\n",
    "# Em Python, a convenção para variáveis escritas completamente em maiúsculas é frequentemente usada para representar valores que não devem ser modificados ao longo do programa, indicando que são constantes. Essa prática é uma convenção para facilitar a identificação de valores imutáveis, embora a linguagem em si não impeça a modificação dessas variáveis.\n",
    "\n",
    "_endereco = \"Rua Principal\"\n",
    "# O nome de uma variável pode começar com um sublinhado, porém não é recomendado pois tem um significado especial em Python. Em Python, uma variável iniciada com um sublinhado (_) é uma convenção para indicar que a variável é considerada \"privada\" ao módulo em que está definida. Essa prática é uma sugestão aos programadores para não acessarem diretamente a variável fora do escopo do módulo, embora a linguagem não impeça esse acesso. É uma convenção de boas práticas, não uma regra estrita de acesso restrito.\n",
    "\n",
    "# Vamos aos exemplos de nomes de variáveis inválidos:\n",
    "# Observação: os exemplos a seguir são inválidos e causarão um erro de sintaxe se você tentar executá-los, por isso estarão comentados.\n",
    "\n",
    "# 123numero = 42  # Inválido: começa com um número\n",
    "# nome variavel = \"John\"  # Inválido: espaço não é permitido\n",
    "# idade! = 30  # Inválido: caractere especial ! não é permitido\n",
    "# class = \"Programação\"  # Inválido: palavra-chave reservada do Python\n",
    "# minha-variavel = 10  # Inválido: hífen não é permitido pois é um operador em Python e isso confundiria o interpretador, causando um erro de sintaxe\n",
    "\n",
    "# Observação:\n",
    "\n",
    "# Lista de palavras-chave do Python (evitar como nomes de variáveis):\n",
    "# and, as, assert, break, class, continue, def, del, elif, else, except, False, finally, for, from, global, if, import, in, is, lambda, None, nonlocal, not, or, pass, raise, return, True, try, while, with, yield\n",
    "\n",
    "# A lista não precisa ser decorada, mas é útil saber que essas palavras-chave são reservadas para uso específico na linguagem Python e não podem ser usadas como nomes de variáveis."
   ]
  },
  {
   "cell_type": "markdown",
   "metadata": {},
   "source": [
    "## Como criar variáveis\n",
    "---\n",
    "\n",
    "O valor de uma variável é o que você coloca nela. Pode variar com a frequência desejada. Pode ser um `inteiro` um momento e um momento depois, se tornar uma `string`.\n",
    "\n",
    "Uma variável passa a existir como resultado da atribuição de um valor a ela. Ao contrário de outros idiomas, você não precisa declará-lo de nenhuma maneira especial. Se você atribuir qualquer valor a uma variável inexistente, a variável será criada automaticamente. Você não precisa fazer mais nada, nem mesmo definir o tipo de dado. O Python se encarrega disso.\n",
    "\n",
    "A criação (ou seja, sua sintaxe) é extremamente simples. Consiste em: \n",
    "\n",
    "- Nomear a variável, seguindo as regras definidas anteriormente.\n",
    "- Utilizar o `sinal de atribuição (=)` (Falaremos mais sobre operadores adiante)\n",
    "- Seguido do valor que deseja colocar na variável.\n",
    "\n",
    "Para nos ajudar a entender o que está numa variável, escolhemos nomes descritivos em vez de abreviações e etc."
   ]
  },
  {
   "cell_type": "code",
   "execution_count": 3,
   "metadata": {},
   "outputs": [
    {
     "name": "stdout",
     "output_type": "stream",
     "text": [
      "<class 'float'>\n"
     ]
    }
   ],
   "source": [
    "# Armazenar um valor em uma variável é como associar um endereço ou referência a um conteúdo específico na memória do computador.\n",
    "variavel = \"Conteúdo\"\n",
    "\n",
    "# Em Python a tipagem é dinâmica - (Tipos de dados serão abordados em detalhes mais adiante):\n",
    "\n",
    "# Isso significa que você não precisa especificar o tipo de uma variável ao criá-la. O Python infere automaticamente o tipo da variável com base no valor atribuído a ela.\n",
    "\n",
    "variavel = 10    # Python infere que a variável está armazenando um valor do tipo inteiro\n",
    "variavel = 10.0  # Agora, Python infere que a variável está armazenando um valor do tipo float\n",
    "variavel = \"10\"  # Agora, Python infere que a variável está armazenando um valor do tipo string\n",
    "\n",
    "# É possível indicar o tipo de uma variável, mas não é necessário.\n",
    "# Para fins didáticos, iremos mostrar como fazer isso.\n",
    "\n",
    "# Tipagem estática\n",
    "exemplo: int = 10.\n",
    "# A partir do Python 3.6, é possível indicar o tipo de uma variável usando a sintaxe de anotação de tipo. Isso é chamado de tipagem estática. No entanto, isso não impede que a variável seja atribuída a um valor de outro tipo e, nesse caso, o Python irá inferir o tipo da variável com base no valor atribuído.\n",
    "\n",
    "# Neste exemplo acima, declaramos a variável como inteira, mas atribuímos um valor float.\n",
    "print(type(exemplo))    \n",
    "\n",
    "# Note que há um ponto no final do número 10. Isso é o mesmo que 10.0 - O zero após o ponto decimal pode ser omitido se for o único dígito após o ponto, tornando-o um número de ponto flutuante (float) e não um número inteiro (int). Assim como iria inferir o tipo string se o número fosse \"10.\".\n",
    "\n",
    "# Então tenha em mente que o Python irá inferir o tipo da variável com base no valor atribuído a ela.\n",
    "\n",
    "# A tipagem estática só é útil para fins de documentação e para ajudar a identificar erros de tipo em tempo de desenvolvimento, mas você deve ser capaz de identificar o tipo da variável com base no valor atribuído a ela!"
   ]
  },
  {
   "cell_type": "markdown",
   "metadata": {},
   "source": [
    "### Utilizando as variáveis\n",
    "\n",
    "Você tem permissão para usar quantas declarações de variáveis forem necessárias para atingir seu objetivo.\n",
    "No entanto, você não pode usar uma variável que não existe (em outras palavras, uma variável que não recebeu um valor).\n",
    "\n",
    "Se tentar utilizar uma variável que ainda não foi definida, o Python exibirá um erro de nome não definido com mensagem:\n",
    "\n",
    "```python\n",
    "NameError: name 'nome_da_variavel' is not defined\n",
    "\n",
    "# O erro de definição também se dá quando tentamos acessar uma variável que foi definida em um escopo diferente do atual.\n",
    "```"
   ]
  },
  {
   "cell_type": "code",
   "execution_count": 4,
   "metadata": {},
   "outputs": [
    {
     "ename": "SyntaxError",
     "evalue": "invalid syntax. Perhaps you forgot a comma? (3895864594.py, line 6)",
     "output_type": "error",
     "traceback": [
      "\u001b[1;36m  Cell \u001b[1;32mIn[4], line 6\u001b[1;36m\u001b[0m\n\u001b[1;33m    print(nome completo)\u001b[0m\n\u001b[1;37m          ^\u001b[0m\n\u001b[1;31mSyntaxError\u001b[0m\u001b[1;31m:\u001b[0m invalid syntax. Perhaps you forgot a comma?\n"
     ]
    }
   ],
   "source": [
    "# Mensagens de erro são uma forma de o Python comunicar que algo deu errado durante a execução do programa. O Python tenta sempre indicar a linha e o motivo do erro para ajudar a identificar e corrigir o problema, mas nem sempre as mensagens de erro são claras e fáceis de entender, especialmente para iniciantes.\n",
    "\n",
    "# Veja o exemplo a seguir:\n",
    "nome_completo = \"Alice Silva\"\n",
    "\n",
    "print(nome completo)\n",
    "# SyntaxError: invalid syntax. Perhaps you forgot a comma?\n",
    "# Tradução: Erro de sintaxe: sintaxe inválida. Talvez você tenha esquecido de uma vírgula?\n",
    "\n",
    "# Nesse caso, o erro ocorre porque o Python não consegue encontrar a variável nome, pois o nome da variável é nome_completo mas esquecemos de colocar o sublinhado entre as palavras.\n",
    "# O Python interpreta nome completo como duas variáveis separadas (nome e completo), o que resulta em um erro de sintaxe, pois o Python espera uma vírgula ou um operador entre as duas variáveis. Devido isso, o texto da mensagem de erro cita a vírgula como uma possível causa do erro.\n",
    "\n",
    "# Um usuário novato poderia interpretar a mensagem de erro como se o nome da variável não estivesse definido e ficaria confuso, procurando a variável nome em vez de corrigir o erro de sintaxe. "
   ]
  },
  {
   "cell_type": "markdown",
   "metadata": {},
   "source": [
    "### Atualizando variáveis\n",
    "\n",
    "As variáveis são chamadas de variáveis porque os valores que elas armazenam podem ser alterados. Podemos atualizar qualquer variável dando-lhe um novo valor.\n",
    "\n",
    "Podemos atualizar as variáveis quantas vezes quisermos."
   ]
  },
  {
   "cell_type": "code",
   "execution_count": null,
   "metadata": {},
   "outputs": [
    {
     "name": "stdout",
     "output_type": "stream",
     "text": [
      "3\n",
      "3\n",
      "True\n"
     ]
    }
   ],
   "source": [
    "# Um programa é executado linha por linha (chamamos de script) e, à medida que o programa é executado, o valor associado a uma variável pode mudar. A última atribuição de valor a uma variável é a que prevalece.\n",
    "\n",
    "# Vamos usar um exemplo matemático para ilustrar a ideia de variáveis em programação. Em uma função matemática, quando você fornece um valor, ela retorna outro valor com base no que foi passado.\n",
    "\n",
    "# Por exemplo, se atribuirmos 2 a x, ele (x) irá armazenar esse valor de forma que sempre que o usarmos, ele será substituído pelo valor que foi atribuído a ele.\n",
    "\n",
    "x = 2\n",
    "y = x + 1  # Agora, y armazena o valor 3, já que x é 2 e somamos 1 a ele\n",
    "\n",
    "# Em programação, você pode alterar o valor de uma variável em qualquer ponto do código após a sua criação e o novo valor é armazenado, esquecendo o valor anterior. Você pode alterar o valor associado a uma variável atribuindo um novo valor a ela.\n",
    "\n",
    "# Se mudarmos o valor de x, o valor de y não será automaticamente atualizado.\n",
    "\n",
    "x = 3\n",
    "# Agora, x é 3, mas y continua sendo 3, pois sua atribuição já foi feita. Devido a ordem de execução do código, o valor de y não é atualizado automaticamente quando o valor de x é alterado pois o código segue a ordem de execução linha por linha, de cima para baixo. (Salvo exceções como funções e loops)\n",
    "\n",
    "print(x)   # Saída: 3\n",
    "print(y)   # Saída: 3\n",
    "\n",
    "# Se repetirmos agora a atribuição de y, ele será atualizado com o novo valor de x.\n",
    "y = x + 1  # Agora, y será atualizado com o novo valor de x, pois x agora é 3\n",
    "print(y)   # Saída: 4\n",
    "\n",
    "# Vamos ver um exemplo mais prático:\n",
    "caixa = 'Conteúdo atual'    # O conteúdo original\n",
    "caixa = 'Novo conteúdo'     # O conteúdo da caixa foi alterado\n",
    "caixa = 10                  # O conteúdo da caixa foi alterado novamente\n",
    "caixa = 10.5                # O conteúdo da caixa foi alterado mais uma vez\n",
    "# Sempre que um novo valor é atribuído, a variável esquece o valor anterior\n",
    "caixa = True                # O conteúdo da caixa foi alterado mais uma vez.\n",
    "\n",
    "# Será exibido o último valor atribuído à variável caixa\n",
    "print(caixa)                # Saída: True"
   ]
  },
  {
   "cell_type": "markdown",
   "metadata": {},
   "source": [
    "Podemos atribuir qualquer tipo de valor a uma variável (Falaremos sobre tipos de dados mais a frente mas veja alguns a seguir).\n"
   ]
  },
  {
   "cell_type": "code",
   "execution_count": null,
   "metadata": {},
   "outputs": [
    {
     "name": "stdout",
     "output_type": "stream",
     "text": [
      "<class 'int'>\n"
     ]
    }
   ],
   "source": [
    "# Tipos de dados em Python\n",
    "\n",
    "# Como vimos antes, devido a tipagem dinâmica do Python, não é necessário declarar o tipo de variável. O interpretador Python infere o tipo de variável a partir do valor atribuído a ela.\n",
    "\n",
    "inteiro = 42            # Exemplo de inteiro\n",
    "ponto_flutuante = 3.14  # Exemplo de float - serparamos os decimais com ponto em vez de vírgula.\n",
    "texto = \"Olá, Python!\"  # Exemplo de string\n",
    "booleano = True         # Exemplo de booleano\n",
    "lista = [1, 2, 3]       # Exemplo de variável composta (lista)\n",
    "\n",
    "# Por exemplo, se o inteiro 42 for atribuído a uma variável, o Python infere que a variável é do tipo inteiro. Mas se colocarmos um ponto decimal no final do número, o Python infere que a variável é do tipo float e se colocarmos entre aspas infere que a variável é uma string.\n",
    "\n",
    "inteiro = 42  # Agora, Python infere que a variável é do tipo int\n",
    "ponto_flutuante = 42.  # Agora, Python infere que a variável é do tipo float\n",
    "ponto_flutuante = .42  # Agora, Python infere que a variável é do tipo float\n",
    "texto = '42'    # Agora, Python infere que a variável é do tipo string\n",
    "\n",
    "# Os valores podem parecer iguais para um humano, mas para o Python, eles são de tipos diferentes.\n",
    "\n",
    "# A instrução `type()` retorna o tipo de um objeto. Ela é útil para verificar o tipo de uma variável quando não temos certeza.\n",
    "\n",
    "print(type(inteiro))         # Saída: <class 'int'>\n",
    "\n",
    "# O resultado <class 'int'> indica que a variável inteiro é do tipo inteiro (int). A função type() retorna o tipo de um objeto como um objeto de classe."
   ]
  },
  {
   "cell_type": "markdown",
   "metadata": {},
   "source": [
    "Também podemos atribuir uma variável a outra variável. Nesse caso utilizamos o nome da variável no processo de atribuição, que representará o seu valor.\n",
    "\n",
    "Lembrado que quando atualizamos uma variável, ela esquece o seu valor anterior. Como o Python percorre o código de cima para baixo, linha por linha, a variável assume o valor mais recente atribuído a ela.\n",
    "\n",
    "Vejamos alguns exemplos:"
   ]
  },
  {
   "cell_type": "code",
   "execution_count": null,
   "metadata": {
    "ExecuteTime": {
     "end_time": "2024-02-05T01:18:53.778705400Z",
     "start_time": "2024-02-05T01:18:53.759863800Z"
    }
   },
   "outputs": [
    {
     "name": "stdout",
     "output_type": "stream",
     "text": [
      "a vale 1\n",
      "b vale 2\n",
      "Mostrando os valores atualizados:\n",
      "a vale 2\n",
      "b vale 2\n",
      "O id de a é: 140724615264728\n",
      "O id de b é: 140724615264728\n",
      "O id de f é: 140724615264696\n",
      "O id de g é: 140724615264696\n",
      "f == g: True\n",
      "f is g: True\n",
      "O id de h é: 2228700256688\n",
      "O id de i é: 2228700259152\n",
      "h == i: True\n",
      "h is i: False\n"
     ]
    }
   ],
   "source": [
    "# Primeiro um exemplo prático de atribuição de uma variável como valor de outra:\n",
    "\n",
    "a = 1 # A variável a recebe o valor 1\n",
    "print('a vale', a)\n",
    "\n",
    "b = 2 # A variável b recebe o valor 2\n",
    "print('b vale', b)\n",
    "\n",
    "# Agora vamos atualizar o valor de a dando a ela o valor de b\n",
    "a = b # A variável a recebe o valor de b que é 2\n",
    "\n",
    "print('Mostrando os valores atualizados:')\n",
    "print('a vale', a) # A variável a agora tem o valor 2\n",
    "print('b vale', b) # A variável b continua com o valor 2\n",
    "\n",
    "# Agora a e b possuem o mesmo valor. Não só isso, a e b apontam para o mesmo objeto na memória. Para verificar isso, podemos usar a função id() que retorna o identificador único de um objeto.\n",
    "\n",
    "# Para saber o id da variável, podemos usar a função id()\n",
    "print('O id de a é:', id(a)) \n",
    "print('O id de b é:', id(b))\n",
    "\n",
    "# O id de a e b são iguais, isso significa que a e b apontam para o mesmo objeto na memória. Python se encarrega de gerenciar a memória e otimizar o uso de memória para valores imutáveis, como inteiros pequenos e strings curtas. Isso significa que, para valores pequenos, o Python reutiliza o mesmo objeto na memória, em vez de criar um novo objeto para cada valor.\n",
    "\n",
    "# Vamos verificar esse comportamento criando duas variáveis com o mesmo valor em vez de atribuir uma variável à outra.\n",
    "f = 1\n",
    "g = 1\n",
    "print('O id de f é:', id(f)) \n",
    "print('O id de g é:', id(g))\n",
    "\n",
    "# As variáveis f e g têm o mesmo valor, então o Python otimiza o uso de memória e faz com que f e g apontem para o mesmo objeto na memória em vez de criar dois objetos separados.\n",
    "\n",
    "# Esse comportamento afeta a comparação de variáveis em Python. Quando comparamos duas variáveis que apontam para o mesmo objeto na memória, o resultado da comparação será True, mesmo que as variáveis sejam diferentes.\n",
    "\n",
    "# Se compararmos f e g usando o operador de igualdade (==), o resultado será True, pois os valores de f e g são iguais. E se compararmos f e g usando o operador de identidade (is), o resultado também será True, pois f e g apontam para o mesmo objeto na memória.\n",
    "print(f'f == g: {f == g}') # Saída: True\n",
    "print(f'f is g: {f is g}') # Saída: True\n",
    "\n",
    "# Para valores maiores que 256 o Python não otimiza o uso de memória, então o id de h e i será diferente.\n",
    "h = 257\n",
    "i = 257\n",
    "\n",
    "print('O id de h é:', id(h)) \n",
    "print('O id de i é:', id(i))\n",
    "\n",
    "print(f'h == i: {h == i}') # Saída: True\n",
    "print(f'h is i: {h is i}') # Saída: False\n",
    "\n",
    "# Pontos importantes sobre id():\n",
    "# Esse número é único para cada objeto enquanto ele existe. Dois objetos diferentes terão identificadores diferentes (exceto em casos de otimização para objetos imutáveis como inteiros pequenos ou strings curtas, que podem compartilhar o mesmo espaço na memória).\n",
    "\n",
    "# O valor numérico em si não é algo que você precisa entender diretamente, como um endereço físico na memória RAM. É uma abstração que Python usa para garantir que cada objeto seja distinguido corretamente.\n",
    "\n",
    "# O valor retornado por id() pode variar em diferentes execuções do programa, pois o Python pode alocar os objetos em diferentes endereços de memória cada vez que o código é executado.\n",
    "\n",
    "# Na maioria dos casos, você não usará o valor retornado por id() em cálculos ou como referência, já que o objetivo é apenas garantir a identidade do objeto."
   ]
  },
  {
   "cell_type": "markdown",
   "metadata": {},
   "source": [
    "Agora que sabemos que podemos atribuir uma variável a outra, imagine que queremos trocar o valor entre duas variáveis, ou seja, fazer a valer 2 e b valer 1, por exemplo.\n",
    "\n",
    "Como vimos anteriormente, ao atualizar o valor de uma variável ela esquece seu valor anterior já que cada instrução é executada individualmente, de cima para baixo. Por conta disso não seria possível simplesmente atribuir a como valor de b e vice versa.\n",
    "\n",
    "Uma forma de resolver o problema seria criar uma variável temporária que armazenaria um dos valores."
   ]
  },
  {
   "cell_type": "code",
   "execution_count": null,
   "metadata": {},
   "outputs": [
    {
     "name": "stdout",
     "output_type": "stream",
     "text": [
      "a vale 1\n",
      "b vale 2\n",
      "t vale 1\n",
      "Valores atualizados:\n",
      "a vale 2\n",
      "b vale 1\n",
      "t vale 1\n"
     ]
    }
   ],
   "source": [
    "# Trocando os valores entre duas variáveis: \n",
    "\n",
    "# Criamos duas variáveis a e b com valores diferentes e queremos trocar os valores entre elas. Ou seja, queremos que a tenha o valor de b e b tenha o valor de a.\n",
    "a = 1\n",
    "b = 2\n",
    "\n",
    "# Devido as regras de atribuição, não podemos fazer a = b e b = a para trocar os valores entre as variáveis a e b. Vamos ver o que acontece se tentarmos fazer isso:\n",
    "a = b # A variável a recebe o valor de b que é 2\n",
    "b = a # A variável b recebe o valor de a que é 2, já que a recebeu o valor de b na instrução anterior\n",
    "\n",
    "# O resultado é que ambas as variáveis têm o mesmo valor, que é 2. Portanto, não conseguimos trocar os valores entre as variáveis a e b dessa maneira. Este é um bom exemplo de um erro semântico, onde o código não faz o que o programador pretendia mas não gera um erro de sintaxe.\n",
    "\n",
    "# Vamos analisar as possíveis soluções para trocar os valores entre duas variáveis.\n",
    "\n",
    "# Primeiro caso: Usando uma variável temporária.\n",
    "# Consiste em usar uma terceira variável temporária para armazenar um dos valores antes de trocá-los. \n",
    "\n",
    "a = 1 # a recebe o valor 1\n",
    "print('a vale', a) # Exibe o valor de a que é 1\n",
    "\n",
    "b = 2 # b recebe o valor 2\n",
    "print('b vale', b) # Exibe o valor de b que é 2\n",
    "\n",
    "# Como vimos, se utilizar a = b e b = a, o valor de a e b será 2 e não 1 como esperado, pois a variável a recebe o valor de b e depois a variável b recebe o valor de a, que já foi alterado, portanto, não conseguimos trocar os valores entre as variáveis a e b dessa maneira.\n",
    "\n",
    "# Para trocar os valores entre a e b, precisamos de uma variável temporária que chamaremos de t (de temporária) para armazenar temporariamente o valor de a antes de ser alterado.\n",
    "\n",
    "t = a # t recebe temporariamente o valor de a que é 1\n",
    "print('t vale', t) # Exibe o valor de t que é 1 que é o valor original de a\n",
    "\n",
    "print('Valores atualizados:')\n",
    "\n",
    "a = b # a recebe o valor de b que é 2. Nesse momento, a perde seu valor original (1), mas a variável t ainda o mantém devido a ordem de execução do código.\n",
    "print('a vale', a)\n",
    "\n",
    "# Agora b e a tem o mesmo valor e t vale 1\n",
    "b = t # b recebe o valor de t que é 1. Portanto atualizamos o valor de b para 1\n",
    "print('b vale', b)\n",
    "\n",
    "print('t vale', t) # Ao imprimir t, o valor 1 é exibido"
   ]
  },
  {
   "cell_type": "markdown",
   "metadata": {},
   "source": [
    "Obviamente este exemplo é muito simples e poderíamos simplesmente atualizar manualmente as variáveis, repetindo a atribuição como veremos abaixo"
   ]
  },
  {
   "cell_type": "code",
   "execution_count": null,
   "metadata": {},
   "outputs": [
    {
     "name": "stdout",
     "output_type": "stream",
     "text": [
      "a vale 1\n",
      "b vale 2\n",
      "Valores trocados:\n",
      "a vale 2\n",
      "b vale 1\n"
     ]
    }
   ],
   "source": [
    "# Neste exemplo teríamos que substituir o valor de cada variável manualmente.\n",
    "\n",
    "a = 1 # a recebe o valor 1\n",
    "print('a vale', a)\n",
    "\n",
    "b = 2 # b recebe o valor 2\n",
    "print('b vale', b)\n",
    "\n",
    "print('Valores trocados:')\n",
    "a = 2 # a recebe o valor 2\n",
    "print('a vale', a)\n",
    "\n",
    "b = 1 # b recebe o valor 1\n",
    "print('b vale', b)\n",
    "\n",
    "# Obviamente este exemplo parece fácil com duas variáveis, mas imagine se tivéssemos que trocar os valores entre 10 ou mais variáveis. Seria muito mais trabalhoso, repetitivo e propenso a erros."
   ]
  },
  {
   "cell_type": "markdown",
   "metadata": {},
   "source": [
    "Em casos mais complexos, com a tecnica de desempacotamento poderíamos fazer algo semelhante de forma mais concisa e elegante. Essa técnica aproveita a capacidade do Python de realizar atribuições simultâneas. Neste caso, os valores à direita do sinal de igualdade são empacotados em uma tupla (b, a) e, em seguida, desempacotados nas variáveis à esquerda (a, b). Isso resulta na troca dos valores entre as variáveis a e b sem a necessidade de uma variável temporária. \n",
    "\n",
    "Obs.: Tuplas serão abordadas em detalhes mais adiante."
   ]
  },
  {
   "cell_type": "code",
   "execution_count": null,
   "metadata": {
    "ExecuteTime": {
     "end_time": "2024-02-05T01:19:01.724604400Z",
     "start_time": "2024-02-05T01:19:01.665660200Z"
    }
   },
   "outputs": [
    {
     "name": "stdout",
     "output_type": "stream",
     "text": [
      "a vale 1 b vale 2\n",
      "a vale 2 b vale 1\n",
      "a vale 1 b vale 2\n",
      "(1, 2)\n"
     ]
    }
   ],
   "source": [
    "# O desempacotamento consiste em atribuir os valores de uma variável composta a variáveis individuais de uma só vez aproveitando uma caracteristica da linguagem Python que permite a troca de valores entre variáveis de forma mais simples e eficiente em uma única linha, sem a necessidade de uma variável temporária. Fazemos isso atribuindo os valores de uma tupla a variáveis individuais na ordem em que aparecem na tupla.\n",
    "\n",
    "# Novamente temos a e b com valores diferentes e queremos trocar os valores entre eles. Vamos ver como fazer isso usando o desempacotamento de tupla.\n",
    "\n",
    "a = 1 # a recebe o valor 1 inicialmente\n",
    "b = 2 # b recebe o valor 2 inicialmente\n",
    "print('a vale', a,'b vale', b)\n",
    "\n",
    "a, b = b, a # a recebe o valor de b que é 2 e b recebe o valor de a que é 1\n",
    "\n",
    "# Dessa forma os valores originais não são perdidos pois a troca ocorre simultaneamente. Note que a instrução é semelhante a a = b e b = a, mas a troca ocorre simultaneamente em uma única linha.\n",
    "print('a vale', a,'b vale', b)\n",
    "\n",
    "# Na prática, oque acontece é que a, b que equivalem a 1, 2 são transformados em uma tupla (1, 2) e atribuídas a b, a respectivamente devido ao posicionamento dos valores na tupla.\n",
    "\n",
    "# a, b - Posição das variáveis\n",
    "# 1, 2 - Posição dos valores\n",
    "# b, a - Posição ao desempacotar\n",
    "\n",
    "# Vejamos o desempacotamento de tupla de outra forma:\n",
    "tupla = (1, 2) # Exemplo de tupla - uma variável composta imutável caracterizada por valores separados por vírgula e delimitados por parênteses\n",
    "\n",
    "a, b = tupla   # Desempacotamento de tupla. a recebe o primeiro valor da tupla e b recebe o segundo valor da tupla\n",
    "# Visualmente seria algo como:\n",
    "# tupla = (1, 2)\n",
    "#          a, b\n",
    "\n",
    "print('a vale', a,'b vale', b)\n",
    "\n",
    "# Poderíamos fazer o contrário, ou seja, atribuir valores a uma tupla a partir de variáveis individuais.\n",
    "a = 1\n",
    "b = 2\n",
    "\n",
    "tupla = a, b # A tupla recebe os valores de a e b\n",
    "\n",
    "print(tupla) # Saída: (1, 2)    "
   ]
  },
  {
   "cell_type": "markdown",
   "metadata": {},
   "source": [
    "Outra técnica útil quando você deseja inicializar várias variáveis com o mesmo valor, economizando linhas de código e tornando o código mais conciso é chamada de \"atribuição em cadeia\" em Python."
   ]
  },
  {
   "cell_type": "code",
   "execution_count": null,
   "metadata": {},
   "outputs": [],
   "source": [
    "# Atribuição em cadeia - Atribuir o mesmo valor a várias variáveis de uma só vez. \n",
    "\n",
    "# Quando desejamos atribuir o mesmo valor a várias variáveis, podemos fazer isso em uma única linha, economizando linhas de código e tornando o código mais conciso.\n",
    "\n",
    "# Em vez de realizar as atribuições individualmente\n",
    "a = 0\n",
    "b = 0\n",
    "c = 0\n",
    "d = 0\n",
    "\n",
    "# Ou usar uma tupla com valores iguais\n",
    "tupla = (0, 0, 0, 0)\n",
    "a, b, c, d = tupla\n",
    "\n",
    "# Economizamos linhas e tronamos o código menos repetitivo usando a atribuição em cadeia\n",
    "\n",
    "a = b = c = d = 0 # a, b, c e d recebem o valor 0\n",
    "# se a recebe b, e b recebe c, e c recebe d, e d recebe 0, então a, b, c e d são iguais a 0\n",
    "\n",
    "# Oque ocorre é que o valor 0 é atribuído a variável d, depois o valor de d é atribuído a c, depois o valor de c é atribuído a b e por fim o valor de b é atribuído a a. Se analizarmos o id de cada variável veremos que são iguais, pois todas apontam para o mesmo objeto na memória."
   ]
  },
  {
   "cell_type": "markdown",
   "metadata": {},
   "source": [
    "Neste caso específico, você está atribuindo o valor 0 para todas as variáveis a, b, c e d em uma única linha.\n",
    "\n",
    "Essa forma de atribuição é possível porque o valor à direita do sinal de igualdade é avaliado apenas uma vez e atribuído a todas as variáveis da esquerda para a direita. Portanto, todas essas variáveis acabam com o mesmo valor, que é 0."
   ]
  }
 ],
 "metadata": {
  "kernelspec": {
   "display_name": "Python 3",
   "language": "python",
   "name": "python3"
  },
  "language_info": {
   "codemirror_mode": {
    "name": "ipython",
    "version": 3
   },
   "file_extension": ".py",
   "mimetype": "text/x-python",
   "name": "python",
   "nbconvert_exporter": "python",
   "pygments_lexer": "ipython3",
   "version": "3.12.1"
  }
 },
 "nbformat": 4,
 "nbformat_minor": 2
}
