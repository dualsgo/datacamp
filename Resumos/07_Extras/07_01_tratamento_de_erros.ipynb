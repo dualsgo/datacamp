{
 "cells": [
  {
   "cell_type": "markdown",
   "metadata": {},
   "source": [
    "# Tratamento de Erros e Exceções\n",
    "\n",
    "Erros são parte natural do processo de aprendizado e desenvolvimento na programação, especialmente para quem está começando. Em Python, assim como em outras linguagens, cometer erros é comum e pode até ser útil para melhorar suas habilidades.\n",
    "\n",
    "### O Que São Erros?\n",
    "\n",
    "Erros são problemas no código que impedem o programa de funcionar corretamente. Eles podem acontecer por várias razões, como digitação incorreta, lógica errada ou uso inadequado de certos recursos. Em Python, os erros mais comuns para iniciantes incluem:\n",
    "\n",
    "- **Erros de Sintaxe (SyntaxError):** Ocorrem quando o código é escrito de maneira que o Python não entende. Por exemplo, esquecer dois pontos `:` após um comando `if`, ou esquecer de fechar parênteses.\n",
    "  \n",
    "  Exemplo:\n",
    "  ```python\n",
    "  if 10 > 5\n",
    "      print(\"Isso vai gerar um erro de sintaxe\")\n",
    "  ```\n",
    "  Nesse exemplo, falta o `:` após o `if`.\n",
    "\n",
    "- **Erros de Nome (NameError):** Acontecem quando o programa tenta usar uma variável que não foi definida ou foi escrita incorretamente.\n",
    "\n",
    "  Exemplo:\n",
    "  ```python\n",
    "  print(nome)\n",
    "  ```\n",
    "  Se a variável `nome` não foi declarada antes, Python não saberá o que ela significa e gerará um `NameError`.\n",
    "\n",
    "- **Erros de Tipo (TypeError):** Ocorrem quando tentamos realizar operações com tipos de dados que não são compatíveis, como somar um número e uma string.\n",
    "\n",
    "  Exemplo:\n",
    "  ```python\n",
    "  print(10 + \"5\")\n",
    "  ```\n",
    "  Aqui, Python não sabe como somar um número e uma string, resultando em um `TypeError`.\n",
    "\n",
    "- **Erros de Índice (IndexError):** Acontecem quando tentamos acessar um índice que não existe em uma lista ou string.\n",
    "\n",
    "  Exemplo:\n",
    "  ```python\n",
    "  lista = [1, 2, 3]\n",
    "  print(lista[5])\n",
    "  ```\n",
    "  Como a lista tem apenas três elementos, tentar acessar o índice 5 resulta em um `IndexError`.\n",
    "\n",
    "### Como o Python Lida com Erros?\n",
    "\n",
    "Quando o Python encontra um erro durante a execução de um programa, ele para imediatamente e mostra uma mensagem de erro. Essa mensagem geralmente é muito útil porque indica o tipo do erro e até aponta a linha específica onde o problema ocorreu. Para quem está começando, essas mensagens são uma ótima maneira de aprender e entender o que deu errado.\n",
    "\n",
    "Por exemplo, se você tentar dividir um número por zero, Python gerará um erro chamado `ZeroDivisionError`, mostrando que essa operação é impossível:\n",
    "\n",
    "```python\n",
    "resultado = 10 / 0\n",
    "```\n",
    "\n",
    "A mensagem de erro informará que a divisão por zero não é permitida, ajudando você a identificar o problema e corrigi-lo.\n",
    "\n",
    "### Como Programadores Tratam e Previnem Erros?\n",
    "\n",
    "Para evitar que seu programa trave por causa de um erro, você pode prever e tratar situações problemáticas usando o bloco `try` e `except`. Com essa estrutura, você “tenta” executar um código e, se um erro ocorrer, o Python executa um código alternativo que você definiu.\n",
    "\n",
    "Exemplo de tratamento de erro:\n",
    "\n",
    "```python\n",
    "try:\n",
    "    numero = int(input(\"Digite um número: \"))\n",
    "    resultado = 10 / numero\n",
    "    print(f\"Resultado: {resultado}\")\n",
    "except ValueError:\n",
    "    print(\"Por favor, digite um número válido.\")\n",
    "except ZeroDivisionError:\n",
    "    print(\"Não é possível dividir por zero.\")\n",
    "```\n",
    "\n",
    "Neste exemplo, se o usuário digitar algo que não seja um número, o programa mostrará uma mensagem de erro amigável em vez de travar. Da mesma forma, se o usuário digitar zero, o código vai lidar com o erro e exibir uma mensagem explicativa.\n",
    "\n",
    "Além de `except`, você pode usar os blocos `else` e `finally`:\n",
    "\n",
    "- **`else`:** Executa um código se **nenhum erro** acontecer no bloco `try`.\n",
    "- **`finally`:** Executa um código sempre, independentemente de ter ocorrido um erro ou não. Isso é útil para liberar recursos como fechar arquivos ou conexões.\n",
    "\n",
    "### Prevenção de Erros\n",
    "\n",
    "Além de tratar erros, bons programadores buscam evitá-los antes mesmo que aconteçam. Algumas práticas incluem:\n",
    "\n",
    "- **Validação de Entrada:** Antes de usar os dados fornecidos pelo usuário, valide se eles estão no formato correto.\n",
    "- **Testes:** Testar seu código com diferentes entradas e condições ajuda a identificar erros antes que o código seja usado em situações reais.\n",
    "- **Comentários e Documentação:** Manter o código organizado e bem documentado facilita identificar erros e entender o que cada parte do código faz."
   ]
  },
  {
   "cell_type": "markdown",
   "metadata": {},
   "source": [
    "## Tratamento de Erros e Exceções\n",
    "\n",
    "Ao analisar um traceback, é mais eficiente lê-lo de baixo para cima. O traceback apresenta o caminho que o programa percorreu até chegar ao ponto onde o erro ocorreu. A última linha do traceback geralmente contém o erro principal.\n",
    "\n",
    "- Quando o Python não consegue importar um módulo, ele gera um **ModuleNotFoundError**.\n",
    "- Se um índice estiver fora do intervalo permitido, o Python lança um **IndexError**.\n",
    "\n",
    "### Tipos de Erros:\n",
    "\n",
    "- **Erros de Sintaxe:** São detectados antes do programa ser executado, impedindo a execução.\n",
    "- **Erros de Execução (Exceções):** Ocorrem durante a execução do programa e interrompem sua continuidade.\n",
    "- **Erros Lógicos:** Ocorrem quando o programa não produz o resultado esperado. Apesar de o código ser executado sem erros aparentes, o comportamento ou o output não corresponde ao objetivo desejado.\n"
   ]
  },
  {
   "cell_type": "markdown",
   "metadata": {},
   "source": [
    "## Levantando exceções\n",
    "\n",
    "Às vezes, queremos gerar uma exceção quando uma condição que definimos não é atendida.\n",
    "\n",
    "A palavra-chave `raise` é usada para levantar uma exceção. Quando a exceção é levantada, o programa para de ser executado e o traceback é mostrado.\n",
    "\n",
    "Podemos usar exceções para destacar quando algo não pode estar funcionando como deveria.\n",
    "\n",
    "Podemos usar condições para validar entradas e gerar exceções quando as condições não são atendidas."
   ]
  },
  {
   "cell_type": "code",
   "execution_count": 1,
   "metadata": {},
   "outputs": [
    {
     "ename": "Exception",
     "evalue": "Deve haver pelo menos uma pessoa.",
     "output_type": "error",
     "traceback": [
      "\u001b[1;31m---------------------------------------------------------------------------\u001b[0m",
      "\u001b[1;31mException\u001b[0m                                 Traceback (most recent call last)",
      "Cell \u001b[1;32mIn[1], line 5\u001b[0m\n\u001b[0;32m      2\u001b[0m pessoas \u001b[38;5;241m=\u001b[39m \u001b[38;5;241m0\u001b[39m\n\u001b[0;32m      3\u001b[0m \u001b[38;5;28;01mif\u001b[39;00m pessoas \u001b[38;5;241m<\u001b[39m \u001b[38;5;241m1\u001b[39m:\n\u001b[0;32m      4\u001b[0m   \u001b[38;5;66;03m# após a palavra-chave raise, podemos usar a palavra-chave Exception para criar uma exceção personalizada colocando o texto que queremos que apareça quando a exceção for levantada entre parênteses.\u001b[39;00m\n\u001b[1;32m----> 5\u001b[0m   \u001b[38;5;28;01mraise\u001b[39;00m \u001b[38;5;167;01mException\u001b[39;00m(\u001b[38;5;124m\"\u001b[39m\u001b[38;5;124mDeve haver pelo menos uma pessoa.\u001b[39m\u001b[38;5;124m\"\u001b[39m)\n\u001b[0;32m      6\u001b[0m \u001b[38;5;28;01melse\u001b[39;00m:\n\u001b[0;32m      7\u001b[0m   fatias_por_pessoa \u001b[38;5;241m=\u001b[39m fatias \u001b[38;5;241m/\u001b[39m pessoas\n",
      "\u001b[1;31mException\u001b[0m: Deve haver pelo menos uma pessoa."
     ]
    }
   ],
   "source": [
    "fatias = 18\n",
    "pessoas = 0\n",
    "if pessoas < 1:\n",
    "  # após a palavra-chave raise, podemos usar a palavra-chave Exception para criar uma exceção personalizada colocando o texto que queremos que apareça quando a exceção for levantada entre parênteses.\n",
    "  raise Exception(\"Deve haver pelo menos uma pessoa.\")\n",
    "else:\n",
    "  fatias_por_pessoa = fatias / pessoas\n",
    "  print(f\"Cada pessoa recebe {fatias_por_pessoa} fatias de pizza.\")"
   ]
  },
  {
   "cell_type": "markdown",
   "metadata": {},
   "source": [
    "Muitas vezes não queremos que um programa termine quando uma exceção é encontrada. Um bloco `try except` pode ser usado para tratamento de exceções!\n",
    "\n",
    "Os blocos `try` e `except` tendem a ser usados onde sabemos que há uma chance de a operação não ser possível. Por exemplo, quando tentamos abrir um arquivo, ele pode não existir. Nesse caso, podemos usar um bloco `try except` para lidar com a exceção.\n",
    "\n",
    "Usamos recuos para indicar que o código está dentro do bloco `try`. Se o código dentro do bloco `try` levantar uma exceção, o código dentro do bloco `except` será executado.\n",
    "\n",
    "Podemos usar `pass` para indicar que não queremos fazer nada no bloco `except`.\n"
   ]
  },
  {
   "cell_type": "code",
   "execution_count": 8,
   "metadata": {},
   "outputs": [
    {
     "name": "stdout",
     "output_type": "stream",
     "text": [
      "Oláusuário\n"
     ]
    }
   ],
   "source": [
    "try:\n",
    "    print('Olá' + 'usuário')\n",
    "except:\n",
    "    pass"
   ]
  },
  {
   "cell_type": "markdown",
   "metadata": {},
   "source": [
    "A palavra-chave `raise` é usada junto com um tipo válido de erro e uma mensagem opcional. Geralmente é usado dentro do bloco de código `except` para levantar uma exceção quando uma condição é atendida.\n",
    "\n",
    "`try` e `except` são estruturas fundamentais em Python para tratamento de exceções, permitindo que você lide com erros de forma controlada durante a execução do programa.\n",
    "\n",
    "A estrutura básica é a seguinte:"
   ]
  },
  {
   "cell_type": "code",
   "execution_count": 9,
   "metadata": {},
   "outputs": [
    {
     "name": "stdout",
     "output_type": "stream",
     "text": [
      "Não é possível dividir por zero.\n",
      "Encerrando o programa.\n"
     ]
    }
   ],
   "source": [
    "# No bloco try, você coloca o código que pode gerar exceções.\n",
    "try:  # Código que pode gerar exceções\n",
    "    \n",
    "    # Nosso exemplo pode gerar um erro se o usuário digitar um valor que não pode ser convertido em um número inteiro ou se o usuário tentar dividir por zero.\n",
    "    num1 = int(input(\"Digite um número: \"))\n",
    "    num2 = int(input(\"Digite outro número: \"))\n",
    "    resultado = num1 / num2\n",
    "\n",
    "    # Se ocorrer uma exceção, o código dentro do bloco except correspondente será executado. Pode haver vários blocos except para lidar com diferentes tipos de exceções.\n",
    "    \n",
    "except ValueError:  # Trata a ValueError\n",
    "    print(\"Digite apenas números inteiros.\")\n",
    "    \n",
    "except ZeroDivisionError: # Trata a ZeroDivisionError\n",
    "    print(\"Não é possível dividir por zero.\")\n",
    "\n",
    "    # O bloco else é executado se nenhum erro ocorrer no bloco try.\n",
    "else:  # Executado se nenhum erro ocorrer no bloco try\n",
    "    print(f\"O resultado da divisão é: {resultado}\")\n",
    "\n",
    "    # O bloco finally é sempre executado, independentemente de ocorrerem exceções ou não. É útil para ações que precisam ser realizadas, como limpeza de recursos, independentemente do resultado do bloco try.\n",
    "finally: # Sempre é executado, independentemente de ocorrer exceções ou não\n",
    "    print(\"Encerrando o programa.\")"
   ]
  },
  {
   "cell_type": "code",
   "execution_count": 14,
   "metadata": {},
   "outputs": [
    {
     "name": "stdout",
     "output_type": "stream",
     "text": [
      "Ocorreu um erro: division by zero\n",
      "Encerrando o programa.\n"
     ]
    }
   ],
   "source": [
    "# Também podemos usar Exception para capturar qualquer exceção que ocorra.\n",
    "\n",
    "# No bloco try, você coloca o código que pode gerar exceções.\n",
    "try:  # Código que pode gerar exceções\n",
    "    \n",
    "    # Nosso exemplo pode gerar um erro se o usuário digitar um valor que não pode ser convertido em um número inteiro ou se o usuário tentar dividir por zero.\n",
    "    num1 = int(input(\"Digite um número: \"))\n",
    "    num2 = int(input(\"Digite outro número: \"))\n",
    "    resultado = num1 / num2\n",
    "\n",
    "    # Se ocorrer uma exceção, o código dentro do bloco except correspondente será executado. Pode haver vários blocos except para lidar com diferentes tipos de exceções.\n",
    "    \n",
    "except Exception as e:  # Trata qualquer exceção\n",
    "    print(f\"Ocorreu um erro: {e}\")\n",
    "\n",
    "    # O bloco else é executado se nenhum erro ocorrer no bloco try.\n",
    "else:  # Executado se nenhum erro ocorrer no bloco try\n",
    "    print(f\"O resultado da divisão é: {resultado}\")\n",
    "\n",
    "    # O bloco finally é sempre executado, independentemente de ocorrerem exceções ou não. É útil para ações que precisam ser realizadas, como limpeza de recursos, independentemente do resultado do bloco try.\n",
    "finally: # Sempre é executado, independentemente de ocorrer exceções ou não\n",
    "    print(\"Encerrando o programa.\")"
   ]
  },
  {
   "cell_type": "markdown",
   "metadata": {},
   "source": [
    "Podemos usar a instrução `else` no final se quisermos executar algum código somente quando nenhum erro for levantado."
   ]
  },
  {
   "cell_type": "code",
   "execution_count": 4,
   "metadata": {},
   "outputs": [
    {
     "name": "stdout",
     "output_type": "stream",
     "text": [
      "Nenhum erro foi encontrado\n",
      "O bloco try except foi concluído\n"
     ]
    }
   ],
   "source": [
    "detalhes = {\"nome\": \"Ricky\", \"idade\": 24, \"trabalho\": \"Programador\"}\n",
    "\n",
    "try:\n",
    "    idade = detalhes[\"idade\"]\n",
    "except:\n",
    "    raise NameError(\"Idade não está definida\")\n",
    "else:\n",
    "    print(\"Nenhum erro foi encontrado\")\n",
    "  \n",
    "# Podemos usar uma instrução finally para executar um código, independentemente de uma exceção ser levantada ou não.\n",
    "finally:\n",
    "    print(\"O bloco try except foi concluído\")"
   ]
  },
  {
   "cell_type": "code",
   "execution_count": 2,
   "metadata": {},
   "outputs": [
    {
     "name": "stdout",
     "output_type": "stream",
     "text": [
      "Nenhum erro foi encontrado\n",
      "O bloco try except foi concluído\n"
     ]
    }
   ],
   "source": [
    "detalhes = {\"nome\": \"Ricky\", \"idade\": 24, \"trabalho\": \"Programador\"}\n",
    "\n",
    "try:\n",
    "    idade = detalhes[\"idade\"]\n",
    "    print(\"Nenhum erro foi encontrado\") # Em vez de um bloco else, podemos colocar código após o bloco except para ser executado se nenhuma exceção for levantada. O efeito é o mesmo.\n",
    "except:\n",
    "    raise NameError(\"Idade não está definida\")\n",
    "# Podemos usar uma instrução finally para executar um código, independentemente de uma exceção ser levantada ou não.\n",
    "finally:\n",
    "    print(\"O bloco try except foi concluído\")"
   ]
  },
  {
   "cell_type": "code",
   "execution_count": 12,
   "metadata": {},
   "outputs": [
    {
     "name": "stdout",
     "output_type": "stream",
     "text": [
      "division by zero\n"
     ]
    }
   ],
   "source": [
    "# Exception é a classe base para todas as exceções em Python. Podemos usar isso para capturar todas as exceções.\n",
    "\n",
    "try:\n",
    "    print(1/0)\n",
    "except Exception as e:\n",
    "    print(e)"
   ]
  },
  {
   "cell_type": "code",
   "execution_count": 2,
   "metadata": {},
   "outputs": [
    {
     "name": "stdout",
     "output_type": "stream",
     "text": [
      "[6, 3, 9, 1, 0, 2]\n",
      "[12, 6, 18, 2, 0, 4]\n"
     ]
    }
   ],
   "source": [
    "# Para começar, vamos definir a função.\n",
    "# A função dobrará cada item em uma lista. Para isso precisamos de um parâmetro que será a lista que queremos dobrar. \n",
    "# O nome do parametro será lst.\n",
    "# Um parametro é um valor que a função espera receber quando é chamada.\n",
    "\n",
    "def dobra(lst):\n",
    "    pos = 0\n",
    "    while pos < len(lst):\n",
    "        lst[pos] *= 2\n",
    "        pos += 1\n",
    "\n",
    "# pos é uma variável que usamos para percorrer a lista. Ela começa em 0 e aumenta em 1 a cada iteração do loop while. Ela representará a posição atual na lista, ou seja, o índice do item que estamos dobrando.\n",
    "\n",
    "# O while loop é usado para percorrer a lista. Ele continuará até que pos seja maior ou igual ao comprimento da lista. Nesse caso, o comprimento da lista é o número de itens na lista.\n",
    "# len(lst) retorna o número de itens na lista lst. Dessa forma, o loop continuará até que pos seja igual ao número de itens na lista, independentemente do tamanho da lista.\n",
    "\n",
    "# Dentro do loop temos lst[pos] *= 2. Isso dobra o valor do item na posição pos na lista lst.\n",
    "# lst[pos] é o item na posição pos na lista lst. *= 2 multiplica o valor do item por 2. Isso dobra o valor do item.\n",
    "# lst[pos] *= 2 é o mesmo que lst[pos] = lst[pos] * 2.\n",
    "\n",
    "# Ao final, temos pos += 1. Isso aumenta o valor de pos em 1. Isso é necessário para que o loop continue até que todos os itens na lista sejam dobrados.\n",
    "\n",
    "# Agora basta criarmos uma lista e chamar a função com essa lista como argumento.\n",
    "valores = [6, 3, 9, 1, 0, 2]\n",
    "\n",
    "# Se usarmos um print, veremos a lista original.\n",
    "print(valores)\n",
    "# Chamamos a função dobrar com a lista valores como argumento.\n",
    "dobra(valores)\n",
    "# Se usarmos um print, veremos a lista com os valores dobrados.\n",
    "print(valores)\n"
   ]
  }
 ],
 "metadata": {
  "kernelspec": {
   "display_name": "Python 3",
   "language": "python",
   "name": "python3"
  },
  "language_info": {
   "codemirror_mode": {
    "name": "ipython",
    "version": 3
   },
   "file_extension": ".py",
   "mimetype": "text/x-python",
   "name": "python",
   "nbconvert_exporter": "python",
   "pygments_lexer": "ipython3",
   "version": "3.12.1"
  }
 },
 "nbformat": 4,
 "nbformat_minor": 2
}
