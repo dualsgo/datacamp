{
 "cells": [
  {
   "cell_type": "markdown",
   "metadata": {},
   "source": [
    "# 📡 Trabalhando com APIs\n",
    "\n",
    "## 🔍 O que é uma API?\n",
    "\n",
    "API (**Application Programming Interface** ou **Interface de Programação de Aplicativos**) é um conjunto de regras e definições que facilita a comunicação entre diferentes sistemas. Elas permitem que um programa envie requisições a outro e receba respostas de volta.\n",
    "\n",
    "### 🍽️ Comparação com um restaurante:\n",
    "\n",
    "- O **cliente** (programa remetente) faz um pedido ao garçom.\n",
    "- O **garçom** (API) transmite o pedido para a cozinha (programa receptor).\n",
    "- A **cozinha** prepara a comida e a devolve ao garçom, que então a entrega ao cliente.\n",
    "\n",
    "Ou seja, a API recebe uma solicitação, processa essa solicitação (talvez consultando um banco de dados) e retorna uma resposta.\n",
    "\n",
    "---\n",
    "\n",
    "## 🌐 Como funciona uma requisição GET?\n",
    "\n",
    "Um dos métodos mais comuns de interação com uma API é o **GET**, que serve para recuperar informações. Vamos ver um exemplo real usando a API JSONPlaceholder, que fornece dados fictícios para testes:\n",
    "\n",
    "### Exemplo de requisição GET:\n",
    "```http\n",
    "GET https://jsonplaceholder.typicode.com/posts/1 HTTP/1.1\n",
    "```\n",
    "\n",
    "Se tudo ocorrer corretamente, a resposta será um **JSON** com os dados solicitados e um código de status **200**, indicando sucesso.\n",
    "\n",
    "### Exemplo em Python usando a biblioteca `requests`:\n",
    "\n",
    "📌 **O que acontece aqui?**\n",
    "- **requests.get(url)** faz a requisição GET para a URL.\n",
    "- **response.json()** converte a resposta JSON em um dicionário Python.\n",
    "- O conteúdo é impresso na tela."
   ]
  },
  {
   "cell_type": "code",
   "execution_count": null,
   "metadata": {},
   "outputs": [
    {
     "name": "stdout",
     "output_type": "stream",
     "text": [
      "{'userId': 1, 'id': 1, 'title': 'sunt aut facere repellat provident occaecati excepturi optio reprehenderit', 'body': 'quia et suscipit\\nsuscipit recusandae consequuntur expedita et cum\\nreprehenderit molestiae ut ut quas totam\\nnostrum rerum est autem sunt rem eveniet architecto'}\n"
     ]
    }
   ],
   "source": [
    "import requests\n",
    "\n",
    "# O método get é usado para fazer uma requisição GET. O argumento é a URL do recurso que queremos acessar.\n",
    "response = requests.get(\"https://jsonplaceholder.typicode.com/posts/1\")\n",
    "\n",
    "# Aqui, data será um dicionário Python com os dados retornados pela API. Usamos o método json() para converter o conteúdo da resposta para um dicionário Python.\n",
    "data = response.json()\n",
    "\n",
    "print(data)\n",
    "# A saída será:\n",
    "# {'userId': 1, 'id': 1, 'title': 'sunt aut facere repellat provident occaecati excepturi optio reprehenderit', 'body': 'quia et suscipit\\nsuscipit recusandae consequuntur expedita et cum"
   ]
  },
  {
   "cell_type": "markdown",
   "metadata": {},
   "source": [
    "## 📦 De onde a API obtém os dados?\n",
    "\n",
    "APIs geralmente se comunicam com bancos de dados. Em vez de escrever comandos SQL diretamente, usamos requisições HTTP para acessar os dados de forma mais fácil e organizada.\n",
    "\n",
    "---\n",
    "\n",
    "## ✉️ Requisições POST: Enviando dados para uma API\n",
    "\n",
    "O método **POST** é usado quando queremos enviar informações para um servidor, como criar um novo usuário ou postar um comentário.\n",
    "\n",
    "### Exemplo de requisição POST:\n",
    "```http\n",
    "POST https://jsonplaceholder.typicode.com/posts HTTP/1.1\n",
    "\n",
    "{\n",
    "  \"title\": \"Meu primeiro post\",\n",
    "  \"body\": \"Este é um exemplo de envio de dados via API.\",\n",
    "  \"userId\": 1\n",
    "}\n",
    "```\n",
    "\n",
    "### Exemplo em Python:"
   ]
  },
  {
   "cell_type": "code",
   "execution_count": 2,
   "metadata": {},
   "outputs": [
    {
     "name": "stdout",
     "output_type": "stream",
     "text": [
      "{'title': 'Meu primeiro post', 'body': 'Este é um exemplo de envio de dados via API.', 'userId': 1, 'id': 101}\n"
     ]
    }
   ],
   "source": [
    "import requests\n",
    "\n",
    "url = \"https://jsonplaceholder.typicode.com/posts\"\n",
    "data = {\n",
    "    \"title\": \"Meu primeiro post\",\n",
    "    \"body\": \"Este é um exemplo de envio de dados via API.\",\n",
    "    \"userId\": 1\n",
    "}\n",
    "\n",
    "response = requests.post(url, json=data)\n",
    "print(response.json())  # Exibe a resposta do servidor"
   ]
  },
  {
   "cell_type": "markdown",
   "metadata": {},
   "source": [
    "📌 **Diferente de GET, que apenas solicita dados, POST precisa de um corpo (body) contendo as informações a serem enviadas.**\n",
    "\n",
    "---\n",
    "\n",
    "## 🚀 Por que usar APIs?\n",
    "\n",
    "✅ **Facilidade de desenvolvimento** → Podemos integrar serviços existentes sem precisar recriar tudo do zero.\n",
    "\n",
    "✅ **Separação entre front-end e back-end** → Desenvolvedores podem trabalhar independentemente em cada parte do sistema.\n",
    "\n",
    "✅ **Automatização** → APIs permitem coletar dados automaticamente, como previsões do tempo, informações de ações da bolsa, e muito mais.\n",
    "\n",
    "---\n",
    "\n",
    "## 🗑️ Outros métodos de requisição HTTP\n",
    "\n",
    "### ❌ DELETE: Removendo dados\n",
    "\n",
    "O método **DELETE** é usado para excluir um recurso. Vamos ver um exemplo real com a API JSONPlaceholder:\n",
    "\n",
    "```http\n",
    "DELETE https://jsonplaceholder.typicode.com/posts/1 HTTP/1.1\n",
    "```\n",
    "\n",
    "### Exemplo em Python:"
   ]
  },
  {
   "cell_type": "code",
   "execution_count": 3,
   "metadata": {},
   "outputs": [
    {
     "name": "stdout",
     "output_type": "stream",
     "text": [
      "200\n"
     ]
    }
   ],
   "source": [
    "import requests\n",
    "\n",
    "url = \"https://jsonplaceholder.typicode.com/posts/1\"\n",
    "response = requests.delete(url)\n",
    "\n",
    "print(response.status_code)  # Retorna 200 se a exclusão foi bem-sucedida"
   ]
  },
  {
   "cell_type": "markdown",
   "metadata": {},
   "source": [
    "### ✏️ PUT: Atualizando um recurso (substitui completamente)\n",
    "\n",
    "O método **PUT** atualiza um objeto existente. Se ele não existir, pode criar um novo.\n",
    "\n",
    "```http\n",
    "PUT https://jsonplaceholder.typicode.com/posts/1 HTTP/1.1\n",
    "\n",
    "{\n",
    "  \"title\": \"Título atualizado\",\n",
    "  \"body\": \"Novo conteúdo do post\",\n",
    "  \"userId\": 1\n",
    "}\n",
    "```\n",
    "\n",
    "### Exemplo em Python:"
   ]
  },
  {
   "cell_type": "code",
   "execution_count": 4,
   "metadata": {},
   "outputs": [
    {
     "name": "stdout",
     "output_type": "stream",
     "text": [
      "{'title': 'Título atualizado', 'body': 'Novo conteúdo do post', 'userId': 1, 'id': 1}\n"
     ]
    }
   ],
   "source": [
    "import requests\n",
    "\n",
    "url = \"https://jsonplaceholder.typicode.com/posts/1\"\n",
    "data = {\n",
    "    \"title\": \"Título atualizado\",\n",
    "    \"body\": \"Novo conteúdo do post\",\n",
    "    \"userId\": 1\n",
    "}\n",
    "\n",
    "response = requests.put(url, json=data)\n",
    "print(response.json())  # Exibe a resposta do servidor"
   ]
  },
  {
   "cell_type": "markdown",
   "metadata": {},
   "source": [
    "### 🛠️ PATCH: Atualizando parcialmente um recurso\n",
    "\n",
    "Se quisermos modificar apenas parte de um objeto, usamos **PATCH**.\n",
    "\n",
    "```http\n",
    "PATCH https://jsonplaceholder.typicode.com/posts/1 HTTP/1.1\n",
    "\n",
    "{\n",
    "  \"title\": \"Novo título\"\n",
    "}\n",
    "```\n",
    "\n",
    "### Exemplo em Python:"
   ]
  },
  {
   "cell_type": "code",
   "execution_count": 5,
   "metadata": {},
   "outputs": [
    {
     "name": "stdout",
     "output_type": "stream",
     "text": [
      "{'userId': 1, 'id': 1, 'title': 'Novo título', 'body': 'quia et suscipit\\nsuscipit recusandae consequuntur expedita et cum\\nreprehenderit molestiae ut ut quas totam\\nnostrum rerum est autem sunt rem eveniet architecto'}\n"
     ]
    }
   ],
   "source": [
    "import requests\n",
    "\n",
    "url = \"https://jsonplaceholder.typicode.com/posts/1\"\n",
    "data = {\"title\": \"Novo título\"}\n",
    "\n",
    "response = requests.patch(url, json=data)\n",
    "print(response.json())  # Exibe a resposta do servidor"
   ]
  },
  {
   "cell_type": "markdown",
   "metadata": {},
   "source": [
    "## 🔑 Trabalhando com APIs que exigem autenticação\n",
    "\n",
    "Muitas APIs exigem autenticação com **chaves de API (API keys)** ou **tokens**. Vamos ver um exemplo real com a API OpenWeatherMap, que fornece previsões do tempo:"
   ]
  },
  {
   "cell_type": "code",
   "execution_count": 10,
   "metadata": {},
   "outputs": [
    {
     "name": "stdout",
     "output_type": "stream",
     "text": [
      "{'cod': 401, 'message': 'Invalid API key. Please see https://openweathermap.org/faq#error401 for more info.'}\n"
     ]
    }
   ],
   "source": [
    "import requests\n",
    "\n",
    "API_KEY = \"SUA_CHAVE_AQUI\"  # Substitua pela sua chave da OpenWeatherMap\n",
    "city = \"São Paulo\"\n",
    "\n",
    "url = f\"http://api.openweathermap.org/data/2.5/weather?q={city}&appid={API_KEY}\"\n",
    "\n",
    "response = requests.get(url)\n",
    "data = response.json()\n",
    "\n",
    "print(data)"
   ]
  },
  {
   "cell_type": "markdown",
   "metadata": {},
   "source": [
    "📌 **O que aprendemos aqui?**\n",
    "- A OpenWeatherMap exige uma chave de API.\n",
    "- Enviamos a chave como um parâmetro na URL para autenticar nossa requisição."
   ]
  },
  {
   "cell_type": "markdown",
   "metadata": {},
   "source": [
    "## 🗂️ Trabalhando com variáveis de ambiente\n",
    "\n",
    "Chaves de API nunca devem ser colocadas diretamente no código. Em vez disso, podemos armazená-las como **variáveis de ambiente**.\n",
    "\n",
    "### Criando um arquivo `.env`:"
   ]
  },
  {
   "cell_type": "code",
   "execution_count": 8,
   "metadata": {},
   "outputs": [],
   "source": [
    "API_KEY=\"SEU_TOKEN_AQUI\""
   ]
  },
  {
   "cell_type": "markdown",
   "metadata": {},
   "source": [
    "### Usando `dotenv` para carregar a chave:"
   ]
  },
  {
   "cell_type": "code",
   "execution_count": 9,
   "metadata": {},
   "outputs": [
    {
     "ename": "ModuleNotFoundError",
     "evalue": "No module named 'dotenv'",
     "output_type": "error",
     "traceback": [
      "\u001b[1;31m---------------------------------------------------------------------------\u001b[0m",
      "\u001b[1;31mModuleNotFoundError\u001b[0m                       Traceback (most recent call last)",
      "Cell \u001b[1;32mIn[9], line 2\u001b[0m\n\u001b[0;32m      1\u001b[0m \u001b[38;5;28;01mimport\u001b[39;00m \u001b[38;5;21;01mos\u001b[39;00m\n\u001b[1;32m----> 2\u001b[0m \u001b[38;5;28;01mimport\u001b[39;00m \u001b[38;5;21;01mdotenv\u001b[39;00m\n\u001b[0;32m      3\u001b[0m \u001b[38;5;28;01mfrom\u001b[39;00m \u001b[38;5;21;01mdotenv\u001b[39;00m \u001b[38;5;28;01mimport\u001b[39;00m load_dotenv\n\u001b[0;32m      5\u001b[0m load_dotenv()  \u001b[38;5;66;03m# Carrega variáveis do .env\u001b[39;00m\n",
      "\u001b[1;31mModuleNotFoundError\u001b[0m: No module named 'dotenv'"
     ]
    }
   ],
   "source": [
    "import os\n",
    "import dotenv\n",
    "from dotenv import load_dotenv\n",
    "\n",
    "load_dotenv()  # Carrega variáveis do .env\n",
    "API_KEY = os.getenv(\"API_KEY\")\n",
    "\n",
    "print(API_KEY)  # Agora sua chave está protegida"
   ]
  },
  {
   "cell_type": "markdown",
   "metadata": {},
   "source": [
    "\n",
    "## 📊 Manipulação de respostas de API\n",
    "\n",
    "Se quisermos buscar informações sobre um Pokémon usando a **PokeAPI**, podemos fazer:"
   ]
  },
  {
   "cell_type": "code",
   "execution_count": 6,
   "metadata": {},
   "outputs": [
    {
     "name": "stdout",
     "output_type": "stream",
     "text": [
      "pikachu\n",
      "[{'ability': {'name': 'static', 'url': 'https://pokeapi.co/api/v2/ability/9/'}, 'is_hidden': False, 'slot': 1}, {'ability': {'name': 'lightning-rod', 'url': 'https://pokeapi.co/api/v2/ability/31/'}, 'is_hidden': True, 'slot': 3}]\n"
     ]
    }
   ],
   "source": [
    "import requests\n",
    "\n",
    "response = requests.get(\"https://pokeapi.co/api/v2/pokemon/pikachu\")\n",
    "data = response.json()\n",
    "\n",
    "print(data[\"name\"])  # Exibe o nome do Pokémon\n",
    "print(data[\"abilities\"])  # Lista as habilidades do Pokémon"
   ]
  },
  {
   "cell_type": "markdown",
   "metadata": {},
   "source": [
    "📌 **O que aprendemos?**\n",
    "- APIs retornam JSON, que podemos acessar como dicionários.\n",
    "- Podemos extrair informações específicas."
   ]
  }
 ],
 "metadata": {
  "kernelspec": {
   "display_name": "Python 3",
   "language": "python",
   "name": "python3"
  },
  "language_info": {
   "codemirror_mode": {
    "name": "ipython",
    "version": 3
   },
   "file_extension": ".py",
   "mimetype": "text/x-python",
   "name": "python",
   "nbconvert_exporter": "python",
   "pygments_lexer": "ipython3",
   "version": "3.12.1"
  }
 },
 "nbformat": 4,
 "nbformat_minor": 2
}
