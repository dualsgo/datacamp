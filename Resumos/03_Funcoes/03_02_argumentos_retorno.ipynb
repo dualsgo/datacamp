{
 "cells": [
  {
   "cell_type": "markdown",
   "metadata": {},
   "source": [
    "# *Funções*\n",
    "\n",
    "---\n",
    "\n",
    "Programas frequentemente precisam executar tarefas repetitivas. Em vez de reescrever o mesmo código várias vezes, podemos usar funções para agrupar código relacionado e executar a tarefa em um único lugar.\n",
    "\n",
    "*``O que são funções?``*\n",
    "\n",
    "Em programação, uma função é uma ``rotina`` que contém atividades ou ações que são executadas regularmente, encapsuladas em uma parte separada do código. As funções podem realizar várias tarefas, como:\n",
    "\n",
    "- Causar algum efeito, como exibir um texto na tela.\n",
    "- Avaliar um valor, como calcular uma soma.\n",
    "- Retornar um valor, como o resultado de uma operação.\n",
    "\n",
    "*``Tipos de funções:``*\n",
    "\n",
    "1. *``Funções internas do Python:``* São funções que fazem parte da linguagem Python e não requerem instalação adicional para serem utilizadas. Um exemplo é a função `print()`, que imprime na tela.\n",
    "\n",
    "2. *``Funções de bibliotecas externas:``* São funções disponíveis em bibliotecas externas que precisam ser instaladas antes de serem utilizadas. Um exemplo é a função `sqrt()` da biblioteca `math`, que calcula a raiz quadrada de um número.\n",
    "\n",
    "3. *``Funções definidas pelo usuário:``* São funções criadas pelo próprio programador para realizar tarefas específicas. Elas são definidas usando a palavra-chave `def` seguida pelo nome da função e sua sintaxe. Por exemplo, a função `soma()` pode ser definida para calcular a soma de dois números.\n",
    "\n",
    "Ao usar funções, podemos tornar nosso código mais organizado, legível e fácil de manter. Elas ajudam a modularizar o código, permitindo a reutilização de blocos de código em diferentes partes do programa."
   ]
  },
  {
   "cell_type": "code",
   "execution_count": null,
   "metadata": {},
   "outputs": [],
   "source": [
    "# Exemplo de função de biblioteca externa:\n",
    "import math\n",
    "raiz = math.sqrt(16)\n",
    "print(raiz)  # Saída: 4.0\n",
    "\n",
    "# Exemplo de função de biblioteca embutida:\n",
    "print(\"Olá, mundo!\")  # Saída: Olá, mundo!\n",
    "\n",
    "# Exemplo de função definida pelo usuário:\n",
    "def soma(a, b):\n",
    "    return a + b\n",
    "\n",
    "resultado = soma(5, 3)\n",
    "print(resultado)  # Saída: 8"
   ]
  },
  {
   "cell_type": "markdown",
   "metadata": {},
   "source": [
    "## *Definindo uma função*\n",
    "\n",
    "---\n",
    "\n",
    "Para declarar uma função em Python, utilizamos a seguinte sintaxe:\n",
    "\n",
    "- A palavra-chave `def` (que significa \"definir\", indicando que estamos definindo uma função).\n",
    "- O nome da função, seguindo as mesmas regras de nomenclatura que as variáveis.\n",
    "- Abertura e fechamento de parênteses. Dentro destes parênteses, podem ou não haver parâmetros.\n",
    "- Para indicar o início do bloco de código da função, usamos dois pontos `:`.\n",
    "- O bloco de código da função é então indentado. A indentação é um espaço em branco no início de uma linha de código. Em Python, a indentação é fundamental, pois indica que o código indentado faz parte do bloco de código anterior. As regras de indentação são as mesmas para instruções `if`, `for`, `while`, etc. Você pode usar espaços ou tabulações, mas não deve misturar os dois."
   ]
  },
  {
   "cell_type": "code",
   "execution_count": null,
   "metadata": {},
   "outputs": [],
   "source": [
    "# Seguindo as instruções acima, vamos definir uma função:\n",
    "def funcao():\n",
    "    print('Código que será executado.')\n",
    "\n",
    "\n",
    "# Para executar o código, precisamos chamar a função. Fazemos isso codificando seu nome seguido de parênteses.\n",
    "funcao()\n",
    "\n",
    "# Nossa função de exemplo é simples. Ela não requer argumentos para ser executada e não retorna nenhum valor e sim um efeito (Não podemos fazer nada com o valor retornado, pois não há valor retornado. A função apenas imprime uma mensagem na tela)."
   ]
  },
  {
   "cell_type": "code",
   "execution_count": null,
   "metadata": {},
   "outputs": [],
   "source": [
    "# Observação: Ao dizer que nossa função não retorna nenhum valor, isso não está totalmente correto. Na verdade, todas as funções em Python retornam um valor. Se não especificarmos um valor de retorno, a função retornará None. None é um valor especial em Python que representa a ausência de um valor. Se uma função não tiver uma instrução return, ela retornará None.\n",
    "\n",
    "def funcao2():\n",
    "    pass # A instrução pass é um espaço reservado. Ela não faz nada, mas é útil quando precisamos de um bloco de código que não faz nada. Isso pode ser útil para criar uma função vazia ou um loop vazio, como é o caso aqui onde não queremos que nada aconteça quando chamamos a função para mostrar o valor retornado, apesar da função não ter uma instrução return.\n",
    "\n",
    "\n",
    "print(funcao2()) # Saída: None"
   ]
  },
  {
   "cell_type": "code",
   "execution_count": null,
   "metadata": {},
   "outputs": [],
   "source": [
    "# Vamos alterar um pouco a função. Agora ela irá receber um parâmetro e imprimir o valor desse parâmetro.\n",
    "\n",
    "def funcao_com_parametro(parametro):\n",
    "    # O parâmetro é uma variável local à função, ou seja, só existe dentro da função.\n",
    "    print(f'O valor do parâmetro é: {parametro}')\n",
    "\n",
    "\n",
    "# Agora, ao chamar a função, precisamos passar um valor para o parâmetro. Chamamos o valor passado para a função de argumento. O valor do argumento é atribuído ao parâmetro da função.\n",
    "\n",
    "funcao_com_parametro('Olá, mundo!') # O argumento é o valor que passamos para a função quando a chamamos."
   ]
  },
  {
   "cell_type": "markdown",
   "metadata": {},
   "source": [
    "*``Observações:``*\n",
    "\n",
    "Ao escrever suas próprias funções, devemos dar a elas nomes significativos que deixam claro o que elas fazem. Por exemplo, se você escrever uma função que exibe um texto na tela, você pode chamá-la de exibe_texto().\n",
    "\n",
    "O programa principal deve estar a duas linhas de distância da função."
   ]
  },
  {
   "cell_type": "markdown",
   "metadata": {},
   "source": [
    "## *Parâmetros e Argumentos*\n",
    "\n",
    "---\n",
    "\n",
    "Em muitas situações, as funções precisam de informações específicas para executar suas tarefas de maneira adequada. A capacidade de receber dados do invocador torna uma função mais poderosa, flexível e adaptável às condições variáveis.\n",
    "\n",
    "*Parâmetros em Funções:*\n",
    "\n",
    "Os parâmetros são os mecanismos pelos quais as funções recebem dados para serem processados. Em Python, uma função pode ter zero ou mais parâmetros, dependendo das necessidades específicas. Esses parâmetros são especificados entre parênteses na declaração da função e atuam como variáveis dentro do escopo da função.\n",
    "\n",
    "*Exemplo:*\n",
    "```python\n",
    "def saudacao(nome):\n",
    "    print(\"Olá,\", nome)\n",
    "\n",
    "saudacao(\"Maria\")\n",
    "```\n",
    "\n",
    "Neste exemplo, `nome` é um parâmetro da função `saudacao()`. Quando a função é chamada com o argumento `\"Maria\"`, o valor `\"Maria\"` é atribuído ao parâmetro `nome`.\n",
    "\n",
    "*Argumentos em Funções:*\n",
    "\n",
    "Os argumentos são os valores fornecidos quando uma função é chamada. Eles correspondem aos parâmetros especificados na declaração da função e são passados entre parênteses durante a chamada da função.\n",
    "\n",
    "*Exemplo:*\n",
    "```python\n",
    "def soma(a, b):\n",
    "    return a + b\n",
    "\n",
    "resultado = soma(3, 5)\n",
    "```\n",
    "\n",
    "Neste exemplo, `3` e `5` são argumentos passados para os parâmetros `a` e `b`, respectivamente, da função `soma()`. O resultado da função é atribuído à variável `resultado`.\n",
    "\n",
    "É importante notar que os parênteses são necessários mesmo que não haja argumentos. Por exemplo, `print()` é uma função que pode ser chamada sem argumentos para imprimir uma linha em branco.\n",
    "\n",
    "Os parâmetros existem apenas no escopo da função em que são definidos e são atribuídos valores quando a função é chamada, especificando os argumentos correspondentes."
   ]
  },
  {
   "cell_type": "code",
   "execution_count": null,
   "metadata": {},
   "outputs": [],
   "source": [
    "# Nossa função de exemplo tem a tarefa de exibir uma mensagem na tela, utilizando o nome fornecido pelo usuário.\n",
    "\n",
    "# Para passar o valor para uma função, primeiro adicionamos uma variável chamada parâmetro entre os parênteses.\n",
    "def ola_nome(nome):\n",
    "    print(f'Olá, {nome}')\n",
    "\n",
    "# O parâmetro atua como uma variável que armazena um valor.\n",
    "# Ainda não tem um valor interno. O valor é passado para a função quando a chamamos.\n",
    "\n",
    "# Para passar um valor para a variável, colocamos entre parênteses quando chamamos a função\n",
    "ola_nome('Douglas')\n",
    "\n",
    "# O valor passado para a função é chamado de argumento.\n",
    "\n",
    "# Altere o valor do argumento para ver como ele afeta a saída da função.\n",
    "ola_nome('João')"
   ]
  },
  {
   "cell_type": "code",
   "execution_count": null,
   "metadata": {},
   "outputs": [],
   "source": [
    "# Se nenhum valor for passado para a função, o parâmetro não terá um valor definido.\n",
    "# Isso pode causar um erro se tentarmos usar o parâmetro dentro da função sem atribuir um valor a ele.\n",
    "ola_nome() # Saída: TypeError: ola_nome() missing 1 required positional argument: 'nome'"
   ]
  },
  {
   "cell_type": "code",
   "execution_count": null,
   "metadata": {},
   "outputs": [],
   "source": [
    "# Podemos definir um valor padrão para o parâmetro. Isso significa que, se não passarmos um valor para o parâmetro, ele usará o valor padrão definido na função.\n",
    "def ola_nome(nome='Mundo'):\n",
    "    print(f'Olá, {nome}')\n",
    "    \n",
    "\n",
    "# Agora, se não passarmos um valor para o parâmetro, ele usará o valor padrão 'Mundo'.\n",
    "ola_nome() # Saída: Olá, Mundo!"
   ]
  },
  {
   "cell_type": "markdown",
   "metadata": {},
   "source": [
    "*``Não se esqueça:``*\n",
    "- parâmetros vivem em funções internas (este é o ambiente natural)\n",
    "- argumentos existem fora das funções e são portadores de valores passados para os parâmetros correspondentes."
   ]
  },
  {
   "cell_type": "markdown",
   "metadata": {},
   "source": [
    "## *Chamada de Função*\n",
    "\n",
    "---\n",
    "\n",
    "Em Python, as definições de função são lidas e armazenadas na memória, mas não são executadas automaticamente. É necessário instruir o Python a executar uma função, o que é conhecido como invocação da função.\n",
    "\n",
    "*Como invocar uma função:*\n",
    "\n",
    "A invocação de uma função é feita utilizando o nome da função, seguido pelos parênteses contendo os argumentos, se houver.\n",
    "\n",
    "Por exemplo:\n",
    "```python\n",
    "saudacao(\"Maria\")\n",
    "```\n",
    "\n",
    "Neste caso, `saudacao` é o nome da função e `\"Maria\"` é o argumento passado para o parâmetro `nome`.\n",
    "\n",
    "*O que acontece durante a invocação:*\n",
    "\n",
    "Quando uma função é invocada, o Python:\n",
    "\n",
    "1. Verifica se o nome especificado corresponde a uma função definida no código. Se não encontrar a função, o Python retornará um erro.\n",
    "\n",
    "2. Verifica se o número de argumentos passados corresponde aos requisitos da função. Se o número de argumentos estiver incorreto (a menos que os argumentos sejam opcionais), o Python retornará um erro.\n",
    "\n",
    "3. Salta para o corpo da função e executa o código contido nele, utilizando os argumentos passados.\n",
    "\n",
    "4. Após a execução do corpo da função, o Python retorna ao ponto de chamada no código original.\n",
    "\n",
    "*Boas práticas:*\n",
    "\n",
    "- Evite invocar uma função que não tenha sido definida previamente. O Python lê o código de cima para baixo e não irá procurar por funções que ainda não foram definidas.\n",
    "\n",
    "- Evite utilizar o mesmo nome para funções e variáveis, pois isso pode causar confusão e erros no código.\n",
    "\n",
    "- Utilize nomes descritivos para suas funções, seguindo um padrão que torne sua função facilmente compreensível e identificável.\n",
    "\n",
    "Durante a invocação de uma função, os parâmetros são passados entre parênteses e o programa executa as tarefas com os valores fornecidos."
   ]
  },
  {
   "cell_type": "code",
   "execution_count": null,
   "metadata": {},
   "outputs": [],
   "source": [
    "# A definição especifica que nossa função opera em apenas um parâmetro chamado number. Esse parâmetro funciona como uma variável local, ou seja, só existe dentro do escopo da função enquanto ela está sendo executada. Ele não é acessível fora da função. Assim que a execução da função termina, o parâmetro desaparece. É uma boa prática dar nomes descritivos aos parâmetros, que indiquem claramente o que eles representam. Por exemplo, em uma função que calcula a área de um círculo, o parâmetro poderia ser chamado de \"raio\" para indicar seu propósito.\n",
    "\n",
    "def message(number):\n",
    "    print(\"Digite um número:\", number)\n",
    "\n",
    "\n",
    "message(1) \n",
    "message(598)\n",
    "\n",
    "# Você consegue ver como isso funciona? O valor do argumento usado durante a invocação foi passado para a função, definindo o valor inicial do parâmetro chamado number. Ou seja, o argumento 1 foi atribuído ao parâmetro number. Assim, quando a função é chamada, o valor do argumento é passado para o parâmetro e a função imprime o valor do parâmetro. O mesmo acontece com o segundo exemplo, onde o número 598 foi passado como argumento e atribuído ao parâmetro number. Portanto, a função imprime o valor 598."
   ]
  },
  {
   "cell_type": "markdown",
   "metadata": {},
   "source": [
    "Um valor para o parâmetro chegará do ambiente da função. Lembre-se: especificar um ou mais parâmetros na definição de uma função também é um requisito, e você precisa preenchê-lo durante a chamada. Você deve fornecer quantos argumentos houver parâmetros definidos. Não fazer isso causará um erro."
   ]
  },
  {
   "cell_type": "code",
   "execution_count": null,
   "metadata": {},
   "outputs": [],
   "source": [
    "def message(number): # Função definida com um parâmetro\n",
    "  print(\"Digite um número:\", number)\n",
    "\n",
    "\n",
    "message() # Função chamada sem argumento\n",
    "\n",
    "# Error: message() missing 1 required positional argument: 'number'\n",
    "# A função requer um argumento, mas não foi fornecido nenhum."
   ]
  },
  {
   "cell_type": "code",
   "execution_count": null,
   "metadata": {},
   "outputs": [],
   "source": [
    "def message(number): # Função definida com um parâmetro\n",
    "    print(\"Digite um número:\", number)\n",
    "\n",
    "\n",
    "message(1, 2) # Função chamada com dois argumentos\n",
    "\n",
    "# Error: message() takes 1 positional argument but 2 were given\n",
    "# A função foi definida para aceitar um argumento, mas você tentou passar dois argumentos para ela."
   ]
  },
  {
   "cell_type": "markdown",
   "metadata": {},
   "source": [
    "``Temos que torná-lo sensível a uma circunstância importante:`` É legal e possível ter uma variável com o mesmo parâmetro de função."
   ]
  },
  {
   "cell_type": "code",
   "execution_count": null,
   "metadata": {},
   "outputs": [],
   "source": [
    "# O trecho ilustra o fenômeno:\n",
    "def message(number):\n",
    "    print(\"Argumento da função:\", number)\n",
    "# Aqui, a função message() é definida com um parâmetro chamado number.\n",
    "\n",
    "\n",
    "# Fora do escopo da função, criamos uma variável chamada number e atribuímos a ela o valor 1234.\n",
    "number = 1234\n",
    "\n",
    "# Chamamos a função message() e passamos o valor 1 como argumento.\n",
    "# Isso significa que o valor 1 será atribuído ao parâmetro number dentro da função message().\n",
    "message(1)\n",
    "\n",
    "# Exibimos o valor da variável number que foi definida fora da função.\n",
    "print(f'Exibindo a variável: {number}')\n",
    "\n",
    "# Agora usamos a variável number como argumento da função que tem como parâmetro o mesmo nome.\n",
    "message(number)\n",
    "\n",
    "# Neste exemplo, o valor da variável number foi passado como argumento para a função message(), mas como veremos a seguir, uam coisa importante a se considerar é o escopod as variáveis."
   ]
  },
  {
   "cell_type": "markdown",
   "metadata": {},
   "source": [
    "Uma situação como essa ativa um mecanismo chamado shadowing:\n",
    "\n",
    "O parâmetro da função é obscurecido pela variável global com o mesmo nome.\n",
    "O parâmetro ainda existe, mas não é visível dentro da função.\n",
    "Evitamos esse fenômeno, dando nomes diferentes às variáveis e parâmetros."
   ]
  },
  {
   "cell_type": "code",
   "execution_count": null,
   "metadata": {},
   "outputs": [],
   "source": [
    "# Como antes, criamos uma variável chamada x fora da função e atribuímos a ela o valor 10. Essa variável é chamada de variável global, pois pode ser acessada de qualquer lugar do código, incluindo dentro de funções. Dessa vez, criamos a variável antes da definição da função\n",
    "x = 10  # Variável global\n",
    "\n",
    "# Nossa função será definida sem um parâmetro, mas dentro dela, vamos criar uma variável chamada x e atribuir a ela o valor 20. Essa variável é chamada de variável local, pois só existe dentro do escopo da função.\n",
    "def funcao():\n",
    "    x = 20  # Variável local\n",
    "    print(\"Dentro da função:\", x)\n",
    "\n",
    "# Assim, quando chamamos a função, a variável local x irá sombrear a variável global x. Isso significa que dentro da função, quando referenciamos x, estamos nos referindo à variável local e não à variável global.\n",
    "\n",
    "print(\"Fora da função:\", x)  # Aqui x mantém o valor global\n",
    "\n",
    "funcao() # Chamamos a função para exibir o valor da variável local x\n",
    "\n",
    "print(\"Fora da função:\", x)  # Aqui x mantém o valor global\n",
    "\n",
    "# Note que apesar de a variável x ser definida fora da função, ela não é acessível dentro da função. A variável x dentro da função é uma variável local que sombreia a variável global x."
   ]
  },
  {
   "cell_type": "markdown",
   "metadata": {},
   "source": [
    "## *`Escopo`*\n",
    "---\n",
    "O escopo de um nome (por exemplo, um nome de variável) é a parte de um código onde o nome é reconhecível corretamente.\n",
    "\n",
    "Por exemplo, o escopo do parâmetro de uma função é a própria função. O parâmetro está inacessível fora da função."
   ]
  },
  {
   "cell_type": "code",
   "execution_count": null,
   "metadata": {},
   "outputs": [],
   "source": [
    "def teste_escopo():\n",
    "\ty = 123  # definimos que y é uma variável local para teste_escopo() - não pode ser usada fora da função\n",
    "\tprint(y)  # Efeito\n",
    "\n",
    "\n",
    "# Ao chamar a função o efeito fica visível\n",
    "teste_escopo()  # saídas: 123"
   ]
  },
  {
   "cell_type": "code",
   "execution_count": null,
   "metadata": {},
   "outputs": [],
   "source": [
    "# Mas se tentarmos acessar a variável y fora da função, o Python retornará um erro pois y não foi definido (globalmente, somente dentro da função)\n",
    "print(y)\n",
    "\n",
    "# Erro de execução: NameError: name 'y' is not defined\n",
    "# A variável y não foi definida globalmente, então não pode ser acessada fora da função."
   ]
  },
  {
   "cell_type": "markdown",
   "metadata": {},
   "source": [
    "Vamos começar verificando se uma variável criada fora de qualquer função é visível dentro das funções. Em outras palavras, o nome de uma variável se propaga no corpo de uma função?"
   ]
  },
  {
   "cell_type": "code",
   "execution_count": null,
   "metadata": {},
   "outputs": [],
   "source": [
    "def my_function():\n",
    "\tprint(var)  # Repare que var ainda não foi definida, mas...\n",
    "\n",
    "\n",
    "var = 3  # ao definir a variável fora da função, ela é visível dentro da função. Parece contra intuitivo, já que a variável foi utilizada antes de ser definida.\n",
    "\n",
    "# Ao chamar a função o efeito fica visível - Isso é possível pois o Python não executa o corpo da função até que a função seja chamada. Então, quando a função é chamada, a variável já foi definida mesmo que o código que define venha depois da função.\n",
    "my_function()\n",
    "\n",
    "# Se exibir a variavel, o valor será exibido normalmente\n",
    "print(var)"
   ]
  },
  {
   "cell_type": "markdown",
   "metadata": {},
   "source": [
    "Essa regra tem uma exceção muito importante. Vamos tentar encontrar."
   ]
  },
  {
   "cell_type": "code",
   "execution_count": null,
   "metadata": {},
   "outputs": [],
   "source": [
    "def my_function():\n",
    "\tvar = 2  # var foi definida dentro da função, isso a torna uma variável local\n",
    "\tprint(var)\n",
    "\n",
    "\n",
    "var = 1  # de novo, definimos a variável com o mesmo nome fora da função e com um valor diferente\n",
    "\n",
    "# Ao chamar a função o valor da variável local é o que é impresso, pois a variável local tem precedência sobre a variável global.\n",
    "my_function()  \n",
    "\n",
    "# Se chamarmos a variável fora da função, o valor da variável global é impresso.\n",
    "print(var)"
   ]
  },
  {
   "cell_type": "markdown",
   "metadata": {},
   "source": [
    "Podemos tornar a regra anterior mais precisa e adequada:\n",
    "\n",
    "- Uma variável existente fora de uma função tem escopo dentro do corpo da função, excluindo aquelas que definem uma variável com o mesmo nome.\n",
    "- Também significa que o escopo de uma variável existente fora de uma função é suportado apenas ao *``obter seu valor (leitura)``*. A atribuição de um valor força a criação da própria variável da função.\n",
    "\n",
    "*Resumindo até aqui;*\n",
    "\n",
    "*``Escopo Global:``*\n",
    "Se uma variável é definida fora de uma função, ela tem um *``escopo global``*. Isso significa que ela *``pode ser acessada de qualquer lugar no programa``*, incluindo dentro de funções.\n",
    "Se uma função tentar modificar o valor dessa variável usando a atribuição (=), a função criará uma variável local com o mesmo nome, não afetando a variável global fora da função.\n",
    "\n",
    "*``Escopo Local:``* Se você define uma variável dentro de uma função, ela tem um *``escopo local``*. Isso significa que ela *``só é acessível dentro dessa função``*.\n",
    "Se houver uma variável global com o mesmo nome, a função irá preferir a variável local. A função pode ler a variável global, mas se você atribuir um valor a ela, a função criará uma nova variável local."
   ]
  },
  {
   "cell_type": "code",
   "execution_count": null,
   "metadata": {},
   "outputs": [],
   "source": [
    "# E se tentar atribuir a variável local o valor da variavel global de mesmo nome?\n",
    "var =  3\n",
    "\n",
    "def my_function():\n",
    "    var = var  # var foi definida dentro da função, isso a torna uma variável local\n",
    "    print(var)\n",
    "\n",
    "# my_function()  # Saída: UnboundLocalError: local variable 'var' referenced before assignment\n",
    "\n",
    "# O erro ocorre porque o Python não consegue atribuir o valor da variável global à variável local, pois a variável local ainda não foi definida. Para resolver isso, podemos usar a palavra-chave global para indicar que queremos usar a variável global dentro da função."
   ]
  },
  {
   "cell_type": "markdown",
   "metadata": {},
   "source": [
    "### *`A palavra-chave global`*\n",
    "---\n",
    "Há um método Python especial que pode estender o escopo de uma variável de uma forma que inclua o corpo da função (mesmo se você quiser não apenas ler os valores, mas também modificá-los).\n",
    "\n",
    "Tal efeito é causado por uma palavra-chave chamada ``global``:\n",
    "\n",
    "Usar essa palavra-chave dentro de uma função com o nome (ou nomes separados por vírgulas) de uma variável (ou variáveis), força o Python a não criar uma nova variável dentro da função - a que pode ser acessada de fora será usada."
   ]
  },
  {
   "cell_type": "code",
   "execution_count": null,
   "metadata": {},
   "outputs": [],
   "source": [
    "# Para facilitar o entendimento, vamos definir a função primeiro e criar a variável global depois. Isso não muda o funcionamento do código, mas pode ajudar a entender o que está acontecendo.\n",
    "\n",
    "# Definimos a função com a palavra-chave global, que indica que a variável var é global e pode ser acessada dentro da função.\n",
    "def my_function():\n",
    "\tglobal var\n",
    "\tvar = 2  # Atribimos o valor 2 à variável global var dentro da função\n",
    "\tprint(var)\n",
    "\n",
    "\n",
    "# Aqui, definimos a variável global var fora da função com o valor 1.\n",
    "var = 1\n",
    "print(var) # Para mostrar o valor da variável global antes de chamar a função.\n",
    "\n",
    "# Ao chamar a função, executamos o corpo da função, que contém uma instrução global que modifica o valor da variável dentro e fora da função. A partir de agora, var vale 2.\n",
    "my_function()\n",
    "\n",
    "print(var)  # saída: 2\n",
    "# Observe que a mudança de valor só ocorre após a chamada da função."
   ]
  },
  {
   "cell_type": "markdown",
   "metadata": {},
   "source": [
    "### *`Usando vários parâmetros`*\n",
    "---\n",
    "\n",
    "Uma função pode ter quantos parâmetros você quiser, mas quanto mais parâmetros tiver, mais difícil será memorizar suas funções e propósitos."
   ]
  },
  {
   "cell_type": "code",
   "execution_count": null,
   "metadata": {},
   "outputs": [],
   "source": [
    "def mensagem(primeiro, segundo):\n",
    "    print(\"Primeiro:\", primeiro, \"\\nSegundo:\", segundo)\n",
    "    \n",
    "# Isso também significa que a invocação da função exigirá dois argumentos.\n",
    "mensagem(\"um\", 1)"
   ]
  },
  {
   "cell_type": "code",
   "execution_count": null,
   "metadata": {},
   "outputs": [],
   "source": []
  },
  {
   "cell_type": "markdown",
   "metadata": {},
   "source": [
    "Os tipos de parâmetros e argumentos não são verificados pelo Python. Você pode passar qualquer valor para qualquer parâmetro. O Python não se importa com isso. *É sua responsabilidade garantir que os valores sejam adequados para o propósito da função.*\n",
    "\n",
    "As funções precisam de vários parâmetros para executar tarefas em mais dados. Podemos criar funções com um único parâmetro ou adicionar mais, os separando com vírgula.\n",
    "\n",
    "Para passar os valores para a função também os separamos com vírgula. Passamos os valores para uma função na ordem dos parâmetros. Podemos adicionar quantos valores quisermos, desde que os separemos por vírgula."
   ]
  },
  {
   "cell_type": "code",
   "execution_count": null,
   "metadata": {},
   "outputs": [],
   "source": [
    "def infos(nome, idade, sexo):\n",
    "    texto = f'Olá, {nome}. Sua idade é {idade} e o seu sexo é {sexo}.'\n",
    "    return texto # retorna um valor\n",
    "\n",
    "# Altere os valores dos argumentos para ver como eles afetam a saída da função.\n",
    "\n",
    "print(infos('Douglas', 25, 'masculino'))\n",
    "# Obs.: Aqui usamos a função print() para exibir o valor retornado pela função infos() pois a função infos() não contém uma instrução print(). Estamos retornando um valor, não um efeito.\n",
    "\n",
    "\n",
    "# Como nossa função retorna um valor, podemos armazenar esse valor em uma variável ou exibi-lo diretamente.\n",
    "informacoes = infos('Maria', 19, 'feminino')\n",
    "print(informacoes)"
   ]
  },
  {
   "cell_type": "markdown",
   "metadata": {},
   "source": [
    "### Parâmetros posicionais\n",
    "\n",
    "Uma técnica que atribui o i-ésimo (primeiro, segundo e assim por diante) argumento para o i-ésimo (primeiro, segundo, etc.) parâmetro de função é chamada de passagem de parâmetro posicional, enquanto argumentos passados dessa maneira são chamados de argumento posicional.\n",
    "\n",
    "Os valores dos argumentos precisam ser passados na ordem em que estão os valores dos parâmetros."
   ]
  },
  {
   "cell_type": "code",
   "execution_count": null,
   "metadata": {},
   "outputs": [],
   "source": [
    "def my_function(a, b, c): # a, b, c são parâmetros, exatamente nessa ordem\n",
    "    print(f'a = {a}, b = {b}, c = {c}')\n",
    "\n",
    "\n",
    "# Isso significa que os argumentos passados para a função devem ser colocados na mesma ordem.\n",
    "#           a, b, c \n",
    "my_function(1, 2, 3)\n",
    "my_function(3, 2, 1)\n",
    "my_function(1, 3, 2)\n",
    "my_function(2, 1, 3)\n",
    "\n",
    "# É seu dever garantir que os argumentos sejam passados na ordem correta. Se você inverter a ordem, os valores serão atribuídos aos parâmetros de maneira diferente e causarão resultados inesperados."
   ]
  },
  {
   "cell_type": "markdown",
   "metadata": {},
   "source": [
    "### Parâmetros de palavra-chave\n",
    "\n",
    "O Python oferece outra convenção para a passagem de argumentos, em que o significado do argumento é determinado por seu nome, e não por sua posição - é chamado de passagem de argumento de palavra-chave.\n",
    "\n",
    "O conceito é claro - os valores passados para os parâmetros são precedidos pelos nomes dos parâmetros de destino, seguidos pelo sinal =.\n",
    "\n",
    "A posição não importa aqui - o valor de cada argumento sabe seu destino com base no nome usado.\n",
    "\n",
    "Obviamente, você não deve usar um nome de parâmetro inexistente. O Python não aceitará isso e gerará um erro."
   ]
  },
  {
   "cell_type": "code",
   "execution_count": null,
   "metadata": {},
   "outputs": [],
   "source": [
    "def introducao(primeiro_nome, sobrenome):\n",
    "    print(\"Olá meu nome é\", primeiro_nome, sobrenome)\n",
    "\n",
    "\n",
    "introducao(primeiro_nome = \"James\", sobrenome = \"Bond\") # Olá meu nome é James Bond\n",
    "introducao(sobrenome = \"Skywalker\", primeiro_nome = \"Luke\") # Olá meu nome é Luke Skywalker"
   ]
  },
  {
   "cell_type": "markdown",
   "metadata": {},
   "source": [
    "Você pode combinar os dois estilos, se quiser - há apenas uma regra inquebrável:\n",
    "\n",
    "*`Você precisa colocar argumentos posicionais antes dos argumentos das palavras-chave.`*\n",
    "\n",
    "Se você pensar por um momento, certamente entenderá o porquê."
   ]
  },
  {
   "cell_type": "code",
   "execution_count": null,
   "metadata": {},
   "outputs": [],
   "source": [
    "def adding(a, b, c):\n",
    "    print(a, \"+\", b, \"+\", c, \"=\", a + b + c)\n",
    "\n",
    "\n",
    "# A função, quando chamada da seguinte maneira:\n",
    "adding(1, 2, 3)\n",
    "#      a  b  c\n",
    "\n",
    "# Essa é a forma posicional, onde a assume o valor passado como 1, b assume o valor passado como 2 e c assume o valor passado como 3.\n",
    "\n",
    "# Obviamente, você pode substituir essa chamada por uma variante de palavra-chave, como esta:\n",
    "adding(c = 3, a = 1, b = 2)\n",
    "# ou esta:\n",
    "adding(b = 2, c = 3, a = 1)\n",
    "# até mesmo esta:\n",
    "adding(a = 1, c = 3, b = 2)\n",
    "\n",
    "# Vamos tentar combinar os dois estilos agora.\n",
    "adding(1, c = 3, b = 2)"
   ]
  },
  {
   "cell_type": "markdown",
   "metadata": {},
   "source": [
    "Vamos analisar:\n",
    "\n",
    "No primeiro exemplo, o argumento c é passado antes dos argumentos a e b, mas o Python ainda consegue associar o valor correto a cada parâmetro.\n",
    "\n",
    "```python\n",
    "adding(c = 3, a = 1, b = 2)\n",
    "```\n",
    "\n",
    "No segundo caso, o argumento a é passado primeiro, apesar de não estar explicito. Seguido por c e b. O Python ainda consegue associar os valores corretos a cada parâmetro.\n",
    "\n",
    "```python\n",
    "adding(1, c = 3, b = 2)\n",
    "```\n",
    "\n",
    "Com isso concluímos que a ordem dos argumentos é importante quando se trata de argumentos posicionais, mas não é importante quando se trata de argumentos de palavra-chave.\n",
    "\n",
    "Vejamos o exemplo a seguir:"
   ]
  },
  {
   "cell_type": "code",
   "execution_count": null,
   "metadata": {},
   "outputs": [],
   "source": [
    "def adding(a, b, c):\n",
    "    print(a, \"+\", b, \"+\", c, \"=\", a + b + c)\n",
    "\n",
    "\n",
    "# Porém, se você tentar fazer isso:\n",
    "adding(3, a = 1, b = 2)\n",
    "\n",
    "# Aqui, a função foi chamada com três argumentos, mas dois deles foram passados como palavras-chave.\n",
    "# O primeiro argumento foi passado como 3, mas os outros dois foram passados como palavras-chave, o que é um erro.\n",
    "\n",
    "# Pela posição, o Python atribuiu 3 ao parâmetro a, mas então você tentou atribuir 1 ao parâmetro a novamente, o que é um erro.\n",
    "\n",
    "# Portando, ao combinar argumentos posicionais e de palavra-chave, você deve garantir que os argumentos posicionais sejam passados antes dos argumentos de palavra-chave, além de garantir que cada parâmetro seja passado apenas uma vez."
   ]
  },
  {
   "cell_type": "markdown",
   "metadata": {},
   "source": [
    "Você receberá um erro de tempo de execução. O Python não pode aceitar isso, pois não pode decidir qual valor deve ser atribuído ao parâmetro a - o valor posicional (3) ou o valor da palavra-chave (1).\n",
    "\n",
    "Tenha cuidado e cuidado com os erros. Se você tentar passar mais de um valor para um argumento, tudo que obterá será um erro de tempo de execução."
   ]
  },
  {
   "cell_type": "markdown",
   "metadata": {},
   "source": [
    " ### *`Valores padronizados`*\n",
    "---\n",
    " Podemos definir um valor padrão para um parâmetro.\n",
    " Às vezes, os valores de um determinado parâmetro são usados com mais frequência do que outros. Esses argumentos podem ter seus valores padrão (predefinidos) considerados quando seus argumentos correspondentes foram omitidos. Isso é chamado de parâmetro padrão. Também é usado para evitar erros de tempo de execução."
   ]
  },
  {
   "cell_type": "code",
   "execution_count": null,
   "metadata": {},
   "outputs": [],
   "source": [
    "# Nesse primeiro exemplo, vamos solicitar três argumentos e passar três argumentos mas só dois deles serão passados.\n",
    "def infos(nome, idade, sexo):\n",
    "    texto = f'Olá, {nome}. Sua idade é {idade} e o seu sexo é {sexo}.'\n",
    "    return texto\n",
    "\n",
    "\n",
    "# Ao fazer isso, o Python retornará um erro, pois a função espera três argumentos, mas você só passou dois.\n",
    "print(infos('Maycon', 30))"
   ]
  },
  {
   "cell_type": "code",
   "execution_count": null,
   "metadata": {},
   "outputs": [],
   "source": [
    "# Se definirmos um valor padrão para o parâmetro sexo, a função poderá ser chamada sem passar um valor para esse parâmetro.\n",
    "def infos(nome, idade, sexo='não informado'):\n",
    "    texto = f'Olá, {nome}. Sua idade é {idade} e o seu sexo é {sexo}.'\n",
    "    return texto\n",
    "\n",
    "\n",
    "# Agora podemos chamar a função sem passar um valor para o parâmetro sexo.\n",
    "print(infos('Maycon', 30))"
   ]
  },
  {
   "cell_type": "markdown",
   "metadata": {},
   "source": [
    "Você pode ir além se for útil.\n",
    "Os valores padrão são usados quando nenhum argumento é passado para o parâmetro correspondente. Diferente de caso você não defina valores padrão e não passe argumentos, você receberá um erro de tempo de execução.\n",
    "Ambos os parâmetros têm seus valores padrão agora, veja o código abaixo:\n"
   ]
  },
  {
   "cell_type": "code",
   "execution_count": null,
   "metadata": {},
   "outputs": [],
   "source": [
    "def introducao(primeiro_nome=\"John\", sobrenome=\"Smith\"):\n",
    "    print(\"Olá meu nome é\", primeiro_nome, sobrenome)\n",
    "\n",
    "\n",
    "# Isso torna a seguinte chamada absolutamente válida:\n",
    "introducao()"
   ]
  },
  {
   "cell_type": "markdown",
   "metadata": {},
   "source": [
    "### * Empacotamento de argumentos\n",
    "\n",
    "O uso de `*` antes de um parâmetro permite que a função aceite um número variável de argumentos. Isso é chamado de `empacotamento de argumentos`. No caso da função contador, ela aceita qualquer número de argumentos e os itera."
   ]
  },
  {
   "cell_type": "code",
   "execution_count": null,
   "metadata": {},
   "outputs": [],
   "source": [
    "# Note que há somente um parâmetro na definição da função...\n",
    "def contador(*num):\n",
    "    for valor in num: # é como dizer \"para cada valor em num...\" considerando que num é uma lista de valores\n",
    "        print(valor, end=' - ')\n",
    "    print()\n",
    "\n",
    "# ... mas a função pode ser chamada com vários argumentos sem exibir erros\n",
    "contador(2, 'h', 7.5)\n",
    "contador(None, 0)\n",
    "contador(4, 4, True, 6, 2)"
   ]
  },
  {
   "cell_type": "markdown",
   "metadata": {},
   "source": [
    "### *args e **kwargs\n",
    "\n",
    "O Python permite que você defina funções que aceitam um número variável de argumentos. Isso é útil quando você não sabe quantos argumentos serão passados para a função. Você pode fazer isso usando o ``operador * (asterisco)`` antes do nome do parâmetro.\n",
    "\n",
    "O ``operador * permite`` que você passe um número variável de ``argumentos posicionais`` para a função. Esses argumentos serão armazenados em uma tupla dentro da função.\n",
    "\n",
    "Você pode usar o`` operador ** (duplo asterisco)`` para passar um número variável de ``argumentos nomeados (ou seja, argumentos com nome)`` para a função. Esses argumentos serão armazenados em um dicionário dentro da função.\n",
    "\n",
    "``*args`` e ``**kwargs`` são convenções de nomenclatura, mas você pode usar qualquer nome que desejar."
   ]
  },
  {
   "cell_type": "code",
   "execution_count": null,
   "metadata": {},
   "outputs": [],
   "source": [
    "# *args permite que você passe vários argumentos posicionais (ou seja, sem nome) para uma função.\n",
    "\n",
    "def somar(*args):\n",
    "    total = 0\n",
    "    for numero in args:\n",
    "        total += numero\n",
    "    print(f\"Total: {total}\")\n",
    "\n",
    "# O *args agrupa todos os argumentos que você passar sem nome em uma tupla. Assim, args vira algo como (1, 2, 3).\n",
    "somar(1, 2, 3)         # Total: 6"
   ]
  },
  {
   "cell_type": "code",
   "execution_count": null,
   "metadata": {},
   "outputs": [],
   "source": [
    "# **kwargs permite passar vários argumentos nomeados (chave=valor). Ele agrupa os argumentos em um dicionário.\n",
    "\n",
    "def mostrar_info(**kwargs):\n",
    "    for chave, valor in kwargs.items():\n",
    "        print(f\"{chave}: {valor}\")\n",
    "\n",
    "# **kwargs agrupa os argumentos como: {'nome': 'Maycon', 'idade': 30, 'curso': 'Python'}.\n",
    "mostrar_info(nome=\"Maycon\", idade=30, curso=\"Python\")"
   ]
  },
  {
   "cell_type": "code",
   "execution_count": null,
   "metadata": {},
   "outputs": [],
   "source": [
    "def cadastrar_usuario(*habilidades, **dados_pessoais):\n",
    "    print(\"Dados Pessoais:\")\n",
    "    for chave, valor in dados_pessoais.items():\n",
    "        print(f\"{chave}: {valor}\")\n",
    "    \n",
    "    print(\"\\nHabilidades:\")\n",
    "    for habilidade in habilidades:\n",
    "        print(f\"- {habilidade}\")\n",
    "\n",
    "# Chamando a função com argumentos posicionais e nomeados\n",
    "cadastrar_usuario(\"Python\", \"Java\", nome=\"Maycon\", idade=30, cidade=\"São Paulo\")"
   ]
  },
  {
   "cell_type": "code",
   "execution_count": null,
   "metadata": {},
   "outputs": [],
   "source": [
    "def gerar_relatorio(titulo, *colunas, **valores):\n",
    "    print(f\"Relatório: {titulo}\")\n",
    "    print(\"Colunas:\", \", \".join(colunas))\n",
    "    print(\"Valores:\")\n",
    "    for chave, valor in valores.items():\n",
    "        print(f\"{chave}: {valor}\")\n",
    "\n",
    "\n",
    "# Chamando a função com argumentos posicionais e nomeados\n",
    "gerar_relatorio(\n",
    "    \"Vendas Abril\",\n",
    "    \"Produto\", \"Quantidade\", \"Preço\",\n",
    "    Produto=\"Ovo de Páscoa\", Quantidade=120, Preço=\"R$ 49,99\"\n",
    ")\n"
   ]
  },
  {
   "cell_type": "markdown",
   "metadata": {},
   "source": [
    "### Retornando valores\n",
    "\n",
    "Todas as funções apresentadas anteriormente têm algum tipo de efeito - elas produzem algum texto e o enviam para o console.\n",
    "Obviamente, funções - como seus irmãos matemáticos - podem ter resultados.\n",
    "Para que as funções retornem um valor (mas não apenas para essa finalidade), use a instrução return.\n",
    "\n",
    "A instrução return tem duas variantes diferentes - vamos considerá-las separadamente."
   ]
  },
  {
   "cell_type": "code",
   "execution_count": null,
   "metadata": {},
   "outputs": [],
   "source": [
    "# return sem uma expressão\n",
    "def ano_novo(desejos = True):\n",
    "\n",
    "    print(\"Três...\")\n",
    "    print(\"Dois...\")\n",
    "    print(\"Um...\")\n",
    "    \n",
    "    # a condição a seguir verifica se o argumento é True\n",
    "    if not desejos: # se desejos for False\n",
    "        return # a função termina aqui\n",
    "\n",
    "    print(\"Feliz Ano Novo!\") # se desejos for True a função continua até aqui\n",
    "\n",
    "\n",
    "# Quando invocado sem nenhum argumento:\n",
    "ano_novo()\n",
    "\n",
    "\n",
    "# Fornecendo False como um argumento para testar a condição if:\n",
    "ano_novo(False)\n",
    "\n",
    "# Vai modificar o comportamento da função - ela não imprimirá o texto final - sua execução terminará imediatamente após a instrução return ser executada.\n",
    "\n"
   ]
  },
  {
   "cell_type": "markdown",
   "metadata": {},
   "source": [
    "A segunda variante de return é estendida com uma expressão e há duas consequências de usá-lo:\n",
    "\n",
    "- causa o término imediato da execução da função (nada de novo se comparado à primeira variante)\n",
    "- além disso, a função avaliará o valor da expressão e o retornará (daí o nome mais uma vez) como o resultado da função."
   ]
  },
  {
   "cell_type": "code",
   "execution_count": null,
   "metadata": {},
   "outputs": [],
   "source": [
    "# return com uma expressão\n",
    "def numero_qualquer():\n",
    "    return 123 # a função retorna o valor 123 sempre que é chamada\n",
    "\n",
    "\n",
    "x = numero_qualquer() # x recebe o valor de retorno da função numero_qualquer (123)\n",
    "\n",
    "print(\"A função numero_qualquer retornou seu resultado. Isso é:\", x) # imprime o valor de x"
   ]
  },
  {
   "cell_type": "markdown",
   "metadata": {},
   "source": [
    "A instrução de return, \"transporta\" o valor da expressão para o local onde a função foi chamada. O resultado pode ser usado livremente aqui, por exemplo, para ser atribuído a uma variável.\n",
    "\n",
    "Também pode ser completamente ignorado e perdido sem deixar vestígios.\n",
    "\n",
    "Observe que não estamos sendo muito educados aqui - a função retorna um valor e nós o ignoramos (não o usamos de forma alguma):"
   ]
  },
  {
   "cell_type": "code",
   "execution_count": null,
   "metadata": {},
   "outputs": [],
   "source": [
    "def numero_qualquer():\n",
    "    print(\"'Modo de tédio' ON.\")\n",
    "    return 123 # a função retorna o valor 123 sempre que é chamada\n",
    "\n",
    "\n",
    "print(\"Esta lição é interessante!\")\n",
    "numero_qualquer() # mas não usamos seu resultado! Ao chamar a função apenas o efeito é visível devido a instrução print() dentro da função.\n",
    "print(\"Essa aula é chata...\")\n",
    "\n",
    "# É punível? Não mesmo. A única desvantagem é que o resultado foi irremediavelmente perdido."
   ]
  },
  {
   "cell_type": "markdown",
   "metadata": {},
   "source": [
    "Não se esqueça:\n",
    "\n",
    "- você sempre pode ignorar o resultado da função e ficar satisfeito com o efeito da função (se a função tiver algum)\n",
    "- se uma função se destina a retornar um resultado útil, ela deve conter a segunda variante da instrução de return."
   ]
  },
  {
   "cell_type": "code",
   "execution_count": null,
   "metadata": {},
   "outputs": [],
   "source": [
    "# Mesmo sem parâmetros, se o código após return for funcional, ao chamar a função ele será exibido\n",
    "\n",
    "def teste():\n",
    "    # Nesse programa o return é simplesmente uma expressão matemática que não depende de nenhum parâmetro\n",
    "    return 1 + 1  # O valor de retorno será 2 sempre que a função for chamada\n",
    "\n",
    "print(teste())"
   ]
  },
  {
   "cell_type": "markdown",
   "metadata": {},
   "source": [
    "#### Valor None\n",
    "\n",
    "Vamos apresentar um valor muito curioso (para ser honesto, um valor nenhum) chamado None.\n",
    "\n",
    "Seus dados não representam nenhum valor razoável - na verdade, não é um valor; portanto, não deve participar de nenhuma expressão."
   ]
  },
  {
   "cell_type": "code",
   "execution_count": null,
   "metadata": {},
   "outputs": [],
   "source": [
    "# Por exemplo, um trecho como este:\n",
    "print(None + 2)"
   ]
  },
  {
   "cell_type": "markdown",
   "metadata": {},
   "source": [
    "Causará um erro de tempo de execução, descrito pela seguinte mensagem de diagnóstico:\n",
    "\n",
    ">TypeError: unsupported operand type(s) for +: 'NoneType' and 'int'\n",
    "\n",
    "Existem apenas dois tipos de circunstâncias em que None pode ser usada com segurança:"
   ]
  },
  {
   "cell_type": "code",
   "execution_count": null,
   "metadata": {},
   "outputs": [],
   "source": [
    "# quando você a atribui a uma variável (ou a retorna como resultado de uma função)\n",
    "value = None\n",
    "\n",
    "# quando você a compara com uma variável para diagnosticar seu estado interno.\n",
    "if value is None:\n",
    "    print(\"Desculpe, você não carrega nenhum valor\")"
   ]
  },
  {
   "cell_type": "markdown",
   "metadata": {},
   "source": [
    "Não se esqueça disso: se uma função não retorna um determinado valor usando a cláusula return, pressupõe-se que ele retorne implicitamente None. Isso significa que o resultado da função pode ser ignorado sem consequências, evita erros de tempo de execução."
   ]
  },
  {
   "cell_type": "code",
   "execution_count": null,
   "metadata": {},
   "outputs": [],
   "source": [
    "def strange_function(n):\n",
    "  if(n % 2 == 0):\n",
    "    return True\n",
    "\n",
    "\n",
    "# É óbvio que a função strange_function retorna True quando seu argumento é par. \n",
    "# Vamos verificar:\n",
    "print(strange_function(2)) # True\n",
    "\n",
    "# O que ele retorna no outro caso?\n",
    "print(strange_function(1)) # None"
   ]
  },
  {
   "cell_type": "markdown",
   "metadata": {},
   "source": [
    "Nossa função não tem uma cláusula return para o caso ímpar, então ela retorna implicitamente None. Pense como um else: return None.\n",
    "\n",
    "Não fique surpreso na próxima vez que não vir o None como resultado de uma função - pode ser o sintoma de um erro sutil dentro da função."
   ]
  },
  {
   "cell_type": "markdown",
   "metadata": {},
   "source": [
    "### **Como `all()` funciona?**  \n",
    "A sintaxe básica é:  \n",
    "\n",
    "```python\n",
    "all(iterável)\n",
    "```\n",
    "Ela retorna:  \n",
    "- `True` → se **todos** os elementos do iterável forem **verdadeiros**.  \n",
    "- `False` → se **qualquer** elemento for **falso**.  \n",
    "\n",
    "⚠️ Lembre-se: Em Python, **valores \"falsos\"** incluem `False`, `0`, `None`, `''` (string vazia), etc.  \n",
    "\n",
    "---\n",
    "\n",
    "### **Exemplo Simples**\n",
    "```python\n",
    "numeros = [1, 2, 3, 4, 5]\n",
    "print(all(n > 0 for n in numeros))  # True (todos são maiores que 0)\n",
    "\n",
    "numeros = [1, -2, 3, 4, 5]\n",
    "print(all(n > 0 for n in numeros))  # False (há um número negativo)\n",
    "```\n",
    "No segundo caso, como `-2` não atende à condição, `all()` retorna `False`.  \n",
    "\n",
    "---\n",
    "\n",
    "### **Usando `all()` para Validar o Nome**  \n",
    "No seu código, usamos:\n",
    "\n",
    "```python\n",
    "if all(c.isalpha() or c == ' ' for c in entrada):\n",
    "```\n",
    "Isso significa:  \n",
    "- Para cada caractere `c` na string `entrada`, verifica se `c.isalpha()` (é uma letra) ou se `c == ' '` (é um espaço).  \n",
    "- Se **todos** os caracteres forem letras ou espaços, `all()` retorna `True`, e o nome é aceito.  \n",
    "- Se **algum** caractere não for válido, `all()` retorna `False`, e o usuário vê a mensagem de erro.  \n",
    "\n",
    "Isso evita a necessidade de um `for` separado e deixa o código mais **limpo e legível**.  \n",
    "\n",
    "---\n",
    "\n",
    "### **Comparação com um `for` Tradicional**  \n",
    "Seu código original fazia algo assim:\n",
    "\n",
    "```python\n",
    "for i in entrada:\n",
    "    if not (i.isalpha() or i == ' '):\n",
    "        print('Caractere inválido detectado.')\n",
    "        break\n",
    "```\n",
    "Aqui, usamos um `for` manualmente, verificando cada caractere um por um.  \n",
    "Com `all()`, conseguimos fazer isso de forma mais direta e Pythonica. 🚀  \n",
    "\n",
    "---\n",
    "\n",
    "Agora que conhece `all()`, experimente usá-lo mais! Ele é útil para diversas validações.  \n",
    "Dúvidas? Me avise! 😃"
   ]
  }
 ],
 "metadata": {
  "kernelspec": {
   "display_name": "Python 3",
   "language": "python",
   "name": "python3"
  },
  "language_info": {
   "codemirror_mode": {
    "name": "ipython",
    "version": 3
   },
   "file_extension": ".py",
   "mimetype": "text/x-python",
   "name": "python",
   "nbconvert_exporter": "python",
   "pygments_lexer": "ipython3",
   "version": "3.13.2"
  }
 },
 "nbformat": 4,
 "nbformat_minor": 2
}
