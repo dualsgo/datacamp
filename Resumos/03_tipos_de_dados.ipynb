{
 "cells": [
  {
   "cell_type": "markdown",
   "metadata": {},
   "source": [
    "# Tipos de Dados\n",
    "Entender a diferença entre o valor literal (o que vemos) e o tipo de dado (como o computador armazena e interpreta) é um passo fundamental para começarmos a explorar as diferentes formas que o Python organiza a informação.\n",
    "\n",
    "Um literal é um valor de informação que é escrito diretamente no código e que sempre representa a mesma coisa. É como um número escrito em um papel, uma palavra digitada ou uma indicação de \"verdadeiro\" ou \"falso\". O valor em si não se altera.\n",
    "\n",
    "Às vezes, dois literais podem parecer iguais para nós, humanos, mas para o computador, eles são fundamentalmente diferentes.\n",
    "\n",
    "Pense no número 1. Podemos escrevê-lo de duas maneiras:\n",
    "\n",
    "```python\n",
    "numero = 1     # Aqui, '1' é um literal do tipo número inteiro (int)\n",
    "texto = '1'    # Aqui, '1' (entre aspas) é um literal do tipo texto (string)\n",
    "\n",
    "print(numero)  # O computador mostra: 1\n",
    "print(texto)   # O computador também mostra: 1\n",
    "```\n",
    "\n",
    "Quando pedimos para o computador mostrar (print()) o conteúdo de numero e texto, ele apresenta a representação que nós, humanos, entendemos. No entanto, por dentro, na \"memória\" do computador, esses dois valores são armazenados de maneiras completamente distintas.\n",
    "\n",
    "Imagine que o número 1 é guardado como um código especial que o computador entende para fazer cálculos. Já o texto '1' é guardado como uma sequência de símbolos, como letras em uma palavra."
   ]
  },
  {
   "cell_type": "code",
   "execution_count": null,
   "metadata": {},
   "outputs": [],
   "source": [
    "# O algarismo 1 é armazenado na memória do computador como 00000001, que é o seu equivalente em binário.\n",
    "print(bin(1)) # 0b1 ou 00000001\n",
    "\n",
    "# O texto '1' é armazenado na memória do computador como 00110001, que é o seu equivalente em binário, e é o código ASCII para o caractere '1'.\n",
    "print(ord('1')) # 49\n",
    "print(bin(49)) # 0b110001 ou 00110001"
   ]
  },
  {
   "cell_type": "code",
   "execution_count": null,
   "metadata": {},
   "outputs": [],
   "source": [
    "# Os valores de tipos deiferentes ocupam diferentes quantidades de memória na memória do computador.\n",
    "import sys\n",
    "\n",
    "print(sys.getsizeof(1)) # 28\n",
    "# O valor do tipo int ocupa 28 bytes na memória do computador.\n",
    "\n",
    "print(sys.getsizeof('1')) # 50\n",
    "# O valor do tipo str ocupa 50 bytes na memória do computador."
   ]
  },
  {
   "cell_type": "markdown",
   "metadata": {},
   "source": [
    "Em Python, tudo o que manipulamos — números, textos, listas, decisões lógicas — é tratado como um **dado**.  \n",
    "Mas para o computador entender como lidar com cada tipo de informação, ele precisa saber **que tipo de dado** está sendo usado.\n",
    "\n",
    "Um **tipo de dado** define o formato da informação e as operações que podem ser realizadas sobre ela.\n",
    "\n",
    "Por exemplo:\n",
    "- Com números, podemos fazer cálculos.\n",
    "- Com textos (strings), podemos juntar palavras, contar letras ou procurar trechos.\n",
    "- Com valores booleanos (`True` e `False`), tomamos decisões em estruturas condicionais.\n",
    "\n",
    "Saber o tipo de dado de uma variável é essencial para evitar erros e escrever códigos mais claros e eficientes.\n",
    "\n",
    "Em Python, os tipos de dados mais comuns são:\n",
    "\n",
    "- `int` → Números inteiros (ex: `10`, `-3`)\n",
    "- `float` → Números com ponto decimal (ex: `3.14`, `-0.5`)\n",
    "- `str` → Cadeia de caracteres (textos) (ex: `'Olá'`, `'123'`)\n",
    "- `bool` → Valores booleanos (`True`, `False`)\n",
    "- `list` → Listas de valores\n",
    "- `dict` → Dicionários (pares chave:valor)\n",
    "- `NoneType` → Representa a ausência de valor (`None`)\n",
    "\n",
    "Ao longo deste conteúdo, vamos explorar esses tipos, entender como funcionam, e ver exemplos práticos de como usá-los no dia a dia da programação com Python.\n"
   ]
  },
  {
   "cell_type": "markdown",
   "metadata": {},
   "source": [
    "## `Strings`"
   ]
  },
  {
   "cell_type": "markdown",
   "metadata": {},
   "source": [
    "**Strings** são dados de texto delimitados por aspas simples `(' ')` ou duplas `(\" \")`. Elas são usadas para representar sequências de caracteres, que podem incluir letras, números, símbolos ou espaços.\n",
    "\n",
    "A escolha entre aspas simples e duplas depende do conteúdo da string. Se a string contiver aspas simples dentro dela, você deve usar aspas duplas para delimitá-la e vice-versa. Isso evita erros de sintaxe e permite que o Python saiba onde a string termina. Essa prática é fundamental para garantir que suas strings sejam interpretadas corretamente pelo Python.\n",
    "\n",
    "Uma string vazia, representada por aspas simples sem nenhum caractere dentro ou aspas duplas sem nenhum caractere dentro ('', \"\"), é considerada uma string válida, já que ***uma string é uma sequência de caracteres, e uma string vazia representa simplesmente uma sequência de zero caracteres***. Embora não haja caracteres visíveis dentro de uma string vazia, ela ainda é uma instância válida do tipo de dado string. Isso ocorre porque Python permite a criação de strings vazias para fins de conveniência e consistência na manipulação de dados.\n",
    "\n",
    "Embora strings sejam comumente consideradas como uma sequência de caracteres, elas também podem ser vistas como um tipo de valor composto, assim como listas. Em Python, strings são iteráveis e podem ser acessadas por índices, da mesma forma que as listas."
   ]
  },
  {
   "cell_type": "code",
   "execution_count": null,
   "metadata": {
    "ExecuteTime": {
     "end_time": "2024-02-05T01:19:50.183176300Z",
     "start_time": "2024-02-05T01:19:50.171945800Z"
    }
   },
   "outputs": [],
   "source": [
    "# Exemplos de strings\n",
    "nome = \"Python\" # String com aspas duplas\n",
    "mensagem = 'Olá, mundo!' # String com aspas simples\n",
    "caminho_arquivo = \"\"\"/caminho/para/arquivo.txt\"\"\" # String com aspas triplas\n",
    "\n",
    "print(nome)             # Saída: Python\n",
    "print(mensagem)         # Saída: Olá, mundo!\n",
    "print(caminho_arquivo)  # Saída: /caminho/para/arquivo.txt"
   ]
  },
  {
   "cell_type": "code",
   "execution_count": null,
   "metadata": {},
   "outputs": [],
   "source": [
    "# As aspas triplas permitem criar strings que ocupam várias linhas.\n",
    "# Exemplo de string com aspas triplas\n",
    "\n",
    "texto_multilinha = \"\"\"Esta é uma string\n",
    "com várias linhas.\n",
    "Ela pode conter aspas simples ' e aspas duplas \" sem problemas.\"\"\"\n",
    "print(texto_multilinha)\n",
    "\n",
    "# O resultado é apresentado com a mesma formatação que foi escrita."
   ]
  },
  {
   "cell_type": "code",
   "execution_count": null,
   "metadata": {},
   "outputs": [],
   "source": [
    "# Vejamos um exemplo de uso correto de aspas combinadas para evitar erros de sintaxe\n",
    "\n",
    "mensagem = \"João disse: 'Olá!'\" # A citação 'Olá!' é feita com aspas simples e as aspas duplas são usadas para delimitar a string\n",
    "\n",
    "citação = 'Ela respondeu: \"Como vai?\"' # A citação \"Como vai?\" é feita com aspas duplas e as aspas simples são usadas para delimitar a string\n",
    "\n",
    "# Execute o código e veja a saída. Repare que as aspas simples e duplas são exibidas corretamente na saída, sem afetar a sintaxe do código e causar erros.\n",
    "\n",
    "print(mensagem)  # Saída: João disse: 'Olá!'\n",
    "print(citação)   # Saída: Ela respondeu: \"Como vai?\"\n",
    "\n",
    "# Note que uma faz parte do texto que queremos exibir e a outra faz parte da sintaxe da linguagem e não é exibida na saída"
   ]
  },
  {
   "cell_type": "code",
   "execution_count": null,
   "metadata": {},
   "outputs": [],
   "source": [
    "# Se eventualmente, por algum motivo seja necessário utilizar o mesmo tipo de aspas dentro de uma string, você pode usar o caractere de escape (\\) para evitar erros de sintaxe.\n",
    "\n",
    "mensagem = \"João disse: \\\"Olá!\\\"\" # As aspas duplas dentro da string são precedidas por uma barra invertida. Isso faz com que o Python interprete a aspas duplas como parte da string e não como o fim da string\n",
    "\n",
    "# Sem o caractere de escape, o Python não conseguiria interpretar a string corretamente e um erro de sintaxe seria gerado\n",
    "# print(\"João disse: \"Olá!\"\") # Erro de sintaxe (SyntaxError)\n",
    "\n",
    "# No exemplo acima o erro se dá ao fato de que o Python interpreta a string como sendo \"João disse: \" e \"\" (uma string vazia). O restante (Olá!) é considerado código inválido pois é um texto solto e não está dentro de uma string e se fosse outro tipo de dado, seria considerado uma operação inválida pois não está sendo feita dentro de uma expressão válida (concatenação, atribuição, etc.)"
   ]
  },
  {
   "cell_type": "code",
   "execution_count": null,
   "metadata": {},
   "outputs": [],
   "source": [
    "# Porém em Python, strings literais adjacentes (sem nada entre elas) são automaticamente concatenadas. A expressão acima é equivalente a \"João disse: \" e \"\" (uma string vazia) e não gera erro de sintaxe (SyntaxError)\n",
    "print(\"João disse: \"\"\") \n",
    "\n",
    "# O comportamento acima não é válido para outros tipos de dados, como números, listas, dicionários, etc. Por exemplo, o seguinte código geraria um erro de sintaxe (SyntaxError):\n",
    "# print(1 2) # Erro de sintaxe (SyntaxError)\n",
    "\n",
    "# Exemplo de string vazia\n",
    "string_vazia = ''\n",
    "outra_string_vazia = \"\"\n",
    "\n",
    "print(len(string_vazia))         # Saída: 0\n",
    "print(len(outra_string_vazia))   # Saída: 0\n",
    "# Obs.: len() é uma função que retorna o comprimento de um objeto, como uma string, lista, tupla, etc."
   ]
  },
  {
   "cell_type": "code",
   "execution_count": null,
   "metadata": {},
   "outputs": [],
   "source": [
    "# Exemplo de string como uma lista de caracteres\n",
    "mensagem = \"Olá, mundo!\"\n",
    "\n",
    "print(len(mensagem))   # Saída: 13 (o comprimento da string é 13 caracteres, incluindo espaços e pontuação)\n",
    "\n",
    "# Acessando caracteres individuais com a notação de colchetes; O número entre colchetes é o índice do caractere desejado (começando em 0 para o primeiro caractere e assim por diante)\n",
    "\n",
    "print(mensagem[0])     # Saída: O (primeiro caractere)\n",
    "print(mensagem[3])     # Saída: , (quarto caractere)\n",
    "print(mensagem[-1])    # Saída: ! (último caractere)"
   ]
  },
  {
   "cell_type": "code",
   "execution_count": null,
   "metadata": {},
   "outputs": [],
   "source": [
    "# Caso tente acessar um índice que não existe, um erro de índice fora de alcance (IndexError) será gerado. Por exemplo, tentar acessar mensagem[20] resultaria em um erro, pois a string \"Olá, mundo!\" tem apenas 13 caracteres (0 a 12).\n",
    "\n",
    "# IndexError: string index out of range\n",
    "# Erro de índice fora de alcance (IndexError) se você tentar acessar um índice que não existe na string.\n",
    "\n",
    "# Para evitar erros de índice fora de alcance, você pode usar a função len() para obter o comprimento da string e garantir que o índice esteja dentro dos limites da string.\n",
    "print(mensagem[len(mensagem) - 1]) # Saída: ! (último caractere)"
   ]
  },
  {
   "cell_type": "code",
   "execution_count": null,
   "metadata": {},
   "outputs": [],
   "source": [
    "# Também é possível acessar um intervalo de caracteres de uma string, especificando um intervalo de índices separados por dois pontos (:) entre os colchetes. Isso é conhecido como slicing.\n",
    "print(mensagem[0:5])   # Saída: Olá, (caracteres do índice 0 ao 4, o caractere do índice 5 não é incluído)\n",
    "\n",
    "# O primeiro índice do intervalo é inclusivo e o segundo índice é exclusivo, ou seja, o intervalo inclui o primeiro índice, mas não inclui o segundo índice. Se o primeiro índice for omitido, o intervalo começará do início da string. Se o segundo índice for omitido, o intervalo irá até o final da string."
   ]
  },
  {
   "cell_type": "code",
   "execution_count": null,
   "metadata": {},
   "outputs": [],
   "source": [
    "# Além disso, é possível especificar um terceiro número inteiro que representa o passo do intervalo. Por exemplo, se o passo for 2, o intervalo incluirá cada segundo caractere.\n",
    "print(mensagem[0:10:2]) # Saída: O, o (caracteres do índice 0 ao 9, com passo 2, ou seja, inclui os índices 0, 2, 4, 6, 8)"
   ]
  },
  {
   "cell_type": "code",
   "execution_count": null,
   "metadata": {},
   "outputs": [],
   "source": [
    "# O passo pode ser negativo, o que significa que o intervalo será percorrido de trás para frente. Nesse caso, o primeiro índice deve ser maior que o segundo índice.\n",
    "\n",
    "\n",
    "# O primeiro índice deve ser maior que o segundo índice, caso contrário, um erro de índice fora de alcance (IndexError) será gerado. Por exemplo, tentar acessar mensagem[0:10:-1] gerará um erro, pois o primeiro índice (0) é menor que o segundo índice (10).\n",
    "\n",
    "print(mensagem[10::-1]) \n",
    "\n",
    "# Como o fim é exclusivo, se colocarmos o índice 0, o primeiro caractere (índice 0) não será incluído. Por isso omitimos o índice final para retornar a string inteira invertida. A saída será: !odnum ,álO (a string invertida)."
   ]
  },
  {
   "cell_type": "code",
   "execution_count": null,
   "metadata": {},
   "outputs": [],
   "source": [
    "# Omitir o primeiro índice significa que o intervalo começará do início da string. Omita o segundo índice significa que o intervalo irá até o final da string.\n",
    "\n",
    "print(mensagem[:5])   # Saída: Olá, (caracteres do início da string até o índice 4)\n",
    "print(mensagem[7:])  # Saída: mundo! (caracteres do índice 7 até o final da string)"
   ]
  },
  {
   "cell_type": "markdown",
   "metadata": {},
   "source": [
    "## `Números`\n",
    "---\n",
    "Os **números** manipulados pelos computadores podem ser de dois tipos:\n",
    "\n",
    "- **`inteiros`**, ou seja, aqueles desprovidos da parte fracionária (`int`)\n",
    "- números de **`ponto flutuante`** (ou simplesmente `float`), que contêm (ou conseguem conter) a parte fracionária."
   ]
  },
  {
   "cell_type": "code",
   "execution_count": null,
   "metadata": {},
   "outputs": [],
   "source": [
    "# Dizemos \"que contém ou podem conter parte fracionária\" pois podemos omitir a parte fracionária se ela for composta apenas por zeros e a parte inteira se ela for zero. Por exemplo, 5.0 é um número real, mas podemos escrevê-lo como 5.\n",
    "\n",
    "# Se quisermos estritamente um número inteiro, devemos usar a notação sem ponto flutuante (por exemplo, 5).\n",
    "\n",
    "# Note que o valor literal é o mesmo, mas a representação interna do número é diferente. O número 5 é armazenado de forma diferente do número 5.0.\n",
    "\n",
    "import sys\n",
    "\n",
    "print(sys.getsizeof(5))     # Saída: 28\n",
    "print(sys.getsizeof(5.0))   # Saída: 24\n",
    "\n",
    "# O int é armazenado como um objeto dinâmico, que cresce conforme necessário para acomodar números maiores.\n",
    "# O float segue o padrão IEEE 754, que é um padrão de representação de ponto flutuante em computadores. Isso significa que o float é armazenado de forma mais compacta que o int mesmo que ambos tenham o mesmo valor."
   ]
  },
  {
   "cell_type": "markdown",
   "metadata": {},
   "source": [
    "### Números Complexos\n",
    "\n",
    "Em Python, também temos os números complexos, que são números da forma `a + bi`, onde `a` e `b` são números reais e `i` é a unidade imaginária. Em Python, a unidade imaginária é representada por `j`."
   ]
  },
  {
   "cell_type": "code",
   "execution_count": null,
   "metadata": {},
   "outputs": [],
   "source": [
    "# Exemplos de números complexos\n",
    "numero_complexo = 2 + 3j\n",
    "outro_numero_complexo = 1 - 5j\n",
    "\n",
    "print(numero_complexo)      # Saída: (2+3j)\n",
    "\n",
    "# A exibição do número complexo é feita de forma que a parte real e a parte imaginária sejam separadas por um sinal de adição (+) e a parte imaginária seja seguida pela unidade imaginária (j). O valor do número complexo é exibido entre parênteses, que é um apoio visual para indicar que o número é complexo.\n",
    "\n",
    "print(type(numero_complexo))    # Saída: <class 'complex'>"
   ]
  },
  {
   "cell_type": "markdown",
   "metadata": {},
   "source": [
    "### Booleanos como subtipos de inteiros\n",
    "Os valores `booleanos` são usados para representar a ``verdade (True)`` e a ``falsidade (False)`` de uma expressão. Eles são frequentemente usados em estruturas de controle de fluxo, como condicionais e loops, para decidir quais blocos de código devem ser executados. Mas também podem ser usados em operações lógicas e aritméticas, pois são subtipos de inteiros."
   ]
  },
  {
   "cell_type": "code",
   "execution_count": null,
   "metadata": {},
   "outputs": [],
   "source": [
    "# Exemplos de valores booleanos\n",
    "verdadeiro = True\n",
    "falso = False\n",
    "\n",
    "print(type(verdadeiro)) # Saída: <class 'bool'>\n",
    "print(type(falso))      # Saída: <class 'bool'>"
   ]
  },
  {
   "cell_type": "code",
   "execution_count": null,
   "metadata": {},
   "outputs": [],
   "source": [
    "# Exemplos de operações aritméticas com booleanos\n",
    "print(verdadeiro + verdadeiro)  # Saída: 2 (equivalente a 1 + 1)\n",
    "print(verdadeiro + falso)       # Saída: 1 (equivalente a 1 + 0)\n",
    "print(falso + falso)           # Saída: 0 (equivalente a 0 + 0)\n",
    "print(1 + True) "
   ]
  },
  {
   "cell_type": "code",
   "execution_count": null,
   "metadata": {},
   "outputs": [],
   "source": [
    "# Sendo assim, no contexto de operações aritméticas, o valor True é equivalente a 1 e o valor False é equivalente a 0. Se realizarmos uma comparação entre um valor booleano e um número, o Python irá converter o valor booleano para um número inteiro antes de realizar a operação.\n",
    "\n",
    "print(True == 1)  # Saída: True\n",
    "print(False == 0) # Saída: True"
   ]
  },
  {
   "cell_type": "markdown",
   "metadata": {},
   "source": [
    "### **`Inteiros (int)`**\n",
    "---\n",
    "Os números inteiros são aqueles que não possuem parte fracionária. Em Python, eles são representados pelo tipo de dados **`int`**. Eles podem ser positivos, negativos ou zero.\n",
    "\n",
    "**Falaremos sobre a notação:**\n",
    "\n",
    "Tomemos, por exemplo, o número ``onze milhões cento e onze mil cento e onze``. Se você pegasse um lápis na mão agora, escreveria o número assim:\n",
    "\n",
    "**11.111.111**, ou até mesmo assim: **11 111 111**.\n",
    "\n",
    "É claro que essa disposição facilita a leitura, especialmente quando o número consiste em muitos dígitos. No entanto, o Python não aceita coisas como essas. Isso o confunde, portanto é proibido."
   ]
  },
  {
   "cell_type": "code",
   "execution_count": null,
   "metadata": {},
   "outputs": [],
   "source": [
    "# numero_grande = 11 11 111 - Não é um número válido devido aos espaços\n",
    "# numero_grande = 11,111,111 - Não é um número válido devido às vírgulas usadas incorretamente no contexto de um número em Python\n",
    "# numero_grande = 11.111.111 - Não é um número válido devido aos pontos usados incorretamente no contexto de um número em Python\n",
    "\n",
    "# O que o Python 3.6+ permite, porém, é o uso de sublinhados em literais numéricos.\n",
    "\n",
    "# Portanto, você pode escrever este número da seguinte forma: \n",
    "numero_grande = 11111111\n",
    "print(numero_grande)\n",
    "\n",
    "# ou desta forma:\n",
    "numero_grande = 11_111_111\n",
    "print(numero_grande)\n",
    "\n",
    "# Para números negativos basta colocar o sinal de menos na frente do literal: -11111111 ou -11_111_111.\n",
    "# Números positivos não carecem de um sinal, mas você pode colocá-lo se quiser: +11111111 ou +11_111_111."
   ]
  },
  {
   "cell_type": "code",
   "execution_count": null,
   "metadata": {},
   "outputs": [],
   "source": [
    "# Sobre os pontos...\n",
    "# numero_grande = 11.111.111 # - Não é um número válido devido aos pontos usados incorretamente. (Essa instrução geraria um erro de sintaxe (SyntaxError))\n",
    "\n",
    "# Porém as demais instruções a seguir são válidas e não gerariam erro de sintaxe (SyntaxError).\n",
    "\n",
    "numero_grande = 11111.111 # - É um número válido pois o ponto está no lugar correto. Os números à esquerda do ponto são o que chamamos de parte inteira e os números à direita do ponto são o que chamamos de parte fracionária.\n",
    "print(numero_grande)\n",
    "\n",
    "numero_grande = 11.111111 # - É um número válido pois o ponto está no lugar correto. O número inteiro é 11 e o número fracionário é 111111.\n",
    "print(numero_grande)\n",
    "\n",
    "numero_grande = 111111111. # - É um número válido pois o ponto está no lugar correto. Podemos omitir os zeros à direita.\n",
    "print(numero_grande)\n",
    "\n",
    "numero_grande = .111111111 # - É um número válido pois o ponto está no lugar correto. Podemos omitir os zeros à esquerda.\n",
    "print(numero_grande)"
   ]
  },
  {
   "cell_type": "code",
   "execution_count": null,
   "metadata": {},
   "outputs": [],
   "source": [
    "# Nota: Essas regras são válidas para números inteiros e de ponto flutuante. Para strings numéricas você pode usar a notação de pontos que quiser, dependendo da finalidade da string. Se deseja que a string seja convertida em um número, a notação deve ser válida para a conversão.\n",
    "\n",
    "numero_grande = \"11 11 111\" # - É uma string válida\n",
    "print(numero_grande) # Saída: 11 11 111\n",
    "numero_grande = \"11,111,111\" # - É uma string válida\n",
    "print(numero_grande) # Saída: 11,111,111\n",
    "numero_grande = \"11.111.111\" # - É uma string válida\n",
    "print(numero_grande) # Saída: 11.111.111\n",
    "numero_grande = \"11.111.111\" # É uma string válida\n",
    "print(numero_grande) # Saída: 11.111.111"
   ]
  },
  {
   "cell_type": "code",
   "execution_count": null,
   "metadata": {},
   "outputs": [],
   "source": [
    "# O exemplo a seguir mostra como converter uma string numérica com pontos em um número inteiro gera um erro de conversão.\n",
    "\n",
    "# numero_grande = int(numero_grande)\n",
    "# print(numero_grande)\n",
    "\n",
    "# Erro de conversão (ValueError - ValueError: invalid literal for int() with base 10: '11.111.111')\n",
    "# Tradução: Valor inválido para int() com base 10: '11.111.111'\n",
    "\n",
    "# Importante! As strings não podem ser usadas em expressões matemáticas, a menos que sejam convertidas em números. Para isso precisa-se usar as funções de conversão de tipo int() e float(), mas os valores devem ser válidos para a conversão ou caso contrário será gerado um erro."
   ]
  },
  {
   "cell_type": "markdown",
   "metadata": {},
   "source": [
    "### **`Ponto Flutuante (float)`**\n",
    "---\n",
    "Valores **`float`** são números que contêm (ou são capazes de conter) um componente fracionário. Eles são escritos com um ponto decimal como separador entre a parte inteira e a parte fracionária.\n",
    "\n",
    "**Por exemplo**: `2.5` ou `0.4`\n",
    "\n",
    "Como vimos antes, embora em português usamos vírgula em vez de um ponto no número, você deve garantir que seu número não contenha nenhuma vírgula. O Python não aceitará isso, ou (em casos muito raros, mas possíveis) pode interpretar mal suas intenções, pois a vírgula tem seu próprio significado reservado em Python.\n",
    "\n",
    "Se você quiser usar apenas um valor de dois e meio, escreva-o como mostrado acima. \n",
    "\n",
    "Observe mais uma vez: há um ponto entre 2 e 5, não uma vírgula."
   ]
  },
  {
   "cell_type": "code",
   "execution_count": null,
   "metadata": {},
   "outputs": [],
   "source": [
    "# Como vimos antes, podemos criar programas que sejam executados sem erros, mas que não produzam o resultado esperado. Isso acontece quando o programa tem um erro de lógica. Python não pode detectar esse tipo de erro, pois o programa está sintaticamente correto.\n",
    "\n",
    "print(2,5) # A vírgula é usada para separar os argumentos em uma chamada de função. Por isso print(2,5) é uma sentença válida. O Python executará o programa sem erros pois a sintaxe está correta mas o resultado não é o esperado. Em vez de imprimir 2,5 ele imprime 2 5 (Separados por espaço pois é o padrão do separador na função print). \n",
    "\n",
    "print(2.5) # Agora comando com a intenção de imprimir um número decimal foi dado da maneira correta ao Python. Será impresso 2.5\n",
    "\n",
    "# É importante dar instruções claras ao Python para que ele possa executar o programa corretamente. Se você não fizer isso, o Python não poderá ajudá-lo. Ele executará o programa sem erros, mas o resultado pode não ser o esperado."
   ]
  },
  {
   "cell_type": "markdown",
   "metadata": {},
   "source": [
    "Como você provavelmente pode imaginar, o valor de zero ponto quatro poderia ser escrito em Python como **`0.4`**, mas não se esqueça desta regra simples - **você pode omitir zero quando for o único dígito antes ou depois da vírgula**.\n",
    "\n",
    "Em essência, você pode escrever o valor **`0.4`** como **`.4`** e o valor de **`4.0`** pode ser escrito como **`4.`**\n",
    "\n",
    "**`4`** é um número inteiro, enquanto **`4.0`** ou **`4.`** é um número de ponto flutuante, desde que haja um ponto decimal no literal.\n",
    "\n",
    "Por outro lado, não são apenas os pontos que fazem um float. Você também pode usar a letra **`e`**.\n",
    "\n",
    "A letra **e (ou E)** é usada para indicar a **potência de dez**. Por exemplo, para evitar escrever tantos zeros, os livros de física usam uma forma abreviada, que você provavelmente já viu: \n",
    "\n",
    "**`3 x 10 ** 8 = 300000000`**\n",
    "\n",
    "O Python permite que você escreva o mesmo valor como **``3e8``**.\n",
    "\n",
    "A letra E (você também pode usar a letra minúscula e - vem da palavra expoente) é um registro conciso da frase **``vezes dez à potência de``**.\n",
    "\n",
    "- o expoente (o valor após o E) tem que ser um número inteiro;\n",
    "- a base (o valor na frente do E) pode ser um número inteiro ou um valor flutuante.\n",
    "\n",
    "Vamos ver como essa convenção é usada para registrar números muito pequenos (no sentido de seu valor absoluto, que é próximo de zero).\n",
    "\n",
    "O Python sempre escolhe a forma mais econômica de apresentação do número, e você deve levar isso em consideração ao criar literais."
   ]
  },
  {
   "cell_type": "code",
   "execution_count": null,
   "metadata": {
    "ExecuteTime": {
     "end_time": "2024-02-05T01:19:50.214182100Z",
     "start_time": "2024-02-05T01:19:50.185173300Z"
    }
   },
   "outputs": [],
   "source": [
    "# Uma constante física chamada constante de Planck (e indicada como h), conforme os livros didáticos, tem o valor de: 6,62607 x 10-34 \n",
    "\n",
    "# 6,626070000000000000000000000000000000000\n",
    "\n",
    "# São 34 zeros, oque torna o número cansativo de ser digitado ou lido.\n",
    "\n",
    "# O Python permite que você escreva o mesmo valor como 6.62607e-34.\n",
    "\n",
    "h = 6.62607 * (10**-34) # 10**-34 é a notação científica para 10 elevado a -34\n",
    "print(h)  # Saída: 6.62607e-34"
   ]
  },
  {
   "cell_type": "code",
   "execution_count": null,
   "metadata": {},
   "outputs": [],
   "source": [
    "# O Python decide como exibir um número de ponto flutuante com base em sua magnitude. Se o número for muito grande ou muito pequeno, o Python escolherá a notação científica para exibi-lo.\n",
    "\n",
    "print(3e8) # Saída: 300000000.0 - Nesse caso Python escolheu exibir o número em notação decimal, pois é mais fácil de ler.\n",
    "\n",
    "print(0.0000000000000000000001)  # Saída: 1e-22 - Nesse caso Python escolheu exibir o número em notação científica, pois é mais fácil de ler. \n",
    "\n",
    "print(type(3e8)) # Saída: <class 'float'> - O número 3e8 é um número de ponto flutuante apesar de ser escrito em notação científica utilizando a letra e."
   ]
  },
  {
   "cell_type": "markdown",
   "metadata": {},
   "source": [
    "## `Booleans`\n",
    "---\n",
    "Essas literais não são tão óbvias quanto as anteriores, pois são usadas para representar um valor muito abstrato - a veracidade. O nome vem do matemático George Boole, o primeiro a definir um sistema de álgebra booleana, a base da lógica moderna e da computação que usa apenas dois valores: verdadeiro e falso denotados como 1 e 0, respectivamente.\n",
    "\n",
    "Cada vez que você pergunta ao Python se um número é maior que outro, a pergunta resulta na criação de alguns dados específicos - um valor booleano. Você nunca receberá uma resposta como: ***\"não sei\"*** ou ***\"Provavelmente, sim, mas não tenho certeza\"***.\n",
    "\n",
    "O Python sempre responderá com um dos dois valores: True ou False. Você não pode mudar nada. É necessário aceitar esses símbolos como eles são e é importante notar que a distinção entre maiúsculas e minúsculas é significativa em Python, ou seja, True e False são diferentes de true e false."
   ]
  },
  {
   "cell_type": "markdown",
   "metadata": {},
   "source": [
    "### O Valor Booleano `True`\n",
    "---\n",
    "Em Python, `True` é um valor booleano que representa a verdade ou a confirmação de uma condição. Este valor é utilizado para indicar que uma expressão ou condição é avaliada como verdadeira (No sentido de ser atendida).\n",
    "\n",
    "1. **Utilização em Expressões Lógicas**:\n",
    "\n",
    "`True` é frequentemente usado em expressões lógicas para representar que uma condição é verdadeira. Por exemplo, em uma instrução `if`, `True` indica que o bloco de código associado será executado se a condição for verdadeira."
   ]
  },
  {
   "cell_type": "code",
   "execution_count": null,
   "metadata": {},
   "outputs": [
    {
     "name": "stdout",
     "output_type": "stream",
     "text": [
      "Esta condição é verdadeira!\n"
     ]
    }
   ],
   "source": [
    "if True:\n",
    "   print(\"Esta condição é verdadeira!\")\n",
    "   \n",
    "# Neste exemplo, a condição pode ser o valor True ou uma expressão. Chamamos de condição qualquer expressão que retorne um valor booleano (True ou False) e condicional é uma estrutura de controle que executa um bloco de código a partir de uma condição."
   ]
  },
  {
   "cell_type": "markdown",
   "metadata": {},
   "source": [
    "2. **Retorno de Funções e Métodos**:\n",
    "\n",
    "Algumas funções ou métodos em Python podem retornar o valor `True` para indicar que uma operação foi bem-sucedida ou que uma condição foi atendida.\n",
    "\n",
    "Exemplo: A função recebe um valor. A instução if espera que o valor seja maior que zero para ser atendida e retornar True"
   ]
  },
  {
   "cell_type": "code",
   "execution_count": null,
   "metadata": {},
   "outputs": [],
   "source": [
    "def verificar_condicao(numero):\n",
    "    if numero > 0:\n",
    "       return True\n",
    "    else:\n",
    "       return False\n",
    "\n",
    "\n",
    "resultado = verificar_condicao(10)\n",
    "print(resultado)  # Saída: True"
   ]
  },
  {
   "cell_type": "markdown",
   "metadata": {},
   "source": [
    "3. **Comparação e Avaliação**:\n",
    "\n",
    "`True` é usado para comparar ou avaliar valores em expressões condicionais, loops e outras estruturas de controle de fluxo."
   ]
  },
  {
   "cell_type": "code",
   "execution_count": null,
   "metadata": {},
   "outputs": [],
   "source": [
    "condicao = (5 > 2)\n",
    "print(condicao)  # Saída: True"
   ]
  },
  {
   "cell_type": "markdown",
   "metadata": {},
   "source": [
    "4. **Constante Booleana**:\n",
    "   - Em Python, `True` é uma constante booleana embutida e não pode ser reatribuída a outro valor."
   ]
  },
  {
   "cell_type": "code",
   "execution_count": null,
   "metadata": {},
   "outputs": [],
   "source": [
    "True = False  # Isso resultará em um erro de sintaxe, pois True é uma palavra reservada"
   ]
  },
  {
   "cell_type": "markdown",
   "metadata": {},
   "source": [
    "### O Valor Booleano `False`\n",
    "---\n",
    "Em Python, `False` é um valor booleano que representa a falsidade ou a negação de uma condição. Enquanto `True` indica que uma condição é verdadeira, `False` indica que uma condição é falsa ou não é verdadeira.\n",
    "\n",
    "1. **Utilização em Expressões Lógicas**:\n",
    "   - `False` é frequentemente usado em expressões lógicas para representar que uma condição não é verdadeira. Ele é útil em situações onde se deseja controlar o fluxo do programa com base em condições que não são atendidas.\n",
    "\n",
    "   Exemplo:\n",
    "   ```python\n",
    "   if condicao == False:\n",
    "       print(\"A condição não foi atendida.\")\n",
    "   ```\n",
    "\n",
    "2. **Valor Padrão em Alguns Contextos**:\n",
    "   - Em certos contextos, `False` é utilizado como um valor padrão ou de inicialização. Por exemplo, em algumas estruturas de dados, como dicionários ou listas, um valor `False` pode ser usado como padrão para indicar que uma determinada condição não foi verificada ou uma ação não foi realizada.\n",
    "\n",
    "   Exemplo:\n",
    "   ```python\n",
    "   resultados = {\n",
    "       'sucesso': False,\n",
    "       'mensagem': 'A operação falhou.'\n",
    "   }\n",
    "   ```\n",
    "\n",
    "3. **Comparação e Avaliação**:\n",
    "   - `False` é usado para comparar ou avaliar valores em expressões condicionais, loops e outras estruturas de controle de fluxo. Ele pode ser combinado com operadores lógicos, como `and`, `or` e `not`, para criar expressões mais complexas.\n",
    "\n",
    "   Exemplo:\n",
    "   ```python\n",
    "   if not condicao:\n",
    "       print(\"A condição não foi atendida.\")\n",
    "   ```\n",
    "\n",
    "4. **Constante Booleana**:\n",
    "   - `False` é uma constante booleana embutida em Python e não pode ser reatribuída a outro valor. Ele é uma parte fundamental da linguagem Python e é amplamente utilizado em diversas situações.\n",
    "\n",
    "   Exemplo:\n",
    "   ```python\n",
    "   False = True  # Isso resultará em um erro de sintaxe, pois False é uma palavra reservada\n",
    "   ```"
   ]
  },
  {
   "cell_type": "markdown",
   "metadata": {},
   "source": [
    "### O Valor `None`\n",
    "---\n",
    "Em Python, `None` é um valor especial que representa a ausência de um valor significativo. É frequentemente usado para indicar que uma variável não possui um valor atribuído ou que uma função não retornou nenhum resultado.\n",
    "\n",
    "1. **Ausência de Valor Atribuído**:\n",
    "\n",
    "O valor `None` é frequentemente utilizado para inicializar variáveis que podem ser atribuídas posteriormente. Quando uma variável é definida como `None`, isso indica que ela ainda não tem um valor atribuído.\n",
    "\n",
    "Exemplo:"
   ]
  },
  {
   "cell_type": "code",
   "execution_count": 59,
   "metadata": {},
   "outputs": [],
   "source": [
    "resultado = None"
   ]
  },
  {
   "cell_type": "markdown",
   "metadata": {},
   "source": [
    "2. **Retorno de Funções e Métodos**:\n",
    "\n",
    "`None` é comumente retornado por funções e métodos quando não há um valor significativo para retornar. Isso é útil quando uma função precisa indicar que não houve sucesso ou que uma condição não foi atendida.\n",
    "\n",
    "Exemplo:"
   ]
  },
  {
   "cell_type": "code",
   "execution_count": 61,
   "metadata": {},
   "outputs": [
    {
     "name": "stdout",
     "output_type": "stream",
     "text": [
      "O elemento não foi encontrado.\n"
     ]
    }
   ],
   "source": [
    "# Criamos uma função que verifica se um elemento está presente em uma lista. Se o elemento estiver presente, a função retorna o elemento. Caso contrário, ela retorna None.\n",
    "\n",
    "# Criamos uma lista de números e um elemento a ser buscado na lista.\n",
    "lista_elementos = [1, 2, 3, 4, 5]\n",
    "\n",
    "# Definimos o elemento a ser buscado na lista\n",
    "elemento_buscado = 6\n",
    "\n",
    "# A função `buscar_elemento` verifica se o elemento está presente na lista. Se estiver, retorna o elemento; caso contrário, retorna None.\n",
    "def buscar_elemento(lista, elemento):\n",
    "   if elemento in lista:\n",
    "       return elemento\n",
    "   else:\n",
    "       return None\n",
    "\n",
    "# Chamamos a função `buscar_elemento` passando a lista e o elemento a ser buscado. O resultado será armazenado na variável `resultado`.\n",
    "resultado = buscar_elemento(lista_elementos, elemento_buscado)\n",
    "\n",
    "# Verificamos se o resultado é None. Se for, significa que o elemento não foi encontrado na lista.\n",
    "if resultado is None:\n",
    "   print(\"O elemento não foi encontrado.\")\n",
    "\n",
    "\n",
    "# No caso do código fornecido, o `else` poderia ser omitido sem afetar o comportamento da função. Se o elemento não estiver na lista, a função simplesmente não encontrará o elemento e, implicitamente, retornará `None`. \n",
    "\n",
    "# Aqui está uma versão simplificada do código sem o bloco `else`:\n",
    "\n",
    "def buscar_elemento(lista, elemento):\n",
    "    if elemento in lista:\n",
    "        return elemento\n",
    "    # Se o elemento não for encontrado, None será retornado implicitamente\n",
    "\n",
    "\n",
    "# Esta abordagem é perfeitamente válida em Python e é comumente utilizada para simplificar o código em situações onde a lógica do programa é direta e o retorno de `None` é esperado quando uma condição não é atendida."
   ]
  },
  {
   "cell_type": "markdown",
   "metadata": {},
   "source": [
    "3. **Verificação de Valor Nulo**:\n",
    "\n",
    "O valor `None` pode ser usado para verificar se uma variável ou resultado de uma função possui um valor atribuído. Isso é útil para evitar erros ao lidar com valores nulos.\n",
    "\n",
    "Exemplo:"
   ]
  },
  {
   "cell_type": "code",
   "execution_count": 64,
   "metadata": {},
   "outputs": [
    {
     "name": "stdout",
     "output_type": "stream",
     "text": [
      "A variável não possui um valor atribuído.\n"
     ]
    }
   ],
   "source": [
    "variavel = None\n",
    "\n",
    "if variavel is None:\n",
    "    print(\"A variável não possui um valor atribuído.\")"
   ]
  },
  {
   "cell_type": "markdown",
   "metadata": {},
   "source": [
    "4. **Parâmetro Padrão em Funções**:\n",
    "\n",
    "Em definições de funções, você pode usar `None` como um valor padrão para parâmetros, indicando que o argumento é opcional e pode ser omitido. Isso permite flexibilidade ao chamar a função.\n",
    "\n",
    "Exemplo:"
   ]
  },
  {
   "cell_type": "code",
   "execution_count": 67,
   "metadata": {},
   "outputs": [
    {
     "name": "stdout",
     "output_type": "stream",
     "text": [
      "Olá, mundo!\n",
      "Olá, João!\n"
     ]
    }
   ],
   "source": [
    "# Definimos a função `saudacao` que recebe um parâmetro opcional `nome`. Se o parâmetro `nome` não for fornecido (ou seja, for `None`), a função retorna \"Olá, mundo!\". Caso contrário, retorna \"Olá, {nome}!\".\n",
    "def saudacao(nome=None):\n",
    "    if nome is None:\n",
    "       return \"Olá, mundo!\"\n",
    "    else:\n",
    "       return f\"Olá, {nome}!\"\n",
    "   \n",
    "\n",
    "print(saudacao())      # Saída: Olá, mundo!\n",
    "print(saudacao(\"João\"))# Saída: Olá, João!\n",
    "\n",
    "# Importante! O uso de `None` como valor padrão para parâmetros de função é uma prática comum em Python. Isso permite que você crie funções que podem ser chamadas com ou sem argumentos, oferecendo flexibilidade ao seu código. Além disso, o uso de `None` como valor padrão é útil para indicar que um parâmetro é opcional e pode ser omitido se não for necessário.\n",
    "\n",
    "# Nessa situação, também é possível atribuir o valor padrão diretamente no parâmetro da função. Assim não é necessário verificar se o parâmetro é `None` dentro da função. Veja o exemplo a seguir:"
   ]
  },
  {
   "cell_type": "code",
   "execution_count": null,
   "metadata": {},
   "outputs": [],
   "source": []
  },
  {
   "cell_type": "markdown",
   "metadata": {},
   "source": [
    "### Outros tipos de dados em Python\n",
    "---\n",
    "Listas, Tuplas, Dicionários, Conjuntos, etc. Estes tipos de dados são usados para armazenar coleções de valores. Eles são úteis quando você precisa trabalhar com conjuntos de dados relacionados ou quando deseja organizar informações de maneira estruturada. Cada um desses tipos de dados tem suas próprias características e usos específicos. Por serem valores mais complexos, abordaremos futuramente cada um deles em detalhes, individualmente.\n",
    "\n",
    "\n",
    "1. **Listas (`list`)**: Uma lista é uma coleção ordenada de itens que podem ser de diferentes tipos de dados. Os elementos de uma lista são separados por vírgulas e são colocados entre colchetes `[]`.\n",
    "\n",
    "Exemplo:\n",
    "```python\n",
    "minha_lista = [1, 2, 3, 'quatro', 5.5]\n",
    "```\n",
    "\n",
    "2. **Tuplas (`tuple`)**: Semelhantes às listas, as tuplas também são coleções ordenadas de itens, mas são imutáveis, ou seja, uma vez criadas, não podem ser modificadas. Os elementos de uma tupla são separados por vírgulas e podem ser colocados entre parênteses `()`.\n",
    "\n",
    "Exemplo:\n",
    "```python\n",
    "minha_tupla = (1, 2, 'três', 4.4)\n",
    "```\n",
    "\n",
    "3. **Dicionários (`dict`)**: Um dicionário é uma coleção não ordenada de pares chave-valor. Cada chave em um dicionário é única e associada a um valor. Os pares chave-valor são separados por vírgulas e os pares são colocados entre chaves `{}`.\n",
    "\n",
    "Exemplo:\n",
    "```python\n",
    "meu_dicionario = {'nome': 'João', 'idade': 30,'cidade': 'São Paulo'}\n",
    "```\n",
    "\n",
    "4. **Conjuntos (`set`)**: Um conjunto é uma coleção não ordenada e sem elementos duplicados. Os elementos de um conjunto são colocados entre chaves `{}` e separados por vírgulas.\n",
    "\n",
    "Exemplo:\n",
    "```python\n",
    "meu_conjunto = {1, 2, 3, 4, 5}\n",
    "```\n",
    "Importante destacar a diferença sintática entre dicionários e conjuntos pois ambos utilizam chaves para envolver os vales, porém dicionários exigem um par de chave:valor"
   ]
  }
 ],
 "metadata": {
  "kernelspec": {
   "display_name": "Python 3",
   "language": "python",
   "name": "python3"
  },
  "language_info": {
   "codemirror_mode": {
    "name": "ipython",
    "version": 3
   },
   "file_extension": ".py",
   "mimetype": "text/x-python",
   "name": "python",
   "nbconvert_exporter": "python",
   "pygments_lexer": "ipython3",
   "version": "3.13.2"
  }
 },
 "nbformat": 4,
 "nbformat_minor": 2
}
