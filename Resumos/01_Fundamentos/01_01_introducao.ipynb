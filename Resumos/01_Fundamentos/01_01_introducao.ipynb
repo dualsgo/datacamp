{
 "cells": [
  {
   "cell_type": "markdown",
   "id": "9dcc2d72",
   "metadata": {},
   "source": [
    "## Introdução à Programação\n",
    "---\n",
    "Programar é fundamentalmente *``comunicação``*. Precisamos nos tornar bons comunicadores para expressar nossas ideias de forma clara e eficaz. Ao criar um código, estamos instruindo o computador a realizar uma tarefa por meio de um *``algoritmo``*, que por sua vez é *``um conjunto de instruções que são executadas em uma ordem específica para atingir um objetivo``*. O código é a representação escrita desse algoritmo. Para que o computador entenda o que queremos que ele faça, precisamos escrever o código de forma clara e precisa, sem ambiguidade. A clareza do código é fundamental para que possamos entender o que ele faz e para que outras pessoas possam ler e compreender o que foi feito. A eficácia do código está relacionada à sua capacidade de realizar a tarefa proposta de forma correta e eficiente.\n",
    "\n",
    "Para escrever um código eficaz, precisamos considerar a sua ``legibilidade``, a sua ``eficiência`` e a sua ``manutenibilidade``, onde:\n",
    "\n",
    "- A ``legibilidade`` está relacionada à facilidade de leitura e compreensão do código. Um código legível é aquele que pode ser facilmente compreendido por outras pessoas, mesmo que elas não tenham conhecimento prévio sobre o assunto.\n",
    "\n",
    "- A ``eficiência`` está relacionada à capacidade do código de realizar a tarefa proposta de forma rápida e sem desperdício de recursos. Um código eficiente é aquele que utiliza os recursos disponíveis de forma otimizada, evitando retrabalho e desperdício de tempo e memória. \n",
    "\n",
    "- A ``manutenibilidade`` está relacionada à facilidade de modificar e atualizar o código. Um código manutenível é aquele que pode ser facilmente alterado para corrigir erros, adicionar novas funcionalidades ou adaptar-se a novos requisitos.\n",
    "\n",
    "### Algoritmos e Lógica de Programação\n",
    "Como vimos, um algoritmo é um conjunto de passos bem definidos para resolver um problema ou executar uma tarefa. Ele pode ser tão simples quanto seguir uma receita de bolo ou tão complexo quanto os sistemas de inteligência artificial. Na programação, a lógica é fundamental para criar algoritmos eficientes. Isso envolve três conceitos essenciais:\n",
    "\n",
    "1. **Sequência**: Os comandos devem ser executados em uma ordem lógica.\n",
    "2. **Decisão**: O uso de condições permite alterar o fluxo do programa com base em situações específicas.\n",
    "3. **Repetição**: Determinados trechos do código podem ser repetidos conforme necessário.\n",
    "\n",
    "A compreensão desses elementos permite que programadores criem soluções eficazes para diversos problemas computacionais.\n",
    "\n",
    "Quando falamos de programação, é essencial compreender diversas camadas para dominar uma linguagem específica. Primeiramente, entender a organização estrutural é fundamental. Cada linguagem de programação é como um idioma para computadores, com sua própria sintaxe e conjunto de normas.\n",
    "\n",
    "Assim como aprendemos a nos comunicar em um idioma natural, aprender a programar envolve conhecer a estrutura, o vocabulário, as regras e o significado das instruções. Seja uma linguagem natural, como o português, ou uma linguagem de programação, todas compartilham elementos fundamentais.\n",
    "\n",
    "1. **Alfabeto**:  \n",
    "   Tanto as linguagens humanas quanto as de programação se baseiam em conjuntos de símbolos. No português, por exemplo, utilizamos letras, números e sinais de pontuação. De forma análoga, as linguagens de programação também possuem seu conjunto de caracteres fundamentais. A sutileza importante aqui é que, embora alguns caracteres possam ser visualmente idênticos aos que usamos em línguas humanas (como as letras do alfabeto latino ou os números), seu significado e função dentro do contexto da programação podem ser completamente distintos. Um simples ponto e vírgula `(;)`, por exemplo, que em português tem um uso gramatical específico, em muitas linguagens de programação atua como um terminador de instrução, demonstrando como símbolos visualmente iguais podem carregar papéis radicalmente diferentes.\n",
    "\n",
    "2. **Vocabulário (Dicionário)**:  \n",
    "   Dando um passo adiante, toda linguagem, seja ela humana ou de programação, possui um vocabulário, ou um 'dicionário' de palavras e expressões válidas. Em português, temos um vasto léxico à nossa disposição. De forma análoga, linguagens de programação como Python contam com um vocabulário específico, composto por palavras-chave como `if, else, for, while, def, return, True, e False`. Essas palavras-chave, assim como as letras do nosso alfabeto, são os blocos de construção básicos para formar instruções significativas.\n",
    "\n",
    "3. **Sintaxe**:  \n",
    "   A maneira como combinamos as palavras desse vocabulário é definida pela sintaxe da linguagem. Em português, existem regras gramaticais que governam a ordem das palavras e a concordância entre elas. Da mesma forma, em Python, a sintaxe estabelece como essas palavras-chave e outros símbolos do 'alfabeto' (mencionados anteriormente) devem ser organizados para que o código seja interpretado corretamente. Um exemplo marcante em Python é a indentação, que não é apenas uma questão de estilo, mas sim parte fundamental da sintaxe para definir blocos de código – uma regra que não encontramos da mesma forma no português.\n",
    "\n",
    "4. **Semântica**:  \n",
    "   Finalmente, chegamos à semântica. Mesmo que uma frase em português esteja gramaticalmente correta (seguindo a sintaxe) e utilize palavras do nosso vocabulário, ela pode não ter sentido claro se a semântica falhar. Por exemplo, 'o triângulo redondo dorme verde' respeita algumas regras gramaticais, mas sua semântica é incoerente. Em programação, a semântica se refere ao significado e ao comportamento do código quando ele é executado. Uma instrução sintaticamente correta em Python, utilizando as palavras-chave do seu vocabulário e os símbolos do seu 'alfabeto', precisa ter uma semântica clara para que o programa realize a tarefa desejada. Se a lógica por trás do uso de um if ou de um for estiver incorreta, mesmo que a sintaxe esteja perfeita, o comportamento do programa (sua semântica) não será o esperado\n",
    "\n",
    "   Um exemplo disso é a seguinte situação:\n",
    "   - Você deseja exibir o valor um milhão separado por vírgulas, então você escreve o seguinte código:  `print(1,000,000)`.\n",
    "   - Este código é sintaticamente correto pois as regras do Python não te impedem de separar números usando vírgulas, mas resultará em `1 0 0`, pois as vírgulas são interpretadas como separadores de argumentos.\n",
    "\n",
    "   Vamos explorar na prática os erros semânticos em Python, que são os erros que ocorrem quando o código é sintaticamente correto, ou seja, respeita a gramática da linguagem, mas não produz o resultado esperado. Esses erros podem ser difíceis de identificar, pois o código pode ser executado sem gerar mensagens de erro, mas o resultado final não é o que o programador pretendia."
   ]
  },
  {
   "cell_type": "code",
   "execution_count": null,
   "id": "3c1f2385",
   "metadata": {},
   "outputs": [
    {
     "name": "stdout",
     "output_type": "stream",
     "text": [
      "1 0 0\n"
     ]
    }
   ],
   "source": [
    "# Como vimos antes, imagine que você deseja digitar o número 1000000 (um milhão), mas para melhorar a legibilidade do código, você decide separar os milhares com vírgulas. Você pode fazer isso da seguinte forma:\n",
    "\n",
    "# Obs.: Sabemos que um humano usaria pontos para separar os milhares, mas aqui usamos vírgulas de propósito para explorar o erro semântico.\n",
    "print(1,000,000) \n",
    "\n",
    "# Ao executar o código, o resultado será 1 0 0 que absolutamente não é o esperado.\n",
    "\n",
    "# O resultado NÃO é 1,000,000, pois o Python interpreta o número 1,000,000 como três números separados por vírgulas, pois a vírgula é utilizada para separar argumentos em funções. Neste caso, a função print() interpreta que você sabe o que está fazendo e que colocou deliberadamente três argumentos: 1, 000 e 000. O Python exibe os argumentos separados por espaços, pois o separador de argumentos da função print() é um espaço em branco por padrão.\n",
    "\n",
    "# Este tipo de erro é chamado de erro semântico, pois o código é sintaticamente correto ou seja, não há errros na sintaxe da linguagem, mas o resultado não é o esperado. Python permite que você utilize a vírgula, mas não a interpreta como um separador de milhares. Note que apesar do erro semântico, o Python não exibe uma mensagem de erro, pois o código é sintaticamente correto. O erro é apenas de lógica e o Python não pode adivinhar a intenção do programador. Portanto, é importante prestar atenção aos detalhes e testar o código para garantir que ele está funcionando corretamente."
   ]
  },
  {
   "cell_type": "markdown",
   "id": "cdca7454",
   "metadata": {},
   "source": [
    "Para isso, você deve utilizar o caractere underscore (_) para separar os milhares se desejar melhorar a legibilidade do código."
   ]
  },
  {
   "cell_type": "code",
   "execution_count": 4,
   "id": "156399da",
   "metadata": {},
   "outputs": [
    {
     "name": "stdout",
     "output_type": "stream",
     "text": [
      "1000000\n"
     ]
    }
   ],
   "source": [
    "# Veja o exemplo correto:\n",
    "print(1_000_000) # O resultado será 1000000"
   ]
  },
  {
   "cell_type": "markdown",
   "id": "80e31011",
   "metadata": {},
   "source": [
    "Agora vamos explorar um exemplo com erro de sintaxe, que é um erro que ocorre quando o código não está de acordo com as regras da linguagem de programação. Esses erros são mais fáceis de identificar, pois o Python exibe uma mensagem de erro indicando que a sintaxe do código está incorreta."
   ]
  },
  {
   "cell_type": "code",
   "execution_count": 9,
   "id": "86a01193",
   "metadata": {},
   "outputs": [
    {
     "ename": "SyntaxError",
     "evalue": "invalid syntax. Perhaps you forgot a comma? (3813999888.py, line 3)",
     "output_type": "error",
     "traceback": [
      "  \u001b[36mCell\u001b[39m\u001b[36m \u001b[39m\u001b[32mIn[9]\u001b[39m\u001b[32m, line 3\u001b[39m\n\u001b[31m    \u001b[39m\u001b[31mprint(1.000.000)\u001b[39m\n          ^\n\u001b[31mSyntaxError\u001b[39m\u001b[31m:\u001b[39m invalid syntax. Perhaps you forgot a comma?\n"
     ]
    }
   ],
   "source": [
    "# Vimos que não podemos utilizar virgulas para separar os milhares, mas e se tentarmos utilizar pontos?\n",
    "\n",
    "print(1.000.000)\n",
    "# SyntaxError: invalid syntax. Perhaps you forgot a comma?\n",
    "\n",
    "# Tradução:\n",
    "# ErrodeSintaxe: sintaxe inválida. Talvez você tenha esquecido de uma vírgula?"
   ]
  },
  {
   "cell_type": "markdown",
   "id": "35de31c7",
   "metadata": {},
   "source": [
    "\n",
    "Dessa vez, usamos pontos como separador, da forma que um humano faria e o Python gerou um erro de sintaxe, pois dentro das regras de sintaxe da linguagem o ponto é utilizado para representar números decimais. Portanto, o Python não consegue interpretar o número 1.000.000, pois não é um número decimal válido. Isso gerou uma mensagem de erro indicando que a sintaxe do código está incorreta e uma sugestão para corrigir o erro."
   ]
  },
  {
   "cell_type": "code",
   "execution_count": 10,
   "id": "18f5cae1",
   "metadata": {},
   "outputs": [
    {
     "name": "stdout",
     "output_type": "stream",
     "text": [
      "1.0\n",
      "1000.0\n",
      "1.0 0.0\n"
     ]
    }
   ],
   "source": [
    "# Observação: Nesse exemplo, a mensagem de erro foi gerada, pois um número decimal válido possui apenas um ponto e utilizamos dois pontos. Sendo assim, é de se esperar que se removermos um dos pontos, o código será executado sem apresentar a mensagem de erro, mas o resultado não será o esperado.\n",
    "\n",
    "print(1.000000) # O resultado será 1.0\n",
    "print(1000.000) # O resultado será 1000.0\n",
    "\n",
    "# A mensagem de erro o Python sugere que talvez você tenha esquecido de uma vírgula pois é possível que o programador tenha tentado separar dois valores, mas esqueceu de colocar a vírgula. O Python não pode adivinhar a intenção do programador, portanto, ele tenta interpretar o código da melhor forma possível. No entanto, o resultado não é o esperado, gerando um erro semântico.\n",
    "print(1.,000.00) # O resultado será 1.0\n",
    "\n",
    "# Conclusão:\n",
    "\n",
    "# Erros de sintaxe são erros que ocorrem quando o código NÃO ESTÁ de acordo com as regras da linguagem de programação. \n",
    "# Erros semânticos são erros que ocorrem quando o código ESTÁ de acordo com as regras da linguagem de programação, mas o resultado não é o esperado."
   ]
  },
  {
   "cell_type": "markdown",
   "id": "8e214ff6",
   "metadata": {},
   "source": [
    "## Apresentando o Python\n",
    "---\n",
    "\n",
    "A linguagem de máquina representa o nível mais fundamental de comunicação com o processador de um computador. Essencialmente, ela é o idioma nativo do hardware, consistindo em sequências de códigos binários (combinações específicas de 0s e 1s). Cada uma dessas sequências corresponde a uma instrução elementar que o processador é capaz de executar diretamente, como operações aritméticas básicas (adição, subtração, multiplicação, divisão), lógicas (AND, OR, NOT), de controle de fluxo (desvio, salto), e de movimentação de dados entre a memória e os registradores do processador. Devido à sua natureza intrínseca ao hardware e à sua forma numérica crua, a linguagem de máquina é classificada como uma linguagem de baixo nível, tornando-a complexa e laboriosa para os seres humanos escreverem, depurarem e manterem diretamente.\n",
    "\n",
    "Para mitigar as dificuldades inerentes à programação em linguagem de máquina, surgiram as linguagens de programação de alto nível. Estas linguagens abstraem significativamente os detalhes da arquitetura do computador, oferecendo uma sintaxe e uma semântica mais próximas da linguagem natural humana e dos conceitos matemáticos. Comandos em linguagens de alto nível, como print(\"Olá, mundo!\") ou if x > 5:, são intuitivos e focam na lógica do problema a ser resolvido, permitindo que os desenvolvedores expressem suas ideias de forma mais concisa e eficiente, sem a necessidade de manipular diretamente os bits e bytes. Exemplos populares incluem Python, Java, C++, e JavaScript.\n",
    "\n",
    "No entanto, é crucial entender que o processador de um computador só pode executar instruções em linguagem de máquina. Portanto, um programa escrito em uma linguagem de alto nível não é diretamente compreendido pelo hardware. Para que a execução ocorra, o código de alto nível precisa passar por um processo de tradução para a linguagem de máquina. Essa tradução é realizada por dois tipos principais de programas: compiladores e interpretadores.\n",
    "\n",
    "Um compilador analisa todo o código-fonte de alto nível de uma vez e o traduz para um código de máquina executável (ou código de baixo nível otimizado, como assembly, que é então montado para código de máquina). O resultado dessa compilação é um arquivo independente que pode ser executado pelo sistema operacional sem a necessidade do compilador original. Linguagens como C, C++, e Go geralmente utilizam compiladores.\n",
    "\n",
    "Por outro lado, um interpretador lê e executa o código-fonte de alto nível linha por linha (ou instrução por instrução). Ele traduz cada instrução para uma forma intermediária ou diretamente para a linguagem de máquina no momento da execução. Linguagens como Python, JavaScript e Ruby são tipicamente interpretadas (embora algumas implementações possam incluir etapas de compilação just-in-time - JIT para otimizar o desempenho).\n",
    "\n",
    "**``Python``**: Python é uma linguagem de programação de alto nível, interpretada e de propósito geral. Criada por Guido van Rossum em 1991, ela se destaca por sua sintaxe clara e legibilidade, o que contribuiu significativamente para sua ampla adoção em diversas áreas. A semelhança da estrutura do código Python com a linguagem inglesa facilita o aprendizado e a compreensão para iniciantes. Contudo, é fundamental entender que, apesar dessa familiaridade superficial, Python opera sob um conjunto específico de regras sintáticas que o interpretador precisa analisar e traduzir para as instruções de baixo nível que o computador executa.\n",
    "\n",
    "Python é amplamente utilizado em desenvolvimento web (server-side), desenvolvimento de software, ciência de dados, inteligência artificial, automação e scripting de sistemas. Sua versatilidade decorre de sua capacidade de abstrair as complexidades da arquitetura do computador, permitindo que os desenvolvedores se concentrem na lógica de seus programas, sem a necessidade de manipulação direta da linguagem de máquina.\n",
    "\n",
    "Python pode ser usado para criar aplicações web robustas, desenvolver fluxos de trabalho integrados com outros softwares, interagir com sistemas de gerenciamento de bancos de dados, manipular e analisar grandes volumes de dados, realizar cálculos matemáticos e estatísticos complexos, prototipar soluções rapidamente e desenvolver software pronto para implantação em produção.\n",
    "\n",
    "Diversos fatores contribuem para a popularidade do Python, incluindo sua portabilidade (capacidade de rodar em diferentes sistemas operacionais com poucas ou nenhuma modificação), sua sintaxe concisa e legível (que reduz a quantidade de código necessário para expressar uma ideia), sua vasta biblioteca padrão (que oferece uma ampla gama de módulos e funcionalidades prontas para uso), sua grande e ativa comunidade (que contribui com bibliotecas de terceiros e oferece suporte), e sua natureza interpretada (que facilita o desenvolvimento e a depuração, pois o código é executado linha por linha).\n",
    "\n",
    "A versão principal atualmente em uso é o Python 3, sendo o Python 2 uma versão legada que não recebe mais atualizações de segurança. O código Python pode ser escrito em editores de texto simples ou em Ambientes de Desenvolvimento Integrado (IDEs) como PyCharm e VS Code, que fornecem ferramentas avançadas para auxiliar no processo de desenvolvimento, incluindo realce de sintaxe, depuração e integração com outras ferramentas.\n",
    "\n",
    "A sintaxe do Python enfatiza a legibilidade através do uso de novas linhas para finalizar comandos e da indentação (espaços em branco) para definir blocos de código. Essa característica distintiva, em contraste com linguagens que utilizam delimitadores como chaves, reforça a importância da estrutura e da organização do código para a correta interpretação e execução das instruções pelo ambiente Python.\n",
    "\n",
    "O Python pode já estar instalado em muitos PCs e Macs. Para verificar se está instalado, siga estas instruções:\n",
    "\n",
    "- No Windows, procure por Python na barra de busca ou execute `python --version` no prompt de comando (cmd.exe).\n",
    "- No Linux ou Mac, abra o Terminal e digite `python --version`.\n",
    "\n",
    "Se não estiver instalado, você pode baixá-lo gratuitamente no site oficial python.org.\n",
    "\n",
    "Para começar a programar em Python, siga este guia rápido:\n",
    "\n",
    "1. Escreva seu código Python em um arquivo de texto (com extensão .py).\n",
    "2. Execute o arquivo Python no interpretador Python.\n",
    "\n",
    "Por exemplo, vamos criar um arquivo chamado \"helloworld.py\" com o seguinte conteúdo:\n",
    "\n",
    "```python\n",
    "print(\"Hello, World!\")\n",
    "```\n",
    "\n",
    "Salve o arquivo e execute-o no prompt de comando (cmd.exe ou Terminal):\n",
    "\n",
    "```\n",
    "python helloworld.py\n",
    "```\n",
    "\n",
    "Você deve ver a saída:\n",
    "\n",
    "```\n",
    "Hello, World!\n",
    "```\n",
    "\n",
    "Parabéns! Você escreveu e executou seu primeiro programa Python."
   ]
  },
  {
   "cell_type": "code",
   "execution_count": null,
   "id": "18942528",
   "metadata": {},
   "outputs": [],
   "source": [
    "print(\"Hello, World!\")"
   ]
  },
  {
   "cell_type": "markdown",
   "id": "0b6091f9",
   "metadata": {},
   "source": [
    "### Introdução ao Python\n",
    "\n",
    "A estrutura de um código Python é essencial para garantir que o programa seja executado corretamente e de forma compreensível tanto para o desenvolvedor quanto para o interpretador da linguagem. Um código bem organizado melhora a legibilidade, facilita a manutenção e evita erros.\n",
    "\n",
    "Aqui estão alguns aspectos fundamentais da estrutura de um código Python que serão abordados com mais detalhes nos tópicos seguintes:\n",
    "\n",
    "1. **Indentacão**: Em Python, a indentacão é obrigatória e define a estrutura do código. Blocos de instrução são delimitados pela indentacão, geralmente utilizando espaços em branco. Diferente de outras linguagens que usam chaves `{}` para delimitar blocos, Python utiliza apenas a indentacão, tornando o código mais limpo e legível.\n",
    "\n",
    "2. **Ordem de Execução**: Python executa o código de cima para baixo, linha por linha. Portanto, é fundamental que variáveis sejam definidas antes de serem utilizadas e que funções sejam declaradas antes de serem chamadas. Essa ordem garante um fluxo de execução coerente e evita erros de referência.\n",
    "\n",
    "3. **Comentários**: Comentários são essenciais para documentar o código e torná-lo mais compreensível. Em Python, eles são indicados pelo caractere `#`. Um bom uso de comentários facilita a colaboração entre desenvolvedores e ajuda na compreensão futura do código.\n",
    "\n",
    "4. **Instruções e Expressões**: Python diferencia instruções e expressões. Instruções realizam uma ação (como atribuições de variáveis ou comandos de controle de fluxo `if`, `for`, `while`). Expressões, por sua vez, produzem um valor (como operações matemáticas ou chamadas de função que retornam um resultado).\n",
    "\n",
    "5. **Importação de Módulos**: Para ampliar a funcionalidade do Python, é possível importar módulos com `import nome_do_modulo` ou `from nome_do_modulo import funcao_especifica`. O uso de módulos permite reaproveitar código e utilizar bibliotecas especializadas, como `math` para operações matemáticas e `datetime` para manipulação de datas. É comum utilizarmos aliases para facilitar a referência a esses módulos e pacotes.\n",
    "\n",
    "6. **Organização e Estruturação**: Para manter um código limpo e reutilizável, é recomendável modularizar a lógica utilizando funções e classes. Funções encapsulam blocos de código que realizam tarefas específicas, enquanto classes agrupam dados e métodos relacionados, promovendo a reutilização e a organização do código.\n",
    "\n",
    "Aplicar corretamente esses princípios melhora a qualidade do código, facilitando a colaboração entre desenvolvedores e aumentando a eficiência na criação de software robusto e funcional.\n",
    "\n"
   ]
  }
 ],
 "metadata": {
  "kernelspec": {
   "display_name": "Python 3",
   "language": "python",
   "name": "python3"
  },
  "language_info": {
   "codemirror_mode": {
    "name": "ipython",
    "version": 3
   },
   "file_extension": ".py",
   "mimetype": "text/x-python",
   "name": "python",
   "nbconvert_exporter": "python",
   "pygments_lexer": "ipython3",
   "version": "3.13.2"
  }
 },
 "nbformat": 4,
 "nbformat_minor": 5
}
