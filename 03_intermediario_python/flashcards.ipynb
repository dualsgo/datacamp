{
 "cells": [
  {
   "cell_type": "markdown",
   "id": "cd57c5bd",
   "metadata": {},
   "source": [
    "# Python intermediário para desenvolvedores\n",
    "\n",
    "## Entendendo as funções embutidas\n",
    "\n",
    "Python fornece uma variedade de funções embutidas que simplificam tarefas comuns. Funções como `max()`, `min()` e `sum()` ajudam a encontrar o maior, o menor e o total de uma lista de números, respectivamente. \n",
    "\n",
    "Veja como você pode usar essas funções:"
   ]
  },
  {
   "cell_type": "code",
   "execution_count": 50,
   "id": "93ce0d76",
   "metadata": {},
   "outputs": [
    {
     "name": "stdout",
     "output_type": "stream",
     "text": [
      "300.0 50.5 1127.75\n"
     ]
    }
   ],
   "source": [
    "sales = [150.25, 200.75, 50.50, 300.00, 100.00, 250.50, 75.75]\n",
    "\n",
    "# Encontrar a maior transação\n",
    "largest_transaction = max(sales)\n",
    "\n",
    "# Encontrar a menor transação\n",
    "smallest_transaction = min(sales)\n",
    "\n",
    "# Encontrar o total de vendas\n",
    "total_sales = sum(sales)\n",
    "\n",
    "print(largest_transaction, smallest_transaction, total_sales)"
   ]
  },
  {
   "cell_type": "markdown",
   "id": "b985ac6f",
   "metadata": {},
   "source": [
    "Essas funções são eficientes e reduzem a necessidade de escrever códigos longos para realizar operações básicas.\n",
    "\n",
    "## Usando a função ``len()``\n",
    "\n",
    "A função ``len()`` é versátil e pode ser usadada para contar elementos em vários tipos de dados, como listas, strings e dicionários. Isso é particulamente útil para determinar o tamanho de estruturas de dados."
   ]
  },
  {
   "cell_type": "code",
   "execution_count": 51,
   "id": "32b531f1",
   "metadata": {},
   "outputs": [
    {
     "name": "stdout",
     "output_type": "stream",
     "text": [
      "3\n",
      "4\n",
      "13\n"
     ]
    }
   ],
   "source": [
    "course_ratings = {\n",
    "    \"Python Basics\": 4.5, \n",
    "    \"Data Science\": 4.7, \n",
    "    \"Machine Learning\": 4.8}\n",
    "\n",
    "course_completions = [100, 150, 200, 250]\n",
    "\n",
    "most_popular_course = \"Python Basics\"\n",
    "\n",
    "# Contar elementos em um dicionário\n",
    "print(len(course_ratings))\n",
    "\n",
    "# Contar elementos em uma lista\n",
    "print(len(course_completions))\n",
    "\n",
    "# Contar caracteres em uma string\n",
    "print(len(most_popular_course))"
   ]
  },
  {
   "cell_type": "markdown",
   "id": "671dfc20",
   "metadata": {},
   "source": [
    "A função ``len()`` ajuda a avaliar rapidademente o tamanho dos seus dados, o que é crucial na análise e avaliação de dados.\n",
    "\n",
    "## Ordenando com a função ``sorted()``\n",
    "\n",
    "A função ``sorted()`` permite que você ordene dados em ordem crescente. Ela pode ser aplicada a listas e  strings, tornando-se uma ferramente poderosa para organizar dados."
   ]
  },
  {
   "cell_type": "code",
   "execution_count": 52,
   "id": "752be3c3",
   "metadata": {},
   "outputs": [
    {
     "name": "stdout",
     "output_type": "stream",
     "text": [
      "[50.5, 75.75, 100.0, 150.25, 200.75, 250.5, 300.0]\n",
      "['G', 'e', 'e', 'g', 'o', 'r']\n"
     ]
    }
   ],
   "source": [
    "sales = [150.25, 200.75, 50.50, 300.00, 100.00, 250.50, 75.75]\n",
    "\n",
    "name = \"George\"\n",
    "\n",
    "# Ordenar uma lista de vendas\n",
    "sorted_sales = sorted(sales)\n",
    "\n",
    "# Ordenar uma string\n",
    "sorted_name = sorted(name)\n",
    "\n",
    "print(sorted_sales)\n",
    "print(sorted_name)"
   ]
  },
  {
   "cell_type": "markdown",
   "id": "06b39372",
   "metadata": {},
   "source": [
    "A função ``sorted()`` é flexível, permitidndo ordenar diferentes critérios, como inverter a ordem ou ordenar com base em uma chave personalizada.\n",
    "\n",
    "## Entendendo módulos em Python\n",
    "\n",
    "Módulos são scripts Python que terminam com a extensão ``.py``. Eles contêm funções atribuidas que ajudam a evitar a reescrita do código existente. Python fornece cerca de 200 módulos embutidos, como ``os``, ``collections``, ``string`` e ``logging``. Para usar um módulo, importe-o usando a palavra-chave ``import``."
   ]
  },
  {
   "cell_type": "code",
   "execution_count": 53,
   "id": "7f76cd07",
   "metadata": {},
   "outputs": [
    {
     "name": "stdout",
     "output_type": "stream",
     "text": [
      "<class 'module'>\n"
     ]
    }
   ],
   "source": [
    "# Importando o módulo os\n",
    "import os\n",
    "\n",
    "# Verificando o tipo de os\n",
    "print(type(os))"
   ]
  },
  {
   "cell_type": "markdown",
   "id": "89560a63",
   "metadata": {},
   "source": [
    "Módulos como ``os`` premitem a interação com o sistema operacional, como recuperar o diretório de trabalho atual usando ``os.getcwd()``\n",
    "\n",
    "## Acessando atributos de módulos\n",
    "\n",
    "Módulos podem ter atributos, que são valores em vez de funções. O módulo ``string``, por exemplo, fornece atributos, como ``ascii_lowercase`` e ``ponctuaction`` para acessar facilmente conjuntos de caracteres específicos."
   ]
  },
  {
   "cell_type": "code",
   "execution_count": 54,
   "id": "806c2200",
   "metadata": {},
   "outputs": [
    {
     "name": "stdout",
     "output_type": "stream",
     "text": [
      "abcdefghijklmnopqrstuvwxyz\n",
      "!\"#$%&'()*+,-./:;<=>?@[\\]^_`{|}~\n"
     ]
    }
   ],
   "source": [
    "# Importar o módulo string\n",
    "import string\n",
    "\n",
    "# Imprimir todos os caracteres ASCII minúsculos\n",
    "print(string.ascii_lowercase)\n",
    "\n",
    "# Imprimir toda a pontuação\n",
    "print(string.punctuation)"
   ]
  },
  {
   "cell_type": "markdown",
   "id": "9f6746c5",
   "metadata": {},
   "source": [
    "Atributos são acessados usando a sintaxe ```module.attribute`` sem parênteses.\n",
    "\n",
    "## Importando funções específicas de módulos\n",
    "\n",
    "Para economizar memória, vocÊ pode importar funções específicas de um módulo em vez do módulo inteiro. Por exemplo, a função ``date`` do módulo ``datetime`` pode ser importada e usada diretamente."
   ]
  },
  {
   "cell_type": "code",
   "execution_count": 55,
   "id": "b9c2362d",
   "metadata": {},
   "outputs": [
    {
     "name": "stdout",
     "output_type": "stream",
     "text": [
      "<class 'datetime.date'>\n",
      "2024-01-19\n"
     ]
    }
   ],
   "source": [
    "# Importar date do módulo datetime\n",
    "from datetime import date\n",
    "\n",
    "# Criar uma variável chamada deadline\n",
    "deadline = date(2024, 1, 19)\n",
    "\n",
    "# Verificar o tipo de dado\n",
    "print(type(deadline))\n",
    "\n",
    "# Imprimir o deadline\n",
    "print(deadline)"
   ]
  },
  {
   "cell_type": "markdown",
   "id": "42ab530c",
   "metadata": {},
   "source": [
    "Essa abordagem permite que você use a função ``date`` sem se referir ao módulo ``datetime```\n",
    "\n",
    "## Instalando pacotes Python\n",
    "\n",
    "Para utilizae pacotes que não estão incluídos nos módulos internos do Python, precisamos baixá-los do ``Python Packcage Index (PyPI)``. Isso pode ser feito usando a ferramenta ``pip`` no terminal ou prompt de comando.\n",
    "\n",
    "```python\n",
    "python3 -m pip install pandas\n",
    "```\n",
    "\n",
    "Este comando instala o pacote ``pandas``, uma ferramenta popular para manupulação e análise de dados. Após a instalação, você pode importá-lo em seu script Python.\n",
    "\n",
    "## Criando um DataFrame\n",
    "\n",
    "O pacote ``pandas`` permite converter estruturas de dados como dicionários em DataFrame, que são semelhantes a tabelas em uma planilha. Isso torna a manipulação e análise de dados mais intuitiva."
   ]
  },
  {
   "cell_type": "code",
   "execution_count": 56,
   "id": "69721649",
   "metadata": {},
   "outputs": [
    {
     "name": "stdout",
     "output_type": "stream",
     "text": [
      "        0\n",
      "0  150.25\n",
      "1  200.75\n",
      "2   50.50\n",
      "3  300.00\n",
      "4  100.00\n"
     ]
    }
   ],
   "source": [
    "# Importar pandas como pd\n",
    "import pandas as pd\n",
    "\n",
    "# Converter vendas para um DataFrame pandas\n",
    "sales_df = pd.DataFrame(sales)\n",
    "\n",
    "# Visualizar as primeiras cinco linhas\n",
    "print(sales_df.head())"
   ]
  },
  {
   "cell_type": "markdown",
   "id": "9bd4fbbe",
   "metadata": {},
   "source": [
    "A saída mostra as primeiras cinco linhas do DataFrame, exibindo os IDs dos usuários e seus respectivos valores de pedido.\n",
    "\n",
    "## Calculando estatisticas com pandas\n",
    "\n",
    "``pandas`` forncece métodos para realizar cálculos em DataFrames ou colunas específicas, como emcontrar a média ou soma dos valores."
   ]
  },
  {
   "cell_type": "code",
   "execution_count": 57,
   "id": "e49f7308",
   "metadata": {},
   "outputs": [
    {
     "ename": "FileNotFoundError",
     "evalue": "[Errno 2] No such file or directory: 'sales.csv'",
     "output_type": "error",
     "traceback": [
      "\u001b[31m---------------------------------------------------------------------------\u001b[39m",
      "\u001b[31mFileNotFoundError\u001b[39m                         Traceback (most recent call last)",
      "\u001b[36mCell\u001b[39m\u001b[36m \u001b[39m\u001b[32mIn[57]\u001b[39m\u001b[32m, line 3\u001b[39m\n\u001b[32m      1\u001b[39m \u001b[38;5;66;03m# Ler sales.csv\u001b[39;00m\n\u001b[32m----> \u001b[39m\u001b[32m3\u001b[39m sales_df = \u001b[43mpd\u001b[49m\u001b[43m.\u001b[49m\u001b[43mread_csv\u001b[49m\u001b[43m(\u001b[49m\u001b[33;43m\"\u001b[39;49m\u001b[33;43msales.csv\u001b[39;49m\u001b[33;43m\"\u001b[39;49m\u001b[43m)\u001b[49m\n\u001b[32m      5\u001b[39m \u001b[38;5;66;03m# Imprimir o valor médio do pedido\u001b[39;00m\n\u001b[32m      6\u001b[39m \u001b[38;5;28mprint\u001b[39m(sales_df[\u001b[33m\"\u001b[39m\u001b[33morder_value\u001b[39m\u001b[33m\"\u001b[39m].mean())\n",
      "\u001b[36mFile \u001b[39m\u001b[32mc:\\Users\\md\\AppData\\Local\\Programs\\Python\\Python313\\Lib\\site-packages\\pandas\\io\\parsers\\readers.py:1026\u001b[39m, in \u001b[36mread_csv\u001b[39m\u001b[34m(filepath_or_buffer, sep, delimiter, header, names, index_col, usecols, dtype, engine, converters, true_values, false_values, skipinitialspace, skiprows, skipfooter, nrows, na_values, keep_default_na, na_filter, verbose, skip_blank_lines, parse_dates, infer_datetime_format, keep_date_col, date_parser, date_format, dayfirst, cache_dates, iterator, chunksize, compression, thousands, decimal, lineterminator, quotechar, quoting, doublequote, escapechar, comment, encoding, encoding_errors, dialect, on_bad_lines, delim_whitespace, low_memory, memory_map, float_precision, storage_options, dtype_backend)\u001b[39m\n\u001b[32m   1013\u001b[39m kwds_defaults = _refine_defaults_read(\n\u001b[32m   1014\u001b[39m     dialect,\n\u001b[32m   1015\u001b[39m     delimiter,\n\u001b[32m   (...)\u001b[39m\u001b[32m   1022\u001b[39m     dtype_backend=dtype_backend,\n\u001b[32m   1023\u001b[39m )\n\u001b[32m   1024\u001b[39m kwds.update(kwds_defaults)\n\u001b[32m-> \u001b[39m\u001b[32m1026\u001b[39m \u001b[38;5;28;01mreturn\u001b[39;00m \u001b[43m_read\u001b[49m\u001b[43m(\u001b[49m\u001b[43mfilepath_or_buffer\u001b[49m\u001b[43m,\u001b[49m\u001b[43m \u001b[49m\u001b[43mkwds\u001b[49m\u001b[43m)\u001b[49m\n",
      "\u001b[36mFile \u001b[39m\u001b[32mc:\\Users\\md\\AppData\\Local\\Programs\\Python\\Python313\\Lib\\site-packages\\pandas\\io\\parsers\\readers.py:620\u001b[39m, in \u001b[36m_read\u001b[39m\u001b[34m(filepath_or_buffer, kwds)\u001b[39m\n\u001b[32m    617\u001b[39m _validate_names(kwds.get(\u001b[33m\"\u001b[39m\u001b[33mnames\u001b[39m\u001b[33m\"\u001b[39m, \u001b[38;5;28;01mNone\u001b[39;00m))\n\u001b[32m    619\u001b[39m \u001b[38;5;66;03m# Create the parser.\u001b[39;00m\n\u001b[32m--> \u001b[39m\u001b[32m620\u001b[39m parser = \u001b[43mTextFileReader\u001b[49m\u001b[43m(\u001b[49m\u001b[43mfilepath_or_buffer\u001b[49m\u001b[43m,\u001b[49m\u001b[43m \u001b[49m\u001b[43m*\u001b[49m\u001b[43m*\u001b[49m\u001b[43mkwds\u001b[49m\u001b[43m)\u001b[49m\n\u001b[32m    622\u001b[39m \u001b[38;5;28;01mif\u001b[39;00m chunksize \u001b[38;5;129;01mor\u001b[39;00m iterator:\n\u001b[32m    623\u001b[39m     \u001b[38;5;28;01mreturn\u001b[39;00m parser\n",
      "\u001b[36mFile \u001b[39m\u001b[32mc:\\Users\\md\\AppData\\Local\\Programs\\Python\\Python313\\Lib\\site-packages\\pandas\\io\\parsers\\readers.py:1620\u001b[39m, in \u001b[36mTextFileReader.__init__\u001b[39m\u001b[34m(self, f, engine, **kwds)\u001b[39m\n\u001b[32m   1617\u001b[39m     \u001b[38;5;28mself\u001b[39m.options[\u001b[33m\"\u001b[39m\u001b[33mhas_index_names\u001b[39m\u001b[33m\"\u001b[39m] = kwds[\u001b[33m\"\u001b[39m\u001b[33mhas_index_names\u001b[39m\u001b[33m\"\u001b[39m]\n\u001b[32m   1619\u001b[39m \u001b[38;5;28mself\u001b[39m.handles: IOHandles | \u001b[38;5;28;01mNone\u001b[39;00m = \u001b[38;5;28;01mNone\u001b[39;00m\n\u001b[32m-> \u001b[39m\u001b[32m1620\u001b[39m \u001b[38;5;28mself\u001b[39m._engine = \u001b[38;5;28;43mself\u001b[39;49m\u001b[43m.\u001b[49m\u001b[43m_make_engine\u001b[49m\u001b[43m(\u001b[49m\u001b[43mf\u001b[49m\u001b[43m,\u001b[49m\u001b[43m \u001b[49m\u001b[38;5;28;43mself\u001b[39;49m\u001b[43m.\u001b[49m\u001b[43mengine\u001b[49m\u001b[43m)\u001b[49m\n",
      "\u001b[36mFile \u001b[39m\u001b[32mc:\\Users\\md\\AppData\\Local\\Programs\\Python\\Python313\\Lib\\site-packages\\pandas\\io\\parsers\\readers.py:1880\u001b[39m, in \u001b[36mTextFileReader._make_engine\u001b[39m\u001b[34m(self, f, engine)\u001b[39m\n\u001b[32m   1878\u001b[39m     \u001b[38;5;28;01mif\u001b[39;00m \u001b[33m\"\u001b[39m\u001b[33mb\u001b[39m\u001b[33m\"\u001b[39m \u001b[38;5;129;01mnot\u001b[39;00m \u001b[38;5;129;01min\u001b[39;00m mode:\n\u001b[32m   1879\u001b[39m         mode += \u001b[33m\"\u001b[39m\u001b[33mb\u001b[39m\u001b[33m\"\u001b[39m\n\u001b[32m-> \u001b[39m\u001b[32m1880\u001b[39m \u001b[38;5;28mself\u001b[39m.handles = \u001b[43mget_handle\u001b[49m\u001b[43m(\u001b[49m\n\u001b[32m   1881\u001b[39m \u001b[43m    \u001b[49m\u001b[43mf\u001b[49m\u001b[43m,\u001b[49m\n\u001b[32m   1882\u001b[39m \u001b[43m    \u001b[49m\u001b[43mmode\u001b[49m\u001b[43m,\u001b[49m\n\u001b[32m   1883\u001b[39m \u001b[43m    \u001b[49m\u001b[43mencoding\u001b[49m\u001b[43m=\u001b[49m\u001b[38;5;28;43mself\u001b[39;49m\u001b[43m.\u001b[49m\u001b[43moptions\u001b[49m\u001b[43m.\u001b[49m\u001b[43mget\u001b[49m\u001b[43m(\u001b[49m\u001b[33;43m\"\u001b[39;49m\u001b[33;43mencoding\u001b[39;49m\u001b[33;43m\"\u001b[39;49m\u001b[43m,\u001b[49m\u001b[43m \u001b[49m\u001b[38;5;28;43;01mNone\u001b[39;49;00m\u001b[43m)\u001b[49m\u001b[43m,\u001b[49m\n\u001b[32m   1884\u001b[39m \u001b[43m    \u001b[49m\u001b[43mcompression\u001b[49m\u001b[43m=\u001b[49m\u001b[38;5;28;43mself\u001b[39;49m\u001b[43m.\u001b[49m\u001b[43moptions\u001b[49m\u001b[43m.\u001b[49m\u001b[43mget\u001b[49m\u001b[43m(\u001b[49m\u001b[33;43m\"\u001b[39;49m\u001b[33;43mcompression\u001b[39;49m\u001b[33;43m\"\u001b[39;49m\u001b[43m,\u001b[49m\u001b[43m \u001b[49m\u001b[38;5;28;43;01mNone\u001b[39;49;00m\u001b[43m)\u001b[49m\u001b[43m,\u001b[49m\n\u001b[32m   1885\u001b[39m \u001b[43m    \u001b[49m\u001b[43mmemory_map\u001b[49m\u001b[43m=\u001b[49m\u001b[38;5;28;43mself\u001b[39;49m\u001b[43m.\u001b[49m\u001b[43moptions\u001b[49m\u001b[43m.\u001b[49m\u001b[43mget\u001b[49m\u001b[43m(\u001b[49m\u001b[33;43m\"\u001b[39;49m\u001b[33;43mmemory_map\u001b[39;49m\u001b[33;43m\"\u001b[39;49m\u001b[43m,\u001b[49m\u001b[43m \u001b[49m\u001b[38;5;28;43;01mFalse\u001b[39;49;00m\u001b[43m)\u001b[49m\u001b[43m,\u001b[49m\n\u001b[32m   1886\u001b[39m \u001b[43m    \u001b[49m\u001b[43mis_text\u001b[49m\u001b[43m=\u001b[49m\u001b[43mis_text\u001b[49m\u001b[43m,\u001b[49m\n\u001b[32m   1887\u001b[39m \u001b[43m    \u001b[49m\u001b[43merrors\u001b[49m\u001b[43m=\u001b[49m\u001b[38;5;28;43mself\u001b[39;49m\u001b[43m.\u001b[49m\u001b[43moptions\u001b[49m\u001b[43m.\u001b[49m\u001b[43mget\u001b[49m\u001b[43m(\u001b[49m\u001b[33;43m\"\u001b[39;49m\u001b[33;43mencoding_errors\u001b[39;49m\u001b[33;43m\"\u001b[39;49m\u001b[43m,\u001b[49m\u001b[43m \u001b[49m\u001b[33;43m\"\u001b[39;49m\u001b[33;43mstrict\u001b[39;49m\u001b[33;43m\"\u001b[39;49m\u001b[43m)\u001b[49m\u001b[43m,\u001b[49m\n\u001b[32m   1888\u001b[39m \u001b[43m    \u001b[49m\u001b[43mstorage_options\u001b[49m\u001b[43m=\u001b[49m\u001b[38;5;28;43mself\u001b[39;49m\u001b[43m.\u001b[49m\u001b[43moptions\u001b[49m\u001b[43m.\u001b[49m\u001b[43mget\u001b[49m\u001b[43m(\u001b[49m\u001b[33;43m\"\u001b[39;49m\u001b[33;43mstorage_options\u001b[39;49m\u001b[33;43m\"\u001b[39;49m\u001b[43m,\u001b[49m\u001b[43m \u001b[49m\u001b[38;5;28;43;01mNone\u001b[39;49;00m\u001b[43m)\u001b[49m\u001b[43m,\u001b[49m\n\u001b[32m   1889\u001b[39m \u001b[43m\u001b[49m\u001b[43m)\u001b[49m\n\u001b[32m   1890\u001b[39m \u001b[38;5;28;01massert\u001b[39;00m \u001b[38;5;28mself\u001b[39m.handles \u001b[38;5;129;01mis\u001b[39;00m \u001b[38;5;129;01mnot\u001b[39;00m \u001b[38;5;28;01mNone\u001b[39;00m\n\u001b[32m   1891\u001b[39m f = \u001b[38;5;28mself\u001b[39m.handles.handle\n",
      "\u001b[36mFile \u001b[39m\u001b[32mc:\\Users\\md\\AppData\\Local\\Programs\\Python\\Python313\\Lib\\site-packages\\pandas\\io\\common.py:873\u001b[39m, in \u001b[36mget_handle\u001b[39m\u001b[34m(path_or_buf, mode, encoding, compression, memory_map, is_text, errors, storage_options)\u001b[39m\n\u001b[32m    868\u001b[39m \u001b[38;5;28;01melif\u001b[39;00m \u001b[38;5;28misinstance\u001b[39m(handle, \u001b[38;5;28mstr\u001b[39m):\n\u001b[32m    869\u001b[39m     \u001b[38;5;66;03m# Check whether the filename is to be opened in binary mode.\u001b[39;00m\n\u001b[32m    870\u001b[39m     \u001b[38;5;66;03m# Binary mode does not support 'encoding' and 'newline'.\u001b[39;00m\n\u001b[32m    871\u001b[39m     \u001b[38;5;28;01mif\u001b[39;00m ioargs.encoding \u001b[38;5;129;01mand\u001b[39;00m \u001b[33m\"\u001b[39m\u001b[33mb\u001b[39m\u001b[33m\"\u001b[39m \u001b[38;5;129;01mnot\u001b[39;00m \u001b[38;5;129;01min\u001b[39;00m ioargs.mode:\n\u001b[32m    872\u001b[39m         \u001b[38;5;66;03m# Encoding\u001b[39;00m\n\u001b[32m--> \u001b[39m\u001b[32m873\u001b[39m         handle = \u001b[38;5;28;43mopen\u001b[39;49m\u001b[43m(\u001b[49m\n\u001b[32m    874\u001b[39m \u001b[43m            \u001b[49m\u001b[43mhandle\u001b[49m\u001b[43m,\u001b[49m\n\u001b[32m    875\u001b[39m \u001b[43m            \u001b[49m\u001b[43mioargs\u001b[49m\u001b[43m.\u001b[49m\u001b[43mmode\u001b[49m\u001b[43m,\u001b[49m\n\u001b[32m    876\u001b[39m \u001b[43m            \u001b[49m\u001b[43mencoding\u001b[49m\u001b[43m=\u001b[49m\u001b[43mioargs\u001b[49m\u001b[43m.\u001b[49m\u001b[43mencoding\u001b[49m\u001b[43m,\u001b[49m\n\u001b[32m    877\u001b[39m \u001b[43m            \u001b[49m\u001b[43merrors\u001b[49m\u001b[43m=\u001b[49m\u001b[43merrors\u001b[49m\u001b[43m,\u001b[49m\n\u001b[32m    878\u001b[39m \u001b[43m            \u001b[49m\u001b[43mnewline\u001b[49m\u001b[43m=\u001b[49m\u001b[33;43m\"\u001b[39;49m\u001b[33;43m\"\u001b[39;49m\u001b[43m,\u001b[49m\n\u001b[32m    879\u001b[39m \u001b[43m        \u001b[49m\u001b[43m)\u001b[49m\n\u001b[32m    880\u001b[39m     \u001b[38;5;28;01melse\u001b[39;00m:\n\u001b[32m    881\u001b[39m         \u001b[38;5;66;03m# Binary mode\u001b[39;00m\n\u001b[32m    882\u001b[39m         handle = \u001b[38;5;28mopen\u001b[39m(handle, ioargs.mode)\n",
      "\u001b[31mFileNotFoundError\u001b[39m: [Errno 2] No such file or directory: 'sales.csv'"
     ]
    }
   ],
   "source": [
    "# Ler sales.csv\n",
    "\n",
    "sales_df = pd.read_csv(\"sales.csv\")\n",
    "\n",
    "# Imprimir o valor médio do pedido\n",
    "print(sales_df[\"order_value\"].mean())\n",
    "\n",
    "# Imprimir o valor total das vendas\n",
    "print(sales_df[\"order_value\"].sum())\n",
    "\n",
    "# haverá um erro se o arquivo sales.csv não estiver no mesmo diretório que o script como em nosso caso por estar rodando no Jupyter Notebook"
   ]
  },
  {
   "cell_type": "markdown",
   "id": "d070639a",
   "metadata": {},
   "source": [
    "O código lê um arquivo ``CSV`` em um ``DataFrame``, calcula o valor médio do pedido e soma todos os valores dos pedidos.\n",
    "\n",
    "## Definindo uma função personalizada\n",
    "\n",
    "Criar uma função personalizada em Python permite encapsular código que você pode usar repetidamente. Isso ajuda a seguir o princípio ``DRY (Don't Repeat Yourself)``. Aqui está como você pode definir uma função simples para calcular a média de uma lista e arredondá-la para duas casas decimais."
   ]
  },
  {
   "cell_type": "code",
   "execution_count": null,
   "id": "5de3d1f7",
   "metadata": {},
   "outputs": [],
   "source": [
    "# Criar uma função consiste em definir um bloco de código que pode ser chamado em qualquer lugar do seu programa. Primeiro, você define a função com a palavra-chave def, seguida pelo nome da função e parênteses. Dentro dos parênteses, você pode definir parâmetros que a função pode aceitar. Depois disso, você escreve o código que deseja executar quando a função for chamada. Parâmetros são variáveis que você pode passar para a função para personalizar seu comportamento. Eles são definidos entre parênteses após o nome da função. Você pode ter zero ou mais parâmetros, dependendo do que sua função precisa fazer.\n",
    "\n",
    "# Definimos a função calculate_average, que possui um parâmetro chamado values. \n",
    "def calculate_average(values):\n",
    "    \n",
    "    # A função calcula a média dos valores passados como argumento. Diferente de uma atribuição normal que exige que o o valor já exista antes de ser usado, o parâmetro values é uma variável que será preenchida com o valor passado quando a função for chamada.\n",
    "    total = sum(values)\n",
    "    count = len(values)\n",
    "    average = total / count\n",
    "    rounded_average = round(average, 2)\n",
    "    return rounded_average\n",
    "\n",
    "\n",
    "# Definimos a variável sales como uma lista de números.\n",
    "sales = [100, 200, 300]\n",
    "\n",
    "# A lista sales é passada como argumento para a função calculate_average. O argumento sales é atribuído ao parâmetro values dentro da função. \n",
    "average_sales = calculate_average(sales)\n",
    "print(average_sales)"
   ]
  },
  {
   "cell_type": "markdown",
   "id": "fdd3c732",
   "metadata": {},
   "source": [
    "Essa função recebe uma lista de números, calcula a média, arredonda para duas casas decimais e retorna o resultado.\n",
    "\n",
    "## Sintaxe de uam função personalizada\n",
    "\n",
    "Entender a sintaxe de definição de uma função personalizada é crucial. Aqui está um exemplo de criação de uma função para encontrar o maior valor em uma lista:"
   ]
  },
  {
   "cell_type": "code",
   "execution_count": null,
   "id": "94f41590",
   "metadata": {},
   "outputs": [],
   "source": [
    "def find_largest(numbers):\n",
    "    sorted_numbers = sorted(numbers)\n",
    "    largest = sorted_numbers[-1]\n",
    "    return largest\n",
    "\n",
    "\n",
    "values = [3, 1, 4, 1, 5, 9]\n",
    "largest_value = find_largest(values)\n",
    "print(largest_value)"
   ]
  },
  {
   "cell_type": "markdown",
   "id": "2fe0c71c",
   "metadata": {},
   "source": [
    "Esta função ordena a lista e retorna o maior valor, demosntando o uso da palavra-chave ``def``, indentação e a instrução ``return``.\n",
    "\n",
    "## Construindo um verificador de senha\n",
    "\n",
    "Combinar declarações condicionais com funções personalizadas pode ajudá-lo a construir ferramentas úteis como um verificador de senha.\n",
    "\n",
    "Veja como você pdoe criar um:"
   ]
  },
  {
   "cell_type": "code",
   "execution_count": null,
   "id": "19e0c401",
   "metadata": {},
   "outputs": [],
   "source": [
    "password = \"not_very_secure_2023\"\n",
    "\n",
    "def password_checker(submission):\n",
    "    if password == submission:\n",
    "        print(\"Successful login!\")\n",
    "    else:\n",
    "        print(\"Incorrect password\")\n",
    "\n",
    "password_checker(\"NOT_VERY_SECURE_2023\")"
   ]
  },
  {
   "cell_type": "markdown",
   "id": "55a4beea",
   "metadata": {},
   "source": [
    "Esta função verifica se a senha submetida corresponde à senha armazenada e imprime uma mesnagem de acordo. Ela demosnta o usao das declarações ``if`` e ``else`` dentro de uma função.\n",
    "\n",
    "## Entendendo ``Docstrings``\n",
    "\n",
    "``Docstrings`` são essenciais para documentar o que uma função faz, facilitando para (e para você mesmo) etender com usá-la. Uma ``Docstring`` é uma string colocada no início da definição de uma função e é usada para descrever o propósito e o comportamento da função."
   ]
  },
  {
   "cell_type": "code",
   "execution_count": null,
   "id": "adee3517",
   "metadata": {},
   "outputs": [],
   "source": [
    "def clean_string(text):\n",
    "    \"\"\"Limpa o texto trocando espaços por underscores e convertendo para minúsculas.\"\"\"\n",
    "    no_spaces = text.replace(\" \", \"_\")\n",
    "    clean_text = no_spaces.lower()\n",
    "    return clean_text\n",
    "\n",
    "# Acessar o docstring\n",
    "print(clean_string.__doc__)"
   ]
  },
  {
   "cell_type": "markdown",
   "id": "7dba1529",
   "metadata": {},
   "source": [
    "``Docstrings`` são acessado usando o atributo ``.__doc__`` de uma função, que retorna o docstring.\n",
    "\n",
    "## ``Docstrings`` de uma linha\n",
    "\n",
    "``Docstrings`` de uma linha fornecem uma breve descrição do propósito de uma função. Eles são concisos e são usados quando a função é simples e não requer explicação detalhadaa."
   ]
  },
  {
   "cell_type": "code",
   "execution_count": null,
   "id": "5d390536",
   "metadata": {},
   "outputs": [],
   "source": [
    "def clean_string(text):\n",
    "    \"\"\"Troca espaços por underscores e converte o texto para minúsculas.\"\"\"\n",
    "    no_spaces = text.replace(\" \", \"_\")\n",
    "    clean_text = no_spaces.lower()\n",
    "    return clean_text\n",
    "\n",
    "# Acessar o docstring\n",
    "print(clean_string.__doc__)"
   ]
  },
  {
   "cell_type": "markdown",
   "id": "c6228777",
   "metadata": {},
   "source": [
    "``Dosctrings`` de uma linha são delimitadas por aspas triplas e devem ser colocados emediatamente após a definição da função.\n",
    "\n",
    "## ``Dostrings`` de múltiplas linhas\n",
    "\n",
    "Para funções mais complexas ou aquelas com múltiplos argumentos, docstrings de múltiplas linhas sçao preferidos. Eles fornecem uma explicação detalhada, incluindo uma linha de resumo, descrições dos argumentos e informações de retorno."
   ]
  },
  {
   "cell_type": "code",
   "execution_count": null,
   "id": "83fea6d9",
   "metadata": {},
   "outputs": [],
   "source": [
    "def convert_data_structure(data):\n",
    "    \"\"\"\n",
    "    Converte a estrutura de dados de um tipo para outro.\n",
    "\n",
    "    Args:\n",
    "        data (list): Uma lista de itens a serem convertidos.\n",
    "\n",
    "    Returns:\n",
    "        dict: Um dicionário com itens como chaves e seus índices como valores.\n",
    "    \"\"\"\n",
    "    return {item: index for index, item in enumerate(data)}\n",
    "\n",
    "# Acessar o docstring\n",
    "print(convert_data_structure.__doc__)"
   ]
  },
  {
   "cell_type": "markdown",
   "id": "3c2da3cf",
   "metadata": {},
   "source": [
    "``Docstrings`` de múltiplas linas começam com uma linha de resumo, seguida por uma linha em branco, e então informações detalhadas sobre argumentos e valores de retorno.\n",
    "\n",
    "## Argumentos posicioanais arbitrários\n",
    "\n",
    "Argumentos posicionais arbitrários permitem que uma função aceite qualquer número de argumentos posicionais. Isso é alcançado usando um ``asterisco (*)`` antes do nome do argumento, tipicamente ``*args``. Essa flexibilidade permite que funções lidem com múltiplas entradas de forma tranquila."
   ]
  },
  {
   "cell_type": "code",
   "execution_count": null,
   "id": "59b7f381",
   "metadata": {},
   "outputs": [],
   "source": [
    "# Define uma função chamada concat\n",
    "def concat(*args):\n",
    "  \n",
    "  # Cria uma string vazia\n",
    "  result = \"\"\n",
    "  \n",
    "  # Itera sobre a tupla de args do Python\n",
    "  for arg in args:\n",
    "    result += \" \" + arg\n",
    "  return result\n",
    "\n",
    "# Chama a função\n",
    "print(concat(\"Python\", \"is\", \"great!\"))"
   ]
  },
  {
   "cell_type": "markdown",
   "id": "609d42d0",
   "metadata": {},
   "source": [
    "A função ``concat`` acima pode aceitar qualquer número de argumnetos de strin para concatená-los em uma única string.\n",
    "\n",
    "## Argumentos de palavra-chave arbitrários\n",
    "\n",
    "Argumentos de palavra-chave arbitrários permitem que uma função aceite qualquer número de argumentos de palavra-chave. Isso é feito usando ``dois asteriscos (**)`` antes do nome do argumento, tipicamente ``**kwargs``. Essa abordagem é útil quando você  deseja lidar com argumentos nomeados de forma dinâmica."
   ]
  },
  {
   "cell_type": "code",
   "execution_count": null,
   "id": "88000639",
   "metadata": {},
   "outputs": [],
   "source": [
    "# Define uma função chamada concat\n",
    "def concat(**kwargs):\n",
    "  \n",
    "  # Cria uma string vazia\n",
    "  result = \"\"\n",
    "  \n",
    "  # Itera sobre os kwargs do Python\n",
    "  for kwarg in kwargs.values():\n",
    "    result += \" \" + kwarg\n",
    "  return result\n",
    "\n",
    "# Chama a função\n",
    "print(concat(start=\"Python\", middle=\"is\", end=\"great!\"))"
   ]
  },
  {
   "cell_type": "markdown",
   "id": "bd720c5b",
   "metadata": {},
   "source": [
    "A função ``concat`` agora aceita argumentos de palavra-chave, permitindo que você passe valores nomeados que são concatenados em uma única string.\n",
    "\n",
    "## Combinando argumentos posicionais e de palavra-chave\n",
    "\n",
    "Você pode combinar tanto argumentos posicionais arbirtários quanto de palavras-chave em uma única função. Isso permite a máxima flexibilidade no tratamento de entradas, sejam elas não nomeadas ou nomeadas."
   ]
  },
  {
   "cell_type": "code",
   "execution_count": null,
   "id": "2151d076",
   "metadata": {},
   "outputs": [],
   "source": [
    "# Define uma função chamada concat\n",
    "def concat(*args, **kwargs):\n",
    "  \n",
    "  # Cria uma string vazia\n",
    "  result = \"\"\n",
    "  \n",
    "  # Itera sobre a tupla de args do Python\n",
    "  for arg in args:\n",
    "    result += \" \" + arg\n",
    "  \n",
    "  # Itera sobre os kwargs do Python\n",
    "  for kwarg in kwargs.values():\n",
    "    result += \" \" + kwarg\n",
    "  return result\n",
    "\n",
    "# Chama a função\n",
    "print(concat(\"Python\", \"is\", start=\"great\", end=\"!\"))"
   ]
  },
  {
   "cell_type": "markdown",
   "id": "f2ba1992",
   "metadata": {},
   "source": [
    "A função ``concat`` agora aceita tanto argumentos posicionais quanto de palavra-chave, proporcionando uma maneira versátil de concatenar strings a partir de vários formatos de entrada..\n",
    "\n",
    "## Funções ``lambda``: Rápidas e anônimas\n",
    "\n",
    "Funções ``lambda`` em Python permite que você crie pequenas funções anônimas rapidamente. Elas são úteis para operações simples que você não precisa reutilizar. Veja como você pode criar uma função lambda para dicionar imposto a um preço de venda."
   ]
  },
  {
   "cell_type": "code",
   "execution_count": null,
   "id": "ca2196ad",
   "metadata": {},
   "outputs": [],
   "source": [
    "sale_price = 29.99\n",
    "\n",
    "# Define uma função lambda chamada add_tax\n",
    "add_tax = lambda x: x * 1.2\n",
    "\n",
    "# Chama a função lambda\n",
    "print(add_tax(sale_price))"
   ]
  },
  {
   "cell_type": "markdown",
   "id": "42fb883f",
   "metadata": {},
   "source": [
    "Funções ``lambda`` são concisas e ideias para operações simples que não precisam de uma definição completa de fnção.\n",
    "\n",
    "## Funções ``lambda`` em linha \n",
    "\n",
    "Um dos principais benefícios das funções ``lambda`` é a capacidade de serem usadas em linha, sem a necessidade de armazená-las em uma variável primeiro. Isso as torna perfeitas para cálculos rápidos."
   ]
  },
  {
   "cell_type": "code",
   "execution_count": null,
   "id": "960baee3",
   "metadata": {},
   "outputs": [],
   "source": [
    "sale_price = 29.99\n",
    "\n",
    "# Chama uma função lambda adicionando 20% ao sale_price\n",
    "print((lambda x: x * 1.2)(sale_price))"
   ]
  },
  {
   "cell_type": "markdown",
   "id": "a16adb2b",
   "metadata": {},
   "source": [
    "Usar funções ``lambda`` em linha pode tornar seu código mais conciso e fácil de ler par aoperações simples.\n",
    "\n",
    "## Funções ``lambda`` com iteráveis\n",
    "\n",
    "Funções ``lambda`` também podem ser usadas com iteráveis, como listas, para aplicar uma função a cada elemento. Isso é feito usando a função ``map()`` embutida do Python."
   ]
  },
  {
   "cell_type": "code",
   "execution_count": null,
   "id": "134179fa",
   "metadata": {},
   "outputs": [],
   "source": [
    "sales_prices = [29.99, 9.95, 14.50, 39.75, 60.00]\n",
    "\n",
    "# Cria add_taxes para adicionar 20% a cada item em sales_prices\n",
    "add_taxes = map(lambda x: x * 1.2, sales_prices)\n",
    "\n",
    "# Usa add_taxes para retornar uma nova lista com valores atualizados\n",
    "print(list(add_taxes))"
   ]
  },
  {
   "cell_type": "markdown",
   "id": "8ef2189b",
   "metadata": {},
   "source": [
    "Usar a função ``lambda`` com ``map`` permite aplicar operações de forma eficiente a coleções inteiras de dados.\n",
    "\n",
    "## Compreendendo erros comuns\n",
    "\n",
    "``Erros``, também conhecidos como ``exceções``, ocorrem quando o código viola uma regra. Dois tipos comuns são ``TypeError`` e ``ValueError``.\n",
    "\n",
    "Um ``TypeError`` ocorre quando uma operação é realizada em tipos de dados inconpatíveis, como adicionar uma ``string`` a um ``inteiro``.\n",
    "\n",
    "Um ``ValueError`` ocorre quando uma função recebe um argumento do tipo correto, mas com valor inadequado, como converter a string ``\"Hello\"`` para um ``float``."
   ]
  },
  {
   "cell_type": "code",
   "execution_count": null,
   "id": "4c8295d2",
   "metadata": {},
   "outputs": [],
   "source": [
    "# Exemplo de um TypeError\n",
    "print(\"Hello\" + 5)\n",
    "\n",
    "# Exemplo de um ValueError\n",
    "print(float(\"Hello\"))"
   ]
  },
  {
   "cell_type": "markdown",
   "id": "7b1a601e",
   "metadata": {},
   "source": [
    "Os ``tracebacks`` fornecem informações sobre o tipo de erro e onde ele ocorreu no código, ajudando na ``depuração``.\n",
    "\n",
    "## Depurando o código\n",
    "\n",
    "``Depurar`` é uma habilidade crucial para desenvolvedores. Envolve ler mensagens de erro e corrigir o código. Neste exercício, você corrigirá o código para criar e imprimir uma lista ``sales`` sem erros."
   ]
  },
  {
   "cell_type": "code",
   "execution_count": 58,
   "id": "0628d29f",
   "metadata": {},
   "outputs": [
    {
     "name": "stdout",
     "output_type": "stream",
     "text": [
      "[125.97, 84.32, 99.78, 154.21, 78.5, 83.67, 111.13]\n"
     ]
    }
   ],
   "source": [
    "# Exemplos com erro para demonstração - Estarao comentados para evitar execução\n",
    "# sales = [125.97 84.32, 99.78, 154.21, 78.50, 83.67, 111.13] - Erro de sintaxe - falta de vírgula entre os números\n",
    "\n",
    "# Sale = [125.97, 84.32, 99.78, 154.21, 78.50, 83.67, 111.13] \n",
    "# print(sale) # Erro de nome - 'sale' não está definido, pois o Python é case-sensitive e 'sales' é diferente de 'Sale'\n",
    "\n",
    "\n",
    "# Defina a lista de vendas\n",
    "sales = [125.97, 84.32, 99.78, 154.21, 78.50, 83.67, 111.13]\n",
    "\n",
    "# Imprima a lista de vendas\n",
    "print(sales)\n",
    "\n",
    "# O código inicial tinha um SyntaxError e um NameError, que foram resolvidos na versão corrigida acima."
   ]
  },
  {
   "cell_type": "markdown",
   "id": "b9f9575e",
   "metadata": {},
   "source": [
    "## ``Tracebacks`` de módulos ou pacores\n",
    "\n",
    "Ao usar funções de módulos e pacotes, erros podem ocorrer nos arquivos de ``código-fonte``. O traceback mencionará o arquivo onde o erro ocorreu. Por exemplo, usar o módulo ``requests`` incorretamente pode levar um erro em ``api.py``."
   ]
  },
  {
   "cell_type": "code",
   "execution_count": null,
   "id": "99cd9fa1",
   "metadata": {},
   "outputs": [],
   "source": [
    "import requests\n",
    "requests.get(url=\"https://app.datacamp.com\", content=True)"
   ]
  },
  {
   "cell_type": "markdown",
   "id": "4b6985df",
   "metadata": {},
   "source": [
    "O erro cocorre em ``api.py`` devido ao uso incorreto da função ``get()``. O argumento ``content`` não é valido, e removê-lo resolverá o problema."
   ]
  },
  {
   "cell_type": "code",
   "execution_count": null,
   "metadata": {},
   "outputs": [],
   "source": []
  }
 ],
 "metadata": {
  "kernelspec": {
   "display_name": "Python 3",
   "language": "python",
   "name": "python3"
  },
  "language_info": {
   "codemirror_mode": {
    "name": "ipython",
    "version": 3
   },
   "file_extension": ".py",
   "mimetype": "text/x-python",
   "name": "python",
   "nbconvert_exporter": "python",
   "pygments_lexer": "ipython3",
   "version": "3.13.2"
  }
 },
 "nbformat": 4,
 "nbformat_minor": 5
}
