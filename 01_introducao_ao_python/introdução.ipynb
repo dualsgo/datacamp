{
 "cells": [
  {
   "cell_type": "markdown",
   "id": "58ff09e0",
   "metadata": {},
   "source": [
    "# Introdução ao Python\n",
    "\n",
    "Python é uma linguagem de programação vesátil e de código aberto que se tornou um marco na ciência de dados. É conhecida por sua simplicidade e legibilidade, tornando-a uma excelente escolha para iniciantes. O extenso ecossistema de bibliotecas do Python permite que você realize uma ampla gama de tarefas, desde análise de dados até desenvolvimento web."
   ]
  },
  {
   "cell_type": "code",
   "execution_count": 18,
   "id": "04d9585f",
   "metadata": {},
   "outputs": [
    {
     "name": "stdout",
     "output_type": "stream",
     "text": [
      "9\n"
     ]
    }
   ],
   "source": [
    "# Usando Python como uma calculadora\n",
    "\n",
    "print(4 + 5)"
   ]
  },
  {
   "cell_type": "markdown",
   "id": "6fca9c34",
   "metadata": {},
   "source": [
    "Python pode ser usado interativamente em um shell ou através de scripts, que são arquivos de texto contendo comandos Python.\n",
    "\n",
    "## Seu primeiro código em Python\n",
    "\n",
    "Executar seu primeiro código em Python é simples e direto. Você pode usar a função `print()` para exibir o resultado de uma expressão."
   ]
  },
  {
   "cell_type": "code",
   "execution_count": 19,
   "id": "9af82b53",
   "metadata": {},
   "outputs": [
    {
     "name": "stdout",
     "output_type": "stream",
     "text": [
      "0.625\n"
     ]
    }
   ],
   "source": [
    "# Clique em executar para ver o resultado!\n",
    "print(5 / 8)\n",
    "\n",
    "# Saída: 0.625"
   ]
  },
  {
   "cell_type": "markdown",
   "id": "c519305d",
   "metadata": {},
   "source": [
    "A função `print()` é essencial para gerar a saída em scripts Python.\n",
    "\n",
    "## Adicionando comentários em Python\n",
    "\n",
    "Comentário são cruciais para tornar o seu código compreensível. Eles começam com o símbolo de `#` e são ignorados pelo Python quando o código é executado. Use comentários para explicar o que seu código faz."
   ]
  },
  {
   "cell_type": "code",
   "execution_count": 20,
   "id": "a70a552e",
   "metadata": {},
   "outputs": [
    {
     "name": "stdout",
     "output_type": "stream",
     "text": [
      "0.625\n",
      "17\n"
     ]
    }
   ],
   "source": [
    "# Divisão\n",
    "print(5 / 8)\n",
    "\n",
    "# Adição\n",
    "print(7 + 10)"
   ]
  },
  {
   "cell_type": "markdown",
   "id": "1dd86d63",
   "metadata": {},
   "source": [
    "Adicionar comentários ajuda você e outros a entenderem o propósito e a funcionalidade do seu código.\n",
    "\n",
    "## Criando variáveis\n",
    "\n",
    "Em Python, você pode criar uma variável atribuindo um valor a ela usando o operador `=`. Isso permite que você armazene valores e os use posteriormente em seu código."
   ]
  },
  {
   "cell_type": "code",
   "execution_count": 21,
   "id": "fdda4e78",
   "metadata": {},
   "outputs": [
    {
     "name": "stdout",
     "output_type": "stream",
     "text": [
      "100\n"
     ]
    }
   ],
   "source": [
    "# Crie uma variável savings\n",
    "savings = 100\n",
    "\n",
    "# Imprima savings\n",
    "print(savings)\n",
    "\n",
    "# Saída: 100"
   ]
  },
  {
   "cell_type": "markdown",
   "id": "eabae1c6",
   "metadata": {},
   "source": [
    "Variáveis ajudam a tornar seu código mais legível e fácil de manter, dando momes significativos aos valores.\n",
    "\n",
    "## Cálculos com variáveis\n",
    "\n",
    "Você pode realizar cálculos usando variáveis da mesma forma que faria com números reais. Isso torna seu código mais fexível e fácil de atualizar."
   ]
  },
  {
   "cell_type": "code",
   "execution_count": 22,
   "id": "f44a689f",
   "metadata": {},
   "outputs": [
    {
     "name": "stdout",
     "output_type": "stream",
     "text": [
      "40\n"
     ]
    }
   ],
   "source": [
    "# Crie as variáveis monthly_savings e num_months\n",
    "\n",
    "monthly_savings = 10\n",
    "num_months = 4 \n",
    "\n",
    "# Multiplique monthly_savings e num_months\n",
    "new_savings = monthly_savings * num_months\n",
    "\n",
    "# Imprima new_savings\n",
    "print(new_savings)\n",
    "\n",
    "# Saída: 40"
   ]
  },
  {
   "cell_type": "markdown",
   "id": "24bdc347",
   "metadata": {},
   "source": [
    "Usando variáveis, você pode facilmente alterar os valores e reafazer os cálcuolos sem modidificar o código todo.\n",
    "\n",
    "## Diferentes tipos de dados\n",
    "\n",
    "Python suporta vários tipos de dados, incluindo inteiros, floats, strings e booleanos. Cada tipo serve a um proósito diferente e se comporta de maneira diferente em operações."
   ]
  },
  {
   "cell_type": "code",
   "execution_count": 23,
   "id": "b740be3f",
   "metadata": {},
   "outputs": [],
   "source": [
    "# Crie uma variável half\n",
    "half = 0.5\n",
    "\n",
    "# Crie uma variável intro\n",
    "intro = \"Hello! How are you?\"\n",
    "\n",
    "# Crie uma variável is_good\n",
    "is_good = True"
   ]
  },
  {
   "cell_type": "markdown",
   "id": "206d59b8",
   "metadata": {},
   "source": [
    "VocÊ pode usar a função `type()` para verificar o tipo de uma variável. Por exempo, `type(half)` retornará `<class 'float'>`. Entender os tipos de dados é crucial para escrever um código Python eficaz.\n",
    "\n",
    "## Criando uma lista em Python\n",
    "\n",
    "Listas em Python são um tipo de dado composto que permite agrupar múltiplos valores juntos. Você pode criar uma lista usando colchetes `[]` e separar os elementos com vírgulas."
   ]
  },
  {
   "cell_type": "code",
   "execution_count": 24,
   "id": "630a9b3d",
   "metadata": {},
   "outputs": [
    {
     "name": "stdout",
     "output_type": "stream",
     "text": [
      "[11.25, 18.0, 20.0, 10.75, 9.5]\n"
     ]
    }
   ],
   "source": [
    "hall = 11.25\n",
    "kit = 18.00\n",
    "liv = 20.00\n",
    "bed = 10.75\n",
    "bath = 9.50\n",
    "\n",
    "# Criar lista areas\n",
    "areas = [hall, kit, liv, bed, bath]\n",
    "\n",
    "# Imprimir areas\n",
    "print(areas)"
   ]
  },
  {
   "cell_type": "markdown",
   "id": "d610d56f",
   "metadata": {},
   "source": [
    "## Lista com diferentes tipos\n",
    "\n",
    "Uma lista pode conter uma mistura de diferentes tipos de dados, incluindo strings, floats, e booleanos. Isso pode ser útil para associar diferentes tipos de dados juntos."
   ]
  },
  {
   "cell_type": "code",
   "execution_count": 25,
   "id": "b3a7592a",
   "metadata": {},
   "outputs": [
    {
     "name": "stdout",
     "output_type": "stream",
     "text": [
      "['hallway', 11.25, 'kitchen', 18.0, 'living room', 20.0, 'bedroom', 10.75, 'bathroom', 9.5]\n"
     ]
    }
   ],
   "source": [
    "hall = 11.25\n",
    "kit = 18.0\n",
    "liv = 20.0\n",
    "bed = 10.75\n",
    "bath = 9.50\n",
    "\n",
    "# Adaptar lista areas\n",
    "areas = [\"hallway\", hall, \"kitchen\", kit, \"living room\", liv, \"bedroom\", bed, \"bathroom\", bath]\n",
    "\n",
    "# Imprimir areas\n",
    "print(areas)"
   ]
  },
  {
   "cell_type": "markdown",
   "id": "c8f644de",
   "metadata": {},
   "source": [
    "## Lista de listas\n",
    "\n",
    "Em Python, você pode criar uma lista de listas para agrupar dados relacionados de uma maneira estruturada. Isso é particularmente útilpara organizar dados complexos."
   ]
  },
  {
   "cell_type": "code",
   "execution_count": 26,
   "id": "5b093eab",
   "metadata": {},
   "outputs": [
    {
     "name": "stdout",
     "output_type": "stream",
     "text": [
      "[['hallway', 11.25], ['kitchen', 18.0], ['living room', 20.0], ['bedroom', 10.75], ['bathroom', 9.5]]\n"
     ]
    }
   ],
   "source": [
    "hall = 11.25\n",
    "kit = 18.0\n",
    "liv = 20.0\n",
    "bed = 10.75\n",
    "bath = 9.50\n",
    "\n",
    "# Informações da casa como lista de listas\n",
    "house = [[\"hallway\", hall],\n",
    "         [\"kitchen\", kit],\n",
    "         [\"living room\", liv],\n",
    "         [\"bedroom\", bed],\n",
    "         [\"bathroom\", bath]]\n",
    "\n",
    "# Imprimir house\n",
    "print(house)"
   ]
  },
  {
   "cell_type": "markdown",
   "id": "44d81770",
   "metadata": {},
   "source": [
    "## Subsetting Lists\n",
    "\n",
    "Subsettings Lists em Python permite que você acesse elementos específicos usando seu índice. Você pode usar índices positivos e negativos para conseguir isso."
   ]
  },
  {
   "cell_type": "code",
   "execution_count": 27,
   "id": "435e8a23",
   "metadata": {},
   "outputs": [
    {
     "name": "stdout",
     "output_type": "stream",
     "text": [
      "Segundo elemento 11.25\n",
      "Último elemento 9.5\n",
      "Sala de estar 20.0\n"
     ]
    }
   ],
   "source": [
    "# Crie a lista areas\n",
    "areas = [\"hallway\", 11.25, \"kitchen\", 18.0, \"living room\", 20.0, \"bedroom\", 10.75, \"bathroom\", 9.50]\n",
    "\n",
    "# Imprima o segundo elemento de areas\n",
    "print('Segundo elemento', areas[1])\n",
    "\n",
    "# Imprima o último elemento de areas\n",
    "print('Último elemento', areas[-1])\n",
    "\n",
    "# Imprima a área da sala de estar\n",
    "print('Sala de estar',  areas[5])"
   ]
  },
  {
   "cell_type": "markdown",
   "id": "ae8b7096",
   "metadata": {},
   "source": [
    "## Slicing Lists\n",
    "\n",
    "Slicing permite você selecionar múltiplos elementos de uma lista, criando uma nova lista. O índice inicial é incluído, enquanto o índice final não é."
   ]
  },
  {
   "cell_type": "code",
   "execution_count": 28,
   "id": "99d20c8e",
   "metadata": {},
   "outputs": [
    {
     "name": "stdout",
     "output_type": "stream",
     "text": [
      "['hallway', 11.25, 'kitchen', 18.0, 'living room', 20.0]\n",
      "['bedroom', 10.75, 'bathroom', 9.5]\n"
     ]
    }
   ],
   "source": [
    "# Crie a lista areas\n",
    "areas = [\"hallway\", 11.25, \"kitchen\", 18.0, \"living room\", 20.0, \"bedroom\", 10.75, \"bathroom\", 9.50]\n",
    "\n",
    "# Use slicing para criar downstairs\n",
    "downstairs = areas[0:6]\n",
    "\n",
    "# Use slicing para criar upstairs\n",
    "upstairs = areas[6:]\n",
    "\n",
    "# Imprima downstairs e upstairs\n",
    "print(downstairs)\n",
    "print(upstairs)"
   ]
  },
  {
   "cell_type": "markdown",
   "id": "6fa1ce6f",
   "metadata": {},
   "source": [
    "## Subsetting Lists of Lists\n",
    "\n",
    "Uma lista Pthon também pode conter outras listas. Você pode fazer subsetting dessas listas aninhadas usando múltiplos colchetes."
   ]
  },
  {
   "cell_type": "code",
   "execution_count": 29,
   "id": "f0459526",
   "metadata": {},
   "outputs": [
    {
     "name": "stdout",
     "output_type": "stream",
     "text": [
      "9.5\n"
     ]
    }
   ],
   "source": [
    "house = [[\"hallway\", 11.25],\n",
    "         [\"kitchen\", 18.0],\n",
    "         [\"living room\", 20.0],\n",
    "         [\"bedroom\", 10.75],\n",
    "         [\"bathroom\", 9.50]]\n",
    "\n",
    "# Faça subsetting da lista house\n",
    "print(house[-1][1])\n",
    "\n",
    "# Selecionamos o último elemento da lista house, que é a sublista [\"bathroom\", 9.50].\n",
    "# Em seguida, selecionamos o segundo elemento dessa sublista, que é 9.50.\n",
    "\n",
    "# Saída: 9.5 -  Python ignora o zero à esquerda, então 09.50 é impresso como 9.5"
   ]
  },
  {
   "cell_type": "markdown",
   "id": "1ad9cc12",
   "metadata": {},
   "source": [
    "## Atualizando elementos da lista\n",
    "\n",
    "Para substituir elementos você pode subdefinir a lista e atribuir novos valores ao subconjunto. Isso pode ser feito para elementos úncios ou fatias inteira da lista."
   ]
  },
  {
   "cell_type": "code",
   "execution_count": 30,
   "id": "f63c2d02",
   "metadata": {},
   "outputs": [],
   "source": [
    "# Crie a lista areas\n",
    "areas = [\"hallway\", 11.25, \"kitchen\", 18.0, \"living room\", 20.0, \"bedroom\", 10.75, \"bathroom\", 9.50]\n",
    "\n",
    "# Corrigir a área do banheiro\n",
    "areas[-1] = 10.50\n",
    "\n",
    "# Mudar \"living room\" para \"chill zone\"\n",
    "areas[4] = \"chill zone\""
   ]
  },
  {
   "cell_type": "markdown",
   "id": "033f98f7",
   "metadata": {},
   "source": [
    "Após executar esse código, a lista `areas` terá os valores atualizados para o banheiro e a sala de estar.\n",
    "\n",
    "## Estendendo uma lista\n",
    "\n",
    "Você pode adicionar elementos a uma lista usando o operador `+` que concatena listas."
   ]
  },
  {
   "cell_type": "code",
   "execution_count": 31,
   "id": "fb02d154",
   "metadata": {},
   "outputs": [],
   "source": [
    "# Crie a lista areas (versão atualizada)\n",
    "areas = [\"hallway\", 11.25, \"kitchen\", 18.0, \"chill zone\", 20.0, \"bedroom\", 10.75, \"bathroom\", 10.50]\n",
    "\n",
    "# Adicionar dados da poolhouse a areas, a nova lista é areas_1\n",
    "areas_1 = areas + [\"poolhouse\", 24.5]\n",
    "\n",
    "# Adicionar dados da garagem a areas_1, a nova lista é areas_2\n",
    "areas_2 = areas_1 + [\"garage\", 15.45]"
   ]
  },
  {
   "cell_type": "markdown",
   "id": "f60cf08e",
   "metadata": {},
   "source": [
    "Após executar este código, `areas_1` incluirá os dados da `poolhouse`, e `areas_2` incluirá tanto os dados da `poolhouse` quanto da `garagem`.\n",
    "\n",
    "## Copiando Listas\n",
    "\n",
    "Quando você atribui uma lista a outra usando o sinal de igual, ambas as variáveis apontam para a mesma lista na memória. Para criar uma cópia verdadeira, use a função `list()` ou fatiamento."
   ]
  },
  {
   "cell_type": "code",
   "execution_count": 32,
   "id": "88049f34",
   "metadata": {},
   "outputs": [
    {
     "name": "stdout",
     "output_type": "stream",
     "text": [
      "[11.25, 18.0, 20.0, 10.75, 9.5]\n"
     ]
    }
   ],
   "source": [
    "# Crie a lista areas\n",
    "areas = [11.25, 18.0, 20.0, 10.75, 9.50]\n",
    "\n",
    "# Crie uma cópia verdadeira de areas\n",
    "areas_copy = list(areas)\n",
    "\n",
    "# Alterar areas_copy\n",
    "areas_copy[0] = 5.0\n",
    "\n",
    "# Imprimir areas\n",
    "print(areas)"
   ]
  },
  {
   "cell_type": "markdown",
   "id": "f2eb6dc5",
   "metadata": {},
   "source": [
    "A lista `areas` permanece inalterada mesmo após modificar `areas_copy`\n",
    "\n",
    "## Usando funções embutidas\n",
    "\n",
    "Python oferece uam variedad de funções embutidas para simplificar suas tarefas de codificação. Por exemplor, se você usar `type()` para determinar o tipo de uma variável e `len()` para encontrar o comprimento de uma lista."
   ]
  },
  {
   "cell_type": "code",
   "execution_count": 33,
   "id": "cd7760a6",
   "metadata": {},
   "outputs": [
    {
     "name": "stdout",
     "output_type": "stream",
     "text": [
      "<class 'list'>\n",
      "4\n",
      "1\n"
     ]
    }
   ],
   "source": [
    "# Crie as variáveis var1 e var2\n",
    "\n",
    "var1 = [1, 2, 3, 4]\n",
    "var2 = True\n",
    "\n",
    "# Imprima o tipo de var1\n",
    "print(type(var1))\n",
    "\n",
    "# Imprima o comprimento de va1\n",
    "print(len(var1))\n",
    "\n",
    "# Converta var2 para um tipo inteiro\n",
    "out2 = int(var2)\n",
    "print(out2)"
   ]
  },
  {
   "cell_type": "markdown",
   "id": "198c6e54",
   "metadata": {},
   "source": [
    "## Obtendo ajuda com funções\n",
    "\n",
    "Se você precisar de informações sobre como usar uma função, pode usar a função `help()` ou o operador ´?´ no lPython. Por exemplo, para obter ajuda sobre a função `max()`, você pode usar:"
   ]
  },
  {
   "cell_type": "code",
   "execution_count": null,
   "id": "ac6cbb7a",
   "metadata": {},
   "outputs": [
    {
     "name": "stdout",
     "output_type": "stream",
     "text": [
      "Help on built-in function max in module builtins:\n",
      "\n",
      "max(...)\n",
      "    max(iterable, *[, default=obj, key=func]) -> value\n",
      "    max(arg1, arg2, *args, *[, key=func]) -> value\n",
      "\n",
      "    With a single iterable argument, return its biggest item. The\n",
      "    default keyword-only argument specifies an object to return if\n",
      "    the provided iterable is empty.\n",
      "    With two or more positional arguments, return the largest argument.\n",
      "\n"
     ]
    }
   ],
   "source": [
    "help(max)\n",
    "\n",
    "\"\"\"Help on built-in function max in module builtins:\n",
    "\n",
    "max(...)\n",
    "    max(iterable, *[, default=obj, key=func]) -> value\n",
    "    max(arg1, arg2, *args, *[, key=func]) -> value\n",
    "\n",
    "    With a single iterable argument, return its biggest item. The\n",
    "    default keyword-only argument specifies an object to return if\n",
    "    the provided iterable is empty.\n",
    "    With two or more positional arguments, return the largest argument.\"\"\""
   ]
  },
  {
   "cell_type": "markdown",
   "id": "9dc6f545",
   "metadata": {},
   "source": [
    "Isso exibirá a documentação para a função `max()`, explicando seu uso e parâmetros.\n",
    "\n",
    "## Ordendando listas com multiplos argumentos\n",
    "\n",
    "A função `sorted()` permite que você ordene listas em Python. Ela aceita três argumentos: `iterable`, `key` e `reverse`. Você pode especificar o argumento `reverse` para ordenar a lista em ordem decrescente."
   ]
  },
  {
   "cell_type": "code",
   "execution_count": 35,
   "id": "563735d6",
   "metadata": {},
   "outputs": [
    {
     "name": "stdout",
     "output_type": "stream",
     "text": [
      "[20.0, 18.0, 11.25, 10.75, 9.5]\n"
     ]
    }
   ],
   "source": [
    "# Crie as listas first e second\n",
    "first = [11.25, 18.00, 20.0]\n",
    "second = [10.75, 9.50]\n",
    "\n",
    "# Junte first e second: full\n",
    "full = first + second\n",
    "\n",
    "# Ordene full em ordem decrescente: full_sorted\n",
    "full_sorted = sorted(full, reverse=True)\n",
    "\n",
    "# Imprima full_sorted\n",
    "print(full_sorted)"
   ]
  },
  {
   "cell_type": "markdown",
   "id": "a089d6de",
   "metadata": {},
   "source": [
    "## Usando métodos em listas\n",
    "\n",
    "Listas em Python vêm com vários métodos embutidos que permitem manipulá-las e consultá-las. Pore exemplo, você pode usar o método `.index()` para encontrar o índice de um elemento e o método `.count()` para contar ocorrências de um elemento."
   ]
  },
  {
   "cell_type": "code",
   "execution_count": 36,
   "id": "3d8e0832",
   "metadata": {},
   "outputs": [
    {
     "name": "stdout",
     "output_type": "stream",
     "text": [
      "2\n",
      "1\n"
     ]
    }
   ],
   "source": [
    "# Criar lista areas\n",
    "areas = [11.25, 18.0, 20.0, 10.75, 9.50]\n",
    "\n",
    "# Imprimir o índice do elemento 20.0\n",
    "print(areas.index(20.0))\n",
    "\n",
    "# Imprimir quantas vezes 9.50 aparece em areas\n",
    "print(areas.count(9.50))"
   ]
  },
  {
   "cell_type": "markdown",
   "id": "4073ff0d",
   "metadata": {},
   "source": [
    "## Modificando listas com métodos\n",
    "\n",
    "Muitos métodos de lista irão alterar a lista na qual são chamados. Por exemplo, `.append()` adiciona um elemento ao final da lista, e `.reverse()` inverte a ordem dos elementos."
   ]
  },
  {
   "cell_type": "code",
   "execution_count": 37,
   "id": "74dc8079",
   "metadata": {},
   "outputs": [
    {
     "name": "stdout",
     "output_type": "stream",
     "text": [
      "[11.25, 18.0, 20.0, 10.75, 9.5, 24.5, 15.45]\n",
      "[15.45, 24.5, 9.5, 10.75, 20.0, 18.0, 11.25]\n"
     ]
    }
   ],
   "source": [
    "# Criar lista areas\n",
    "areas = [11.25, 18.0, 20.0, 10.75, 9.50]\n",
    "\n",
    "# Usar append duas vezes para adicionar os tamanhos da casa da piscina e da garagem\n",
    "areas.append(24.5)\n",
    "areas.append(15.45)\n",
    "\n",
    "# Imprimir areas\n",
    "print(areas)\n",
    "\n",
    "# Inverter a ordem dos elementos em areas\n",
    "areas.reverse()\n",
    "\n",
    "# Imprimir areas\n",
    "print(areas)"
   ]
  },
  {
   "cell_type": "markdown",
   "id": "e035af22",
   "metadata": {},
   "source": [
    "# Métodos de string\n",
    "\n",
    "Strings em Python também possuem uma variedade de métodos. Por exemplo `.upper()` converte todos os caracteres para maiúsculas, e `.count()` conta as ocorrências de uma substring."
   ]
  },
  {
   "cell_type": "code",
   "execution_count": 38,
   "id": "7e109e49",
   "metadata": {},
   "outputs": [
    {
     "name": "stdout",
     "output_type": "stream",
     "text": [
      "poolhouse\n",
      "POOLHOUSE\n",
      "3\n"
     ]
    }
   ],
   "source": [
    "# string para experimentar: place\n",
    "place = \"poolhouse\"\n",
    "\n",
    "# Usar upper() em place\n",
    "place_up = place.upper()\n",
    "\n",
    "# Imprimir place e place_up\n",
    "print(place)\n",
    "print(place_up)\n",
    "\n",
    "# Imprimir o número de 'o's em place\n",
    "print(place.count('o'))"
   ]
  },
  {
   "cell_type": "markdown",
   "id": "4ceabb62",
   "metadata": {},
   "source": [
    "## Importando o pacote Math\n",
    "\n",
    "Para realizar operações matemáticas, você pode usar o pacote `math` em Python. Este pacote inclui contantes com `pi` e funções para cálculos matemáticos."
   ]
  },
  {
   "cell_type": "code",
   "execution_count": null,
   "id": "7a9b806e",
   "metadata": {},
   "outputs": [],
   "source": [
    "# Importar o pacote math\n",
    "import math\n",
    "\n",
    "# Calcular C (circunferência)\n",
    "# A fórmula da circunferência de um círculo é C = 2 * π * r\n",
    "C = 2 * 0.43 * math.pi\n",
    "\n",
    "# Calcular A (área)\n",
    "# A fórmula da área de um círculo é A = π * r²\n",
    "A = math.pi * 0.43 ** 2\n",
    "\n",
    "print(\"Circunferência: \" + str(C))\n",
    "print(\"Área: \" + str(A))"
   ]
  },
  {
   "cell_type": "markdown",
   "id": "1e5ee39c",
   "metadata": {},
   "source": [
    "## Importação seletiva do pacote math\n",
    "\n",
    "Em vez de importar todo o pacote `math` você pode importar seletivamente apenas as partes que precisa. Isso pode tornar o código mais limpo e eficiente."
   ]
  },
  {
   "cell_type": "code",
   "execution_count": null,
   "id": "9fbef2c2",
   "metadata": {},
   "outputs": [],
   "source": [
    "# Importar a função pi do pacote math\n",
    "from math import pi\n",
    "\n",
    "# Calcular C\n",
    "C = 2 * 0.43 * pi\n",
    "\n",
    "# Calcular A\n",
    "A = pi * 0.43 ** 2\n",
    "\n",
    "print(\"Circunferência: \" + str(C))\n",
    "print(\"Área: \" + str(A))\n",
    "\n",
    "# Dessa forma, não precisamos usar o prefixo math. para acessar pi, pois o import foi feito diretamente."
   ]
  },
  {
   "cell_type": "markdown",
   "id": "a06316f8",
   "metadata": {},
   "source": [
    "## Usando aliases para importações\n",
    "\n",
    "Você pode usar aliases para simplificar o uso de funções de pacotes. Por exemplo, para usar a função `inv()` do subpacote `linalg` do `scipy`, você pode importá-lo com um alias."
   ]
  },
  {
   "cell_type": "code",
   "execution_count": null,
   "id": "df83a66d",
   "metadata": {},
   "outputs": [
    {
     "name": "stdout",
     "output_type": "stream",
     "text": [
      "[[-2.   1. ]\n",
      " [ 1.5 -0.5]]\n"
     ]
    }
   ],
   "source": [
    "# Importar a função inv de scipy.linalg com um alias\n",
    "from scipy.linalg import inv as my_inv\n",
    "\n",
    "# Usar o alias para chamar a função\n",
    "result = my_inv([[1, 2], [3, 4]])\n",
    "print(result)\n",
    "\n",
    "# Em scipy.linalg, scipy é o pacote, linalg é o subpacote e inv é a função.\n",
    "\n",
    "# my_inv([[1, 2], [3, 4]]) retorna a inversa da matriz 2x2 [[1, 2], [3, 4]].\n",
    "# A inversa de uma matriz é uma matriz que, quando multiplicada pela matriz original, resulta na matriz identidade.\n",
    "# A matriz identidade é uma matriz quadrada com 1s na diagonal principal e 0s em todos os outros lugares.\n",
    "# A inversa de uma matriz A é denotada como A^(-1) e é tal que A * A^(-1) = I, onde I é a matriz identidade.\n",
    "# A inversa só existe se a matriz for quadrada e não singular (ou seja, seu determinante não é zero).\n",
    "# Exemplo, a inversa da matriz [[1, 2], [3, 4]] é [[-2.0, 1.0], [1.5, -0.5]]."
   ]
  },
  {
   "cell_type": "markdown",
   "id": "49a1290d",
   "metadata": {},
   "source": [
    "##  Criando um Array NumPy\n",
    "\n",
    "Arrays NumPy são semelhantes a listas Python, mas permitem operações eficientes elemento a elemento. Para criar um array NumPy, use a função mp.array()"
   ]
  },
  {
   "cell_type": "code",
   "execution_count": null,
   "id": "91d307aa",
   "metadata": {},
   "outputs": [
    {
     "name": "stdout",
     "output_type": "stream",
     "text": [
      "<class 'numpy.ndarray'>\n"
     ]
    }
   ],
   "source": [
    "# Importamos o pacote numpy e o renomeamos como np para facilitar a referência.\n",
    "import numpy as np\n",
    "\n",
    "# Criamos uma lista normal de Python chamada baseball, que contém as alturas dos jogadores de beisebol em centímetros.\n",
    "baseball = [180, 215, 210, 210, 188, 176, 209, 200]\n",
    "\n",
    "# Crie um array NumPy a partir de baseball: np_baseball\n",
    "np_baseball = np.array(baseball)\n",
    "# Aqui, a lista baseball é usada como argumento para a função np.array(), que cria um array NumPy.\n",
    "\n",
    "# Imprima o tipo de np_baseball\n",
    "print(type(np_baseball))\n",
    "\n",
    "# O retorno é <class 'numpy.ndarray'>, indicando que np_baseball é um array NumPy. nd significa \"n-dimensional\", o que significa que o array pode ter várias dimensões (1D, 2D, etc.)."
   ]
  },
  {
   "cell_type": "markdown",
   "id": "611e13e5",
   "metadata": {},
   "source": [
    "## Convertendo unidade com NumPy\n",
    "\n",
    "Você pode facilmente realizar operações elemento a elemento em arrays NumPy. Por exemplo, converter alturas de polegadas para metros."
   ]
  },
  {
   "cell_type": "code",
   "execution_count": null,
   "id": "7180a37b",
   "metadata": {},
   "outputs": [
    {
     "name": "stdout",
     "output_type": "stream",
     "text": [
      "[1.8288 1.905  1.9812 2.032  1.651  1.7272 1.8796 1.778 ]\n"
     ]
    }
   ],
   "source": [
    "import numpy as np\n",
    "\n",
    "# Lista de alturas em polegadas\n",
    "height_in = [72,75,78,80,65,68,74,70]\n",
    "\n",
    "# Crie um arra numpy a partir de height_in: np_height_in\n",
    "np_height_in = np.array(height_in)\n",
    "\n",
    "# Converta np_height_in para centímetros: np_height_m\n",
    "np_height_m = np_height_in * 0.0254 # Conversão de polegadas para metros (1 polegada = 0.0254 metros)\n",
    "\n",
    "# Imprima np_height_m\n",
    "print(np_height_m)"
   ]
  },
  {
   "cell_type": "markdown",
   "id": "e8816132",
   "metadata": {},
   "source": [
    "## Subconjuntos de Arrays NumPy\n",
    "\n",
    "Subconjuntos em arrays numpy funcionan de maneira semelhante às listas Python. Você pode acessar elementos usando colchetes."
   ]
  },
  {
   "cell_type": "code",
   "execution_count": 5,
   "id": "a78dd1cf",
   "metadata": {},
   "outputs": [
    {
     "name": "stdout",
     "output_type": "stream",
     "text": [
      "176\n",
      "[180 215 210]\n"
     ]
    }
   ],
   "source": [
    "import numpy as np\n",
    "\n",
    "# Duas listas normais de Python com dados de altura e peso\n",
    "weight_lb = [180, 215, 210,210, 188, 176, 209, 200]\n",
    "height_in = [72, 75, 78, 80, 65, 68, 74, 70]\n",
    "\n",
    "# Crie um array NumPy a partir de weight_lb: np_weight_lb\n",
    "np_weight_lb = np.array(weight_lb)\n",
    "np_height_in = np.array(height_in)\n",
    "\n",
    "# Imprimindo o peso do índice 5\n",
    "print(np_weight_lb[5])\n",
    "\n",
    "# Imrimindo o peso do índice 0 até o índice 3 (não inclusivo)\n",
    "print(np_weight_lb[0:3])"
   ]
  },
  {
   "cell_type": "markdown",
   "id": "57733254",
   "metadata": {},
   "source": [
    "## Criando um Array 2d NumPy\n",
    "\n",
    "Você pode criar um array 2d numpy a partir de uma lista de listas do Python. Este array pode armazenar dados em um formato estruturado e retangular, facilitando a realização de cálculos e manipulações de dados."
   ]
  },
  {
   "cell_type": "code",
   "execution_count": 8,
   "id": "7d89c338",
   "metadata": {},
   "outputs": [
    {
     "name": "stdout",
     "output_type": "stream",
     "text": [
      "(8, 2)\n",
      "[[180.   78.4]\n",
      " [215.  102.1]\n",
      " [210.   95.3]\n",
      " [210.  100. ]\n",
      " [188.   84. ]\n",
      " [176.   75. ]\n",
      " [209.   98.5]\n",
      " [200.   90.7]]\n"
     ]
    }
   ],
   "source": [
    "import numpy as np\n",
    "\n",
    "baseball = [[180, 78.4],\n",
    "            [215, 102.1],\n",
    "            [210, 95.3],\n",
    "            [210, 100.0],\n",
    "            [188, 84.0],\n",
    "            [176, 75.0],\n",
    "            [209, 98.5],\n",
    "            [200, 90.7]]\n",
    "\n",
    "# Converter baseball para um array NumPy: np_baseball\n",
    "np_baseball = np.array(baseball)\n",
    "\n",
    "# Exibir o formato de np_baseball com o método shape\n",
    "print(np_baseball.shape)\n",
    "\n",
    "# Saída: (8, 2) - Isso significa que np_baseball tem 8 linhas e 2 colunas.\n",
    "\n",
    "# Imprimir np_baseball\n",
    "print(np_baseball)\n",
    "\n",
    "# Os dados são exibidos como um array NumPy 2D, onde cada linha representa um jogador e cada coluna representa uma característica (altura e peso).\n",
    "\n"
   ]
  },
  {
   "cell_type": "markdown",
   "id": "078f5b15",
   "metadata": {},
   "source": [
    "## Subconjuntos de arrays 2d numpy\n",
    "\n",
    "Cirar subconjuntos em arrays 2d numpy permite extrair linhas, colunas ou elementos específicos. Isso pode ser feito usando índices de linha e coluna separados por vírgula."
   ]
  },
  {
   "cell_type": "code",
   "execution_count": null,
   "id": "86710ead",
   "metadata": {},
   "outputs": [
    {
     "name": "stdout",
     "output_type": "stream",
     "text": [
      "[210. 100.]\n",
      "[ 78.4 102.1  95.3 100.   84.   75.   98.5  90.7]\n"
     ]
    }
   ],
   "source": [
    "import numpy as np\n",
    "\n",
    "np_baseball = np.array([[180, 78.4],\n",
    "                        [215, 102.1],\n",
    "                        [210, 95.3],\n",
    "                        [210, 100.0],\n",
    "                        [188, 84.0],\n",
    "                        [176, 75.0],\n",
    "                        [209, 98.5],\n",
    "                        [200, 90.7]])\n",
    "\n",
    "# Isso nos dá uma estrutura em forma de tabela, onde cada linha representa um jogador e cada coluna representa uma característica (altura e peso).\n",
    "\n",
    "# Altura (cm)  Peso (kg)\n",
    "# 180           78.4\n",
    "# 215           102.1\n",
    "# 210           95.3\n",
    "# 210           100.0\n",
    "# 188           84.0\n",
    "# 176           75.0\n",
    "# 209           98.5\n",
    "# 200           90.7\n",
    "\n",
    "# O slice segue a ordem [linhas, colunas]. Se omitirmos o índice de linhas, selecionamos todas as linhas. Se omitirmos o índice de colunas, selecionamos todas as colunas.\n",
    "\n",
    "# Imprimir a 4ª linha de np_baseball\n",
    "print(np_baseball[3])\n",
    "# Informamos o índice da linha, mas não o da coluna, então todas as colunas são retornadas. Sendo assim, exibimos altura e peso do jogador 4.\n",
    "\n",
    "# Imprimir toda a 2ª coluna de np_baseball\n",
    "print(np_baseball[:, 1])\n",
    "# O slice : também significa \"todas as linhas\", e 1 significa \"segunda coluna\". Portanto, todas as linhas da segunda coluna (peso) são retornadas.\n",
    "\n",
    "# Imprimir a altura do jogador 5\n",
    "print(np_baseball[4, 0])\n",
    "# O índice 4 refere-se à 5ª linha (jogador 5) e o índice 0 refere-se à primeira coluna (altura). Portanto, a altura do jogador 5 é retornada."
   ]
  },
  {
   "cell_type": "markdown",
   "id": "719d43e3",
   "metadata": {},
   "source": [
    "## Aritimética 2D com Arrays NumPy\n",
    "\n",
    "Arrays 2D NumPy suportam operações aritiméticas elemento a elemento. Isso permite cálculos eficientes em conjuntos de dados inteiros."
   ]
  },
  {
   "cell_type": "code",
   "execution_count": null,
   "id": "dfba70ba",
   "metadata": {},
   "outputs": [
    {
     "name": "stdout",
     "output_type": "stream",
     "text": [
      "[[181.   80.4]\n",
      " [218.  106.1]\n",
      " [215.  101.3]\n",
      " [217.  108. ]]\n",
      "[[ 4.572     35.5616128]\n",
      " [ 5.461     46.3117432]\n",
      " [ 5.334     43.2273176]\n",
      " [ 5.334     45.3592   ]]\n"
     ]
    }
   ],
   "source": [
    "import numpy as np\n",
    "\n",
    "np_baseball = np.array(baseball)\n",
    "updated = np.array([[1, 2], [3, 4], [5, 6], [7, 8]])\n",
    "\n",
    "# Imprima a adição de np_baseball e updated\n",
    "print(np_baseball + updated)\n",
    "\n",
    "# Crie um array numpy: conversion\n",
    "conversion = np.array([0.0254, 0.453592, 1])\n",
    "\n",
    "# Imprima o produto de np_baseball e conversion\n",
    "print(np_baseball * conversion)"
   ]
  },
  {
   "cell_type": "markdown",
   "id": "a1d752d6",
   "metadata": {},
   "source": [
    "A primeira parte do código exibirá a soma elemento a elemento de `np_baseball` e `updated`. A segunda parte converterá a altura e o peso para unidades métricas multiplicando pelo array `conversion`\n",
    "\n",
    "## Calculando Média e Mediana com NumPy\n",
    "\n",
    "Usando funções NumPy, você pode facilmente calcular estatísticas resumidas como a média e a mediana de um conjunto de dados. Isso é particularmente útil ao lidar com grandes conjuntos de dados."
   ]
  },
  {
   "cell_type": "code",
   "execution_count": 32,
   "id": "8f1d91a1",
   "metadata": {},
   "outputs": [
    {
     "name": "stdout",
     "output_type": "stream",
     "text": [
      "198.5\n",
      "204.5\n"
     ]
    }
   ],
   "source": [
    "import numpy as np\n",
    "baseball = [[180, 78.4],\n",
    "            [215, 102.1],\n",
    "            [210, 95.3],\n",
    "            [210, 100.0],\n",
    "            [188, 84.0],\n",
    "            [176, 75.0],\n",
    "            [209, 98.5],\n",
    "            [200, 90.7]]\n",
    "\n",
    "# Crie np_baseball a partir de baseball\n",
    "np_baseball = np.array(baseball)\n",
    "\n",
    "# Crie np_height_in a partir de np_baseball - Todas as linhas e a primeira coluna\n",
    "np_height_in = np_baseball[:,0]\n",
    "\n",
    "# Imprima a média de np_height_in - mean significa média\n",
    "# A média é a soma de todos os valores dividida pelo número total de valores.\n",
    "print(np.mean(np_height_in)) \n",
    "\n",
    "# Imprima a mediana de np_height_in - median significa mediana\n",
    "# A mediana é o valor que separa a metade superior da metade inferior de um conjunto de dados. A mediana é o valor do meio quando os dados estão ordenados.\n",
    "print(np.median(np_height_in))"
   ]
  },
  {
   "cell_type": "markdown",
   "id": "b1b81b3e",
   "metadata": {},
   "source": [
    "## Desvio padrão e correlação com numpy\n",
    "\n",
    "`Desvio padrão` e `correlação` são outras estatísticas importantes que poder ser calculadas usando NumPy. Estas ajudam a entender a dispersão e a realçaão entre diferentes variáveis no seu conjunto de dados."
   ]
  },
  {
   "cell_type": "code",
   "execution_count": null,
   "id": "b15a4918",
   "metadata": {},
   "outputs": [
    {
     "name": "stdout",
     "output_type": "stream",
     "text": [
      "Média: 198.5\n",
      "Mediana: 204.5\n",
      "Desvio Padrão: 14.177446878757825\n",
      "Correlação: [[1.         0.99044915]\n",
      " [0.99044915 1.        ]]\n"
     ]
    }
   ],
   "source": [
    "# Imprima a altura média\n",
    "avg = np.mean(np_baseball[:,0])\n",
    "print(\"Média: \" + str(avg))\n",
    "\n",
    "# Imprima a altura mediana\n",
    "med = np.median(np_baseball[:,0])\n",
    "print(\"Mediana: \" + str(med))\n",
    "\n",
    "# Imprima o desvio padrão da altura - O desvio padrão é uma medida de dispersão que indica o quanto os valores de um conjunto de dados variam em relação à média. O resultado 14.17 indica que as alturas dos jogadores variam em média 14.17 cm em relação à média, que é 198.5 cm.\n",
    "stddev = np.std(np_baseball[:,0])\n",
    "print(\"Desvio Padrão: \" + str(stddev))\n",
    "\n",
    "# Imprima a correlação entre a primeira e a segunda coluna - A correlação é uma medida estatística que indica a força e a direção de uma relação linear entre duas variáveis. O resultado 1, 0.99 indica uma correlação positiva forte, o que significa que, à medida que uma variável aumenta, a outra também tende a aumentar. Por exemplo, se a autura aumentar em 1 cm, o peso também tende a aumentar em 0.99 kg.\n",
    "corr = np.corrcoef(np_baseball[:,0], np_baseball[:,1])\n",
    "print(\"Correlação: \" + str(corr))"
   ]
  },
  {
   "cell_type": "markdown",
   "id": "7e894964",
   "metadata": {},
   "source": [
    "## Visualiando Dados com Numpy\n",
    "\n",
    "Embora o NumPy seja execelente para cálculos numéricos, visualizar dados forncece outra camada de insight. Embora a visualização seja abordade em outro conjunto, é bom saber que o numpy pode ser usado em conjunto com bibliotecas de plotagem como Matplotlib"
   ]
  },
  {
   "cell_type": "code",
   "execution_count": 35,
   "id": "c6205a1e",
   "metadata": {},
   "outputs": [
    {
     "data": {
      "image/png": "[encoded data removed]",
      "text/plain": [
       "<Figure size 640x480 with 1 Axes>"
      ]
     },
     "metadata": {},
     "output_type": "display_data"
    }
   ],
   "source": [
    "import matplotlib.pyplot as plt\n",
    "\n",
    "# Supondo que np_baseball já esteja definido e carregado\n",
    "plt.scatter(np_baseball[:,0], np_baseball[:,1])\n",
    "plt.xlabel('Altura')\n",
    "plt.ylabel('Peso')\n",
    "plt.title('Altura vs Peso')\n",
    "plt.show()\n",
    "\n",
    "# Esse código mostra um gráfico de dispersão de altura versus peso, ajudando você a visualizar a realção entre as duas variáveis"
   ]
  },
  {
   "cell_type": "markdown",
   "id": "397d11bb",
   "metadata": {},
   "source": []
  }
 ],
 "metadata": {
  "kernelspec": {
   "display_name": "Python 3",
   "language": "python",
   "name": "python3"
  },
  "language_info": {
   "codemirror_mode": {
    "name": "ipython",
    "version": 3
   },
   "file_extension": ".py",
   "mimetype": "text/x-python",
   "name": "python",
   "nbconvert_exporter": "python",
   "pygments_lexer": "ipython3",
   "version": "3.13.2"
  }
 },
 "nbformat": 4,
 "nbformat_minor": 5
}
