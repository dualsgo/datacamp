{
 "cells": [
  {
   "cell_type": "markdown",
   "id": "9353de96",
   "metadata": {},
   "source": [
    "# Introdução ao Python para desenvolvedores\n",
    "\n",
    "## Entendendo a popularidade do Python\n",
    "\n",
    "Python é uma linguagem de programação versátil e popular, conhecida por usa legibilidade e simplicidade. Sua sintaxe de alto nível se assemelha à linguagem natural, tornando-a acessível para iniciantes. A extensa biblioteca de pacotes de software disoníveis publicamente do Python permite que os desenvolvedores economizem tempo usando código pré-escrito. Além disso, o Python é gratuito e de código aberto, permitindo que qualquer pessoa o use, modifique e distribua. Essas caracteristicas fazem do Python uam ferramenta poderosa para tarefas como automação, desenvolvimento web e IA."
   ]
  },
  {
   "cell_type": "code",
   "execution_count": 130,
   "id": "0a621fd6",
   "metadata": {},
   "outputs": [
    {
     "name": "stdout",
     "output_type": "stream",
     "text": [
      "Python é fácil de aprender!\n"
     ]
    }
   ],
   "source": [
    "# A sintaxe do Python é simples e se parece com a linguagem natural\n",
    "print(\"Python é fácil de aprender!\")"
   ]
  },
  {
   "cell_type": "markdown",
   "id": "32331dc1",
   "metadata": {},
   "source": [
    "## Executando seu primeiro script em Python\n",
    "\n",
    "Nesse exercício, você executará seu primeiro script em Python usando a função ``print()``. A função print é essencial para exibir os resultados das operações de código. Para usá-la, escreva a palavra ``print`` seguida de parênteses ``()``. Dentro dos parênteses coloque a mensagem que deseja exibir entre aspas duplas."
   ]
  },
  {
   "cell_type": "code",
   "execution_count": 131,
   "id": "9d1a7da8",
   "metadata": {},
   "outputs": [
    {
     "name": "stdout",
     "output_type": "stream",
     "text": [
      "Eu Amo Python\n"
     ]
    }
   ],
   "source": [
    "# Execute este script para ver a saída no shell do Python\n",
    "print(\"Eu Amo Python\")"
   ]
  },
  {
   "cell_type": "markdown",
   "id": "ee14339c",
   "metadata": {},
   "source": [
    "## Escrevendo seu primeiro script em Python\n",
    "\n",
    "Agora, é a hora de escrever sua primeira linha de código em Python. Você usará a função ``print()`` para exibir uma mensagem no shell do Python. Este exercício ajudará você a endenter como escrever e executar código Python dentro de um script."
   ]
  },
  {
   "cell_type": "code",
   "execution_count": 132,
   "id": "e4d05f2f",
   "metadata": {},
   "outputs": [
    {
     "name": "stdout",
     "output_type": "stream",
     "text": [
      "_________________\n",
      "Aprendendo Python\n"
     ]
    }
   ],
   "source": [
    "# Substitua ____ abaixo para exibir \"Aprendendo Python\"\n",
    "print(\"_________________\")\n",
    "print(\"Aprendendo Python\")\n"
   ]
  },
  {
   "cell_type": "markdown",
   "id": "c2fcb057",
   "metadata": {},
   "source": [
    "## Python como calculadora\n",
    "\n",
    "Python pode ser usado para realizar operações aritiméticas báscias, como adição e subtração. Vamos ver como usar Python para calcular a soma de 19 e 17, e o resultado de subtrair 12 de 99."
   ]
  },
  {
   "cell_type": "code",
   "execution_count": 133,
   "id": "37cd2a8b",
   "metadata": {},
   "outputs": [
    {
     "name": "stdout",
     "output_type": "stream",
     "text": [
      "36\n",
      "87\n"
     ]
    }
   ],
   "source": [
    "# Adicionar 19 e 17\n",
    "print(19 + 17)\n",
    "\n",
    "# Subtrair 12 de 99\n",
    "print(99 - 12)"
   ]
  },
  {
   "cell_type": "markdown",
   "id": "8eaee923",
   "metadata": {},
   "source": [
    "## Mais cálculos com Python\n",
    "\n",
    "Além da aritimética básica, Python também pode lidar com multiplicação e divisão. Vamos calcular o produto de 9 e 2, e o resultado de dividir 120 por 12."
   ]
  },
  {
   "cell_type": "code",
   "execution_count": 134,
   "id": "d002d8bc",
   "metadata": {},
   "outputs": [
    {
     "name": "stdout",
     "output_type": "stream",
     "text": [
      "18\n",
      "10.0\n"
     ]
    }
   ],
   "source": [
    "# Calcular e imprimir 9 multiplicado por 2\n",
    "print(9 * 2)\n",
    "\n",
    "# Imprimir o resultado de dividir 120 por 12\n",
    "print(120 / 12)"
   ]
  },
  {
   "cell_type": "markdown",
   "id": "6b69da08",
   "metadata": {},
   "source": [
    "## Entendendo a sintaxe do Python\n",
    "\n",
    "A sintaxe do Pythom né direta e permite cálculos fáceis usando operadores. A função ``print()`` é usada para exibir resultados e comentários (começando com ``#``) ajudam a explicar o código sem afetar sua execução."
   ]
  },
  {
   "cell_type": "code",
   "execution_count": 135,
   "id": "6d351300",
   "metadata": {},
   "outputs": [
    {
     "name": "stdout",
     "output_type": "stream",
     "text": [
      "9\n"
     ]
    }
   ],
   "source": [
    "# Este é um comentário explicando o código abaixo\n",
    "print(4 + 5)  # Isso imprimirá a soma de 4 e 5"
   ]
  },
  {
   "cell_type": "markdown",
   "id": "b19d09f2",
   "metadata": {},
   "source": [
    "Comentários são cruciais para tornar seu código compreensível para os outros e para você mesmo no futuro.\n",
    "\n",
    "# Entendendo variáveis e tipos de dados\n",
    "\n",
    "Variáveis em Python são como rótulos que apontam para valores específicos, permitindo-nos armazenar e recuperar dados de forma eficiente. Python atribui automaticamente tipos de dados às variáveis com base em seus valores. Por exemplo, números inteiros são classificados como ``inteiros``, enquanto números com casas decimais são classificados como ``floats``."
   ]
  },
  {
   "cell_type": "code",
   "execution_count": 136,
   "id": "143339f8",
   "metadata": {},
   "outputs": [
    {
     "name": "stdout",
     "output_type": "stream",
     "text": [
      "25\n",
      "58.5\n"
     ]
    }
   ],
   "source": [
    "# Criando variáveis com diferentes tipos de dados\n",
    "customer_age = 25  # inteiro\n",
    "account_balance = 58.50  # float\n",
    "\n",
    "# Imprimindo as variáveis\n",
    "print(customer_age)\n",
    "print(account_balance)"
   ]
  },
  {
   "cell_type": "markdown",
   "id": "fbd5684e",
   "metadata": {},
   "source": [
    "Variáveis podem ser utilizadas e reutilizadas ao longo do script, tornando-as ferramentas verssáteis para gerenciar dados.\n",
    "\n",
    "## Atualizando variáveis e usando booleanos\n",
    "\n",
    "Variaveis em Python podem ser atualizadas para refletir novos valores, o que é particularmente útil para dados dinâmicos. Pytohn também suporta tipos de dados ``booleanos``, que podem ser apenas ``True`` ou ``False``."
   ]
  },
  {
   "cell_type": "code",
   "execution_count": 137,
   "id": "20b9d3ca",
   "metadata": {},
   "outputs": [
    {
     "name": "stdout",
     "output_type": "stream",
     "text": [
      "1300000.0\n",
      "True\n"
     ]
    }
   ],
   "source": [
    "# Valores iniciais\n",
    "account_balance = 20000.00\n",
    "is_millionaire = False\n",
    "\n",
    "# Atualizar saldo da conta e status de milionário\n",
    "account_balance = 1300000.00\n",
    "is_millionaire = True\n",
    "\n",
    "# Imprimir valores atualizados\n",
    "print(account_balance)\n",
    "print(is_millionaire)"
   ]
  },
  {
   "cell_type": "markdown",
   "id": "d51cb671",
   "metadata": {},
   "source": [
    "Booleanos são sensíveis a maiúsculas e minúsculas em Python, então ``True`` e ``False`` devem ser captalizados.\n",
    "\n",
    "## Verificando tipos de dados com ``type()``\n",
    "\n",
    "Python permite que você verifique o tipo de dado de uma variável usando a função ``type()``. Isso é útil para verificar se suas variáveis são do tipo esperado."
   ]
  },
  {
   "cell_type": "code",
   "execution_count": 138,
   "id": "245f5070",
   "metadata": {},
   "outputs": [
    {
     "name": "stdout",
     "output_type": "stream",
     "text": [
      "<class 'int'>\n",
      "<class 'float'>\n",
      "<class 'bool'>\n"
     ]
    }
   ],
   "source": [
    "# Definir variáveis\n",
    "customer_age = 27\n",
    "account_balance = 120.50\n",
    "is_millionaire = True\n",
    "\n",
    "# Verificar tipos de dados\n",
    "print(type(customer_age))\n",
    "print(type(account_balance))\n",
    "print(type(is_millionaire))"
   ]
  },
  {
   "cell_type": "markdown",
   "id": "8199e82c",
   "metadata": {},
   "source": [
    "A função ``type()`` retorna o tipo de dado da variável, ajudando você a entender como o Python classificou seus dados.\n",
    "\n",
    "## Lidando com apóstrofos em strings\n",
    "\n",
    "Ao trabalhar com strings em Python , é importante saber lidar com apóstrofos. Usar aspas duplas permite incluir apóstrofos dentro de suas strings sem causar erros de sintaxe."
   ]
  },
  {
   "cell_type": "code",
   "execution_count": 139,
   "id": "78ec2d49",
   "metadata": {},
   "outputs": [
    {
     "name": "stdout",
     "output_type": "stream",
     "text": [
      "It's a beautiful day!\n"
     ]
    }
   ],
   "source": [
    "# Usando aspas duplas para lidar com apóstrofos\n",
    "sentence = \"It's a beautiful day!\"\n",
    "print(sentence)\n",
    "\n",
    "# Apóstrofos geralmente não são utilizados na língua portuguesa"
   ]
  },
  {
   "cell_type": "markdown",
   "id": "b2562295",
   "metadata": {},
   "source": [
    "Usar asas duplas garante que o apóstrofo seja tratado como parte da string em vez de seu final.\n",
    "\n",
    "## Stings multilinha\n",
    "\n",
    "Strins multilinha em Python são criadas usando três conjuntos de aspas. Isso é útil para armazenar grandes blocos de texto, como avaliações de usuários ou documentação."
   ]
  },
  {
   "cell_type": "code",
   "execution_count": 140,
   "id": "ea3a88b9",
   "metadata": {},
   "outputs": [
    {
     "name": "stdout",
     "output_type": "stream",
     "text": [
      "I really enjoy the courses,\n",
      "and they are easy to fit into my busy schedule. \n",
      "I wish I had started using your platform sooner.\n",
      "I'll be recommending you to my friends!!\n",
      "One year ago, I was unsure of how to make progress in my career. \n",
      "Now, I work as a Prompt Engineer, and I can't thank you enough! \n",
      "Keep up the great work.\n"
     ]
    }
   ],
   "source": [
    "# Criando strings multilinha\n",
    "review_one = \"\"\"I really enjoy the courses,\n",
    "and they are easy to fit into my busy schedule. \n",
    "I wish I had started using your platform sooner.\n",
    "I'll be recommending you to my friends!!\"\"\"\n",
    "\n",
    "review_two = \"\"\"One year ago, I was unsure of how to make progress in my career. \n",
    "Now, I work as a Prompt Engineer, and I can't thank you enough! \n",
    "Keep up the great work.\"\"\"\n",
    "\n",
    "# Imprimir as avaliações\n",
    "print(review_one)\n",
    "print(review_two)"
   ]
  },
  {
   "cell_type": "markdown",
   "id": "a46c2bdd",
   "metadata": {},
   "source": [
    "Este código imprimirá as duas avaliações, cada uma como um bloco de texto, mantendo seu formato mutilinha.\n",
    "\n",
    "## Modificando strings com métodos\n",
    "\n",
    "Python fornece vários métodos para modificar strings, como substituir texto, alternar maiúsculas e minúsculas e remover espaços. Esses métodos são úteis para garantir consistência e legibilidade."
   ]
  },
  {
   "cell_type": "code",
   "execution_count": 141,
   "id": "8c72eb95",
   "metadata": {},
   "outputs": [
    {
     "name": "stdout",
     "output_type": "stream",
     "text": [
      "introduction_to_llms\n"
     ]
    }
   ],
   "source": [
    "# String original\n",
    "most_popular_course = \"Intro to LLMs\"\n",
    "\n",
    "# Corrigindo o erro de digitação, substituindo espaços por sublinhados e convertendo para minúsculas\n",
    "most_popular_course = most_popular_course.replace(\"Intro\", \"Introduction\").replace(\" \", \"_\").lower()\n",
    "\n",
    "print(most_popular_course)"
   ]
  },
  {
   "cell_type": "markdown",
   "id": "121c6c7d",
   "metadata": {},
   "source": [
    "Este código demonstra como usar os métodos de string para corrigir um erro de digitação, substituir espaço por sublinhados e converter a string para  minúsculas para consistência.\n",
    "\n",
    "## Criando e imprimindo listas\n",
    "\n",
    "Em Python, listas são uma estrutura de dados versátil que permite armazenar múltiplos valores em uma única variável. Você pode criar uma lista usando colchetes e separar cada valor com uma vírgula. Listas podem conter diferentes tipos de dados, como inteiros e strings."
   ]
  },
  {
   "cell_type": "code",
   "execution_count": 142,
   "id": "a6978437",
   "metadata": {},
   "outputs": [
    {
     "name": "stdout",
     "output_type": "stream",
     "text": [
      "[1, 'Blinding Lights', 2, 'One Dance', 3, 'Uptown Funk']\n"
     ]
    }
   ],
   "source": [
    "# Crie a variável playlist\n",
    "playlist = [1, \"Blinding Lights\", 2, \"One Dance\", 3, \"Uptown Funk\"]\n",
    "\n",
    "# Imprima a lista\n",
    "print(playlist)"
   ]
  },
  {
   "cell_type": "markdown",
   "id": "bb424d36",
   "metadata": {},
   "source": [
    "Listas são ordenadas, o que significa que você pode acessar elementos pelo seu índice, começando do 0 (zero) para o primeiro elemento.\n",
    "\n",
    "## Subconjuntos de listas\n",
    "\n",
    "Subconjuntos permitem que você acesse elementos específicos dentro de uma lista. Você pode usar colchetes com o número do índice para recuperar um item específico. Se você quiser acessar múltiplos elementos, pode usar dois pontos para especificar um intervalo de índices."
   ]
  },
  {
   "cell_type": "code",
   "execution_count": 143,
   "id": "b1e3e0a6",
   "metadata": {},
   "outputs": [
    {
     "name": "stdout",
     "output_type": "stream",
     "text": [
      "One Dance\n",
      "['Blinding Lights', 2, 'One Dance', 3]\n"
     ]
    }
   ],
   "source": [
    "# Acesse o nome da segunda música na playlist\n",
    "second_song = playlist[3]\n",
    "print(second_song)\n",
    "\n",
    "# Acesse as duas primeiras músicas\n",
    "first_two_songs = playlist[1:5]\n",
    "print(first_two_songs)"
   ]
  },
  {
   "cell_type": "markdown",
   "id": "e193a80b",
   "metadata": {},
   "source": [
    "## Fatiando listas\n",
    "\n",
    "Fatiar é um recurso poderoso que permite acessar um subconjunto de uma lista especificando um início, fim e passo. Isso pode ser útil para acessar cada enésimo elemento ou um intervalo específico de elementos."
   ]
  },
  {
   "cell_type": "code",
   "execution_count": 144,
   "id": "30efbd1a",
   "metadata": {},
   "outputs": [
    {
     "name": "stdout",
     "output_type": "stream",
     "text": [
      "[1, 2, 3]\n",
      "['Blinding Lights', 3]\n"
     ]
    }
   ],
   "source": [
    "# Acesse cada segundo elemento começando do primeiro\n",
    "every_second_element = playlist[::2]\n",
    "print(every_second_element)\n",
    "\n",
    "# Acesse cada terceiro elemento começando do segundo\n",
    "every_third_from_second = playlist[1::3]\n",
    "print(every_third_from_second)"
   ]
  },
  {
   "cell_type": "markdown",
   "id": "5decfb29",
   "metadata": {},
   "source": [
    "Fatiar fornece uma maneira flexível de trabalhar com listas, permitindo que você recupere eficientemente os dados de que precisa.\n",
    "\n",
    "## Criando um dicionário\n",
    "\n",
    "``Dicionários`` em Python são usados para armazenar dados em pares de chave-valor. Isso facilita a busca de valores com base em uma chave, semelhante a como você procuraria uma palavra em um dicionário para encontrar sua definição."
   ]
  },
  {
   "cell_type": "code",
   "execution_count": 145,
   "id": "9d9d3adc",
   "metadata": {},
   "outputs": [
    {
     "name": "stdout",
     "output_type": "stream",
     "text": [
      "{'The Weeknd': 'Blinding Lights', 'Drake': 'One Dance'}\n"
     ]
    }
   ],
   "source": [
    "# Criar o dicionário de playlist\n",
    "playlist = {\"The Weeknd\": \"Blinding Lights\", \"Drake\": \"One Dance\"}\n",
    "\n",
    "# Imprimir a playlist\n",
    "print(playlist)"
   ]
  },
  {
   "cell_type": "markdown",
   "id": "49f7f2ad",
   "metadata": {},
   "source": [
    "Dicionários são criados usando chaves ``{}`` e têm a sintaxe `\"chave\": \"valor\"` para cada par.\n",
    "\n",
    "## Acessando e modificando entradas de dicionário\n",
    "\n",
    "Você pode acessar o valor associado a uma chave específica em um dicionário usando colchetes `[]`. Você também pode adicionar novos pares de chave-valor ou modificar  os existentes usando a mesma sintaxe."
   ]
  },
  {
   "cell_type": "code",
   "execution_count": 146,
   "id": "b63b404b",
   "metadata": {},
   "outputs": [
    {
     "name": "stdout",
     "output_type": "stream",
     "text": [
      "dict_values(['Blinding Lights', 'One Dance', 'Yeah!'])\n"
     ]
    }
   ],
   "source": [
    "# Imprimir a música de Coldplay\n",
    "# Isso levantará um KeyError já que \"Coldplay\" não está no dicionário\n",
    "# print(playlist[\"Coldplay\"])\n",
    "\n",
    "# Adicionar uma nova música\n",
    "playlist[\"Usher\"] = \"Yeah!\"\n",
    "\n",
    "# Imprimir as músicas na playlist\n",
    "print(playlist.values())"
   ]
  },
  {
   "cell_type": "markdown",
   "id": "0131669f",
   "metadata": {},
   "source": [
    "Note que tentar acessar uma chave que não existe levantará um ``KeyError``. Você pode adicionar novas entradas ou atualizar as existentes atribuindo um valor a uam chave.\n",
    "\n",
    "## Recuperando chaves e valores\n",
    "\n",
    "Dicionários têm métodos embutidos para recuperar todas as chaves ou valores. O método ``.values()`` retorna todos os valores, e o método ``.keys()`` retorna todas as chaves."
   ]
  },
  {
   "cell_type": "code",
   "execution_count": 147,
   "id": "597d5440",
   "metadata": {},
   "outputs": [
    {
     "name": "stdout",
     "output_type": "stream",
     "text": [
      "dict_keys(['The Weeknd', 'Drake', 'Usher'])\n",
      "dict_values(['Blinding Lights', 'One Dance', 'Yeah!'])\n"
     ]
    }
   ],
   "source": [
    "# Recuperar todas as chaves na playlist\n",
    "print(playlist.keys())\n",
    "\n",
    "# Recuperar todos os valores na playlist\n",
    "print(playlist.values())"
   ]
  },
  {
   "cell_type": "markdown",
   "id": "a667eab9",
   "metadata": {},
   "source": [
    "Esses métodos são úteis para iterar sobre um dicionário ou quando você precisa realizar operações em toda as chaves ou valores.\n",
    "\n",
    "## Entendendo conjuntos em Python\n",
    "\n",
    "Um ``conjunto`` é um tipo de dado de coleção em Python que armazena elementos únicos. Isso significa que se você adicionar valores duplicados a um conjunto, apenas uma instância será armazenada. Conjuntos são úteis para remover duplicatas e realizar testes de pertencimento rapidamente."
   ]
  },
  {
   "cell_type": "code",
   "execution_count": 148,
   "id": "fcdd5840",
   "metadata": {},
   "outputs": [
    {
     "name": "stdout",
     "output_type": "stream",
     "text": [
      "{'Jane Doe', 'John Smith'}\n"
     ]
    }
   ],
   "source": [
    "# Criando um conjunto com valores duplicados\n",
    "attendees = {\"John Smith\", \"Jane Doe\", \"John Smith\"}\n",
    "\n",
    "# Imprimir o conjunto\n",
    "print(attendees)"
   ]
  },
  {
   "cell_type": "markdown",
   "id": "cb729bcd",
   "metadata": {},
   "source": [
    "Conjuntos não mantêm nenhuma ordem e não suportam indexação. No entanto você pode ordenar um conjunto usando a função ``sorted()``, que retorna uma lista dos elementos ordenados.\n",
    "\n",
    "## Criando tuplas para dados imutáveis\n",
    "\n",
    "Uma ``tupla`` é outra estrutura de dados em Python que é imutável, o que significa que uma vez criada, ela não pode ser modificada. Tuplas são úteis para armazenar dados que não devem mudar, como configurações ou valores constantes."
   ]
  },
  {
   "cell_type": "markdown",
   "id": "46756d08",
   "metadata": {},
   "source": [
    "#"
   ]
  },
  {
   "cell_type": "code",
   "execution_count": 149,
   "id": "2a6f414c",
   "metadata": {},
   "outputs": [
    {
     "name": "stdout",
     "output_type": "stream",
     "text": [
      "(325780, 1041, 4271599)\n"
     ]
    }
   ],
   "source": [
    "# Criar uma tupla para dados financeiros\n",
    "q3_financials = (325780, 1041, 4271599)\n",
    "\n",
    "# Imprimir a tupla\n",
    "print(q3_financials)"
   ]
  },
  {
   "cell_type": "markdown",
   "id": "8b8ea2e6",
   "metadata": {},
   "source": [
    "Tuplas mantêm a ordem e suportam indexação, permitindo que você acecsse elementos por sua posição.\n",
    "\n",
    "## Convertendo listas em conjuntos\n",
    "\n",
    "Você pode converter uma lista em um conjunto para remover duplicatas e aproveitar o teste de pertencimento rápido do conjunto. Este processo é conhecido como ``casting``."
   ]
  },
  {
   "cell_type": "code",
   "execution_count": 150,
   "id": "07401813",
   "metadata": {},
   "outputs": [
    {
     "name": "stdout",
     "output_type": "stream",
     "text": [
      "{'Kanye West', 'Jay-Z', 'Drake'}\n"
     ]
    }
   ],
   "source": [
    "# Lista de artistas de hip-hop com duplicatas\n",
    "hip_hop_artists = [\"Kanye West\", \"Drake\", \"Kanye West\", \"Jay-Z\"]\n",
    "\n",
    "# Converter lista em conjunto\n",
    "unique_artists = set(hip_hop_artists)\n",
    "\n",
    "# Imprimir o conjunto\n",
    "print(unique_artists)"
   ]
  },
  {
   "cell_type": "markdown",
   "id": "5cd9e2fe",
   "metadata": {},
   "source": [
    "Converter uma lista em um cinjunto remove duplicatas e fornece uma coleção de elementos únicos.\n",
    "\n",
    "## Entendendo operadores de comparação\n",
    "\n",
    "Operadores de comparação são essenciais em Python para avaliar condições. Eles permitem que você compare valores e  retornem um resultado booleano: ``True`` ou ``False``. \n",
    "\n",
    "Veja como você pode usá-los:"
   ]
  },
  {
   "cell_type": "code",
   "execution_count": 151,
   "id": "4bce0c87",
   "metadata": {},
   "outputs": [
    {
     "name": "stdout",
     "output_type": "stream",
     "text": [
      "False\n",
      "True\n",
      "True\n"
     ]
    }
   ],
   "source": [
    "# Verificar se dois valores são iguais\n",
    "print(2 == 3)  # False\n",
    "\n",
    "# Verificar se dois valores são diferentes\n",
    "print(2 != 3)  # True\n",
    "\n",
    "# Verificar se uma string é maior que a outra\n",
    "print(\"Jamens\" > \"Brian\") # True"
   ]
  },
  {
   "cell_type": "markdown",
   "id": "25e00379",
   "metadata": {},
   "source": [
    "Operadores de comparação são a base para construir declarações condicionais e fluxo de trabalho em Python.\n",
    "\n",
    "## Contruindo declarações condicionais\n",
    "\n",
    "Declarações condicionais em Python permitem que você execute blocos específicos de código com base em certas condições. Usando `if`, `elif`, e `else`, você pode controlar o fluxo do seu programa."
   ]
  },
  {
   "cell_type": "code",
   "execution_count": 152,
   "id": "50e21270",
   "metadata": {},
   "outputs": [
    {
     "name": "stdout",
     "output_type": "stream",
     "text": [
      "Meta atingida!\n"
     ]
    }
   ],
   "source": [
    "units_sold = 350\n",
    "sales_targert = 300\n",
    "\n",
    "# Verificar se a meta de vendas foi atingida\n",
    "\n",
    "if units_sold >= sales_targert:\n",
    "    print(\"Meta atingida!\")\n",
    "elif units_sold >= 320:\n",
    "    print(\"Meta quase atingida!\")\n",
    "else:\n",
    "    print(\"Meta não atingida!\")"
   ]
  },
  {
   "cell_type": "markdown",
   "id": "0caae398",
   "metadata": {},
   "source": [
    "A identação é crucial em Python para definir o escopo de cada bloco de código da condição.\n",
    "\n",
    "## Fluxo de trabalho personalizado para mercado de aluguel\n",
    "\n",
    "Criar um fluxo de trabalho personalizado usando declarações condicionais pode ajudá-lo a tomar decisões com base em múltiplas critérios. Aqui está um exemplo para avaliar uma propriedade de aluguel."
   ]
  },
  {
   "cell_type": "code",
   "execution_count": 153,
   "id": "46b515d5",
   "metadata": {},
   "outputs": [
    {
     "name": "stdout",
     "output_type": "stream",
     "text": [
      "Isso parece promissor!\n"
     ]
    }
   ],
   "source": [
    "# Definindo variáveis com os critérios de aluguel\n",
    "min_num_beds = 2\n",
    "min_sq_foot = 750\n",
    "max_rent = 1900\n",
    "\n",
    "# Definindo variáveis com os dados do apartamento\n",
    "num_beds = 3\n",
    "sq_foot = 800\n",
    "rent = 1800\n",
    "\n",
    "# Verificar o número de quartos\n",
    "if num_beds < min_num_beds:\n",
    "    print(\"Quartos insuficientes\")\n",
    "\n",
    "# Verificar a metragem quadrada\n",
    "elif sq_foot <= min_sq_foot:\n",
    "    print(\"Muito pequeno\")\n",
    "\n",
    "# Verificar o aluguel\n",
    "elif rent > max_rent:\n",
    "    print(\"Muito caro\")\n",
    "    \n",
    "# Se todas as condições acima falharem, o apartamento atende aos critérios\n",
    "else:\n",
    "    print(\"Isso parece promissor!\")"
   ]
  },
  {
   "cell_type": "markdown",
   "id": "1703bc6d",
   "metadata": {},
   "source": [
    "Este fluo de trabalho avalia múltiplas condições para determinar se uma propriedade atende aos seus requisistos.\n",
    "\n",
    "## Percorrer uma lista\n",
    "\n",
    "Os ``loops for`` permitem que você itere sobre elementos em uma lista, realizando ações em cada elemento. Neste exemplo, percorremos uma lista de IDs de usuáriose imprimimos cada um individualmente."
   ]
  },
  {
   "cell_type": "code",
   "execution_count": 154,
   "id": "621b8265",
   "metadata": {},
   "outputs": [
    {
     "name": "stdout",
     "output_type": "stream",
     "text": [
      "T42YG4KTK\n",
      "VTQ39IDQ0\n",
      "CRL11YUWX\n",
      "K6Y5URXLR\n",
      "V4XCBER7V\n",
      "IOGQWC61K\n"
     ]
    }
   ],
   "source": [
    "user_ids = [\"T42YG4KTK\", \"VTQ39IDQ0\", \"CRL11YUWX\", \n",
    "            \"K6Y5URXLR\", \"V4XCBER7V\", \"IOGQWC61K\"]\n",
    "\n",
    "# Percorrer user_ids\n",
    "for user_id in user_ids:\n",
    "  # Imprimir o user_id\n",
    "    print(user_id)"
   ]
  },
  {
   "cell_type": "markdown",
   "id": "60d7c5e7",
   "metadata": {},
   "source": [
    "## Atualizando uma variável com loops for\n",
    "\n",
    "Os ``loops  for`` também poder ser usados para atualizar variáveis. Aqui, simulamos a venda de ingressos para um envento incrementeando um contador cada vez que um ingresso é vendido, até que a capacidade máxima seja atingida."
   ]
  },
  {
   "cell_type": "code",
   "execution_count": 155,
   "id": "b682462c",
   "metadata": {},
   "outputs": [
    {
     "name": "stdout",
     "output_type": "stream",
     "text": [
      "Esgotado: 30 ingressos vendidos\n"
     ]
    }
   ],
   "source": [
    "# Criar a variável tickets_sold\n",
    "tickets_sold = 0\n",
    "\n",
    "# Criar a variável max_capacity\n",
    "max_capacity = 30\n",
    "\n",
    "# Percorrer um intervalo até e incluindo o valor de max_capacity\n",
    "for i in range(1, max_capacity + 1):\n",
    "    # Adicionar 1 ao valor de tickets_sold\n",
    "    tickets_sold += 1\n",
    "    \n",
    "print(\"Esgotado:\", tickets_sold, \"ingressos vendidos\")"
   ]
  },
  {
   "cell_type": "markdown",
   "id": "a8e23c8e",
   "metadata": {},
   "source": [
    "## Loop condicional com um dicionário\n",
    "\n",
    "Os ``loops for`` podem iterar sobre dicionários, permitindo que você acesse tanto as chaves quanto os valores. Nesse exemplo, percorremso um dicionário de cursos e os categorizamos com base em seus tópicos."
   ]
  },
  {
   "cell_type": "code",
   "execution_count": 156,
   "id": "7e3bb652",
   "metadata": {},
   "outputs": [
    {
     "name": "stdout",
     "output_type": "stream",
     "text": [
      "LLM Concepts é um curso de AI\n",
      "Introduction to Data Pipelines é um curso de DataEngineering\n",
      "AI Ethics é um curso de AI\n",
      "Introduction to dbt é um curso de DataEngineering\n",
      "Writing Efficient Python Code é um curso de Programação\n",
      "Introduction to Docker é um curso de Programação\n"
     ]
    }
   ],
   "source": [
    "courses = {\"LLM Concepts\": \"AI\", \n",
    "           \"Introduction to Data Pipelines\": \"Data Engineering\", \n",
    "           \"AI Ethics\": \"AI\",\n",
    "           \"Introduction to dbt\": \"Data Engineering\", \n",
    "           \"Writing Efficient Python Code\": \"Programming\",\n",
    "           \"Introduction to Docker\": \"Programming\"}\n",
    "\n",
    "# Percorrer as chaves e valores do dicionário\n",
    "for key, value in courses.items():\n",
    "  \n",
    "  # Verificar se o valor é \"AI\"\n",
    "  if value == \"AI\":\n",
    "    print(key, \"é um curso de AI\")\n",
    "  \n",
    "  # Verificar se o valor é \"Programming\"\n",
    "  elif value == \"Programming\":\n",
    "    print(key, \"é um curso de Programação\")\n",
    "  \n",
    "  # Caso contrário, imprimir que é um curso de \"Data Engineering\"\n",
    "  else:\n",
    "    print(key, \"é um curso de DataEngineering\")"
   ]
  },
  {
   "cell_type": "markdown",
   "id": "83bd8206",
   "metadata": {},
   "source": [
    "## Entendendo loops while\n",
    "\n",
    "um ``loop while`` é semelhante a uma instrução ``if``, mas continuará a executar o bloco de código enquanto a condição for verdadeira. Isso o torna útil para tarefas que precisam ser repetidas até que uma determinada condição seja atendida.\n",
    "\n",
    "Aqui está um exemplo básico:"
   ]
  },
  {
   "cell_type": "code",
   "execution_count": 157,
   "id": "60d4f714",
   "metadata": {},
   "outputs": [
    {
     "name": "stdout",
     "output_type": "stream",
     "text": [
      "Estoque restante: 9\n",
      "Estoque restante: 8\n",
      "Estoque restante: 7\n",
      "Estoque restante: 6\n",
      "Estoque restante: 5\n",
      "Estoque restante: 4\n",
      "Estoque restante: 3\n",
      "Estoque restante: 2\n",
      "Estoque restante: 1\n",
      "Estoque restante: 0\n"
     ]
    }
   ],
   "source": [
    "stock = 10\n",
    "num_purchases = 0\n",
    "\n",
    "while num_purchases < stock:\n",
    "    num_purchases += 1\n",
    "    print(\"Estoque restante:\", stock - num_purchases)"
   ]
  },
  {
   "cell_type": "markdown",
   "id": "1755a3f8",
   "metadata": {},
   "source": [
    "O loop continua a executar até que ``num_purchases`` seja igual a ``stock``, momento em que a condição não é mais verdadeira e o loop é encerrado.\n",
    "\n",
    "## Interrompendo um loop while\n",
    "\n",
    "Às vezes, um loop ``while`` pode executar indefinidamente se a condição for sempre verdadeira. Para evitar isso, você pode usar uma instrução ``break`` para sair do loop quando uma determinada condição for atendida."
   ]
  },
  {
   "cell_type": "code",
   "execution_count": 158,
   "id": "f7807c17",
   "metadata": {},
   "outputs": [
    {
     "name": "stdout",
     "output_type": "stream",
     "text": [
      "Contando: 0\n",
      "Contando: 1\n",
      "Contando: 2\n",
      "Contando: 3\n",
      "Contando: 4\n"
     ]
    }
   ],
   "source": [
    "counter = 0\n",
    "\n",
    "while True:\n",
    "    print(\"Contando:\", counter)\n",
    "    counter += 1\n",
    "    if counter >= 5:\n",
    "        break"
   ]
  },
  {
   "cell_type": "markdown",
   "id": "4f4cc433",
   "metadata": {},
   "source": [
    "O loop executado até que ``counter`` atinja 5, momento em que a instrução ``break`` é executada, encerrando o loop.\n",
    "\n",
    "## Loops while condicionais\n",
    "\n",
    "Você pode usar instruções condicionais dentro de um loop while para realizar diferentes ações com base no estado atual. Isso permite fluxos de trabalho mais complexos."
   ]
  },
  {
   "cell_type": "code",
   "execution_count": 159,
   "id": "3dcbceb9",
   "metadata": {},
   "outputs": [
    {
     "name": "stdout",
     "output_type": "stream",
     "text": [
      "Compre antes do dia 25 para acesso antecipado!\n",
      "Compre antes do dia 25 para acesso antecipado!\n",
      "Compre antes do dia 25 para acesso antecipado!\n",
      "Em breve!\n",
      "Disponível agora!\n"
     ]
    }
   ],
   "source": [
    "release_date = 26 # data de lançamento\n",
    "current_date = 22 # data atual\n",
    "\n",
    "# Loop até a data de lançamento\n",
    "while current_date <= release_date:\n",
    "    \n",
    "    # Verificar se a data atual é menor ou igual a 24\n",
    "    if current_date <= 24:\n",
    "        print(\"Compre antes do dia 25 para acesso antecipado!\")\n",
    "        \n",
    "    # Verificar se a data atual é igual a 25\n",
    "    elif current_date == 25:\n",
    "        print(\"Em breve!\")\n",
    "    \n",
    "    # Caso contrário, imprimir que está disponível agora\n",
    "    else:\n",
    "        print(\"Disponível agora!\")\n",
    "        \n",
    "    # Incrementar a data atual\n",
    "    current_date += 1"
   ]
  },
  {
   "cell_type": "markdown",
   "id": "12f30a57",
   "metadata": {},
   "source": [
    "Este loop imprime mensagens diferentes com base no ``current_date``. Demonstrando como instruções condicionais podem ser usadas para personalizar a saída dentro de um loop while.\n",
    "\n",
    "## Usando a palavra chave ``in``\n",
    "\n",
    "A palavra chave ``in`` é usada para verificar se um valor existe dentro de uma variável ou estrutura de dados. Isso é útil quando você deseja verificar a presença de um item específico. Por exemplo, usando um dicionário ``products_dict`` com IDs de produto como chaves, você pode verificar se um ID específico está presente."
   ]
  },
  {
   "cell_type": "code",
   "execution_count": 160,
   "id": "f723e5d4",
   "metadata": {},
   "outputs": [
    {
     "name": "stdout",
     "output_type": "stream",
     "text": [
      "True\n"
     ]
    }
   ],
   "source": [
    "products_dict = {\"OS31\": 10, \"HT91\": 5, \"AB12\": 20}\n",
    "print(\"OS31\" in products_dict) # True"
   ]
  },
  {
   "cell_type": "markdown",
   "id": "115f7d97",
   "metadata": {},
   "source": [
    "O código aciam verifica se a chave ``OS31`` existe no dicionário ``products_dict`` e imprime ``True`` se existir.\n",
    "\n",
    "## Coombinando ``not`` com ``in``\n",
    "\n",
    "A palavra-chave ``not`` pode ser combinada com ``in`` para confirmar que um valor não está presente em uma estrutura de dados. Isso é útil para condições onde você quer garantir que um item esteja ausente."
   ]
  },
  {
   "cell_type": "code",
   "execution_count": 161,
   "id": "d29fbba6",
   "metadata": {},
   "outputs": [
    {
     "name": "stdout",
     "output_type": "stream",
     "text": [
      "False\n"
     ]
    }
   ],
   "source": [
    "products_dict = {\"OS31\": 10, \"HT91\": 5, \"AB12\": 20}\n",
    "print(\"OS31\" not in products_dict) # False"
   ]
  },
  {
   "cell_type": "markdown",
   "id": "ebcf4f3d",
   "metadata": {},
   "source": [
    "Neste exemplo, o código verifica se ``\"OS31\"`` não é uma chave em ``products_dict``. Como ``\"OS31\"`` está presente, ele retorna ``False``\n",
    "\n",
    "## Usando palavras-chave ``and`` e ``or``\n",
    "\n",
    "As palavras-chave ``and`` e ``or`` permitem que você verifique múltiplas condições simultaneamente.\n",
    "\n",
    "``and`` requer que todas as condições sejam verdadeiras, enquanto ``or`` requer que pelo menos uma condição seja verdadeira."
   ]
  },
  {
   "cell_type": "code",
   "execution_count": 162,
   "id": "fa7c27d6",
   "metadata": {},
   "outputs": [
    {
     "name": "stdout",
     "output_type": "stream",
     "text": [
      "True\n",
      "True\n"
     ]
    }
   ],
   "source": [
    "products_dict = {\"OS31\": 10, \"HT91\": 15, \"AB12\": 20}\n",
    "min_price = min(products_dict.values())\n",
    "\n",
    "# Usando and\n",
    "print(\"HT91\" in products_dict and min_price > 5) # True\n",
    "\n",
    "# Usando or\n",
    "print(\"HT91\" in products_dict or min_price < 5) # True"
   ]
  },
  {
   "cell_type": "markdown",
   "id": "3febc3c3",
   "metadata": {},
   "source": [
    "A primeira instrução ``print()`` verifica se ``\"HT91\"`` é uma chave e se o preço mínimo é maior que ``5``\n",
    "\n",
    "A segunda instrução ``print()`` verifica se ``\"HT91\"`` é uma chave ou se o preço mínimo é menor que ``5``.\n",
    "\n",
    "Ambas as condições retornam ``True``\n",
    "\n",
    "## Versatilidade do Python\n",
    "\n",
    "Python é uma linguagem versátil que permite realizar uma ampla gama de tarefas. Você pode usar ``comentários de código`` para tornar seu código mais compreensível e trabalhar com diferentes tipos de dados, como variáveis, strings e floats."
   ]
  },
  {
   "cell_type": "code",
   "execution_count": 163,
   "id": "87bdf56d",
   "metadata": {},
   "outputs": [],
   "source": [
    "# Este é um comentário\n",
    "variable = 10\n",
    "string = \"Hello, Python!\"\n",
    "float_number = 3.14"
   ]
  },
  {
   "cell_type": "markdown",
   "id": "6f15ace0",
   "metadata": {},
   "source": [
    "Comentários são ignorados pelo Python e não afetam a execução do código. Eles são cruciais para tornar seu código mais legível e fácil de manter.\n",
    "\n",
    "## Fluxos condicionais com operadores booleanos\n",
    "\n",
    "Operadores booleanos e palavras-chave são essenciais para construir fluxos condicionais em Python. Eles permitem que você execute diferentes partes do seu código com base em certas condições."
   ]
  },
  {
   "cell_type": "code",
   "execution_count": 164,
   "id": "bb48f2a6",
   "metadata": {},
   "outputs": [
    {
     "name": "stdout",
     "output_type": "stream",
     "text": [
      "x é menor que y\n"
     ]
    }
   ],
   "source": [
    "x = 10\n",
    "y = 20\n",
    "\n",
    "if x < y:\n",
    "    print(\"x é menor que y\")\n",
    "else:\n",
    "    print(\"x é maior ou igual a y\")"
   ]
  },
  {
   "cell_type": "markdown",
   "id": "d1936222",
   "metadata": {},
   "source": [
    "Usando ``if``, ``else`` e outras palavras-chave, vocÊ pode controlar o fluxo do seu programa e toamr decisões com base nos dados.\n",
    "\n",
    "## Laços ``for`` e ``while``\n",
    "\n",
    "Laços, como laços ``for`` e ``while``, são ferramentas poderosas em Python que permitem repetir tarefas de forma eficiente. Elas são especialmente úteispara iterar sobre estruturas de dados como listas."
   ]
  },
  {
   "cell_type": "code",
   "execution_count": 165,
   "id": "04fcdf4d",
   "metadata": {},
   "outputs": [
    {
     "name": "stdout",
     "output_type": "stream",
     "text": [
      "1\n",
      "2\n",
      "3\n",
      "4\n",
      "5\n"
     ]
    }
   ],
   "source": [
    "numbers = [1, 2, 3, 4, 5]\n",
    "for number in numbers:\n",
    "    print(number)"
   ]
  },
  {
   "cell_type": "markdown",
   "id": "16ee20ce",
   "metadata": {},
   "source": [
    "Com laços, você pode automatizar tarefas repetitivas e processar dados de forma eficiente, tornando seus programas mais dinâmicos e flexíveis."
   ]
  }
 ],
 "metadata": {
  "kernelspec": {
   "display_name": "Python 3",
   "language": "python",
   "name": "python3"
  },
  "language_info": {
   "codemirror_mode": {
    "name": "ipython",
    "version": 3
   },
   "file_extension": ".py",
   "mimetype": "text/x-python",
   "name": "python",
   "nbconvert_exporter": "python",
   "pygments_lexer": "ipython3",
   "version": "3.13.2"
  }
 },
 "nbformat": 4,
 "nbformat_minor": 5
}
