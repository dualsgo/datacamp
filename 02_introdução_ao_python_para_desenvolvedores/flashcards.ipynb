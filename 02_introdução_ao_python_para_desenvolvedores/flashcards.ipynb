{
 "cells": [
  {
   "cell_type": "markdown",
   "id": "9353de96",
   "metadata": {},
   "source": [
    "# Introdução ao Python para desenvolvedores\n",
    "\n",
    "## Entendendo a popularidade do Python\n",
    "\n",
    "Python é uma linguagem de programação versátil e popular, conhecida por usa legibilidade e simplicidade. Sua sintaxe de alto nível se assemelha à linguagem natural, tornando-a acessível para iniciantes. A extensa biblioteca de pacotes de software disoníveis publicamente do Python permite que os desenvolvedores economizem tempo usando código pré-escrito. Além disso, o Python é gratuito e de código aberto, permitindo que qualquer pessoa o use, modifique e distribua. Essas caracteristicas fazem do Python uam ferramenta poderosa para tarefas como automação, desenvolvimento web e IA."
   ]
  },
  {
   "cell_type": "code",
   "execution_count": 56,
   "id": "0a621fd6",
   "metadata": {},
   "outputs": [
    {
     "name": "stdout",
     "output_type": "stream",
     "text": [
      "Python é fácil de aprender!\n"
     ]
    }
   ],
   "source": [
    "# A sintaxe do Python é simples e se parece com a linguagem natural\n",
    "print(\"Python é fácil de aprender!\")"
   ]
  },
  {
   "cell_type": "markdown",
   "id": "32331dc1",
   "metadata": {},
   "source": [
    "## Executando seu primeiro script em Python\n",
    "\n",
    "Nesse exercício, você executará seu primeiro script em Python usando a função ``print()``. A função print é essencial para exibir os resultados das operações de código. Para usá-la, escreva a palavra ``print`` seguida de parênteses ``()``. Dentro dos parênteses coloque a mensagem que deseja exibir entre aspas duplas."
   ]
  },
  {
   "cell_type": "code",
   "execution_count": 57,
   "id": "9d1a7da8",
   "metadata": {},
   "outputs": [
    {
     "name": "stdout",
     "output_type": "stream",
     "text": [
      "Eu Amo Python\n"
     ]
    }
   ],
   "source": [
    "# Execute este script para ver a saída no shell do Python\n",
    "print(\"Eu Amo Python\")"
   ]
  },
  {
   "cell_type": "markdown",
   "id": "ee14339c",
   "metadata": {},
   "source": [
    "## Escrevendo seu primeiro script em Python\n",
    "\n",
    "Agora, é a hora de escrever sua primeira linha de código em Python. Você usará a função ``print()`` para exibir uma mensagem no shell do Python. Este exercício ajudará você a endenter como escrever e executar código Python dentro de um script."
   ]
  },
  {
   "cell_type": "code",
   "execution_count": 58,
   "id": "e4d05f2f",
   "metadata": {},
   "outputs": [
    {
     "name": "stdout",
     "output_type": "stream",
     "text": [
      "_________________\n",
      "Aprendendo Python\n"
     ]
    }
   ],
   "source": [
    "# Substitua ____ abaixo para exibir \"Aprendendo Python\"\n",
    "print(\"_________________\")\n",
    "print(\"Aprendendo Python\")\n"
   ]
  },
  {
   "cell_type": "markdown",
   "id": "c2fcb057",
   "metadata": {},
   "source": [
    "## Python como calculadora\n",
    "\n",
    "Python pode ser usado para realizar operações aritiméticas báscias, como adição e subtração. Vamos ver como usar Python para calcular a soma de 19 e 17, e o resultado de subtrair 12 de 99."
   ]
  },
  {
   "cell_type": "code",
   "execution_count": 59,
   "id": "37cd2a8b",
   "metadata": {},
   "outputs": [
    {
     "name": "stdout",
     "output_type": "stream",
     "text": [
      "36\n",
      "87\n"
     ]
    }
   ],
   "source": [
    "# Adicionar 19 e 17\n",
    "print(19 + 17)\n",
    "\n",
    "# Subtrair 12 de 99\n",
    "print(99 - 12)"
   ]
  },
  {
   "cell_type": "markdown",
   "id": "8eaee923",
   "metadata": {},
   "source": [
    "## Mais cálculos com Python\n",
    "\n",
    "Além da aritimética básica, Python também pode lidar com multiplicação e divisão. Vamos calcular o produto de 9 e 2, e o resultado de dividir 120 por 12."
   ]
  },
  {
   "cell_type": "code",
   "execution_count": 60,
   "id": "d002d8bc",
   "metadata": {},
   "outputs": [
    {
     "name": "stdout",
     "output_type": "stream",
     "text": [
      "18\n",
      "10.0\n"
     ]
    }
   ],
   "source": [
    "# Calcular e imprimir 9 multiplicado por 2\n",
    "print(9 * 2)\n",
    "\n",
    "# Imprimir o resultado de dividir 120 por 12\n",
    "print(120 / 12)"
   ]
  },
  {
   "cell_type": "markdown",
   "id": "6b69da08",
   "metadata": {},
   "source": [
    "## Entendendo a sintaxe do Python\n",
    "\n",
    "A sintaxe do Pythom né direta e permite cálculos fáceis usando operadores. A função ``print()`` é usada para exibir resultados e comentários (começando com ``#``) ajudam a explicar o código sem afetar sua execução."
   ]
  },
  {
   "cell_type": "code",
   "execution_count": 61,
   "id": "6d351300",
   "metadata": {},
   "outputs": [
    {
     "name": "stdout",
     "output_type": "stream",
     "text": [
      "9\n"
     ]
    }
   ],
   "source": [
    "# Este é um comentário explicando o código abaixo\n",
    "print(4 + 5)  # Isso imprimirá a soma de 4 e 5"
   ]
  },
  {
   "cell_type": "markdown",
   "id": "b19d09f2",
   "metadata": {},
   "source": [
    "Comentários são cruciais para tornar seu código compreensível para os outros e para você mesmo no futuro.\n",
    "\n",
    "# Entendendo variáveis e tipos de dados\n",
    "\n",
    "Variáveis em Python são como rótulos que apontam para valores específicos, permitindo-nos armazenar e recuperar dados de forma eficiente. Python atribui automaticamente tipos de dados às variáveis com base em seus valores. Por exemplo, números inteiros são classificados como ``inteiros``, enquanto números com casas decimais são classificados como ``floats``."
   ]
  },
  {
   "cell_type": "code",
   "execution_count": 62,
   "id": "143339f8",
   "metadata": {},
   "outputs": [
    {
     "name": "stdout",
     "output_type": "stream",
     "text": [
      "25\n",
      "58.5\n"
     ]
    }
   ],
   "source": [
    "# Criando variáveis com diferentes tipos de dados\n",
    "customer_age = 25  # inteiro\n",
    "account_balance = 58.50  # float\n",
    "\n",
    "# Imprimindo as variáveis\n",
    "print(customer_age)\n",
    "print(account_balance)"
   ]
  },
  {
   "cell_type": "markdown",
   "id": "fbd5684e",
   "metadata": {},
   "source": [
    "Variáveis podem ser utilizadas e reutilizadas ao longo do script, tornando-as ferramentas verssáteis para gerenciar dados.\n",
    "\n",
    "## Atualizando variáveis e usando booleanos\n",
    "\n",
    "Variaveis em Python podem ser atualizadas para refletir novos valores, o que é particularmente útil para dados dinâmicos. Pytohn também suporta tipos de dados ``booleanos``, que podem ser apenas ``True`` ou ``False``."
   ]
  },
  {
   "cell_type": "code",
   "execution_count": 63,
   "id": "20b9d3ca",
   "metadata": {},
   "outputs": [
    {
     "name": "stdout",
     "output_type": "stream",
     "text": [
      "1300000.0\n",
      "True\n"
     ]
    }
   ],
   "source": [
    "# Valores iniciais\n",
    "account_balance = 20000.00\n",
    "is_millionaire = False\n",
    "\n",
    "# Atualizar saldo da conta e status de milionário\n",
    "account_balance = 1300000.00\n",
    "is_millionaire = True\n",
    "\n",
    "# Imprimir valores atualizados\n",
    "print(account_balance)\n",
    "print(is_millionaire)"
   ]
  },
  {
   "cell_type": "markdown",
   "id": "d51cb671",
   "metadata": {},
   "source": [
    "Booleanos são sensíveis a maiúsculas e minúsculas em Python, então ``True`` e ``False`` devem ser captalizados.\n",
    "\n",
    "## Verificando tipos de dados com ``type()``\n",
    "\n",
    "Python permite que você verifique o tipo de dado de uma variável usando a função ``type()``. Isso é útil para verificar se suas variáveis são do tipo esperado."
   ]
  },
  {
   "cell_type": "code",
   "execution_count": 64,
   "id": "245f5070",
   "metadata": {},
   "outputs": [
    {
     "name": "stdout",
     "output_type": "stream",
     "text": [
      "<class 'int'>\n",
      "<class 'float'>\n",
      "<class 'bool'>\n"
     ]
    }
   ],
   "source": [
    "# Definir variáveis\n",
    "customer_age = 27\n",
    "account_balance = 120.50\n",
    "is_millionaire = True\n",
    "\n",
    "# Verificar tipos de dados\n",
    "print(type(customer_age))\n",
    "print(type(account_balance))\n",
    "print(type(is_millionaire))"
   ]
  },
  {
   "cell_type": "markdown",
   "id": "8199e82c",
   "metadata": {},
   "source": [
    "A função ``type()`` retorna o tipo de dado da variável, ajudando você a entender como o Python classificou seus dados.\n",
    "\n",
    "## Lidando com apóstrofos em strings\n",
    "\n",
    "Ao trabalhar com strings em Python , é importante saber lidar com apóstrofos. Usar aspas duplas permite incluir apóstrofos dentro de suas strings sem causar erros de sintaxe."
   ]
  },
  {
   "cell_type": "code",
   "execution_count": 65,
   "id": "78ec2d49",
   "metadata": {},
   "outputs": [
    {
     "name": "stdout",
     "output_type": "stream",
     "text": [
      "It's a beautiful day!\n"
     ]
    }
   ],
   "source": [
    "# Usando aspas duplas para lidar com apóstrofos\n",
    "sentence = \"It's a beautiful day!\"\n",
    "print(sentence)\n",
    "\n",
    "# Apóstrofos geralmente não são utilizados na língua portuguesa"
   ]
  },
  {
   "cell_type": "markdown",
   "id": "b2562295",
   "metadata": {},
   "source": [
    "Usar asas duplas garante que o apóstrofo seja tratado como parte da string em vez de seu final.\n",
    "\n",
    "## Stings multilinha\n",
    "\n",
    "Strins multilinha em Python são criadas usando três conjuntos de aspas. Isso é útil para armazenar grandes blocos de texto, como avaliações de usuários ou documentação."
   ]
  },
  {
   "cell_type": "code",
   "execution_count": 66,
   "id": "ea3a88b9",
   "metadata": {},
   "outputs": [
    {
     "name": "stdout",
     "output_type": "stream",
     "text": [
      "I really enjoy the courses,\n",
      "and they are easy to fit into my busy schedule. \n",
      "I wish I had started using your platform sooner.\n",
      "I'll be recommending you to my friends!!\n",
      "One year ago, I was unsure of how to make progress in my career. \n",
      "Now, I work as a Prompt Engineer, and I can't thank you enough! \n",
      "Keep up the great work.\n"
     ]
    }
   ],
   "source": [
    "# Criando strings multilinha\n",
    "review_one = \"\"\"I really enjoy the courses,\n",
    "and they are easy to fit into my busy schedule. \n",
    "I wish I had started using your platform sooner.\n",
    "I'll be recommending you to my friends!!\"\"\"\n",
    "\n",
    "review_two = \"\"\"One year ago, I was unsure of how to make progress in my career. \n",
    "Now, I work as a Prompt Engineer, and I can't thank you enough! \n",
    "Keep up the great work.\"\"\"\n",
    "\n",
    "# Imprimir as avaliações\n",
    "print(review_one)\n",
    "print(review_two)"
   ]
  },
  {
   "cell_type": "markdown",
   "id": "a46c2bdd",
   "metadata": {},
   "source": [
    "Este código imprimirá as duas avaliações, cada uma como um bloco de texto, mantendo seu formato mutilinha.\n",
    "\n",
    "## Modificando strings com métodos\n",
    "\n",
    "Python fornece vários métodos para modificar strings, como substituir texto, alternar maiúsculas e minúsculas e remover espaços. Esses métodos são úteis para garantir consistência e legibilidade."
   ]
  },
  {
   "cell_type": "code",
   "execution_count": null,
   "id": "8c72eb95",
   "metadata": {},
   "outputs": [
    {
     "name": "stdout",
     "output_type": "stream",
     "text": [
      "introduction_to_llms\n"
     ]
    }
   ],
   "source": [
    "# String original\n",
    "most_popular_course = \"Intro to LLMs\"\n",
    "\n",
    "# Corrigindo o erro de digitação, substituindo espaços por sublinhados e convertendo para minúsculas\n",
    "most_popular_course = most_popular_course.replace(\"Intro\", \"Introduction\").replace(\" \", \"_\").lower()\n",
    "\n",
    "print(most_popular_course)"
   ]
  },
  {
   "cell_type": "markdown",
   "id": "38a5a5cc",
   "metadata": {},
   "source": [
    "AA"
   ]
  },
  {
   "cell_type": "markdown",
   "id": "121c6c7d",
   "metadata": {},
   "source": [
    "Este código demonstra como usar os métodos de string para corrigir um erro de digitação, substituir espaço por sublinhados e converter a string para  minúsculas para consistência."
   ]
  }
 ],
 "metadata": {
  "kernelspec": {
   "display_name": "Python 3",
   "language": "python",
   "name": "python3"
  },
  "language_info": {
   "codemirror_mode": {
    "name": "ipython",
    "version": 3
   },
   "file_extension": ".py",
   "mimetype": "text/x-python",
   "name": "python",
   "nbconvert_exporter": "python",
   "pygments_lexer": "ipython3",
   "version": "3.13.2"
  }
 },
 "nbformat": 4,
 "nbformat_minor": 5
}
